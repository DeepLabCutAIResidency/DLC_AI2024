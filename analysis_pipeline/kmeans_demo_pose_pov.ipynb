{
 "cells": [
  {
   "cell_type": "code",
   "execution_count": 1,
   "metadata": {},
   "outputs": [],
   "source": [
    "%load_ext autoreload\n",
    "%autoreload 2"
   ]
  },
  {
   "cell_type": "code",
   "execution_count": 2,
   "metadata": {},
   "outputs": [],
   "source": [
    "import numpy as np\n",
    "import pandas as pd\n",
    "import json\n",
    "import matplotlib.pyplot as plt\n",
    "import sklearn\n",
    "import seaborn as sn\n",
    "from sklearn.preprocessing import StandardScaler\n",
    "from sklearn.decomposition import PCA\n",
    "from sklearn.cluster import KMeans\n",
    "from k_means import *"
   ]
  },
  {
   "cell_type": "markdown",
   "metadata": {},
   "source": [
    "### Data loading"
   ]
  },
  {
   "cell_type": "code",
   "execution_count": 5,
   "metadata": {},
   "outputs": [],
   "source": [
    "root = \"/home/dikra/media/dikra/PhD/DATA/DLC24_Data/tiny_all_bird_merged_coco\"\n",
    "images = f\"{root}/images\"\n",
    "annotations = f\"{root}/annotations\""
   ]
  },
  {
   "cell_type": "code",
   "execution_count": 6,
   "metadata": {},
   "outputs": [],
   "source": [
    "train_file = open(f\"{annotations}/train.json\")\n",
    "test_file = open(f\"{annotations}/test.json\")\n",
    "train_data = json.load(train_file)\n",
    "test_data = json.load(test_file)"
   ]
  },
  {
   "cell_type": "code",
   "execution_count": 7,
   "metadata": {},
   "outputs": [
    {
     "data": {
      "text/plain": [
       "'414 Annotated train images'"
      ]
     },
     "execution_count": 7,
     "metadata": {},
     "output_type": "execute_result"
    }
   ],
   "source": [
    "train_ann = len(train_data[\"annotations\"])\n",
    "f\"{train_ann} Annotated train images\""
   ]
  },
  {
   "cell_type": "code",
   "execution_count": 8,
   "metadata": {},
   "outputs": [
    {
     "data": {
      "text/plain": [
       "{0: 'back',\n",
       " 1: 'bill',\n",
       " 2: 'belly',\n",
       " 3: 'breast',\n",
       " 4: 'crown',\n",
       " 5: 'forehead',\n",
       " 6: 'left_eye',\n",
       " 7: 'left_leg',\n",
       " 8: 'left_wing_tip',\n",
       " 9: 'left_wrist',\n",
       " 10: 'nape',\n",
       " 11: 'right_eye',\n",
       " 12: 'right_leg',\n",
       " 13: 'right_wing_tip',\n",
       " 14: 'right_wrist',\n",
       " 15: 'tail_tip',\n",
       " 16: 'throat',\n",
       " 17: 'neck',\n",
       " 18: 'tail_left',\n",
       " 19: 'tail_right',\n",
       " 20: 'upper_spine',\n",
       " 21: 'upper_half_spine',\n",
       " 22: 'lower_half_spine',\n",
       " 23: 'right_foot',\n",
       " 24: 'left_foot',\n",
       " 25: 'left_half_chest',\n",
       " 26: 'right_half_chest',\n",
       " 27: 'chin',\n",
       " 28: 'left_tibia',\n",
       " 29: 'right_tibia',\n",
       " 30: 'lower_spine',\n",
       " 31: 'upper_half_neck',\n",
       " 32: 'lower_half_neck',\n",
       " 33: 'left_chest',\n",
       " 34: 'right_chest',\n",
       " 35: 'upper_neck',\n",
       " 36: 'left_wing_shoulder',\n",
       " 37: 'left_wing_elbow',\n",
       " 38: 'right_wing_shoulder',\n",
       " 39: 'right_wing_elbow',\n",
       " 40: 'upper_cere',\n",
       " 41: 'lower_cere'}"
      ]
     },
     "execution_count": 8,
     "metadata": {},
     "output_type": "execute_result"
    }
   ],
   "source": [
    "cats = train_data[\"categories\"][0][\"keypoints\"]\n",
    "cats_dict = dict(zip(range(0, len(cats)), cats))\n",
    "cats_dict"
   ]
  },
  {
   "cell_type": "markdown",
   "metadata": {},
   "source": [
    "### Data prep"
   ]
  },
  {
   "cell_type": "code",
   "execution_count": 9,
   "metadata": {},
   "outputs": [
    {
     "data": {
      "text/plain": [
       "(array([[  0.,   0.,   0., ...,   0.,   0.,   0.],\n",
       "        [  0.,   0.,   0., ...,   0.,   0.,   0.],\n",
       "        [  0.,   0.,   0., ...,   0.,   0.,   0.],\n",
       "        ...,\n",
       "        [  0.,   0.,   0., ...,   0.,   0.,   0.],\n",
       "        [514., 304.,   0., ...,   0.,   0.,   0.],\n",
       "        [368., 162.,   0., ...,   0.,   0.,   0.]]),\n",
       " (414, 126))"
      ]
     },
     "execution_count": 9,
     "metadata": {},
     "output_type": "execute_result"
    }
   ],
   "source": [
    "all_keypoints = get_all_keypoints(train_data)  # load all keypoint annotations\n",
    "parsed_keypoints = keypoint2vec(all_keypoints)  # parse keypoint annotations into (x, y, visibility) triples\n",
    "\n",
    "parsed_keypoints, parsed_keypoints.shape"
   ]
  },
  {
   "cell_type": "code",
   "execution_count": 10,
   "metadata": {},
   "outputs": [
    {
     "data": {
      "text/html": [
       "<div>\n",
       "<style scoped>\n",
       "    .dataframe tbody tr th:only-of-type {\n",
       "        vertical-align: middle;\n",
       "    }\n",
       "\n",
       "    .dataframe tbody tr th {\n",
       "        vertical-align: top;\n",
       "    }\n",
       "\n",
       "    .dataframe thead th {\n",
       "        text-align: right;\n",
       "    }\n",
       "</style>\n",
       "<table border=\"1\" class=\"dataframe\">\n",
       "  <thead>\n",
       "    <tr style=\"text-align: right;\">\n",
       "      <th></th>\n",
       "      <th>0</th>\n",
       "      <th>1</th>\n",
       "      <th>2</th>\n",
       "      <th>3</th>\n",
       "      <th>4</th>\n",
       "      <th>5</th>\n",
       "      <th>6</th>\n",
       "      <th>7</th>\n",
       "      <th>8</th>\n",
       "      <th>9</th>\n",
       "      <th>...</th>\n",
       "      <th>116</th>\n",
       "      <th>117</th>\n",
       "      <th>118</th>\n",
       "      <th>119</th>\n",
       "      <th>120</th>\n",
       "      <th>121</th>\n",
       "      <th>122</th>\n",
       "      <th>123</th>\n",
       "      <th>124</th>\n",
       "      <th>125</th>\n",
       "    </tr>\n",
       "  </thead>\n",
       "  <tbody>\n",
       "    <tr>\n",
       "      <th>57</th>\n",
       "      <td>0.0</td>\n",
       "      <td>0.0</td>\n",
       "      <td>0.0</td>\n",
       "      <td>0.0</td>\n",
       "      <td>0.0</td>\n",
       "      <td>0.0</td>\n",
       "      <td>0.0</td>\n",
       "      <td>0.0</td>\n",
       "      <td>0.0</td>\n",
       "      <td>0.0</td>\n",
       "      <td>...</td>\n",
       "      <td>0.0</td>\n",
       "      <td>0.0</td>\n",
       "      <td>0.0</td>\n",
       "      <td>0.0</td>\n",
       "      <td>0.0</td>\n",
       "      <td>0.0</td>\n",
       "      <td>0.0</td>\n",
       "      <td>0.0</td>\n",
       "      <td>0.0</td>\n",
       "      <td>0.0</td>\n",
       "    </tr>\n",
       "    <tr>\n",
       "      <th>120</th>\n",
       "      <td>0.0</td>\n",
       "      <td>0.0</td>\n",
       "      <td>0.0</td>\n",
       "      <td>361.0</td>\n",
       "      <td>586.0</td>\n",
       "      <td>2.0</td>\n",
       "      <td>0.0</td>\n",
       "      <td>0.0</td>\n",
       "      <td>0.0</td>\n",
       "      <td>0.0</td>\n",
       "      <td>...</td>\n",
       "      <td>0.0</td>\n",
       "      <td>0.0</td>\n",
       "      <td>0.0</td>\n",
       "      <td>0.0</td>\n",
       "      <td>0.0</td>\n",
       "      <td>0.0</td>\n",
       "      <td>0.0</td>\n",
       "      <td>0.0</td>\n",
       "      <td>0.0</td>\n",
       "      <td>0.0</td>\n",
       "    </tr>\n",
       "    <tr>\n",
       "      <th>58</th>\n",
       "      <td>0.0</td>\n",
       "      <td>0.0</td>\n",
       "      <td>0.0</td>\n",
       "      <td>0.0</td>\n",
       "      <td>0.0</td>\n",
       "      <td>0.0</td>\n",
       "      <td>0.0</td>\n",
       "      <td>0.0</td>\n",
       "      <td>0.0</td>\n",
       "      <td>0.0</td>\n",
       "      <td>...</td>\n",
       "      <td>0.0</td>\n",
       "      <td>0.0</td>\n",
       "      <td>0.0</td>\n",
       "      <td>0.0</td>\n",
       "      <td>0.0</td>\n",
       "      <td>0.0</td>\n",
       "      <td>0.0</td>\n",
       "      <td>0.0</td>\n",
       "      <td>0.0</td>\n",
       "      <td>0.0</td>\n",
       "    </tr>\n",
       "    <tr>\n",
       "      <th>385</th>\n",
       "      <td>650.0</td>\n",
       "      <td>186.0</td>\n",
       "      <td>0.0</td>\n",
       "      <td>462.0</td>\n",
       "      <td>233.0</td>\n",
       "      <td>0.0</td>\n",
       "      <td>700.0</td>\n",
       "      <td>324.0</td>\n",
       "      <td>0.0</td>\n",
       "      <td>597.0</td>\n",
       "      <td>...</td>\n",
       "      <td>0.0</td>\n",
       "      <td>0.0</td>\n",
       "      <td>0.0</td>\n",
       "      <td>0.0</td>\n",
       "      <td>0.0</td>\n",
       "      <td>0.0</td>\n",
       "      <td>0.0</td>\n",
       "      <td>0.0</td>\n",
       "      <td>0.0</td>\n",
       "      <td>0.0</td>\n",
       "    </tr>\n",
       "    <tr>\n",
       "      <th>128</th>\n",
       "      <td>0.0</td>\n",
       "      <td>0.0</td>\n",
       "      <td>0.0</td>\n",
       "      <td>1369.0</td>\n",
       "      <td>389.0</td>\n",
       "      <td>2.0</td>\n",
       "      <td>0.0</td>\n",
       "      <td>0.0</td>\n",
       "      <td>0.0</td>\n",
       "      <td>0.0</td>\n",
       "      <td>...</td>\n",
       "      <td>0.0</td>\n",
       "      <td>0.0</td>\n",
       "      <td>0.0</td>\n",
       "      <td>0.0</td>\n",
       "      <td>0.0</td>\n",
       "      <td>0.0</td>\n",
       "      <td>0.0</td>\n",
       "      <td>0.0</td>\n",
       "      <td>0.0</td>\n",
       "      <td>0.0</td>\n",
       "    </tr>\n",
       "  </tbody>\n",
       "</table>\n",
       "<p>5 rows × 126 columns</p>\n",
       "</div>"
      ],
      "text/plain": [
       "       0      1    2       3      4    5      6      7    8      9    ...  \\\n",
       "57     0.0    0.0  0.0     0.0    0.0  0.0    0.0    0.0  0.0    0.0  ...   \n",
       "120    0.0    0.0  0.0   361.0  586.0  2.0    0.0    0.0  0.0    0.0  ...   \n",
       "58     0.0    0.0  0.0     0.0    0.0  0.0    0.0    0.0  0.0    0.0  ...   \n",
       "385  650.0  186.0  0.0   462.0  233.0  0.0  700.0  324.0  0.0  597.0  ...   \n",
       "128    0.0    0.0  0.0  1369.0  389.0  2.0    0.0    0.0  0.0    0.0  ...   \n",
       "\n",
       "     116  117  118  119  120  121  122  123  124  125  \n",
       "57   0.0  0.0  0.0  0.0  0.0  0.0  0.0  0.0  0.0  0.0  \n",
       "120  0.0  0.0  0.0  0.0  0.0  0.0  0.0  0.0  0.0  0.0  \n",
       "58   0.0  0.0  0.0  0.0  0.0  0.0  0.0  0.0  0.0  0.0  \n",
       "385  0.0  0.0  0.0  0.0  0.0  0.0  0.0  0.0  0.0  0.0  \n",
       "128  0.0  0.0  0.0  0.0  0.0  0.0  0.0  0.0  0.0  0.0  \n",
       "\n",
       "[5 rows x 126 columns]"
      ]
     },
     "execution_count": 10,
     "metadata": {},
     "output_type": "execute_result"
    }
   ],
   "source": [
    "df = pd.DataFrame(parsed_keypoints)\n",
    "df.sample(5)"
   ]
  },
  {
   "cell_type": "code",
   "execution_count": 11,
   "metadata": {},
   "outputs": [
    {
     "data": {
      "text/html": [
       "<div>\n",
       "<style scoped>\n",
       "    .dataframe tbody tr th:only-of-type {\n",
       "        vertical-align: middle;\n",
       "    }\n",
       "\n",
       "    .dataframe tbody tr th {\n",
       "        vertical-align: top;\n",
       "    }\n",
       "\n",
       "    .dataframe thead th {\n",
       "        text-align: right;\n",
       "    }\n",
       "</style>\n",
       "<table border=\"1\" class=\"dataframe\">\n",
       "  <thead>\n",
       "    <tr style=\"text-align: right;\">\n",
       "      <th></th>\n",
       "      <th>0</th>\n",
       "      <th>1</th>\n",
       "      <th>3</th>\n",
       "      <th>4</th>\n",
       "      <th>5</th>\n",
       "      <th>6</th>\n",
       "      <th>7</th>\n",
       "      <th>9</th>\n",
       "      <th>10</th>\n",
       "      <th>12</th>\n",
       "      <th>...</th>\n",
       "      <th>49</th>\n",
       "      <th>51</th>\n",
       "      <th>52</th>\n",
       "      <th>53</th>\n",
       "      <th>69</th>\n",
       "      <th>70</th>\n",
       "      <th>71</th>\n",
       "      <th>72</th>\n",
       "      <th>73</th>\n",
       "      <th>74</th>\n",
       "    </tr>\n",
       "  </thead>\n",
       "  <tbody>\n",
       "    <tr>\n",
       "      <th>0</th>\n",
       "      <td>0.0</td>\n",
       "      <td>0.0</td>\n",
       "      <td>160.0</td>\n",
       "      <td>358.0</td>\n",
       "      <td>2.0</td>\n",
       "      <td>0.0</td>\n",
       "      <td>0.0</td>\n",
       "      <td>0.0</td>\n",
       "      <td>0.0</td>\n",
       "      <td>0.0</td>\n",
       "      <td>...</td>\n",
       "      <td>0.0</td>\n",
       "      <td>168.0</td>\n",
       "      <td>364.0</td>\n",
       "      <td>2.0</td>\n",
       "      <td>168.0</td>\n",
       "      <td>399.0</td>\n",
       "      <td>2.0</td>\n",
       "      <td>182.0</td>\n",
       "      <td>399.0</td>\n",
       "      <td>2.0</td>\n",
       "    </tr>\n",
       "    <tr>\n",
       "      <th>1</th>\n",
       "      <td>0.0</td>\n",
       "      <td>0.0</td>\n",
       "      <td>257.0</td>\n",
       "      <td>328.0</td>\n",
       "      <td>2.0</td>\n",
       "      <td>0.0</td>\n",
       "      <td>0.0</td>\n",
       "      <td>0.0</td>\n",
       "      <td>0.0</td>\n",
       "      <td>0.0</td>\n",
       "      <td>...</td>\n",
       "      <td>0.0</td>\n",
       "      <td>271.0</td>\n",
       "      <td>339.0</td>\n",
       "      <td>2.0</td>\n",
       "      <td>279.0</td>\n",
       "      <td>387.0</td>\n",
       "      <td>2.0</td>\n",
       "      <td>289.0</td>\n",
       "      <td>389.0</td>\n",
       "      <td>2.0</td>\n",
       "    </tr>\n",
       "    <tr>\n",
       "      <th>2</th>\n",
       "      <td>0.0</td>\n",
       "      <td>0.0</td>\n",
       "      <td>0.0</td>\n",
       "      <td>0.0</td>\n",
       "      <td>0.0</td>\n",
       "      <td>0.0</td>\n",
       "      <td>0.0</td>\n",
       "      <td>0.0</td>\n",
       "      <td>0.0</td>\n",
       "      <td>0.0</td>\n",
       "      <td>...</td>\n",
       "      <td>0.0</td>\n",
       "      <td>353.0</td>\n",
       "      <td>334.0</td>\n",
       "      <td>2.0</td>\n",
       "      <td>0.0</td>\n",
       "      <td>0.0</td>\n",
       "      <td>0.0</td>\n",
       "      <td>0.0</td>\n",
       "      <td>0.0</td>\n",
       "      <td>0.0</td>\n",
       "    </tr>\n",
       "    <tr>\n",
       "      <th>3</th>\n",
       "      <td>0.0</td>\n",
       "      <td>0.0</td>\n",
       "      <td>391.0</td>\n",
       "      <td>325.0</td>\n",
       "      <td>2.0</td>\n",
       "      <td>0.0</td>\n",
       "      <td>0.0</td>\n",
       "      <td>0.0</td>\n",
       "      <td>0.0</td>\n",
       "      <td>0.0</td>\n",
       "      <td>...</td>\n",
       "      <td>0.0</td>\n",
       "      <td>0.0</td>\n",
       "      <td>0.0</td>\n",
       "      <td>0.0</td>\n",
       "      <td>375.0</td>\n",
       "      <td>367.0</td>\n",
       "      <td>2.0</td>\n",
       "      <td>367.0</td>\n",
       "      <td>364.0</td>\n",
       "      <td>2.0</td>\n",
       "    </tr>\n",
       "    <tr>\n",
       "      <th>4</th>\n",
       "      <td>0.0</td>\n",
       "      <td>0.0</td>\n",
       "      <td>426.0</td>\n",
       "      <td>332.0</td>\n",
       "      <td>2.0</td>\n",
       "      <td>0.0</td>\n",
       "      <td>0.0</td>\n",
       "      <td>0.0</td>\n",
       "      <td>0.0</td>\n",
       "      <td>0.0</td>\n",
       "      <td>...</td>\n",
       "      <td>0.0</td>\n",
       "      <td>420.0</td>\n",
       "      <td>337.0</td>\n",
       "      <td>2.0</td>\n",
       "      <td>0.0</td>\n",
       "      <td>0.0</td>\n",
       "      <td>0.0</td>\n",
       "      <td>0.0</td>\n",
       "      <td>0.0</td>\n",
       "      <td>0.0</td>\n",
       "    </tr>\n",
       "    <tr>\n",
       "      <th>...</th>\n",
       "      <td>...</td>\n",
       "      <td>...</td>\n",
       "      <td>...</td>\n",
       "      <td>...</td>\n",
       "      <td>...</td>\n",
       "      <td>...</td>\n",
       "      <td>...</td>\n",
       "      <td>...</td>\n",
       "      <td>...</td>\n",
       "      <td>...</td>\n",
       "      <td>...</td>\n",
       "      <td>...</td>\n",
       "      <td>...</td>\n",
       "      <td>...</td>\n",
       "      <td>...</td>\n",
       "      <td>...</td>\n",
       "      <td>...</td>\n",
       "      <td>...</td>\n",
       "      <td>...</td>\n",
       "      <td>...</td>\n",
       "      <td>...</td>\n",
       "    </tr>\n",
       "    <tr>\n",
       "      <th>409</th>\n",
       "      <td>364.0</td>\n",
       "      <td>410.0</td>\n",
       "      <td>139.0</td>\n",
       "      <td>186.0</td>\n",
       "      <td>0.0</td>\n",
       "      <td>357.0</td>\n",
       "      <td>639.0</td>\n",
       "      <td>293.0</td>\n",
       "      <td>469.0</td>\n",
       "      <td>290.0</td>\n",
       "      <td>...</td>\n",
       "      <td>0.0</td>\n",
       "      <td>0.0</td>\n",
       "      <td>0.0</td>\n",
       "      <td>0.0</td>\n",
       "      <td>0.0</td>\n",
       "      <td>0.0</td>\n",
       "      <td>0.0</td>\n",
       "      <td>0.0</td>\n",
       "      <td>0.0</td>\n",
       "      <td>0.0</td>\n",
       "    </tr>\n",
       "    <tr>\n",
       "      <th>410</th>\n",
       "      <td>437.0</td>\n",
       "      <td>208.0</td>\n",
       "      <td>657.0</td>\n",
       "      <td>210.0</td>\n",
       "      <td>0.0</td>\n",
       "      <td>422.0</td>\n",
       "      <td>408.0</td>\n",
       "      <td>526.0</td>\n",
       "      <td>333.0</td>\n",
       "      <td>553.0</td>\n",
       "      <td>...</td>\n",
       "      <td>0.0</td>\n",
       "      <td>0.0</td>\n",
       "      <td>0.0</td>\n",
       "      <td>0.0</td>\n",
       "      <td>0.0</td>\n",
       "      <td>0.0</td>\n",
       "      <td>0.0</td>\n",
       "      <td>0.0</td>\n",
       "      <td>0.0</td>\n",
       "      <td>0.0</td>\n",
       "    </tr>\n",
       "    <tr>\n",
       "      <th>411</th>\n",
       "      <td>0.0</td>\n",
       "      <td>0.0</td>\n",
       "      <td>305.0</td>\n",
       "      <td>156.0</td>\n",
       "      <td>0.0</td>\n",
       "      <td>238.0</td>\n",
       "      <td>182.0</td>\n",
       "      <td>266.0</td>\n",
       "      <td>158.0</td>\n",
       "      <td>293.0</td>\n",
       "      <td>...</td>\n",
       "      <td>0.0</td>\n",
       "      <td>0.0</td>\n",
       "      <td>0.0</td>\n",
       "      <td>0.0</td>\n",
       "      <td>0.0</td>\n",
       "      <td>0.0</td>\n",
       "      <td>0.0</td>\n",
       "      <td>0.0</td>\n",
       "      <td>0.0</td>\n",
       "      <td>0.0</td>\n",
       "    </tr>\n",
       "    <tr>\n",
       "      <th>412</th>\n",
       "      <td>514.0</td>\n",
       "      <td>304.0</td>\n",
       "      <td>328.0</td>\n",
       "      <td>271.0</td>\n",
       "      <td>0.0</td>\n",
       "      <td>538.0</td>\n",
       "      <td>415.0</td>\n",
       "      <td>435.0</td>\n",
       "      <td>382.0</td>\n",
       "      <td>429.0</td>\n",
       "      <td>...</td>\n",
       "      <td>0.0</td>\n",
       "      <td>0.0</td>\n",
       "      <td>0.0</td>\n",
       "      <td>0.0</td>\n",
       "      <td>0.0</td>\n",
       "      <td>0.0</td>\n",
       "      <td>0.0</td>\n",
       "      <td>0.0</td>\n",
       "      <td>0.0</td>\n",
       "      <td>0.0</td>\n",
       "    </tr>\n",
       "    <tr>\n",
       "      <th>413</th>\n",
       "      <td>368.0</td>\n",
       "      <td>162.0</td>\n",
       "      <td>553.0</td>\n",
       "      <td>123.0</td>\n",
       "      <td>0.0</td>\n",
       "      <td>402.0</td>\n",
       "      <td>302.0</td>\n",
       "      <td>465.0</td>\n",
       "      <td>234.0</td>\n",
       "      <td>481.0</td>\n",
       "      <td>...</td>\n",
       "      <td>0.0</td>\n",
       "      <td>0.0</td>\n",
       "      <td>0.0</td>\n",
       "      <td>0.0</td>\n",
       "      <td>0.0</td>\n",
       "      <td>0.0</td>\n",
       "      <td>0.0</td>\n",
       "      <td>0.0</td>\n",
       "      <td>0.0</td>\n",
       "      <td>0.0</td>\n",
       "    </tr>\n",
       "  </tbody>\n",
       "</table>\n",
       "<p>414 rows × 52 columns</p>\n",
       "</div>"
      ],
      "text/plain": [
       "        0      1      3      4    5      6      7      9      10     12  ...  \\\n",
       "0      0.0    0.0  160.0  358.0  2.0    0.0    0.0    0.0    0.0    0.0  ...   \n",
       "1      0.0    0.0  257.0  328.0  2.0    0.0    0.0    0.0    0.0    0.0  ...   \n",
       "2      0.0    0.0    0.0    0.0  0.0    0.0    0.0    0.0    0.0    0.0  ...   \n",
       "3      0.0    0.0  391.0  325.0  2.0    0.0    0.0    0.0    0.0    0.0  ...   \n",
       "4      0.0    0.0  426.0  332.0  2.0    0.0    0.0    0.0    0.0    0.0  ...   \n",
       "..     ...    ...    ...    ...  ...    ...    ...    ...    ...    ...  ...   \n",
       "409  364.0  410.0  139.0  186.0  0.0  357.0  639.0  293.0  469.0  290.0  ...   \n",
       "410  437.0  208.0  657.0  210.0  0.0  422.0  408.0  526.0  333.0  553.0  ...   \n",
       "411    0.0    0.0  305.0  156.0  0.0  238.0  182.0  266.0  158.0  293.0  ...   \n",
       "412  514.0  304.0  328.0  271.0  0.0  538.0  415.0  435.0  382.0  429.0  ...   \n",
       "413  368.0  162.0  553.0  123.0  0.0  402.0  302.0  465.0  234.0  481.0  ...   \n",
       "\n",
       "      49     51     52   53     69     70   71     72     73   74  \n",
       "0    0.0  168.0  364.0  2.0  168.0  399.0  2.0  182.0  399.0  2.0  \n",
       "1    0.0  271.0  339.0  2.0  279.0  387.0  2.0  289.0  389.0  2.0  \n",
       "2    0.0  353.0  334.0  2.0    0.0    0.0  0.0    0.0    0.0  0.0  \n",
       "3    0.0    0.0    0.0  0.0  375.0  367.0  2.0  367.0  364.0  2.0  \n",
       "4    0.0  420.0  337.0  2.0    0.0    0.0  0.0    0.0    0.0  0.0  \n",
       "..   ...    ...    ...  ...    ...    ...  ...    ...    ...  ...  \n",
       "409  0.0    0.0    0.0  0.0    0.0    0.0  0.0    0.0    0.0  0.0  \n",
       "410  0.0    0.0    0.0  0.0    0.0    0.0  0.0    0.0    0.0  0.0  \n",
       "411  0.0    0.0    0.0  0.0    0.0    0.0  0.0    0.0    0.0  0.0  \n",
       "412  0.0    0.0    0.0  0.0    0.0    0.0  0.0    0.0    0.0  0.0  \n",
       "413  0.0    0.0    0.0  0.0    0.0    0.0  0.0    0.0    0.0  0.0  \n",
       "\n",
       "[414 rows x 52 columns]"
      ]
     },
     "execution_count": 11,
     "metadata": {},
     "output_type": "execute_result"
    }
   ],
   "source": [
    "# drop all zero features: keypoints that are never annotated\n",
    "df = df.loc[:, (df != 0).any(axis=0)]\n",
    "df"
   ]
  },
  {
   "cell_type": "code",
   "execution_count": 12,
   "metadata": {},
   "outputs": [],
   "source": [
    "# compute correlation between remaining features\n",
    "corr = np.corrcoef(df.T)"
   ]
  },
  {
   "cell_type": "code",
   "execution_count": 13,
   "metadata": {},
   "outputs": [
    {
     "data": {
      "text/plain": [
       "<matplotlib.colorbar.Colorbar at 0x7f01c7348310>"
      ]
     },
     "execution_count": 13,
     "metadata": {},
     "output_type": "execute_result"
    },
    {
     "data": {
      "image/png": "[encoded data removed]",
      "text/plain": [
       "<Figure size 640x480 with 2 Axes>"
      ]
     },
     "metadata": {},
     "output_type": "display_data"
    }
   ],
   "source": [
    "plt.imshow(corr)\n",
    "plt.colorbar()"
   ]
  },
  {
   "cell_type": "markdown",
   "metadata": {},
   "source": [
    "### PCA"
   ]
  },
  {
   "cell_type": "code",
   "execution_count": 14,
   "metadata": {},
   "outputs": [],
   "source": [
    "scaler = StandardScaler()\n",
    "scaled_features = scaler.fit_transform(df)"
   ]
  },
  {
   "cell_type": "code",
   "execution_count": 44,
   "metadata": {},
   "outputs": [
    {
     "data": {
      "text/plain": [
       "((414, 2), (414, 3))"
      ]
     },
     "execution_count": 44,
     "metadata": {},
     "output_type": "execute_result"
    }
   ],
   "source": [
    "pca_3d = PCA(n_components=3)\n",
    "pca_2d = PCA(n_components=2)\n",
    "\n",
    "p_comp_2d = pca_2d.fit_transform(scaled_features)\n",
    "p_comp_3d = pca_3d.fit_transform(scaled_features)\n",
    "\n",
    "p_comp_2d.shape, p_comp_3d.shape"
   ]
  },
  {
   "cell_type": "markdown",
   "metadata": {},
   "source": [
    "### KMeans clustering"
   ]
  },
  {
   "cell_type": "markdown",
   "metadata": {},
   "source": [
    "#### Kmeans on 2d features"
   ]
  },
  {
   "cell_type": "markdown",
   "metadata": {},
   "source": [
    "##### Deciding on number of clusters: elbow method"
   ]
  },
  {
   "cell_type": "code",
   "execution_count": 49,
   "metadata": {},
   "outputs": [],
   "source": [
    "sse = [] # sum of squared error within clusters\n",
    "for k in range(1, 15):\n",
    "    kmeans = KMeans(init=\"random\", n_clusters=k, n_init=10, max_iter=50, random_state=42)\n",
    "    # run Kmeans algo\n",
    "    kmeans.fit(p_comp_2d)\n",
    "    sse.append(kmeans.inertia_)"
   ]
  },
  {
   "cell_type": "code",
   "execution_count": 50,
   "metadata": {},
   "outputs": [
    {
     "data": {
      "text/plain": [
       "[<matplotlib.lines.Line2D at 0x7f0195362fd0>]"
      ]
     },
     "execution_count": 50,
     "metadata": {},
     "output_type": "execute_result"
    },
    {
     "data": {
      "image/png": "[encoded data removed]",
      "text/plain": [
       "<Figure size 640x480 with 1 Axes>"
      ]
     },
     "metadata": {},
     "output_type": "display_data"
    }
   ],
   "source": [
    "plt.plot(sse)"
   ]
  },
  {
   "cell_type": "code",
   "execution_count": 51,
   "metadata": {},
   "outputs": [
    {
     "data": {
      "text/plain": [
       "'Optimal number of clusters: 4'"
      ]
     },
     "execution_count": 51,
     "metadata": {},
     "output_type": "execute_result"
    }
   ],
   "source": [
    "from kneed import KneeLocator\n",
    "\n",
    "opt_clusters = KneeLocator(range(1,15), sse, curve=\"convex\", direction=\"decreasing\")\n",
    "f\"Optimal number of clusters: {opt_clusters.knee}\""
   ]
  },
  {
   "cell_type": "code",
   "execution_count": 59,
   "metadata": {},
   "outputs": [],
   "source": [
    "kmeans = KMeans(init=\"random\", n_clusters=opt_clusters.knee, n_init=10, max_iter=50, random_state=42)\n",
    "# run Kmeans algo\n",
    "kmeans.fit(p_comp_2d)\n",
    "\n",
    "predicted_labels = kmeans.labels_\n",
    "centers = kmeans.cluster_centers_"
   ]
  },
  {
   "cell_type": "code",
   "execution_count": 60,
   "metadata": {},
   "outputs": [
    {
     "data": {
      "text/html": [
       "<div>\n",
       "<style scoped>\n",
       "    .dataframe tbody tr th:only-of-type {\n",
       "        vertical-align: middle;\n",
       "    }\n",
       "\n",
       "    .dataframe tbody tr th {\n",
       "        vertical-align: top;\n",
       "    }\n",
       "\n",
       "    .dataframe thead th {\n",
       "        text-align: right;\n",
       "    }\n",
       "</style>\n",
       "<table border=\"1\" class=\"dataframe\">\n",
       "  <thead>\n",
       "    <tr style=\"text-align: right;\">\n",
       "      <th></th>\n",
       "      <th>0</th>\n",
       "      <th>1</th>\n",
       "      <th>label</th>\n",
       "    </tr>\n",
       "  </thead>\n",
       "  <tbody>\n",
       "    <tr>\n",
       "      <th>3</th>\n",
       "      <td>-0.006787</td>\n",
       "      <td>0.560821</td>\n",
       "      <td>3</td>\n",
       "    </tr>\n",
       "    <tr>\n",
       "      <th>3</th>\n",
       "      <td>2.449607</td>\n",
       "      <td>0.411817</td>\n",
       "      <td>3</td>\n",
       "    </tr>\n",
       "    <tr>\n",
       "      <th>3</th>\n",
       "      <td>-0.402650</td>\n",
       "      <td>0.643910</td>\n",
       "      <td>3</td>\n",
       "    </tr>\n",
       "    <tr>\n",
       "      <th>3</th>\n",
       "      <td>1.341815</td>\n",
       "      <td>0.619687</td>\n",
       "      <td>3</td>\n",
       "    </tr>\n",
       "    <tr>\n",
       "      <th>3</th>\n",
       "      <td>0.271036</td>\n",
       "      <td>0.516926</td>\n",
       "      <td>3</td>\n",
       "    </tr>\n",
       "    <tr>\n",
       "      <th>...</th>\n",
       "      <td>...</td>\n",
       "      <td>...</td>\n",
       "      <td>...</td>\n",
       "    </tr>\n",
       "    <tr>\n",
       "      <th>1</th>\n",
       "      <td>-4.467823</td>\n",
       "      <td>-4.027202</td>\n",
       "      <td>1</td>\n",
       "    </tr>\n",
       "    <tr>\n",
       "      <th>1</th>\n",
       "      <td>-4.408312</td>\n",
       "      <td>-3.744752</td>\n",
       "      <td>1</td>\n",
       "    </tr>\n",
       "    <tr>\n",
       "      <th>1</th>\n",
       "      <td>-3.339419</td>\n",
       "      <td>-1.204283</td>\n",
       "      <td>1</td>\n",
       "    </tr>\n",
       "    <tr>\n",
       "      <th>1</th>\n",
       "      <td>-4.626191</td>\n",
       "      <td>-4.027216</td>\n",
       "      <td>1</td>\n",
       "    </tr>\n",
       "    <tr>\n",
       "      <th>1</th>\n",
       "      <td>-4.118382</td>\n",
       "      <td>-2.837550</td>\n",
       "      <td>1</td>\n",
       "    </tr>\n",
       "  </tbody>\n",
       "</table>\n",
       "<p>414 rows × 3 columns</p>\n",
       "</div>"
      ],
      "text/plain": [
       "           0         1  label\n",
       "3  -0.006787  0.560821      3\n",
       "3   2.449607  0.411817      3\n",
       "3  -0.402650  0.643910      3\n",
       "3   1.341815  0.619687      3\n",
       "3   0.271036  0.516926      3\n",
       "..       ...       ...    ...\n",
       "1  -4.467823 -4.027202      1\n",
       "1  -4.408312 -3.744752      1\n",
       "1  -3.339419 -1.204283      1\n",
       "1  -4.626191 -4.027216      1\n",
       "1  -4.118382 -2.837550      1\n",
       "\n",
       "[414 rows x 3 columns]"
      ]
     },
     "execution_count": 60,
     "metadata": {},
     "output_type": "execute_result"
    }
   ],
   "source": [
    "# Construct dataframe from predicted clusters\n",
    "predicted_clusters = to_df(p_comp_2d, predicted_labels)\n",
    "predicted_clusters"
   ]
  },
  {
   "cell_type": "code",
   "execution_count": 84,
   "metadata": {},
   "outputs": [
    {
     "ename": "SyntaxError",
     "evalue": "can't use starred expression here (659764131.py, line 8)",
     "output_type": "error",
     "traceback": [
      "\u001b[0;36m  Cell \u001b[0;32mIn[84], line 8\u001b[0;36m\u001b[0m\n\u001b[0;31m    handles, labels = *scatter.legend_elements(prop=\"colors\", num=len(unique_labels))\u001b[0m\n\u001b[0m                      ^\u001b[0m\n\u001b[0;31mSyntaxError\u001b[0m\u001b[0;31m:\u001b[0m can't use starred expression here\n"
     ]
    },
    {
     "data": {
      "image/png": "[encoded data removed]",
      "text/plain": [
       "<Figure size 1500x1000 with 1 Axes>"
      ]
     },
     "metadata": {},
     "output_type": "display_data"
    }
   ],
   "source": [
    "plt.figure(figsize=(15, 10))\n",
    "scatter = plt.scatter(predicted_clusters[0], predicted_clusters[1], c=predicted_clusters[\"label\"])\n",
    "scatter2 = plt.scatter(centers[:, 0], centers[:, 1], c=\"orange\", s=100)\n",
    "plt.xlabel(\"X coordinates\")\n",
    "plt.ylabel(\"Y coordinates\")\n",
    "\n",
    "unique_labels = np.unique(predicted_clusters[\"label\"])\n",
    "handles, labels = scatter.legend_elements(prop=\"colors\", num=len(unique_labels))\n",
    "plt.legend(handles, unique_labels, loc=\"lower right\")\n",
    "plt.title(f\"Train keypoints: {opt_clusters.knee} clusters\")"
   ]
  },
  {
   "cell_type": "code",
   "execution_count": 79,
   "metadata": {},
   "outputs": [
    {
     "data": {
      "image/png": "[encoded data removed]",
      "text/plain": [
       "<Figure size 640x480 with 1 Axes>"
      ]
     },
     "metadata": {},
     "output_type": "display_data"
    }
   ],
   "source": [
    "# Create scatter plot with color-coded labels\n",
    "scatter = plt.scatter(predicted_clusters[0], predicted_clusters[1], c=predicted_clusters[\"label\"])\n",
    "\n",
    "# Get unique labels and their corresponding colors\n",
    "unique_labels = np.unique(predicted_clusters['label'])\n",
    "handles, labels = scatter.legend_elements(prop=\"colors\", num=len(unique_labels))\n",
    "\n",
    "# Add legend\n",
    "plt.legend(handles, unique_labels, loc=\"lower right\")\n",
    "\n",
    "plt.xlabel('x')\n",
    "plt.ylabel('y')\n",
    "plt.title('Scatter Plot with Color-Coded Labels')\n",
    "plt.show()"
   ]
  },
  {
   "cell_type": "markdown",
   "metadata": {},
   "source": [
    "#### Kmeans on 3d features"
   ]
  },
  {
   "cell_type": "code",
   "execution_count": 71,
   "metadata": {},
   "outputs": [],
   "source": [
    "sse = [] # sum of squared error within clusters\n",
    "for k in range(1, 15):\n",
    "    kmeans = KMeans(init=\"random\", n_clusters=k, n_init=10, max_iter=50, random_state=42)\n",
    "    # run Kmeans algo\n",
    "    kmeans.fit(p_comp_3d)\n",
    "    sse.append(kmeans.inertia_)"
   ]
  },
  {
   "cell_type": "code",
   "execution_count": 72,
   "metadata": {},
   "outputs": [
    {
     "data": {
      "text/plain": [
       "[<matplotlib.lines.Line2D at 0x7f01950bfb10>]"
      ]
     },
     "execution_count": 72,
     "metadata": {},
     "output_type": "execute_result"
    },
    {
     "data": {
      "image/png": "[encoded data removed]",
      "text/plain": [
       "<Figure size 640x480 with 1 Axes>"
      ]
     },
     "metadata": {},
     "output_type": "display_data"
    }
   ],
   "source": [
    "plt.plot(sse)"
   ]
  },
  {
   "cell_type": "code",
   "execution_count": 73,
   "metadata": {},
   "outputs": [
    {
     "data": {
      "text/plain": [
       "'Optimal number of clusters: 4'"
      ]
     },
     "execution_count": 73,
     "metadata": {},
     "output_type": "execute_result"
    }
   ],
   "source": [
    "from kneed import KneeLocator\n",
    "\n",
    "opt_clusters = KneeLocator(range(1,15), sse, curve=\"convex\", direction=\"decreasing\")\n",
    "f\"Optimal number of clusters: {opt_clusters.knee}\""
   ]
  },
  {
   "cell_type": "code",
   "execution_count": 74,
   "metadata": {},
   "outputs": [],
   "source": [
    "kmeans = KMeans(init=\"random\", n_clusters=opt_clusters.knee, n_init=10, max_iter=50, random_state=42)\n",
    "# run Kmeans algo\n",
    "kmeans.fit(p_comp_3d)\n",
    "\n",
    "predicted_labels = kmeans.labels_\n",
    "centers = kmeans.cluster_centers_"
   ]
  },
  {
   "cell_type": "code",
   "execution_count": 76,
   "metadata": {},
   "outputs": [
    {
     "data": {
      "text/html": [
       "<div>\n",
       "<style scoped>\n",
       "    .dataframe tbody tr th:only-of-type {\n",
       "        vertical-align: middle;\n",
       "    }\n",
       "\n",
       "    .dataframe tbody tr th {\n",
       "        vertical-align: top;\n",
       "    }\n",
       "\n",
       "    .dataframe thead th {\n",
       "        text-align: right;\n",
       "    }\n",
       "</style>\n",
       "<table border=\"1\" class=\"dataframe\">\n",
       "  <thead>\n",
       "    <tr style=\"text-align: right;\">\n",
       "      <th></th>\n",
       "      <th>0</th>\n",
       "      <th>1</th>\n",
       "      <th>2</th>\n",
       "      <th>label</th>\n",
       "    </tr>\n",
       "  </thead>\n",
       "  <tbody>\n",
       "    <tr>\n",
       "      <th>3</th>\n",
       "      <td>-0.006787</td>\n",
       "      <td>0.560821</td>\n",
       "      <td>-0.939724</td>\n",
       "      <td>3</td>\n",
       "    </tr>\n",
       "    <tr>\n",
       "      <th>3</th>\n",
       "      <td>2.449607</td>\n",
       "      <td>0.411817</td>\n",
       "      <td>-0.268492</td>\n",
       "      <td>3</td>\n",
       "    </tr>\n",
       "    <tr>\n",
       "      <th>3</th>\n",
       "      <td>-0.402650</td>\n",
       "      <td>0.643910</td>\n",
       "      <td>-1.652101</td>\n",
       "      <td>3</td>\n",
       "    </tr>\n",
       "    <tr>\n",
       "      <th>3</th>\n",
       "      <td>1.341815</td>\n",
       "      <td>0.619687</td>\n",
       "      <td>-1.302087</td>\n",
       "      <td>3</td>\n",
       "    </tr>\n",
       "    <tr>\n",
       "      <th>3</th>\n",
       "      <td>0.271036</td>\n",
       "      <td>0.516926</td>\n",
       "      <td>-1.538147</td>\n",
       "      <td>3</td>\n",
       "    </tr>\n",
       "    <tr>\n",
       "      <th>...</th>\n",
       "      <td>...</td>\n",
       "      <td>...</td>\n",
       "      <td>...</td>\n",
       "      <td>...</td>\n",
       "    </tr>\n",
       "    <tr>\n",
       "      <th>1</th>\n",
       "      <td>-4.467823</td>\n",
       "      <td>-4.027202</td>\n",
       "      <td>0.194285</td>\n",
       "      <td>1</td>\n",
       "    </tr>\n",
       "    <tr>\n",
       "      <th>1</th>\n",
       "      <td>-4.408312</td>\n",
       "      <td>-3.744752</td>\n",
       "      <td>-0.273688</td>\n",
       "      <td>1</td>\n",
       "    </tr>\n",
       "    <tr>\n",
       "      <th>1</th>\n",
       "      <td>-3.339419</td>\n",
       "      <td>-1.204283</td>\n",
       "      <td>-1.303910</td>\n",
       "      <td>1</td>\n",
       "    </tr>\n",
       "    <tr>\n",
       "      <th>1</th>\n",
       "      <td>-4.626191</td>\n",
       "      <td>-4.027216</td>\n",
       "      <td>-0.329286</td>\n",
       "      <td>1</td>\n",
       "    </tr>\n",
       "    <tr>\n",
       "      <th>1</th>\n",
       "      <td>-4.118382</td>\n",
       "      <td>-2.837550</td>\n",
       "      <td>-0.798278</td>\n",
       "      <td>1</td>\n",
       "    </tr>\n",
       "  </tbody>\n",
       "</table>\n",
       "<p>414 rows × 4 columns</p>\n",
       "</div>"
      ],
      "text/plain": [
       "           0         1         2  label\n",
       "3  -0.006787  0.560821 -0.939724      3\n",
       "3   2.449607  0.411817 -0.268492      3\n",
       "3  -0.402650  0.643910 -1.652101      3\n",
       "3   1.341815  0.619687 -1.302087      3\n",
       "3   0.271036  0.516926 -1.538147      3\n",
       "..       ...       ...       ...    ...\n",
       "1  -4.467823 -4.027202  0.194285      1\n",
       "1  -4.408312 -3.744752 -0.273688      1\n",
       "1  -3.339419 -1.204283 -1.303910      1\n",
       "1  -4.626191 -4.027216 -0.329286      1\n",
       "1  -4.118382 -2.837550 -0.798278      1\n",
       "\n",
       "[414 rows x 4 columns]"
      ]
     },
     "execution_count": 76,
     "metadata": {},
     "output_type": "execute_result"
    }
   ],
   "source": [
    "# Construct dataframe from predicted clusters\n",
    "predicted_clusters = to_df(p_comp_3d, predicted_labels)\n",
    "predicted_clusters"
   ]
  },
  {
   "cell_type": "code",
   "execution_count": null,
   "metadata": {},
   "outputs": [],
   "source": []
  },
  {
   "cell_type": "code",
   "execution_count": 77,
   "metadata": {},
   "outputs": [
    {
     "data": {
      "application/vnd.plotly.v1+json": {
       "config": {
        "plotlyServerURL": "https://plot.ly"
       },
       "data": [
        {
         "hovertemplate": "0=%{x}<br>1=%{y}<br>2=%{z}<br>label=%{marker.color}<extra></extra>",
         "legendgroup": "",
         "marker": {
          "color": [
           3,
           3,
           3,
           3,
           3,
           3,
           3,
           3,
           3,
           3,
           3,
           3,
           3,
           0,
           0,
           3,
           3,
           3,
           3,
           3,
           3,
           0,
           0,
           0,
           0,
           0,
           0,
           0,
           0,
           0,
           0,
           0,
           3,
           3,
           3,
           3,
           3,
           3,
           3,
           3,
           3,
           3,
           3,
           3,
           3,
           3,
           3,
           3,
           3,
           3,
           3,
           3,
           3,
           3,
           3,
           3,
           3,
           3,
           3,
           3,
           3,
           3,
           3,
           3,
           3,
           3,
           3,
           3,
           3,
           3,
           3,
           3,
           3,
           3,
           3,
           3,
           3,
           3,
           3,
           3,
           3,
           3,
           0,
           0,
           0,
           3,
           3,
           3,
           3,
           3,
           3,
           3,
           3,
           0,
           0,
           0,
           3,
           3,
           3,
           3,
           3,
           3,
           3,
           3,
           3,
           3,
           0,
           0,
           3,
           0,
           3,
           3,
           3,
           3,
           3,
           3,
           3,
           0,
           0,
           0,
           0,
           3,
           3,
           3,
           3,
           3,
           0,
           3,
           3,
           3,
           3,
           3,
           3,
           0,
           0,
           0,
           3,
           3,
           3,
           3,
           3,
           0,
           0,
           0,
           3,
           3,
           3,
           3,
           3,
           3,
           3,
           3,
           3,
           3,
           3,
           3,
           3,
           3,
           3,
           0,
           3,
           3,
           3,
           3,
           3,
           3,
           3,
           0,
           0,
           0,
           0,
           0,
           0,
           0,
           3,
           3,
           3,
           3,
           3,
           3,
           3,
           0,
           0,
           0,
           3,
           3,
           3,
           3,
           3,
           3,
           3,
           3,
           3,
           3,
           3,
           3,
           0,
           3,
           3,
           3,
           3,
           3,
           3,
           3,
           3,
           3,
           3,
           3,
           3,
           3,
           3,
           3,
           3,
           0,
           2,
           2,
           2,
           2,
           2,
           2,
           2,
           2,
           2,
           2,
           2,
           2,
           2,
           2,
           2,
           2,
           2,
           2,
           2,
           2,
           2,
           2,
           2,
           2,
           2,
           2,
           2,
           2,
           2,
           2,
           2,
           2,
           2,
           2,
           2,
           2,
           2,
           2,
           2,
           2,
           2,
           2,
           2,
           2,
           2,
           2,
           2,
           2,
           2,
           2,
           2,
           2,
           2,
           2,
           2,
           2,
           2,
           2,
           2,
           2,
           2,
           2,
           2,
           2,
           2,
           2,
           2,
           2,
           2,
           2,
           2,
           2,
           2,
           2,
           2,
           2,
           2,
           2,
           2,
           2,
           2,
           2,
           2,
           2,
           2,
           2,
           2,
           2,
           2,
           2,
           2,
           2,
           2,
           2,
           2,
           2,
           2,
           2,
           2,
           2,
           1,
           1,
           1,
           1,
           1,
           1,
           1,
           1,
           1,
           1,
           1,
           1,
           1,
           1,
           1,
           1,
           1,
           1,
           1,
           1,
           1,
           1,
           1,
           1,
           1,
           1,
           1,
           1,
           1,
           1,
           1,
           1,
           1,
           1,
           1,
           1,
           1,
           1,
           1,
           1,
           1,
           1,
           1,
           1,
           1,
           1,
           1,
           1,
           1,
           1,
           1,
           1,
           1,
           1,
           1,
           1,
           1,
           1,
           1,
           1,
           1,
           1,
           1,
           1,
           1,
           1,
           1,
           1,
           1,
           1,
           1,
           1,
           1,
           1,
           1,
           1,
           1,
           1,
           1,
           1,
           1,
           1,
           1,
           1,
           1,
           1,
           1,
           1,
           1,
           1,
           1,
           1,
           1,
           1,
           1,
           1,
           1,
           1,
           1,
           1
          ],
          "coloraxis": "coloraxis",
          "symbol": "circle"
         },
         "mode": "markers",
         "name": "",
         "scene": "scene",
         "showlegend": false,
         "type": "scatter3d",
         "x": [
          -0.00678658611737431,
          2.4496071559569392,
          -0.4026503612954723,
          1.3418150798660518,
          0.2710362193546411,
          2.5596025543283565,
          2.1828450558103163,
          1.1027591167139097,
          2.025915514510328,
          3.7471553019522412,
          1.5013845255134572,
          2.58367467452615,
          4.2215878727216705,
          10.390128310581979,
          8.229297778839625,
          3.273822260091283,
          7.00920089426793,
          5.516770155105856,
          3.665497946238304,
          4.762815906665357,
          4.392654106095664,
          10.305521911355452,
          9.870832194854895,
          9.732545762874295,
          9.711891100913885,
          9.5720755328783,
          8.420671452398983,
          9.194609893392242,
          9.353826185979221,
          7.207491457884966,
          9.068486825024936,
          6.738417138932529,
          1.010076090304997,
          2.153534455685371,
          1.3599868289119545,
          0.7705267872722564,
          2.882601613043831,
          3.442673064692511,
          2.343660202834195,
          0.06630863598020459,
          2.9844758396717577,
          3.159341691530266,
          3.8760179447987757,
          1.42518790009692,
          2.7908863540754183,
          3.675111368255091,
          2.6387368022751083,
          3.3523650505127303,
          3.9421240549983994,
          1.4286247149821851,
          1.3264818570392996,
          2.316783819346144,
          1.1295301042643693,
          0.5320281124476463,
          3.074252442765722,
          -0.03493931682741948,
          1.0872219478885996,
          3.5431293518977727,
          2.9035871492655296,
          6.384052485397021,
          2.7821478995629336,
          4.388772968688051,
          4.057822051778935,
          5.664067469353668,
          7.515837593643281,
          7.283110972598939,
          7.732957231279588,
          6.0212114598032604,
          6.2594367662555985,
          5.604760410832417,
          5.591963318063358,
          3.766117754792799,
          5.138959103339496,
          2.995735933274115,
          3.713959921970499,
          2.9684848882921795,
          2.7190557445503836,
          1.4829037204913817,
          -0.17155020575253593,
          3.919678451953078,
          0.5756572832611714,
          -0.9795053987154502,
          6.88437098569021,
          5.59011356849335,
          5.610601216826409,
          4.657563995918386,
          4.337369280973265,
          6.840693164429561,
          5.704385395485083,
          2.827774874487516,
          4.42579931078764,
          4.284281231477875,
          2.4214718804490882,
          7.323531221852953,
          7.992674106900921,
          8.414867808202027,
          4.83055032927563,
          4.964967123969073,
          3.4755745535405844,
          4.6765888096023405,
          3.0747664996147663,
          5.57367820565928,
          2.7712211139876635,
          4.4582433878019545,
          0.24340766316841603,
          4.725813010637008,
          7.346270438997149,
          8.396097827423159,
          3.438540904161685,
          6.547037548113722,
          5.998010247234153,
          6.056872254859967,
          3.6867827003308653,
          3.2304979819589135,
          2.642763905132004,
          3.41862683980662,
          0.4389196691077836,
          8.1469872586268,
          3.833513155317549,
          6.372924595649834,
          5.983403851967245,
          4.093292075456441,
          4.053027267227263,
          5.9326156025194345,
          6.274114701869583,
          1.9866940372975121,
          8.377366104325255,
          6.722880927591393,
          8.047840897921413,
          2.0594903311302852,
          1.4418386139429642,
          -1.1652960116075397,
          -0.1456110746397735,
          7.813756063903201,
          7.960632353403967,
          9.924606420742947,
          7.021126545123341,
          -0.3127264140766337,
          3.3616241795373014,
          2.7111711978143607,
          1.3786050278187183,
          5.262626516076441,
          9.076052533034721,
          9.311418604625999,
          4.763051484058267,
          2.6310281440098735,
          2.6199716763618324,
          2.25642329745866,
          3.3981627030513266,
          1.9202357438517563,
          1.6687220230305413,
          3.55750934257369,
          2.358853432743037,
          1.5725809742805146,
          3.274390780330137,
          -1.2630429275363877,
          2.7448654288306953,
          5.911315324502129,
          4.7037569201654446,
          9.261368001730984,
          7.937782484393839,
          7.606553569482949,
          7.51614910176496,
          5.843379982923438,
          5.539149708261113,
          5.247780404170825,
          3.7302497326554906,
          5.280048683232427,
          5.758444256707798,
          9.11529299428371,
          8.448960510221893,
          8.930443476706495,
          7.238040363794266,
          7.959076955000577,
          1.3908094703533993,
          1.4575598926290776,
          3.2147944637042514,
          3.2568990419452684,
          4.046168667515048,
          0.3957879189212746,
          6.969814384154916,
          8.692984698550328,
          11.420140450647635,
          9.277206927014666,
          5.089937508663642,
          6.973127765118624,
          5.188052572627832,
          3.9337594395290254,
          2.65076231904208,
          1.754559630092629,
          3.560943582402984,
          2.945979604983929,
          -1.2909049901106935,
          1.8849909869923311,
          0.7537480495080087,
          1.1297426414250094,
          4.28155276055218,
          3.0157925461311876,
          3.722236499520681,
          2.349935053415853,
          1.8870060938418958,
          3.6064537183939933,
          5.1949564704800535,
          4.67337212086362,
          2.7088936987077354,
          3.017129587958335,
          1.5022462888220136,
          4.912101595256382,
          6.049974795810432,
          5.044863040671609,
          6.2924387480382435,
          6.614109193509313,
          5.560586295130108,
          7.918185030436572,
          -3.753667215009653,
          -5.502698831835602,
          -4.808004492404162,
          -5.6612970075474776,
          -5.182506474289325,
          -6.312552936902615,
          -5.425087183997769,
          -4.752594748911379,
          -5.228378817194872,
          -5.200310662078826,
          -5.5838929914533,
          -5.465671236277481,
          -5.608186863567593,
          -4.990474199739479,
          -5.640339635842321,
          -5.810593996553759,
          -5.103929337910969,
          -5.389575437389033,
          -4.31877298136538,
          -3.511007447832797,
          -3.450471525074539,
          -5.296810313615371,
          -6.446081530248241,
          -5.754490390681439,
          -6.333208775286082,
          -5.199624620302084,
          -5.9116074330337245,
          -5.642047804120985,
          -6.1627322612040185,
          -6.065040053289475,
          -5.19671933626537,
          -5.126959967760849,
          -5.825166157054813,
          -5.267837059716649,
          -5.102509582453301,
          -4.287092942447682,
          -4.035881700080524,
          -5.295392322989201,
          -5.594778422698304,
          -3.856629030249501,
          -5.6686400243361765,
          -4.644836037738231,
          -5.3199561773358885,
          -5.723373826713623,
          -4.171311423458554,
          -4.86681097146505,
          -5.134857809352303,
          -5.433508209247241,
          -4.266787685857499,
          -3.4013811176541804,
          -5.236725226280363,
          -6.065812440952214,
          -5.28238770589456,
          -4.550517422529097,
          -3.7552655050228,
          -3.894249492807183,
          -5.832603559588965,
          -5.146738952052863,
          -5.07204511056664,
          -4.053760433743691,
          -5.627234838449766,
          -4.897794038921675,
          -5.024132395823059,
          -3.802099882075984,
          -6.726933290406118,
          -5.203200323634092,
          -5.558762236108204,
          -5.647653837505923,
          -5.685769677790906,
          -5.957735464831277,
          -5.4665438173674925,
          -5.4550227829885465,
          -4.560182958150333,
          -5.6402890982784655,
          -6.157425219606961,
          -5.606539056274723,
          -6.269995050879,
          -5.6140659234995285,
          -5.678805685534172,
          -5.492450976465547,
          -6.510292282971521,
          -4.778984600174079,
          -4.950455867072715,
          -4.574782250454193,
          -6.2746347877660895,
          -5.2283591865736225,
          -5.263058863346944,
          -6.85242937362168,
          -5.5406812793997,
          -5.94087609848148,
          -5.087541907723734,
          -5.504660734994952,
          -5.424044543584111,
          -5.105602782115345,
          -5.27442977524979,
          -4.466763789016963,
          -4.700468747153435,
          -5.853094666202739,
          -5.395824759532042,
          -6.100544750657949,
          -2.891498254221928,
          -4.567409509975466,
          -4.185436392814863,
          -4.146292305263559,
          -4.491736691230538,
          -3.5777468535753476,
          -4.527761232245755,
          -3.6140088593364594,
          -3.74537166398453,
          -4.667662171578897,
          -4.700810960303602,
          -4.717220937741593,
          -4.5109524272594115,
          -4.429558467257415,
          -3.5688213933987996,
          -4.178195642829771,
          -3.8220355860123463,
          -5.311034296078442,
          -4.446882930841277,
          -3.566488349608274,
          -4.855941390586824,
          -3.380004380767687,
          -3.6698821556271866,
          -4.278815977312805,
          -3.72830436750807,
          -3.7433845939618395,
          -4.1996125341859445,
          -4.538709141912286,
          -3.6327712828006633,
          -4.7908408241340865,
          -4.292707549867892,
          -3.7484776497989647,
          -4.046731876223669,
          -3.880789248051089,
          -4.969813198001275,
          -4.204524530200935,
          -4.764121769997869,
          -2.9796668044825947,
          -4.023868628445686,
          -4.383749051027726,
          -3.6088720604964593,
          -4.133154308595817,
          -5.120117529142425,
          -4.184588402924527,
          -3.556632903734519,
          -3.849650989072581,
          -4.608919261818824,
          -3.4419340225517887,
          -3.746458129467263,
          -3.8968281756619256,
          -2.6757547723396,
          -4.392687725393104,
          -4.195687971722898,
          -4.521365995793438,
          -4.707420734401578,
          -4.7768191142091645,
          -3.928336847488519,
          -4.276775849091232,
          -4.394617708835839,
          -4.195777079146333,
          -4.400032366327871,
          -4.703238770225686,
          -3.5799513674370025,
          -2.802461180423747,
          -3.734487900871118,
          -4.333318863643514,
          -2.712412001394806,
          -4.179856551050135,
          -4.624795288351407,
          -4.324322579226942,
          -4.948871868244412,
          -4.48847823926512,
          -4.412567667813039,
          -4.577698434342531,
          -4.396623293285153,
          -3.0699305973584,
          -4.290938279498071,
          -3.551329412770386,
          -4.4558660967280606,
          -4.29971973545224,
          -4.725289347891366,
          -2.990716068154949,
          -4.580454639938469,
          -4.649976847408618,
          -4.658081964148257,
          -4.344764770321563,
          -4.632540031563679,
          -2.9492657689114763,
          -3.618313780085538,
          -4.510423792963626,
          -3.1025840528740702,
          -4.1612258353960465,
          -4.549236733956995,
          -4.371350765900907,
          -3.798750112335707,
          -4.4678228060211875,
          -4.408311918640127,
          -3.339418588799796,
          -4.626190570949608,
          -4.118382373921036
         ],
         "y": [
          0.5608209608222218,
          0.41181666600401706,
          0.6439103958348645,
          0.6196872876706162,
          0.5169258580534739,
          0.5519019993098455,
          0.2986673796661223,
          0.5314609208303549,
          0.52524846172642,
          0.5621696298447778,
          0.25822139256649707,
          0.6459576693622198,
          0.8453935544738829,
          -1.1801079301469697,
          -1.4591298447178125,
          0.6321879888688653,
          0.7401178629237049,
          0.7689027984174722,
          0.5047786641786387,
          0.6008233334134822,
          0.8159032977647844,
          -1.2111751179313706,
          -1.2115317416960516,
          -1.1993388623434418,
          -1.225408907596987,
          -1.2150712835983208,
          -0.6569344012504295,
          -1.2066685617946902,
          -1.232872797443425,
          -1.3688302942481785,
          -1.2408585534020908,
          -1.4239969206388141,
          0.6324041904984341,
          0.5288122976114169,
          0.3625164008863687,
          0.744395473722869,
          0.457412985222221,
          0.3565002030956239,
          0.5053480681209344,
          0.7380219009679597,
          0.7193149566568575,
          0.4700349524907589,
          1.2303952868690862,
          1.2275513768955693,
          1.6550326268055215,
          1.4554183348991894,
          1.079080037634172,
          0.6487029321222489,
          0.7459279326065047,
          0.2853468176678657,
          0.7905117679739504,
          0.5171486275533694,
          0.5869641513953834,
          0.6159417562458883,
          0.8098007882935018,
          0.6912604186387796,
          0.14846336278786976,
          0.007026258286463163,
          0.5538697206255578,
          0.555844268931369,
          1.257832222811646,
          0.441095186696827,
          0.4586755894719653,
          0.5924464837271675,
          0.5130493733397541,
          0.5163792684348725,
          0.4913908361928989,
          0.04090929935270725,
          0.7412448521894957,
          0.46270461435102905,
          0.6069745370401223,
          0.8912322119096551,
          0.646529707554184,
          0.529936880658901,
          -0.23785490930104955,
          0.21044252021555035,
          0.4697285020477733,
          0.12361382041085493,
          0.7007625892001946,
          1.106164272079878,
          1.1925824515832801,
          0.9326568972159163,
          -0.4450041992832511,
          -0.11131000411193523,
          -0.01043130999402255,
          0.5169734684569883,
          1.021095406291083,
          0.6051446818700461,
          0.6121785940038821,
          0.6918095640587804,
          0.6879012346699538,
          0.8558918620081536,
          1.4794133288475013,
          -0.5668341418659614,
          -0.9087171703679365,
          -0.9320070555489576,
          1.3230936079753186,
          1.2032028849033343,
          0.1498576687345521,
          0.4799008428374059,
          0.5576084829436736,
          0.9915310780802303,
          0.31337908371766354,
          0.9507675702140828,
          0.6859221345930889,
          0.4676035592856615,
          -1.2688754606097201,
          -0.9453896449475542,
          0.42825278073453554,
          -1.052496449930769,
          0.21730747761457386,
          0.532713127322805,
          0.6501693930984783,
          0.2849732175852446,
          0.4927524053547755,
          0.6429388901986076,
          0.45113015264516443,
          -1.1664426581052352,
          -0.6014335416832605,
          -0.5890658737601482,
          -0.2401409971978818,
          0.8344425407132663,
          0.45473095074312836,
          0.5351062557368466,
          0.5829372021279811,
          0.8070846391431914,
          0.1542493153022106,
          0.4418850226962499,
          0.4323486557503911,
          1.1152953636657148,
          0.9941882259985888,
          0.8224193758045973,
          1.0352366051977173,
          -0.3833938349948511,
          -1.2464327257023569,
          -0.7634514002869434,
          1.3493072429597832,
          1.123309901101941,
          1.0512571981841254,
          1.13020488008677,
          1.329478112860097,
          -0.6440231834410971,
          -1.01725559837004,
          -1.4210258465140961,
          1.3416455049446676,
          1.146594142787185,
          1.2132859674637095,
          1.5992512803678793,
          1.1201270674676973,
          1.2654977058148646,
          1.048480527979975,
          1.366854834683649,
          1.2733683036155357,
          0.9725895927489605,
          0.9923004189735433,
          0.8881689524217063,
          1.6674001346004466,
          1.44116655399765,
          1.5552858955333142,
          0.15241850662961307,
          0.6050026041139152,
          0.6781648348607986,
          0.6681348954780212,
          0.7150071182201543,
          0.7990561337431251,
          0.7077050857548961,
          0.5728448200256062,
          -1.2533560824346426,
          -1.3600546699635756,
          -1.2299985190264693,
          -1.5078891070533618,
          -1.5585711231773374,
          -1.9913356470674897,
          -0.8175807519397733,
          0.9122931208792892,
          0.5581086127938141,
          1.0152995215615646,
          1.0623049625586336,
          1.156228742740495,
          1.2405874252210618,
          1.3937189460312882,
          -1.3393226991578966,
          -1.7494472643285086,
          -1.4196948229035586,
          1.2804907257672185,
          -0.22598325477998576,
          0.4938647507928354,
          0.38101981334913054,
          0.28149024783493787,
          0.425223840319979,
          0.5012022019259036,
          0.19988279398069736,
          0.5737911780832664,
          0.2816871587813154,
          0.3744942995889476,
          0.7218003808142772,
          -0.6576660160116008,
          0.45867899537945306,
          0.510312967253674,
          0.33517691007334516,
          0.510582136953511,
          0.39656976809919575,
          0.7325034213890891,
          0.23678241920669027,
          -0.3033942174374436,
          -0.18833246209927912,
          0.5035248975058932,
          0.641274725985444,
          0.6956366402606918,
          0.60657187288424,
          0.6203500597937383,
          0.7993715756825818,
          1.0670526959138082,
          -1.1544512083840803,
          1.780625755826126,
          3.164035506347865,
          0.489962836705969,
          1.9620508761740079,
          2.0017660440928564,
          3.897214243889625,
          2.979492121592514,
          3.0848606788318205,
          3.573678893617194,
          2.8131891415913426,
          3.0562780863038115,
          2.1232859449555668,
          3.1222855849287217,
          1.8455088901372523,
          2.139840081066881,
          3.1653470626586326,
          3.6536892641595746,
          3.6649347020717142,
          0.9808529606475235,
          0.5887531553692084,
          1.0404777617028649,
          2.8570925701742684,
          3.7813400765795913,
          3.3455616275279927,
          4.42443152525892,
          2.999938248206091,
          3.5330946675957464,
          3.2166753655107296,
          3.537294712734959,
          3.3749189254396588,
          1.8012312644656459,
          2.640817129598366,
          3.5353783610166305,
          2.796774040749287,
          3.4992151801241205,
          0.3747060137107219,
          0.8457475504586377,
          1.968493348037705,
          3.1359268281014256,
          0.7287060325894479,
          2.1597582325223637,
          2.511960995343228,
          2.876753367858197,
          3.27495608781623,
          1.39659073940189,
          3.250516778172567,
          2.905840726524113,
          2.792635633326642,
          2.511046398145897,
          1.1299586644884458,
          2.9763069768328125,
          3.5032951566576287,
          3.6311909886970968,
          2.879902018309734,
          1.4152105254319234,
          1.7500552830439582,
          4.459484955601818,
          3.2629092497142658,
          3.3889040496113205,
          0.8149348402778392,
          3.3750123747340885,
          2.96007391232222,
          3.3443245366034047,
          0.9819664035304508,
          4.263676559915371,
          3.5905605838273917,
          3.7265678909685116,
          3.866081457086612,
          3.9364075215146577,
          3.4505009558292214,
          3.826253020632343,
          2.9787948411487415,
          1.2581244219897052,
          3.1990826893914512,
          3.490630928319603,
          3.227877482001198,
          3.794868902406127,
          3.0608347728391534,
          3.1641400891665143,
          3.8555774960946154,
          3.855860331283158,
          1.822560083370336,
          1.686583294738257,
          0.5490387594156734,
          3.7564199841572554,
          4.502253406485932,
          2.962031435279315,
          4.066521034175056,
          3.0761345284711963,
          3.5246517210450823,
          1.1168707047565285,
          3.02561850902356,
          2.736824366017043,
          2.495145205216389,
          2.472524716482765,
          1.9804828793780707,
          1.344481888271795,
          3.3767967994112285,
          2.886696446170505,
          3.4843074825029894,
          -1.1817063942021129,
          -4.341199597349457,
          -3.389074147586584,
          -4.196598591314459,
          -4.60408093744307,
          -1.7778832857836064,
          -4.493745906728326,
          -2.9253465831552963,
          -2.3144496484651595,
          -4.241168419707304,
          -4.487001709720118,
          -4.514162535091974,
          -3.995721832542807,
          -4.369210987633867,
          -2.7056746966437903,
          -3.28151165075415,
          -2.867031902340655,
          -6.540401173633481,
          -4.342641782575545,
          -1.9301934203842255,
          -5.250125378188461,
          -1.8496101149550368,
          -2.9739535667963435,
          -4.08703813291883,
          -2.717527974498607,
          -2.9385124128814115,
          -3.4634954603927945,
          -4.4467601479244445,
          -1.8048533596854481,
          -4.428444177810852,
          -3.5458541464515294,
          -1.8586333801144428,
          -2.550732064339986,
          -3.1947490740319946,
          -5.080649350100639,
          -3.320747730949704,
          -5.01677885510708,
          -1.330147303832349,
          -3.0833506467340546,
          -3.67388532790506,
          -2.8397805807341663,
          -3.4897896779539086,
          -5.142221178549359,
          -3.62425882735494,
          -1.6263834772909498,
          -3.091487549067784,
          -4.464250958663429,
          -2.2179884095647138,
          -2.1443850442389714,
          -2.4911355479561132,
          -1.2912963475281207,
          -4.269068398961281,
          -4.086110019102602,
          -4.694453194906594,
          -4.835071050103222,
          -4.43193992726697,
          -3.571304018520475,
          -3.4658290289690554,
          -4.298412972758151,
          -4.486102151935977,
          -4.288895158573386,
          -4.557359060491783,
          -2.9086706399167426,
          -1.9991982898097134,
          -3.216958389132514,
          -3.7905466790162583,
          -2.0751537842873566,
          -4.042934193199338,
          -4.748742972574781,
          -3.529132853559837,
          -5.299449314269048,
          -3.999084978782316,
          -3.7211112214398057,
          -4.82119786447936,
          -3.58388319720111,
          -2.3800957741171405,
          -3.4047758073874013,
          -1.64663956489717,
          -2.977813929307691,
          -3.566062440924057,
          -4.555483339010726,
          -1.5394607457460734,
          -4.477192694148041,
          -4.943308270610696,
          -4.64629523573119,
          -3.566623813367097,
          -4.5077092611732015,
          -1.282373302248055,
          -2.3265639634115822,
          -4.677164247078415,
          -2.044909993378299,
          -3.293956045180844,
          -4.0348938554476845,
          -3.7474664577603236,
          -2.9577425039399037,
          -4.027201697602704,
          -3.7447515241881484,
          -1.2042832237722372,
          -4.027216140690749,
          -2.8375502892309465
         ],
         "z": [
          -0.9397239305241387,
          -0.268492422457453,
          -1.6521006987567524,
          -1.3020873363234151,
          -1.538147066127124,
          -0.7626014823400458,
          -1.1943473074248467,
          -1.644183877882561,
          -1.2876940311252338,
          -1.1163551270082646,
          -1.948945318896205,
          -2.1456076222688014,
          -2.452336218791788,
          5.091099350704679,
          4.320403482406466,
          -2.2692580125032404,
          -1.8793851431335427,
          -1.5003099056778453,
          -1.3649773109687275,
          -0.5110334205130216,
          -1.2453210019291654,
          5.184779866521976,
          5.33696788853357,
          5.3399908479437395,
          5.472429404585868,
          5.463248640852637,
          4.568583581543547,
          5.612896910037957,
          5.653809685793568,
          4.59102206580543,
          5.7604367689326565,
          5.107135389793501,
          -0.7586558338461616,
          -0.3835833674172806,
          -1.1744352762145636,
          -1.3532355841170016,
          -0.6682842555041512,
          -0.5805813995028772,
          -1.56204017985166,
          -2.031338108075777,
          -1.6060485971681904,
          -1.9984629843053392,
          -2.6543852838236677,
          -3.9853814286130342,
          -3.9766223735365447,
          -3.9587212924658326,
          -1.6155622604177222,
          -0.18922921641360874,
          -0.7735946049080099,
          -0.8892957287608929,
          -2.283378354069748,
          -1.5761387914006204,
          -1.9101093752345026,
          -2.0741207431592605,
          -2.035287307199836,
          -1.9624203927262567,
          0.6634606297599785,
          1.94827647136086,
          0.6273612549694747,
          -1.0475653311331987,
          -2.4116473200034005,
          0.5303403645431677,
          0.5484647529270715,
          -0.6535213299823213,
          -1.019191336496666,
          -0.9585382021911638,
          -0.9989698468952819,
          -0.703283336825927,
          -1.7757732649306504,
          -2.2126186686694145,
          -1.7173422881240235,
          -2.5110440126753804,
          -1.6564678998605136,
          -2.092182587506128,
          1.0693972412707786,
          0.27884365023060764,
          -0.6300179769932711,
          -0.7685232525248722,
          -1.8657370718724682,
          -3.993847741192419,
          -3.0335707852672824,
          -3.028849846572595,
          3.3128885230847285,
          1.5726857320155654,
          1.9575805575592544,
          0.08595573399203517,
          -1.9537199419680704,
          -1.1846768808599777,
          -1.7109750349354078,
          -3.0045048975759303,
          -3.5078304827066202,
          -1.6774369608324877,
          -3.3986194437287494,
          3.5832572467063772,
          4.766439916322563,
          4.804890901251534,
          -4.358079918846775,
          -3.8998921103487785,
          1.348566182097536,
          0.11798904904137639,
          -0.3499807457290776,
          -3.3329450632989763,
          -1.0080784003567003,
          -2.5405441240990303,
          -1.5052507873475074,
          -1.9017656724388923,
          5.595125906123912,
          4.863719314678131,
          0.624107429876736,
          3.6620332736347896,
          -1.2657181291579809,
          -1.553624060800487,
          -1.0310703206328002,
          -0.18950745315142958,
          -0.7013299390486784,
          -0.15139179684052556,
          -1.1323181129107969,
          4.675467277683999,
          3.608003166090199,
          4.188837327581848,
          2.775252141198492,
          -1.2534028161785207,
          0.5870502879028917,
          -0.4916382194853614,
          -0.8402425371811224,
          -2.5066497565883683,
          0.1617519536767347,
          -2.8416616207971757,
          -0.919524702328403,
          -3.7694450543277664,
          -2.576454542501572,
          -2.615729452047951,
          -3.051090177554634,
          1.3614782506557939,
          4.99971018164786,
          4.694788678356752,
          -4.419871072077088,
          -3.444066698701741,
          -2.622014313990813,
          -2.488340838662027,
          -3.2127998982676567,
          2.371552848125808,
          4.8508607994467035,
          5.184559058154044,
          -4.404352690034691,
          -2.64754677629417,
          -2.9301833035602267,
          -4.211341467190919,
          -3.797824881654116,
          -3.6332659583431015,
          -3.3338085518322798,
          -2.973373518548611,
          -3.062538302891607,
          -2.378090870186591,
          -2.3323048468861964,
          -2.826983855314816,
          -4.023957153343434,
          -3.7602184760242556,
          -4.714763948044156,
          -0.22851160493730702,
          -1.6180289752932262,
          -1.785221656995413,
          -1.6349564562402674,
          -1.2318038810220486,
          -1.4816230153340333,
          -0.9193456618132312,
          -0.555677041324197,
          5.1295191343159905,
          5.303860664309828,
          4.427039402187425,
          4.452171607751124,
          4.389046275166187,
          3.635376857108822,
          3.7481114411187777,
          -3.5367859180721055,
          -2.0472379389218496,
          -2.0925963545445283,
          -2.606142919746308,
          -3.3968939939068887,
          -3.8878244101265413,
          -4.589410766915463,
          6.334715090010156,
          5.499504651574189,
          5.148883385863645,
          -4.295456694621365,
          -0.02123029325108061,
          -2.2229529528063416,
          0.003219392305112327,
          -0.8269618069330928,
          -1.1121236322526602,
          -1.2878999653281344,
          -1.3729965650200764,
          -2.4121467895788062,
          -1.2697893369731013,
          -1.3140518388376938,
          -1.202119018182733,
          3.2573585097400297,
          -0.6721922620016596,
          -1.3599421592923295,
          -1.8664705434470188,
          -2.0662902741282845,
          -1.8583898226612106,
          -2.4242891740150974,
          -2.1653886266712354,
          -0.5664439912905269,
          0.9078505944486605,
          -1.2501507966046204,
          -1.4838078041891065,
          -1.3245578659677493,
          -1.431290885234282,
          -2.0457699478847355,
          -2.1321630421488376,
          -1.8218828237414153,
          4.732368575387112,
          -0.8268931040931354,
          1.3367304729201508,
          0.586129715262204,
          1.9773111059619477,
          1.1658577657584912,
          2.4791330556109044,
          1.5880931256454993,
          0.14563890921850234,
          1.3077410873703765,
          1.145471048437568,
          1.7151510152556533,
          1.447317492570757,
          1.546229522502514,
          0.8100620620053598,
          1.6552374546943411,
          2.029925727505172,
          1.6327724343886065,
          2.03490093593097,
          0.2129726241499576,
          -1.0777719838659374,
          -0.9842469280032161,
          1.0987202183545075,
          2.8563646687394524,
          1.4895048877839583,
          2.975320214418312,
          0.9896258282869098,
          2.0468796976598798,
          1.631476540310283,
          2.51513220726291,
          2.60716152008047,
          0.9047978562360963,
          1.0243070562991223,
          1.8802891362240857,
          1.3489084762937327,
          1.271119725340657,
          -0.060674344553094214,
          -0.22972544222456448,
          1.2152872842219278,
          1.8171152711262721,
          -0.25559372062861585,
          1.5907984247770695,
          1.581464830146131,
          1.48027108236135,
          1.6476986059580132,
          -0.18888898502314821,
          1.057678132410103,
          0.9704035865282317,
          1.4004801352280354,
          -0.27874183347627685,
          -1.2397753534463518,
          1.3029610243581513,
          2.4971806394660256,
          1.4794409132829343,
          1.1141803118419429,
          -0.8925425118740945,
          -0.5571972333505548,
          1.9166572928005756,
          1.5387544450535133,
          1.2996158050166342,
          -0.30116857792574586,
          1.4656038281135697,
          1.1957094808076885,
          1.2330000693971852,
          -0.07158922982289805,
          3.0064718271709996,
          1.4134563265814843,
          2.52079352790322,
          1.9107340628799914,
          1.950555168148877,
          2.082165543901687,
          1.8892386384269242,
          1.3485998466255007,
          0.6081248203357013,
          1.5843461156359793,
          2.599419253978002,
          1.3041143663558106,
          2.6500442608155543,
          1.672391878100142,
          1.7728816201282842,
          2.040243031867135,
          2.814270604402462,
          0.5951814898335106,
          0.7285419483177256,
          0.19034054364382275,
          2.2944254138086433,
          1.5703935084815408,
          1.3837659166799525,
          3.6212795104630056,
          1.5744382288504668,
          1.9471432205099175,
          0.5862639493698605,
          1.5006796873916326,
          1.9707169981910981,
          1.509320805477877,
          1.5330966783571807,
          0.714310810351675,
          0.36447073073704495,
          1.7185813821010103,
          1.1958058302067118,
          2.1604538066092354,
          -1.5655989565291106,
          -0.18363189193840346,
          -0.3492913057164575,
          0.23718484648481641,
          0.5927345547333287,
          -1.203560401010493,
          -0.12463324345189049,
          -0.48641471439710093,
          -0.8927108819422761,
          -0.24271488145463194,
          0.13123633591790088,
          0.025746609848504503,
          -0.24710536564016622,
          -0.19503740907254016,
          -0.6816652395053435,
          -0.6310922985212145,
          0.02290586127312707,
          0.9404678252408286,
          -0.034195315526765066,
          -1.2563222117909914,
          0.7748677658961379,
          -0.8586107315723369,
          -0.5545409678316491,
          0.036532857870770395,
          -0.1599729971374702,
          -0.16042040687028358,
          -0.5218353245707653,
          0.2851260023903157,
          -1.0273026078694025,
          -0.10941507876486185,
          -0.3782753922892338,
          -1.3526242243866713,
          -0.6429084230152864,
          -0.14190960670911554,
          0.3514765292261292,
          -0.5498279456742926,
          0.7307594423355176,
          -1.4443268130019704,
          -0.6281245055150543,
          -0.48935129185846576,
          -0.306932396298522,
          0.13922184124480674,
          0.11714968633844872,
          -0.4353683515684375,
          -1.5089728701686085,
          -0.5723372250644462,
          0.5563557547437594,
          -0.6426912530790778,
          -0.9945602389102901,
          -0.945339983832266,
          -0.8025551596264425,
          0.18429470915583687,
          0.4456982192714655,
          0.5111606473122964,
          0.18829442908751579,
          -0.13220400271079805,
          -0.05413183462796563,
          -0.17701138089568108,
          -0.08153427950905774,
          0.3292671290615672,
          0.033151226499883106,
          0.1071119088633198,
          -0.7003593746909077,
          -0.5177436351722868,
          -0.7542279875046671,
          -0.5904612510225107,
          -0.6375523337107899,
          -0.017977938123474264,
          0.6146440079193143,
          -0.3815442664350827,
          0.4317950339823112,
          -0.5269423624329521,
          -0.32767717903606935,
          -0.10894433712585111,
          -0.4158000017839611,
          -0.674048612479224,
          -0.6444701409180458,
          -1.254996470435293,
          -0.915545452163968,
          -0.18455706754048368,
          0.18186598417042826,
          -1.1998351745303273,
          -0.17496651381173062,
          0.8283311482964915,
          0.26063469886373136,
          -0.676108236141874,
          -0.24619521368231034,
          -0.868282272409196,
          -0.8514312258701493,
          0.4470519458119989,
          -0.6481807435624781,
          -0.3434450483195375,
          -0.34266749779053557,
          -0.15089582867410184,
          -0.6235589917512889,
          0.19428535161909904,
          -0.27368816956673997,
          -1.303909522788343,
          -0.3292861313471667,
          -0.7982782254062734
         ]
        }
       ],
       "layout": {
        "coloraxis": {
         "colorbar": {
          "title": {
           "text": "label"
          }
         },
         "colorscale": [
          [
           0,
           "#0d0887"
          ],
          [
           0.1111111111111111,
           "#46039f"
          ],
          [
           0.2222222222222222,
           "#7201a8"
          ],
          [
           0.3333333333333333,
           "#9c179e"
          ],
          [
           0.4444444444444444,
           "#bd3786"
          ],
          [
           0.5555555555555556,
           "#d8576b"
          ],
          [
           0.6666666666666666,
           "#ed7953"
          ],
          [
           0.7777777777777778,
           "#fb9f3a"
          ],
          [
           0.8888888888888888,
           "#fdca26"
          ],
          [
           1,
           "#f0f921"
          ]
         ]
        },
        "legend": {
         "tracegroupgap": 0
        },
        "margin": {
         "t": 60
        },
        "scene": {
         "domain": {
          "x": [
           0,
           1
          ],
          "y": [
           0,
           1
          ]
         },
         "xaxis": {
          "title": {
           "text": "0"
          }
         },
         "yaxis": {
          "title": {
           "text": "1"
          }
         },
         "zaxis": {
          "title": {
           "text": "2"
          }
         }
        },
        "template": {
         "data": {
          "bar": [
           {
            "error_x": {
             "color": "#2a3f5f"
            },
            "error_y": {
             "color": "#2a3f5f"
            },
            "marker": {
             "line": {
              "color": "#E5ECF6",
              "width": 0.5
             },
             "pattern": {
              "fillmode": "overlay",
              "size": 10,
              "solidity": 0.2
             }
            },
            "type": "bar"
           }
          ],
          "barpolar": [
           {
            "marker": {
             "line": {
              "color": "#E5ECF6",
              "width": 0.5
             },
             "pattern": {
              "fillmode": "overlay",
              "size": 10,
              "solidity": 0.2
             }
            },
            "type": "barpolar"
           }
          ],
          "carpet": [
           {
            "aaxis": {
             "endlinecolor": "#2a3f5f",
             "gridcolor": "white",
             "linecolor": "white",
             "minorgridcolor": "white",
             "startlinecolor": "#2a3f5f"
            },
            "baxis": {
             "endlinecolor": "#2a3f5f",
             "gridcolor": "white",
             "linecolor": "white",
             "minorgridcolor": "white",
             "startlinecolor": "#2a3f5f"
            },
            "type": "carpet"
           }
          ],
          "choropleth": [
           {
            "colorbar": {
             "outlinewidth": 0,
             "ticks": ""
            },
            "type": "choropleth"
           }
          ],
          "contour": [
           {
            "colorbar": {
             "outlinewidth": 0,
             "ticks": ""
            },
            "colorscale": [
             [
              0,
              "#0d0887"
             ],
             [
              0.1111111111111111,
              "#46039f"
             ],
             [
              0.2222222222222222,
              "#7201a8"
             ],
             [
              0.3333333333333333,
              "#9c179e"
             ],
             [
              0.4444444444444444,
              "#bd3786"
             ],
             [
              0.5555555555555556,
              "#d8576b"
             ],
             [
              0.6666666666666666,
              "#ed7953"
             ],
             [
              0.7777777777777778,
              "#fb9f3a"
             ],
             [
              0.8888888888888888,
              "#fdca26"
             ],
             [
              1,
              "#f0f921"
             ]
            ],
            "type": "contour"
           }
          ],
          "contourcarpet": [
           {
            "colorbar": {
             "outlinewidth": 0,
             "ticks": ""
            },
            "type": "contourcarpet"
           }
          ],
          "heatmap": [
           {
            "colorbar": {
             "outlinewidth": 0,
             "ticks": ""
            },
            "colorscale": [
             [
              0,
              "#0d0887"
             ],
             [
              0.1111111111111111,
              "#46039f"
             ],
             [
              0.2222222222222222,
              "#7201a8"
             ],
             [
              0.3333333333333333,
              "#9c179e"
             ],
             [
              0.4444444444444444,
              "#bd3786"
             ],
             [
              0.5555555555555556,
              "#d8576b"
             ],
             [
              0.6666666666666666,
              "#ed7953"
             ],
             [
              0.7777777777777778,
              "#fb9f3a"
             ],
             [
              0.8888888888888888,
              "#fdca26"
             ],
             [
              1,
              "#f0f921"
             ]
            ],
            "type": "heatmap"
           }
          ],
          "heatmapgl": [
           {
            "colorbar": {
             "outlinewidth": 0,
             "ticks": ""
            },
            "colorscale": [
             [
              0,
              "#0d0887"
             ],
             [
              0.1111111111111111,
              "#46039f"
             ],
             [
              0.2222222222222222,
              "#7201a8"
             ],
             [
              0.3333333333333333,
              "#9c179e"
             ],
             [
              0.4444444444444444,
              "#bd3786"
             ],
             [
              0.5555555555555556,
              "#d8576b"
             ],
             [
              0.6666666666666666,
              "#ed7953"
             ],
             [
              0.7777777777777778,
              "#fb9f3a"
             ],
             [
              0.8888888888888888,
              "#fdca26"
             ],
             [
              1,
              "#f0f921"
             ]
            ],
            "type": "heatmapgl"
           }
          ],
          "histogram": [
           {
            "marker": {
             "pattern": {
              "fillmode": "overlay",
              "size": 10,
              "solidity": 0.2
             }
            },
            "type": "histogram"
           }
          ],
          "histogram2d": [
           {
            "colorbar": {
             "outlinewidth": 0,
             "ticks": ""
            },
            "colorscale": [
             [
              0,
              "#0d0887"
             ],
             [
              0.1111111111111111,
              "#46039f"
             ],
             [
              0.2222222222222222,
              "#7201a8"
             ],
             [
              0.3333333333333333,
              "#9c179e"
             ],
             [
              0.4444444444444444,
              "#bd3786"
             ],
             [
              0.5555555555555556,
              "#d8576b"
             ],
             [
              0.6666666666666666,
              "#ed7953"
             ],
             [
              0.7777777777777778,
              "#fb9f3a"
             ],
             [
              0.8888888888888888,
              "#fdca26"
             ],
             [
              1,
              "#f0f921"
             ]
            ],
            "type": "histogram2d"
           }
          ],
          "histogram2dcontour": [
           {
            "colorbar": {
             "outlinewidth": 0,
             "ticks": ""
            },
            "colorscale": [
             [
              0,
              "#0d0887"
             ],
             [
              0.1111111111111111,
              "#46039f"
             ],
             [
              0.2222222222222222,
              "#7201a8"
             ],
             [
              0.3333333333333333,
              "#9c179e"
             ],
             [
              0.4444444444444444,
              "#bd3786"
             ],
             [
              0.5555555555555556,
              "#d8576b"
             ],
             [
              0.6666666666666666,
              "#ed7953"
             ],
             [
              0.7777777777777778,
              "#fb9f3a"
             ],
             [
              0.8888888888888888,
              "#fdca26"
             ],
             [
              1,
              "#f0f921"
             ]
            ],
            "type": "histogram2dcontour"
           }
          ],
          "mesh3d": [
           {
            "colorbar": {
             "outlinewidth": 0,
             "ticks": ""
            },
            "type": "mesh3d"
           }
          ],
          "parcoords": [
           {
            "line": {
             "colorbar": {
              "outlinewidth": 0,
              "ticks": ""
             }
            },
            "type": "parcoords"
           }
          ],
          "pie": [
           {
            "automargin": true,
            "type": "pie"
           }
          ],
          "scatter": [
           {
            "fillpattern": {
             "fillmode": "overlay",
             "size": 10,
             "solidity": 0.2
            },
            "type": "scatter"
           }
          ],
          "scatter3d": [
           {
            "line": {
             "colorbar": {
              "outlinewidth": 0,
              "ticks": ""
             }
            },
            "marker": {
             "colorbar": {
              "outlinewidth": 0,
              "ticks": ""
             }
            },
            "type": "scatter3d"
           }
          ],
          "scattercarpet": [
           {
            "marker": {
             "colorbar": {
              "outlinewidth": 0,
              "ticks": ""
             }
            },
            "type": "scattercarpet"
           }
          ],
          "scattergeo": [
           {
            "marker": {
             "colorbar": {
              "outlinewidth": 0,
              "ticks": ""
             }
            },
            "type": "scattergeo"
           }
          ],
          "scattergl": [
           {
            "marker": {
             "colorbar": {
              "outlinewidth": 0,
              "ticks": ""
             }
            },
            "type": "scattergl"
           }
          ],
          "scattermapbox": [
           {
            "marker": {
             "colorbar": {
              "outlinewidth": 0,
              "ticks": ""
             }
            },
            "type": "scattermapbox"
           }
          ],
          "scatterpolar": [
           {
            "marker": {
             "colorbar": {
              "outlinewidth": 0,
              "ticks": ""
             }
            },
            "type": "scatterpolar"
           }
          ],
          "scatterpolargl": [
           {
            "marker": {
             "colorbar": {
              "outlinewidth": 0,
              "ticks": ""
             }
            },
            "type": "scatterpolargl"
           }
          ],
          "scatterternary": [
           {
            "marker": {
             "colorbar": {
              "outlinewidth": 0,
              "ticks": ""
             }
            },
            "type": "scatterternary"
           }
          ],
          "surface": [
           {
            "colorbar": {
             "outlinewidth": 0,
             "ticks": ""
            },
            "colorscale": [
             [
              0,
              "#0d0887"
             ],
             [
              0.1111111111111111,
              "#46039f"
             ],
             [
              0.2222222222222222,
              "#7201a8"
             ],
             [
              0.3333333333333333,
              "#9c179e"
             ],
             [
              0.4444444444444444,
              "#bd3786"
             ],
             [
              0.5555555555555556,
              "#d8576b"
             ],
             [
              0.6666666666666666,
              "#ed7953"
             ],
             [
              0.7777777777777778,
              "#fb9f3a"
             ],
             [
              0.8888888888888888,
              "#fdca26"
             ],
             [
              1,
              "#f0f921"
             ]
            ],
            "type": "surface"
           }
          ],
          "table": [
           {
            "cells": {
             "fill": {
              "color": "#EBF0F8"
             },
             "line": {
              "color": "white"
             }
            },
            "header": {
             "fill": {
              "color": "#C8D4E3"
             },
             "line": {
              "color": "white"
             }
            },
            "type": "table"
           }
          ]
         },
         "layout": {
          "annotationdefaults": {
           "arrowcolor": "#2a3f5f",
           "arrowhead": 0,
           "arrowwidth": 1
          },
          "autotypenumbers": "strict",
          "coloraxis": {
           "colorbar": {
            "outlinewidth": 0,
            "ticks": ""
           }
          },
          "colorscale": {
           "diverging": [
            [
             0,
             "#8e0152"
            ],
            [
             0.1,
             "#c51b7d"
            ],
            [
             0.2,
             "#de77ae"
            ],
            [
             0.3,
             "#f1b6da"
            ],
            [
             0.4,
             "#fde0ef"
            ],
            [
             0.5,
             "#f7f7f7"
            ],
            [
             0.6,
             "#e6f5d0"
            ],
            [
             0.7,
             "#b8e186"
            ],
            [
             0.8,
             "#7fbc41"
            ],
            [
             0.9,
             "#4d9221"
            ],
            [
             1,
             "#276419"
            ]
           ],
           "sequential": [
            [
             0,
             "#0d0887"
            ],
            [
             0.1111111111111111,
             "#46039f"
            ],
            [
             0.2222222222222222,
             "#7201a8"
            ],
            [
             0.3333333333333333,
             "#9c179e"
            ],
            [
             0.4444444444444444,
             "#bd3786"
            ],
            [
             0.5555555555555556,
             "#d8576b"
            ],
            [
             0.6666666666666666,
             "#ed7953"
            ],
            [
             0.7777777777777778,
             "#fb9f3a"
            ],
            [
             0.8888888888888888,
             "#fdca26"
            ],
            [
             1,
             "#f0f921"
            ]
           ],
           "sequentialminus": [
            [
             0,
             "#0d0887"
            ],
            [
             0.1111111111111111,
             "#46039f"
            ],
            [
             0.2222222222222222,
             "#7201a8"
            ],
            [
             0.3333333333333333,
             "#9c179e"
            ],
            [
             0.4444444444444444,
             "#bd3786"
            ],
            [
             0.5555555555555556,
             "#d8576b"
            ],
            [
             0.6666666666666666,
             "#ed7953"
            ],
            [
             0.7777777777777778,
             "#fb9f3a"
            ],
            [
             0.8888888888888888,
             "#fdca26"
            ],
            [
             1,
             "#f0f921"
            ]
           ]
          },
          "colorway": [
           "#636efa",
           "#EF553B",
           "#00cc96",
           "#ab63fa",
           "#FFA15A",
           "#19d3f3",
           "#FF6692",
           "#B6E880",
           "#FF97FF",
           "#FECB52"
          ],
          "font": {
           "color": "#2a3f5f"
          },
          "geo": {
           "bgcolor": "white",
           "lakecolor": "white",
           "landcolor": "#E5ECF6",
           "showlakes": true,
           "showland": true,
           "subunitcolor": "white"
          },
          "hoverlabel": {
           "align": "left"
          },
          "hovermode": "closest",
          "mapbox": {
           "style": "light"
          },
          "paper_bgcolor": "white",
          "plot_bgcolor": "#E5ECF6",
          "polar": {
           "angularaxis": {
            "gridcolor": "white",
            "linecolor": "white",
            "ticks": ""
           },
           "bgcolor": "#E5ECF6",
           "radialaxis": {
            "gridcolor": "white",
            "linecolor": "white",
            "ticks": ""
           }
          },
          "scene": {
           "xaxis": {
            "backgroundcolor": "#E5ECF6",
            "gridcolor": "white",
            "gridwidth": 2,
            "linecolor": "white",
            "showbackground": true,
            "ticks": "",
            "zerolinecolor": "white"
           },
           "yaxis": {
            "backgroundcolor": "#E5ECF6",
            "gridcolor": "white",
            "gridwidth": 2,
            "linecolor": "white",
            "showbackground": true,
            "ticks": "",
            "zerolinecolor": "white"
           },
           "zaxis": {
            "backgroundcolor": "#E5ECF6",
            "gridcolor": "white",
            "gridwidth": 2,
            "linecolor": "white",
            "showbackground": true,
            "ticks": "",
            "zerolinecolor": "white"
           }
          },
          "shapedefaults": {
           "line": {
            "color": "#2a3f5f"
           }
          },
          "ternary": {
           "aaxis": {
            "gridcolor": "white",
            "linecolor": "white",
            "ticks": ""
           },
           "baxis": {
            "gridcolor": "white",
            "linecolor": "white",
            "ticks": ""
           },
           "bgcolor": "#E5ECF6",
           "caxis": {
            "gridcolor": "white",
            "linecolor": "white",
            "ticks": ""
           }
          },
          "title": {
           "x": 0.05
          },
          "xaxis": {
           "automargin": true,
           "gridcolor": "white",
           "linecolor": "white",
           "ticks": "",
           "title": {
            "standoff": 15
           },
           "zerolinecolor": "white",
           "zerolinewidth": 2
          },
          "yaxis": {
           "automargin": true,
           "gridcolor": "white",
           "linecolor": "white",
           "ticks": "",
           "title": {
            "standoff": 15
           },
           "zerolinecolor": "white",
           "zerolinewidth": 2
          }
         }
        }
       }
      }
     },
     "metadata": {},
     "output_type": "display_data"
    }
   ],
   "source": [
    "import plotly.express as px\n",
    "\n",
    "fig = px.scatter_3d(predicted_clusters, x=0, y=1, z=2, color='label')\n",
    "fig.show()"
   ]
  },
  {
   "cell_type": "code",
   "execution_count": null,
   "metadata": {},
   "outputs": [],
   "source": [
    "# TODO implement hover functionality on plots to visualise corresponding image"
   ]
  },
  {
   "cell_type": "code",
   "execution_count": null,
   "metadata": {},
   "outputs": [],
   "source": []
  }
 ],
 "metadata": {
  "kernelspec": {
   "display_name": "dlc3",
   "language": "python",
   "name": "python3"
  },
  "language_info": {
   "codemirror_mode": {
    "name": "ipython",
    "version": 3
   },
   "file_extension": ".py",
   "mimetype": "text/x-python",
   "name": "python",
   "nbconvert_exporter": "python",
   "pygments_lexer": "ipython3",
   "version": "3.11.9"
  }
 },
 "nbformat": 4,
 "nbformat_minor": 2
}
