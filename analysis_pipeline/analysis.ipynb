{
 "cells": [
  {
   "cell_type": "markdown",
   "metadata": {},
   "source": [
    "### Tasks\n",
    "0. unifying code: data loading, data structures, imports, \n",
    "\n",
    "1. make the pie plot about num of keypoints and num of images / annotations for each dataset like the following:\n",
    "\n",
    "2.  animal / image size analysis on each bird dataset (histogram). Like this below\n",
    "\n",
    "3. keypoints vs. bounding box analysis (how many boxes look unusual? how many keypoints are occluded vs. not occluded? Try to make histogram and nice analysis)\n",
    "\n",
    "4. visualize the keypoints and bounding box on 10 images from each bird dataset\n",
    "\n",
    "5. Run a k-means clustering to detect outliers and visualize outliers vs. centroid keypoints"
   ]
  },
  {
   "cell_type": "markdown",
   "metadata": {},
   "source": [
    "### TODOs\n",
    "- methods => into scripts\n",
    "    - data loading scripts: data.py\n",
    "    - visualisation/plotting scripts: visualisation.py\n",
    "    - stats script: stats.py\n",
    "    - utilities script: utils.py"
   ]
  },
  {
   "cell_type": "code",
   "execution_count": 8,
   "metadata": {},
   "outputs": [],
   "source": [
    "# imports\n",
    "import matplotlib.ticker as ticker\n",
    "\n",
    "from src.data import *\n",
    "from src.calcs import *\n",
    "from src.utils import *\n",
    "from src.visualisation import *"
   ]
  },
  {
   "cell_type": "code",
   "execution_count": null,
   "metadata": {},
   "outputs": [],
   "source": [
    "# data loading\n",
    "root = \"/home/dikra/media/dikra/PhD/DATA/DLC24_Data/tiny_all_bird_merged_coco\"\n",
    "images = f\"{root}/images\"\n",
    "annotations = f\"{root}/annotations\"\n",
    "train_file = f\"{annotations}/train.json\"\n",
    "\n",
    "data = load_data(train_file)\n",
    "data"
   ]
  },
  {
   "cell_type": "markdown",
   "metadata": {},
   "source": [
    "# Task1"
   ]
  },
  {
   "cell_type": "code",
   "execution_count": null,
   "metadata": {},
   "outputs": [],
   "source": [
    "train_annotations_by_dataset, train_keypoints_by_dataset = count_keypoints_annotations(data)\n",
    "train_annotations_by_dataset, train_keypoints_by_dataset"
   ]
  },
  {
   "cell_type": "code",
   "execution_count": null,
   "metadata": {},
   "outputs": [],
   "source": [
    "# Prepare data for pie charts\n",
    "train_keypoints_labels = list(train_keypoints_by_dataset.keys())\n",
    "train_keypoints_sizes = list(train_keypoints_by_dataset.values())\n",
    "\n",
    "train_annotations_labels = list(train_annotations_by_dataset.keys())\n",
    "train_annotations_sizes = list(train_annotations_by_dataset.values())"
   ]
  },
  {
   "cell_type": "code",
   "execution_count": null,
   "metadata": {},
   "outputs": [],
   "source": [
    "# Plot the pie charts in a grid\n",
    "fig, axs = plt.subplots(2, 2, figsize=(18, 12))\n",
    "\n",
    "# Adjust the spacing at the top to avoid overlap\n",
    "fig.subplots_adjust(top=0.85)\n",
    "\n",
    "# Train keypoints pie chart\n",
    "axs[0, 0].pie(train_keypoints_sizes, labels=train_keypoints_labels, autopct=autopct_format(train_keypoints_sizes), startangle=140, textprops={'fontsize': 10})\n",
    "axs[0, 0].axis('equal')\n",
    "axs[0, 0].set_title('Distribution of Labelled Train Keypoints in Bird Datasets', pad=20)\n",
    "\n",
    "# Train annotations pie chart\n",
    "axs[1, 0].pie(train_annotations_sizes, labels=train_annotations_labels, autopct=autopct_format(train_annotations_sizes), startangle=140, textprops={'fontsize': 10})\n",
    "axs[1, 0].axis('equal')\n",
    "axs[1, 0].set_title('Distribution of Annotated Images in Train  Bird Datasets', pad=20)\n",
    "\n",
    "plt.tight_layout()\n",
    "plt.show()"
   ]
  },
  {
   "cell_type": "markdown",
   "metadata": {},
   "source": [
    "# Task2"
   ]
  },
  {
   "cell_type": "code",
   "execution_count": null,
   "metadata": {},
   "outputs": [],
   "source": [
    "train_proportions_by_dataset = extract_bbox_proportions(data)\n",
    "train_annotations_by_dataset"
   ]
  },
  {
   "cell_type": "code",
   "execution_count": null,
   "metadata": {},
   "outputs": [],
   "source": [
    "# Plot histograms for each dataset in a grid-like format\n",
    "fig, axes = plt.subplots(nrows=2, ncols=2, figsize=(15, 10))\n",
    "axes = axes.flatten()\n",
    "\n",
    "for ax, (dataset, proportions) in zip(axes, train_annotations_by_dataset.items()):\n",
    "    ax.hist(proportions, bins=30, edgecolor='black')\n",
    "    ax.set_title(f'Histogram of Bounding Box Proportions in {dataset}')\n",
    "    ax.set_xlabel('Proportion of Image Size')\n",
    "    ax.set_ylabel('Frequency')\n",
    "    ax.ticklabel_format(style='plain', axis='x')  # Disable scientific notation on x-axis\n",
    "    ax.xaxis.set_major_formatter(ticker.FuncFormatter(lambda x, pos: '{:.2f}'.format(x)))\n",
    "    plt.setp(ax.get_xticklabels(), rotation=45)\n",
    "\n",
    "# Hide any unused subplots\n",
    "for i in range(len(train_annotations_by_dataset), len(axes)):\n",
    "    fig.delaxes(axes[i])\n",
    "\n",
    "plt.tight_layout()\n",
    "plt.show()\n"
   ]
  },
  {
   "cell_type": "code",
   "execution_count": null,
   "metadata": {},
   "outputs": [],
   "source": [
    "train_sum_proportions_by_dataset = sum_bbox_proportions(data)\n",
    "train_sum_proportions_by_dataset"
   ]
  },
  {
   "cell_type": "code",
   "execution_count": null,
   "metadata": {},
   "outputs": [],
   "source": [
    "# Plot histograms for each dataset in a grid-like format\n",
    "fig, axes = plt.subplots(nrows=2, ncols=2, figsize=(15, 10))\n",
    "axes = axes.flatten()\n",
    "\n",
    "for ax, (dataset, proportions) in zip(axes, train_sum_proportions_by_dataset.items()):\n",
    "    ax.hist(proportions, bins=30, edgecolor='black')\n",
    "    ax.set_title(f'Histogram of Bounding Box Proportions in {dataset}')\n",
    "    ax.set_xlabel('Proportion of Image Size')\n",
    "    ax.set_ylabel('Frequency')\n",
    "    ax.ticklabel_format(style='plain', axis='x')  # Disable scientific notation on x-axis\n",
    "    ax.xaxis.set_major_formatter(ticker.FuncFormatter(lambda x, pos: '{:.2f}'.format(x)))\n",
    "    plt.setp(ax.get_xticklabels(), rotation=45)\n",
    "\n",
    "# Hide any unused subplots\n",
    "for i in range(len(train_sum_proportions_by_dataset), len(axes)):\n",
    "    fig.delaxes(axes[i])\n",
    "\n",
    "plt.tight_layout()\n",
    "plt.show()\n"
   ]
  }
 ],
 "metadata": {
  "kernelspec": {
   "display_name": "dlc3",
   "language": "python",
   "name": "python3"
  },
  "language_info": {
   "codemirror_mode": {
    "name": "ipython",
    "version": 3
   },
   "file_extension": ".py",
   "mimetype": "text/x-python",
   "name": "python",
   "nbconvert_exporter": "python",
   "pygments_lexer": "ipython3",
   "version": "3.11.9"
  }
 },
 "nbformat": 4,
 "nbformat_minor": 2
}
