{
 "cells": [
  {
   "cell_type": "markdown",
   "metadata": {},
   "source": [
    "### Tasks\n",
    "0. unifying code: data loading, data structures, imports, \n",
    "\n",
    "1. make the pie plot about num of keypoints and num of images / annotations for each dataset like the following:\n",
    "\n",
    "2.  animal / image size analysis on each bird dataset (histogram). Like this below\n",
    "\n",
    "3. keypoints vs. bounding box analysis (how many boxes look unusual? how many keypoints are occluded vs. not occluded? Try to make histogram and nice analysis)\n",
    "\n",
    "4. visualize the keypoints and bounding box on 10 images from each bird dataset\n",
    "\n",
    "5. Run a k-means clustering to detect outliers and visualize outliers vs. centroid keypoints"
   ]
  },
  {
   "cell_type": "markdown",
   "metadata": {},
   "source": [
    "### TODOs\n",
    "- methods => into scripts\n",
    "    - data loading scripts: data.py\n",
    "    - visualisation/plotting scripts: visualisation.py\n",
    "    - stats script: stats.py\n",
    "    - utilities script: utils.py"
   ]
  },
  {
   "cell_type": "code",
   "execution_count": 8,
   "metadata": {},
   "outputs": [],
   "source": [
    "from src.data import *"
   ]
  },
  {
   "cell_type": "code",
   "execution_count": 4,
   "metadata": {},
   "outputs": [
    {
     "ename": "OSError",
     "evalue": "[Errno 107] Transport endpoint is not connected: '/home/dikra/media/dikra/PhD/DATA/DLC24_Data/tiny_all_bird_merged_coco/annotations/train.json'",
     "output_type": "error",
     "traceback": [
      "\u001b[0;31m---------------------------------------------------------------------------\u001b[0m",
      "\u001b[0;31mOSError\u001b[0m                                   Traceback (most recent call last)",
      "Cell \u001b[0;32mIn[4], line 6\u001b[0m\n\u001b[1;32m      3\u001b[0m annotations \u001b[38;5;241m=\u001b[39m \u001b[38;5;124mf\u001b[39m\u001b[38;5;124m\"\u001b[39m\u001b[38;5;132;01m{\u001b[39;00mroot\u001b[38;5;132;01m}\u001b[39;00m\u001b[38;5;124m/annotations\u001b[39m\u001b[38;5;124m\"\u001b[39m\n\u001b[1;32m      4\u001b[0m train_file \u001b[38;5;241m=\u001b[39m \u001b[38;5;124mf\u001b[39m\u001b[38;5;124m\"\u001b[39m\u001b[38;5;132;01m{\u001b[39;00mannotations\u001b[38;5;132;01m}\u001b[39;00m\u001b[38;5;124m/train.json\u001b[39m\u001b[38;5;124m\"\u001b[39m\n\u001b[0;32m----> 6\u001b[0m data \u001b[38;5;241m=\u001b[39m load_data(train_file)\n\u001b[1;32m      7\u001b[0m data\n",
      "File \u001b[0;32m~/MyHub/Code/DLC24_Hub/DLC_AI2024/analysis_pipeline/data.py:5\u001b[0m, in \u001b[0;36mload_data\u001b[0;34m(data_path)\u001b[0m\n\u001b[1;32m      4\u001b[0m \u001b[38;5;28;01mdef\u001b[39;00m \u001b[38;5;21mload_data\u001b[39m(data_path):\n\u001b[0;32m----> 5\u001b[0m     \u001b[38;5;28;01mwith\u001b[39;00m \u001b[38;5;28mopen\u001b[39m(data_path, \u001b[38;5;124m'\u001b[39m\u001b[38;5;124mr\u001b[39m\u001b[38;5;124m'\u001b[39m) \u001b[38;5;28;01mas\u001b[39;00m file:\n\u001b[1;32m      6\u001b[0m         \u001b[38;5;28;01mreturn\u001b[39;00m json\u001b[38;5;241m.\u001b[39mload(file)\n",
      "\u001b[0;31mOSError\u001b[0m: [Errno 107] Transport endpoint is not connected: '/home/dikra/media/dikra/PhD/DATA/DLC24_Data/tiny_all_bird_merged_coco/annotations/train.json'"
     ]
    }
   ],
   "source": [
    "root = \"/home/dikra/media/dikra/PhD/DATA/DLC24_Data/tiny_all_bird_merged_coco\"\n",
    "images = f\"{root}/images\"\n",
    "annotations = f\"{root}/annotations\"\n",
    "train_file = f\"{annotations}/train.json\"\n",
    "\n",
    "data = load_data(train_file)\n",
    "data"
   ]
  }
 ],
 "metadata": {
  "kernelspec": {
   "display_name": "dlc3",
   "language": "python",
   "name": "python3"
  },
  "language_info": {
   "codemirror_mode": {
    "name": "ipython",
    "version": 3
   },
   "file_extension": ".py",
   "mimetype": "text/x-python",
   "name": "python",
   "nbconvert_exporter": "python",
   "pygments_lexer": "ipython3",
   "version": "3.11.9"
  }
 },
 "nbformat": 4,
 "nbformat_minor": 2
}
