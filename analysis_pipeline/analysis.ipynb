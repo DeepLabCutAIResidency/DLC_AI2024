{
 "cells": [
  {
   "cell_type": "markdown",
   "metadata": {},
   "source": [
    "### Tasks\n",
    "0. unifying code: data loading, data structures, imports, \n",
    "\n",
    " - 0.1. Add a quick EDA section before the viz tasks\n",
    "\n",
    "1. make the pie plot about num of keypoints and num of images / annotations for each dataset like the following:\n",
    "\n",
    "2.  animal / image size analysis on each bird dataset (histogram). Like this below\n",
    "\n",
    "3. keypoints vs. bounding box analysis (how many boxes look unusual? how many keypoints are occluded vs. not occluded? Try to make histogram and nice analysis)\n",
    "\n",
    "4. visualize the keypoints and bounding box on 10 images from each bird dataset\n",
    "\n",
    "5. Run a k-means clustering to detect outliers and visualize outliers vs. centroid keypoints"
   ]
  },
  {
   "cell_type": "markdown",
   "metadata": {},
   "source": [
    "### TODOs\n",
    "- methods => into scripts\n",
    "    - data loading scripts: data.py\n",
    "    - visualisation/plotting scripts: visualisation.py\n",
    "    - stats script: stats.py\n",
    "    - utilities script: utils.py"
   ]
  },
  {
   "cell_type": "code",
   "execution_count": 8,
   "metadata": {},
   "outputs": [],
   "source": [
    "# imports\n",
    "import matplotlib.ticker as ticker\n",
    "from sklearn.preprocessing import StandardScaler\n",
    "from sklearn.decomposition import PCA\n",
    "\n",
    "from src.data import *\n",
    "from src.calcs import *\n",
    "from src.utils import *\n",
    "from src.visualisation import *"
   ]
  },
  {
   "cell_type": "code",
   "execution_count": null,
   "metadata": {},
   "outputs": [],
   "source": [
    "# data loading\n",
    "root = \"/home/dikra/media/dikra/PhD/DATA/DLC24_Data/tiny_all_bird_merged_coco\"\n",
    "images = f\"{root}/images\"\n",
    "annotations = f\"{root}/annotations\"\n",
    "train_file = f\"{annotations}/train.json\"\n",
    "test_file = f\"{annotations}/test.json\"\n",
    "\n",
    "train_data = load_data(train_file)\n",
    "test_data = load_data(test_file)"
   ]
  },
  {
   "cell_type": "markdown",
   "metadata": {},
   "source": [
    "# EDA: Exploratory Data Analysis \n",
    "Print number of labeled images, #of annotated keypoints, labels of bodyparts,... "
   ]
  },
  {
   "cell_type": "markdown",
   "metadata": {},
   "source": [
    "# Task1"
   ]
  },
  {
   "cell_type": "code",
   "execution_count": null,
   "metadata": {},
   "outputs": [],
   "source": [
    "train_annotations_by_dataset, train_keypoints_by_dataset = count_keypoints_annotations(data)\n",
    "train_annotations_by_dataset, train_keypoints_by_dataset"
   ]
  },
  {
   "cell_type": "code",
   "execution_count": null,
   "metadata": {},
   "outputs": [],
   "source": [
    "# Prepare data for pie charts\n",
    "train_keypoints_labels = list(train_keypoints_by_dataset.keys())\n",
    "train_keypoints_sizes = list(train_keypoints_by_dataset.values())\n",
    "\n",
    "train_annotations_labels = list(train_annotations_by_dataset.keys())\n",
    "train_annotations_sizes = list(train_annotations_by_dataset.values())"
   ]
  },
  {
   "cell_type": "code",
   "execution_count": null,
   "metadata": {},
   "outputs": [],
   "source": [
    "# Plot the pie charts in a grid\n",
    "fig, axs = plt.subplots(2, 2, figsize=(18, 12))\n",
    "\n",
    "# Adjust the spacing at the top to avoid overlap\n",
    "fig.subplots_adjust(top=0.85)\n",
    "\n",
    "# Train keypoints pie chart\n",
    "axs[0, 0].pie(train_keypoints_sizes, labels=train_keypoints_labels, autopct=autopct_format(train_keypoints_sizes), startangle=140, textprops={'fontsize': 10})\n",
    "axs[0, 0].axis('equal')\n",
    "axs[0, 0].set_title('Distribution of Labelled Train Keypoints in Bird Datasets', pad=20)\n",
    "\n",
    "# Train annotations pie chart\n",
    "axs[1, 0].pie(train_annotations_sizes, labels=train_annotations_labels, autopct=autopct_format(train_annotations_sizes), startangle=140, textprops={'fontsize': 10})\n",
    "axs[1, 0].axis('equal')\n",
    "axs[1, 0].set_title('Distribution of Annotated Images in Train  Bird Datasets', pad=20)\n",
    "\n",
    "plt.tight_layout()\n",
    "plt.show()"
   ]
  },
  {
   "cell_type": "markdown",
   "metadata": {},
   "source": [
    "# Task2"
   ]
  },
  {
   "cell_type": "code",
   "execution_count": null,
   "metadata": {},
   "outputs": [],
   "source": [
    "train_proportions_by_dataset = extract_bbox_proportions(train_data)\n",
    "test_proportions_by_dataset = extract_bbox_proportions(test_data)\n",
    "train_annotations_by_dataset, test_proportions_by_dataset"
   ]
  },
  {
   "cell_type": "code",
   "execution_count": null,
   "metadata": {},
   "outputs": [],
   "source": [
    "# Combine train and test proportions\n",
    "combined_proportions_by_dataset = {}\n",
    "for dataset in set(train_proportions_by_dataset.keys()).union(test_proportions_by_dataset.keys()):\n",
    "    combined_proportions_by_dataset[dataset] = train_proportions_by_dataset.get(dataset, []) + test_proportions_by_dataset.get(dataset, [])\n",
    "\n",
    "\n",
    "# Plot histograms for each dataset in a grid-like format\n",
    "fig, axes = plt.subplots(nrows=2, ncols=2, figsize=(15, 10))\n",
    "axes = axes.flatten()\n",
    "\n",
    "for ax, (dataset, proportions) in zip(axes, combined_proportions_by_dataset.items()):\n",
    "    ax.hist(proportions, bins=30, edgecolor='black')\n",
    "    ax.set_title(f'Histogram of Bounding Box Proportions in {dataset}')\n",
    "    ax.set_xlabel('Proportion of Image Size')\n",
    "    ax.set_ylabel('Frequency')\n",
    "    ax.ticklabel_format(style='plain', axis='x')  # Disable scientific notation on x-axis\n",
    "    ax.xaxis.set_major_formatter(ticker.FuncFormatter(lambda x, pos: '{:.2f}'.format(x)))\n",
    "    plt.setp(ax.get_xticklabels(), rotation=45)\n",
    "\n",
    "# Hide any unused subplots\n",
    "for i in range(len(combined_proportions_by_dataset), len(axes)):\n",
    "    fig.delaxes(axes[i])\n",
    "\n",
    "plt.tight_layout()\n",
    "plt.show()\n"
   ]
  },
  {
   "cell_type": "code",
   "execution_count": null,
   "metadata": {},
   "outputs": [],
   "source": [
    "train_sum_proportions_by_dataset = sum_bbox_proportions(train_data)\n",
    "test_sum_proportions_by_dataset = sum_bbox_proportions(test_data)\n",
    "train_sum_proportions_by_dataset, test_sum_proportions_by_dataset"
   ]
  },
  {
   "cell_type": "code",
   "execution_count": null,
   "metadata": {},
   "outputs": [],
   "source": [
    "# Combine train and test proportions\n",
    "combined_sum_proportions_by_dataset = {}\n",
    "for dataset in set(train_sum_proportions_by_dataset.keys()).union(test_sum_proportions_by_dataset.keys()):\n",
    "    combined_sum_proportions_by_dataset[dataset] = train_sum_proportions_by_dataset.get(dataset, []) + test_sum_proportions_by_dataset.get(dataset, [])\n",
    "\n",
    "\n",
    "# Plot histograms for each dataset in a grid-like format\n",
    "fig, axes = plt.subplots(nrows=2, ncols=2, figsize=(15, 10))\n",
    "axes = axes.flatten()\n",
    "\n",
    "for ax, (dataset, proportions) in zip(axes, combined_sum_proportions_by_dataset.items()):\n",
    "    ax.hist(proportions, bins=30, edgecolor='black')\n",
    "    ax.set_title(f'Histogram of Bounding Box Proportions in {dataset}')\n",
    "    ax.set_xlabel('Proportion of Image Size')\n",
    "    ax.set_ylabel('Frequency')\n",
    "    ax.ticklabel_format(style='plain', axis='x')  # Disable scientific notation on x-axis\n",
    "    ax.xaxis.set_major_formatter(ticker.FuncFormatter(lambda x, pos: '{:.2f}'.format(x)))\n",
    "    plt.setp(ax.get_xticklabels(), rotation=45)\n",
    "\n",
    "# Hide any unused subplots\n",
    "for i in range(len(combined_sum_proportions_by_dataset), len(axes)):\n",
    "    fig.delaxes(axes[i])\n",
    "\n",
    "plt.tight_layout()\n",
    "plt.show()\n"
   ]
  },
  {
   "cell_type": "markdown",
   "metadata": {},
   "source": [
    "# Task 3"
   ]
  },
  {
   "cell_type": "code",
   "execution_count": null,
   "metadata": {},
   "outputs": [],
   "source": [
    "bbox_widths, bbox_heights = calculate_width_height(train_data)\n",
    "plot_width_height(bbox_widths, bbox_heights)"
   ]
  },
  {
   "cell_type": "code",
   "execution_count": null,
   "metadata": {},
   "outputs": [],
   "source": [
    "bbox_area = calculate_area(bbox_widths, bbox_heights)\n",
    "plot_area(bbox_area)"
   ]
  },
  {
   "cell_type": "code",
   "execution_count": null,
   "metadata": {},
   "outputs": [],
   "source": [
    "bbox_ratio = calculate_ratio(bbox_widths, bbox_heights)\n",
    "plot_ratio(bbox_ratio)"
   ]
  },
  {
   "cell_type": "code",
   "execution_count": null,
   "metadata": {},
   "outputs": [],
   "source": [
    "percent_visible, percent_occluded, percent_unlabeled = compute_keypoints(train_data)\n",
    "plot_keypoint_percent(percent_visible, percent_occluded, percent_unlabeled)"
   ]
  },
  {
   "cell_type": "markdown",
   "metadata": {},
   "source": [
    "# Task 5"
   ]
  },
  {
   "cell_type": "code",
   "execution_count": null,
   "metadata": {},
   "outputs": [],
   "source": [
    "all_keypoints = get_all_keypoints(train_data)  # load all keypoint annotations\n",
    "parsed_poses = keypoint2pose(all_keypoints)  # parse keypoint annotations into (x, y, visibility) triples\n",
    "parsed_poses.shape"
   ]
  },
  {
   "cell_type": "code",
   "execution_count": null,
   "metadata": {},
   "outputs": [],
   "source": [
    "poses_df"
   ]
  },
  {
   "cell_type": "code",
   "execution_count": 11,
   "metadata": {},
   "outputs": [
    {
     "name": "stdout",
     "output_type": "stream",
     "text": [
      "2\n",
      "5\n",
      "8\n",
      "11\n",
      "14\n",
      "17\n",
      "20\n",
      "23\n",
      "26\n",
      "29\n",
      "32\n",
      "35\n"
     ]
    }
   ],
   "source": [
    "for i in range(0,36, 3):\n",
    "    # print(i)\n",
    "    \n",
    "    print(i+2)"
   ]
  }
 ],
 "metadata": {
  "kernelspec": {
   "display_name": "dlc3",
   "language": "python",
   "name": "python3"
  },
  "language_info": {
   "codemirror_mode": {
    "name": "ipython",
    "version": 3
   },
   "file_extension": ".py",
   "mimetype": "text/x-python",
   "name": "python",
   "nbconvert_exporter": "python",
   "pygments_lexer": "ipython3",
   "version": "3.11.9"
  }
 },
 "nbformat": 4,
 "nbformat_minor": 2
}
