{
 "cells": [
  {
   "cell_type": "markdown",
   "metadata": {},
   "source": [
    "# DLC Live PyTorch Demo"
   ]
  },
  {
   "cell_type": "code",
   "execution_count": 2,
   "metadata": {},
   "outputs": [],
   "source": [
    "%load_ext autoreload\n",
    "%autoreload 2"
   ]
  },
  {
   "cell_type": "code",
   "execution_count": 7,
   "metadata": {},
   "outputs": [],
   "source": [
    "from dlclive import DLCLive\n",
    "from dlclive import Display\n",
    "import cv2\n",
    "import numpy as np\n",
    "from pathlib import Path\n",
    "import time\n",
    "from onnxruntime import quantization\n",
    "import onnx\n",
    "import onnxruntime as ort\n",
    "import glob\n",
    "import ipywidgets as widgets\n",
    "from IPython.display import display\n",
    "import torch\n",
    "import json\n",
    "from onnxconverter_common import float16\n",
    "import matplotlib.pyplot as plt\n",
    "from dlclive.benchmark_pytorch import analyze_video\n",
    "import pandas as pd\n",
    "import math\n",
    "import os\n",
    "import gdown\n",
    "import zipfile\n",
    "from dlclive.live_inference import analyze_live_video\n",
    "\n",
    "from deeplabcut.pose_estimation_pytorch.config import read_config_as_dict\n",
    "from deeplabcut.pose_estimation_pytorch.models import PoseModel"
   ]
  },
  {
   "cell_type": "markdown",
   "metadata": {},
   "source": [
    "# Setup"
   ]
  },
  {
   "cell_type": "code",
   "execution_count": null,
   "metadata": {},
   "outputs": [],
   "source": [
    "#Demo code for downloading the dataset directly into the project folder - if we want to include this, it should be moved to top of notebook\n",
    "\n",
    "# Define projects directory\n",
    "project_directory = \"/media/dikra/PhD/DATA/DLC24_Data/test_drive_down\"\n",
    "\n",
    "# Google Drive file ID and destination path\n",
    "file_id = \"16TR_3mBtJMpMrP-xEJucVnDOVgBIYJuD\"\n",
    "destination = os.path.join(project_directory, \"downloaded_file.zip\")\n",
    "\n",
    "print(destination)\n",
    "\n",
    "# Create project directory if it doesn't exist\n",
    "os.makedirs(project_directory, exist_ok=True)\n",
    "\n",
    "# Download the file from Google Drive\n",
    "gdown.download(f\"https://drive.google.com/uc?id={file_id}\", destination, quiet=False)\n",
    "\n",
    "# Unzip the file\n",
    "with zipfile.ZipFile(destination, 'r') as zip_ref:\n",
    "    zip_ref.extractall(project_directory)\n",
    "\n",
    "# Optional: Remove the zip file after extraction\n",
    "os.remove(destination)\n",
    "\n",
    "print(\"Download and extraction completed.\")\n"
   ]
  },
  {
   "cell_type": "code",
   "execution_count": 9,
   "metadata": {},
   "outputs": [],
   "source": [
    "# Define root directory\n",
    "root = os.path.join(project_directory, \"dlc-live-dummy\")"
   ]
  },
  {
   "cell_type": "code",
   "execution_count": 10,
   "metadata": {},
   "outputs": [
    {
     "data": {
      "application/vnd.jupyter.widget-view+json": {
       "model_id": "60413de3e7184624b6d5f1b01ca3f531",
       "version_major": 2,
       "version_minor": 0
      },
      "text/plain": [
       "Dropdown(description='Choose a Project!', options=('fly-kevin', 'hand-track', 'miceJun18_dekr_w32', 'miceJun18…"
      ]
     },
     "metadata": {},
     "output_type": "display_data"
    }
   ],
   "source": [
    "projects = [d for d in next(os.walk(root))[1]]\n",
    "project_selection = widgets.Dropdown(\n",
    "    options=projects,\n",
    "    value=projects[0],\n",
    "    description=\"Choose a Project!\",\n",
    "    disabled=False,\n",
    ")\n",
    "display(project_selection)"
   ]
  },
  {
   "cell_type": "code",
   "execution_count": 11,
   "metadata": {},
   "outputs": [],
   "source": [
    "# Get working directory and read model pytorch config file\n",
    "working_dir = os.path.join(root, project_selection.value)\n",
    "model_cfg = read_config_as_dict(Path(working_dir) / \"pytorch_config.yaml\")"
   ]
  },
  {
   "cell_type": "code",
   "execution_count": 12,
   "metadata": {},
   "outputs": [
    {
     "data": {
      "application/vnd.jupyter.widget-view+json": {
       "model_id": "0480b449022d4ac6aa35ddda7b74d28c",
       "version_major": 2,
       "version_minor": 0
      },
      "text/plain": [
       "Dropdown(description='Choose your snapshot!', options=('snapshot-200.pt',), value='snapshot-200.pt')"
      ]
     },
     "metadata": {},
     "output_type": "display_data"
    }
   ],
   "source": [
    "snapshots = glob.glob(os.path.normpath(working_dir + \"/*.pt*\"))\n",
    "snapshots = [s.split(\"/\")[-1] for s in snapshots]\n",
    "snapshot_selection = widgets.Dropdown(\n",
    "    options=snapshots,\n",
    "    value=snapshots[0],\n",
    "    description=\"Choose your snapshot!\",\n",
    "    disabled=False,\n",
    ")\n",
    "display(snapshot_selection)"
   ]
  },
  {
   "cell_type": "markdown",
   "metadata": {},
   "source": [
    "# Model exporting"
   ]
  },
  {
   "cell_type": "markdown",
   "metadata": {},
   "source": [
    "### PyTorch to ONNX"
   ]
  },
  {
   "cell_type": "code",
   "execution_count": 71,
   "metadata": {},
   "outputs": [],
   "source": [
    "# Replace with your onnx model name\n",
    "onnx_model_name = \"resnet\" \n",
    "onnx_model_path = os.path.join(working_dir, str(onnx_model_name + \".onnx\"))"
   ]
  },
  {
   "cell_type": "code",
   "execution_count": 72,
   "metadata": {},
   "outputs": [],
   "source": [
    "# Get device\n",
    "device = \"cuda\" if torch.cuda.is_available() else \"cpu\"\n",
    "\n",
    "snapshot_path = os.path.join(working_dir, snapshot_selection.value)\n",
    "# Create pretrained DLC3 PoseModel from snapshot  \n",
    "model = PoseModel.build(model_cfg[\"model\"])\n",
    "weights = torch.load(snapshot_path, map_location=device)\n",
    "model.load_state_dict(weights[\"model\"])\n",
    "\n",
    "# Random dummy input\n",
    "dummy_input = torch.zeros((1, 3, 658, 302))\n",
    "\n",
    "# Export PyTorch model to ONNX\n",
    "torch.onnx.export(\n",
    "    model,\n",
    "    dummy_input,\n",
    "    onnx_model_path,\n",
    "    verbose=False,\n",
    "    input_names=[\"input\"],\n",
    "    dynamic_axes={\"input\": {0: \"batch_size\", 2: \"height\", 3: \"width\"}},\n",
    ")\n",
    "#* Note: batch_size, height, and width dimensions are dynamic, \n",
    "#* i.e. the onnx model can take different batch sizes, heights and width"
   ]
  },
  {
   "cell_type": "markdown",
   "metadata": {},
   "source": [
    "### ONNX fp32 to ONNX fp16"
   ]
  },
  {
   "cell_type": "code",
   "execution_count": null,
   "metadata": {},
   "outputs": [],
   "source": [
    "# FP32 to FP16 conversion\n",
    "onnx_fp16_model_name = onnx_model_name + \"_fp16.onnx\"\n",
    "onnx_fp16_model_path = os.path.join(working_dir, onnx_fp16_model_name)\n",
    "\n",
    "model_fp32 = onnx.load(onnx_model_path)\n",
    "model_fp16 = float16.convert_float_to_float16(model_fp32)\n",
    "onnx.save(model_fp16, onnx_fp16_model_path)"
   ]
  },
  {
   "cell_type": "markdown",
   "metadata": {},
   "source": [
    "# Experiments"
   ]
  },
  {
   "cell_type": "markdown",
   "metadata": {},
   "source": [
    "##### Experiment setup"
   ]
  },
  {
   "cell_type": "code",
   "execution_count": 14,
   "metadata": {},
   "outputs": [
    {
     "data": {
      "application/vnd.jupyter.widget-view+json": {
       "model_id": "f7d0db8780fb40129c11a8435dd56c7e",
       "version_major": 2,
       "version_minor": 0
      },
      "text/plain": [
       "Dropdown(description='ModelType', options=('pytorch', 'onnx'), value='pytorch')"
      ]
     },
     "metadata": {},
     "output_type": "display_data"
    },
    {
     "data": {
      "application/vnd.jupyter.widget-view+json": {
       "model_id": "28951eafce6b42ecb9f7726a6c47db90",
       "version_major": 2,
       "version_minor": 0
      },
      "text/plain": [
       "Dropdown(description='Device', options=('cpu', 'cuda', 'tensorrt'), value='cpu')"
      ]
     },
     "metadata": {},
     "output_type": "display_data"
    },
    {
     "data": {
      "application/vnd.jupyter.widget-view+json": {
       "model_id": "d7b6cd521d374ce6a3aa5cfd5463d859",
       "version_major": 2,
       "version_minor": 0
      },
      "text/plain": [
       "RadioButtons(description='Precision', options=('FP32', 'FP16'), value='FP32')"
      ]
     },
     "metadata": {},
     "output_type": "display_data"
    }
   ],
   "source": [
    "# Modeling settings\n",
    "model_types = [\"pytorch\", \"onnx\"]\n",
    "devices = [\"cpu\", \"cuda\", \"tensorrt\"]\n",
    "\n",
    "modeltype_selection = widgets.Dropdown(\n",
    "    options=model_types,\n",
    "    value=model_types[0],\n",
    "    description=\"ModelType\",\n",
    "    disabled=False,\n",
    ")\n",
    "device_selection = widgets.Dropdown(\n",
    "    options=devices,\n",
    "    value=devices[0],\n",
    "    description=\"Device\",\n",
    "    disabled=False,\n",
    ")\n",
    "model_precision = widgets.RadioButtons(options=[\"FP32\", \"FP16\"], description=\"Precision\")\n",
    "display(modeltype_selection, device_selection, model_precision)"
   ]
  },
  {
   "cell_type": "code",
   "execution_count": 15,
   "metadata": {},
   "outputs": [
    {
     "data": {
      "application/vnd.jupyter.widget-view+json": {
       "model_id": "c39db725b8fb4634ab424d6bc8a6853c",
       "version_major": 2,
       "version_minor": 0
      },
      "text/plain": [
       "RadioButtons(description='Display?', options=(True, False), value=True)"
      ]
     },
     "metadata": {},
     "output_type": "display_data"
    }
   ],
   "source": [
    "display_choice = widgets.RadioButtons(description=\"Display?\", options=[True, False])\n",
    "display(display_choice)"
   ]
  },
  {
   "cell_type": "code",
   "execution_count": 95,
   "metadata": {},
   "outputs": [],
   "source": [
    "# Display settings\n",
    "#* Replace the following with your display settings\n",
    "resize_ratio = 0.25\n",
    "# cropping = [50, 250, 100, 450]\n",
    "# dynamic_cropping = (True, 0.5, 10)"
   ]
  },
  {
   "cell_type": "markdown",
   "metadata": {},
   "source": [
    "### 1-Frame inference"
   ]
  },
  {
   "cell_type": "code",
   "execution_count": 16,
   "metadata": {},
   "outputs": [
    {
     "data": {
      "application/vnd.jupyter.widget-view+json": {
       "model_id": "77d045bb9fc34b339a308c9203bdffa7",
       "version_major": 2,
       "version_minor": 0
      },
      "text/plain": [
       "Dropdown(description='Test Image!', options=('img023.png', 'img002.png', 'img003.png', 'img004.png', 'img006.p…"
      ]
     },
     "metadata": {},
     "output_type": "display_data"
    }
   ],
   "source": [
    "test_images = glob.glob(os.path.normpath(working_dir + \"/*.png\"))\n",
    "test_images.extend(glob.glob(os.path.normpath(working_dir + \"/*.jpg\")))\n",
    "test_images = [t.split(\"/\")[-1] for t in test_images]\n",
    "\n",
    "test_img_selection = widgets.Dropdown(\n",
    "    options=test_images,\n",
    "    value=test_images[0],\n",
    "    description=\"Test Image!\",\n",
    "    disabled=False,\n",
    ")\n",
    "display(test_img_selection)"
   ]
  },
  {
   "cell_type": "code",
   "execution_count": 17,
   "metadata": {},
   "outputs": [
    {
     "data": {
      "text/plain": [
       "<matplotlib.image.AxesImage at 0x7ee83e24b790>"
      ]
     },
     "execution_count": 17,
     "metadata": {},
     "output_type": "execute_result"
    },
    {
     "data": {
      "image/png": "[encoded data removed]",
      "text/plain": [
       "<Figure size 640x480 with 1 Axes>"
      ]
     },
     "metadata": {},
     "output_type": "display_data"
    }
   ],
   "source": [
    "test_image_path = os.path.join(working_dir, test_img_selection.value)\n",
    "img = cv2.imread(test_image_path)\n",
    "plt.imshow(img)"
   ]
  },
  {
   "cell_type": "code",
   "execution_count": 79,
   "metadata": {},
   "outputs": [],
   "source": [
    "def get_model_size(model_path):\n",
    "    \"\"\"\n",
    "    Calculates the size of an ONNX model in bytes.\n",
    "\n",
    "    Args:\n",
    "        model_path (str): The path to the ONNX model file.\n",
    "\n",
    "    Returns:\n",
    "        int: The size of the model in bytes.\n",
    "    \"\"\"\n",
    "    if \".onnx\" in model_path:\n",
    "        model = onnx.load(model_path)\n",
    "        size_bytes = len(model.SerializeToString())\n",
    "    elif \".pt\" in model_path:\n",
    "        model = torch.load(model_path)\n",
    "        params = list(model.parameters())\n",
    "        size_bytes = sum([p.numel() * p.element_size() for p in params])\n",
    "\n",
    "    # Convert to KB, MB, GB, etc.\n",
    "    if size_bytes < 1024:\n",
    "        size_str = f\"{size_bytes} B\"\n",
    "    elif size_bytes < 1024 * 1024:\n",
    "        size_str = f\"{size_bytes / 1024:.2f} KB\"\n",
    "    elif size_bytes < 1024 * 1024 * 1024:\n",
    "        size_str = f\"{size_bytes / (1024 * 1024):.2f} MB\"\n",
    "    else:\n",
    "        size_str = f\"{size_bytes / (1024 * 1024 * 1024):.2f} GB\"\n",
    "\n",
    "    return size_str"
   ]
  },
  {
   "cell_type": "code",
   "execution_count": 80,
   "metadata": {},
   "outputs": [
    {
     "data": {
      "text/plain": [
       "'45.50 MB'"
      ]
     },
     "execution_count": 80,
     "metadata": {},
     "output_type": "execute_result"
    }
   ],
   "source": [
    "\n",
    "get_model_size(\n",
    "    working_dir + \"/superbird_ssdlite_fp16.onnx\"\n",
    ")"
   ]
  },
  {
   "cell_type": "code",
   "execution_count": 81,
   "metadata": {},
   "outputs": [
    {
     "name": "stdout",
     "output_type": "stream",
     "text": [
      "Inference time (ms) 0.0057392120361328125\n"
     ]
    },
    {
     "data": {
      "text/plain": [
       "{'poses': tensor([[[[3.7513e+02, 2.1498e+02, 5.2185e-01],\n",
       "           [6.9157e+02, 1.5657e+02, 7.1598e-01],\n",
       "           [4.7000e+02, 5.2036e+02, 8.0091e-01],\n",
       "           [4.7312e+02, 3.0151e+02, 5.3369e-01],\n",
       "           [5.8325e+02, 7.4985e+01, 5.3904e-01],\n",
       "           [6.2762e+02, 1.0897e+02, 5.6578e-01],\n",
       "           [6.4417e+02, 1.1509e+02, 3.3512e-01],\n",
       "           [5.5324e+02, 5.8100e+02, 4.9971e-01],\n",
       "           [1.2265e+02, 4.6527e+02, 3.8939e-01],\n",
       "           [4.2940e+02, 1.3316e+02, 2.9424e-01],\n",
       "           [4.6824e+02, 1.0223e+02, 8.0729e-01],\n",
       "           [5.6398e+02, 1.1558e+02, 8.2038e-01],\n",
       "           [3.3294e+02, 4.8450e+02, 3.2683e-01],\n",
       "           [7.5347e+01, 5.7726e+02, 4.2790e-01],\n",
       "           [6.2894e+02, 2.5916e+02, 2.0379e-01],\n",
       "           [5.9189e+02, 7.1314e+02, 8.4527e-01],\n",
       "           [6.1437e+02, 1.7189e+02, 6.1191e-01],\n",
       "           [4.6273e+02, 1.0904e+02, 3.9523e-01],\n",
       "           [7.0053e+01, 5.8628e+02, 4.6373e-01],\n",
       "           [6.0356e+02, 7.0800e+02, 7.1994e-01],\n",
       "           [3.7804e+02, 2.0732e+02, 6.5243e-01],\n",
       "           [3.7629e+02, 2.2036e+02, 3.1461e-01],\n",
       "           [6.0710e+02, 4.4930e+02, 1.2723e-01],\n",
       "           [3.3081e+02, 4.8383e+02, 3.3407e-01],\n",
       "           [5.5575e+02, 5.8874e+02, 4.4939e-01],\n",
       "           [5.3770e+02, 2.5652e+02, 2.7384e-01],\n",
       "           [6.3478e+02, 2.6367e+02, 2.9339e-01],\n",
       "           [6.2989e+02, 1.4552e+02, 6.7568e-01],\n",
       "           [5.5182e+02, 5.7658e+02, 3.1810e-01],\n",
       "           [3.9384e+02, 5.1582e+02, 2.1290e-01],\n",
       "           [1.8321e+02, 4.8511e+02, 1.8154e-01],\n",
       "           [4.7437e+02, 9.2363e+01, 5.5819e-01],\n",
       "           [3.9980e+02, 1.8873e+02, 3.6411e-01],\n",
       "           [6.1388e+02, 2.4156e+02, 1.8598e-01],\n",
       "           [6.1211e+02, 2.0285e+02, 1.7734e-01],\n",
       "           [4.9815e+02, 7.5679e+01, 2.9358e-01],\n",
       "           [3.7123e+02, 2.1621e+02, 4.1121e-01],\n",
       "           [3.6282e+02, 2.2058e+02, 1.6290e-01],\n",
       "           [3.6718e+02, 2.1868e+02, 5.5287e-01],\n",
       "           [4.5815e+02, 4.3543e+02, 2.0566e-01],\n",
       "           [6.4923e+02, 1.2471e+02, 4.3189e-01],\n",
       "           [6.9010e+02, 1.5344e+02, 6.0768e-01]]]])}"
      ]
     },
     "execution_count": 81,
     "metadata": {},
     "output_type": "execute_result"
    }
   ],
   "source": [
    "dlc_live = DLCLive(\n",
    "    path=working_dir,\n",
    "    model_type=modeltype_selection.value,\n",
    "    device=device_selection.value,\n",
    "    display=display_choice.value,\n",
    "    snapshot=snapshot_selection.value,\n",
    "    resize=resize_ratio,\n",
    "    # cropping=cropping,\n",
    "    # dynamic=dynamic_cropping\n",
    "    precision=model_precision.value,\n",
    ")\n",
    "\n",
    "onnx_pose, inf_time = dlc_live.init_inference(frame=img)\n",
    "print(f\"Inference time (ms)\", inf_time)\n",
    "onnx_pose"
   ]
  },
  {
   "cell_type": "code",
   "execution_count": 33,
   "metadata": {},
   "outputs": [
    {
     "name": "stdout",
     "output_type": "stream",
     "text": [
      "Inference time (ms) 0.012070894241333008\n"
     ]
    },
    {
     "data": {
      "text/plain": [
       "{'poses': tensor([[[[3.7513e+02, 2.1498e+02, 5.2185e-01],\n",
       "           [6.9157e+02, 1.5657e+02, 7.1598e-01],\n",
       "           [4.7000e+02, 5.2036e+02, 8.0091e-01],\n",
       "           [4.7312e+02, 3.0151e+02, 5.3369e-01],\n",
       "           [5.8325e+02, 7.4985e+01, 5.3904e-01],\n",
       "           [6.2762e+02, 1.0897e+02, 5.6578e-01],\n",
       "           [6.4417e+02, 1.1509e+02, 3.3512e-01],\n",
       "           [5.5324e+02, 5.8100e+02, 4.9971e-01],\n",
       "           [1.2265e+02, 4.6527e+02, 3.8939e-01],\n",
       "           [4.2940e+02, 1.3316e+02, 2.9424e-01],\n",
       "           [4.6824e+02, 1.0223e+02, 8.0729e-01],\n",
       "           [5.6398e+02, 1.1558e+02, 8.2038e-01],\n",
       "           [3.3294e+02, 4.8450e+02, 3.2683e-01],\n",
       "           [7.5347e+01, 5.7726e+02, 4.2790e-01],\n",
       "           [6.2894e+02, 2.5916e+02, 2.0379e-01],\n",
       "           [5.9189e+02, 7.1314e+02, 8.4527e-01],\n",
       "           [6.1437e+02, 1.7189e+02, 6.1191e-01],\n",
       "           [4.6273e+02, 1.0904e+02, 3.9523e-01],\n",
       "           [7.0053e+01, 5.8628e+02, 4.6373e-01],\n",
       "           [6.0356e+02, 7.0800e+02, 7.1994e-01],\n",
       "           [3.7804e+02, 2.0732e+02, 6.5243e-01],\n",
       "           [3.7629e+02, 2.2036e+02, 3.1461e-01],\n",
       "           [6.0710e+02, 4.4930e+02, 1.2723e-01],\n",
       "           [3.3081e+02, 4.8383e+02, 3.3407e-01],\n",
       "           [5.5575e+02, 5.8874e+02, 4.4939e-01],\n",
       "           [5.3770e+02, 2.5652e+02, 2.7384e-01],\n",
       "           [6.3478e+02, 2.6367e+02, 2.9339e-01],\n",
       "           [6.2989e+02, 1.4552e+02, 6.7568e-01],\n",
       "           [5.5182e+02, 5.7658e+02, 3.1810e-01],\n",
       "           [3.9384e+02, 5.1582e+02, 2.1290e-01],\n",
       "           [1.8321e+02, 4.8511e+02, 1.8154e-01],\n",
       "           [4.7437e+02, 9.2363e+01, 5.5819e-01],\n",
       "           [3.9980e+02, 1.8873e+02, 3.6411e-01],\n",
       "           [6.1388e+02, 2.4156e+02, 1.8598e-01],\n",
       "           [6.1211e+02, 2.0285e+02, 1.7734e-01],\n",
       "           [4.9815e+02, 7.5679e+01, 2.9358e-01],\n",
       "           [3.7123e+02, 2.1621e+02, 4.1121e-01],\n",
       "           [3.6282e+02, 2.2058e+02, 1.6290e-01],\n",
       "           [3.6718e+02, 2.1868e+02, 5.5287e-01],\n",
       "           [4.5815e+02, 4.3543e+02, 2.0566e-01],\n",
       "           [6.4923e+02, 1.2471e+02, 4.3189e-01],\n",
       "           [6.9010e+02, 1.5344e+02, 6.0768e-01]]]])}"
      ]
     },
     "execution_count": 33,
     "metadata": {},
     "output_type": "execute_result"
    }
   ],
   "source": [
    "onnx_pose, inf_time = dlc_live.get_pose(frame=img)\n",
    "print(f\"Inference time (ms)\", inf_time)\n",
    "onnx_pose"
   ]
  },
  {
   "cell_type": "code",
   "execution_count": 82,
   "metadata": {},
   "outputs": [],
   "source": [
    "dlc_live.display.destroy()"
   ]
  },
  {
   "cell_type": "markdown",
   "metadata": {},
   "source": [
    "### Multi-Frame inference + Metric computation\n",
    "\n",
    "Note: Available for Fly Kevin dataset only\n",
    "\n",
    "Link to dataset: https://drive.google.com/drive/folders/1EDBJ-58Tn-B17nBUGImP1mRxh55UfRvr?usp=drive_link"
   ]
  },
  {
   "cell_type": "code",
   "execution_count": 18,
   "metadata": {},
   "outputs": [],
   "source": [
    "dlc_live = DLCLive(\n",
    "    path=\"/media/dikra/PhD/DATA/DLC24_Data/Kaggle_progress/train-2001-eval-all/kaggle/working/fly-kevin-2019-03-16/Fly-Kevin-2019-03-16/dlc-models-pytorch/iteration-1/FlyFeb19-trainset80shuffle1001/train\",\n",
    "    model_type=modeltype_selection.value,\n",
    "    device=device_selection.value,\n",
    "    display=display_choice.value,\n",
    "    snapshot=snapshot_selection.value,\n",
    "    # resize=resize_ratio,\n",
    "    # cropping=cropping,\n",
    "    # dynamic=dynamic_cropping\n",
    "    # precision=model_precision.value,\n",
    ")"
   ]
  },
  {
   "cell_type": "code",
   "execution_count": 19,
   "metadata": {},
   "outputs": [
    {
     "data": {
      "text/html": [
       "<div>\n",
       "<style scoped>\n",
       "    .dataframe tbody tr th:only-of-type {\n",
       "        vertical-align: middle;\n",
       "    }\n",
       "\n",
       "    .dataframe tbody tr th {\n",
       "        vertical-align: top;\n",
       "    }\n",
       "\n",
       "    .dataframe thead th {\n",
       "        text-align: right;\n",
       "    }\n",
       "</style>\n",
       "<table border=\"1\" class=\"dataframe\">\n",
       "  <thead>\n",
       "    <tr style=\"text-align: right;\">\n",
       "      <th></th>\n",
       "      <th>0</th>\n",
       "      <th>1</th>\n",
       "      <th>2</th>\n",
       "      <th>3</th>\n",
       "      <th>4</th>\n",
       "      <th>5</th>\n",
       "      <th>6</th>\n",
       "      <th>7</th>\n",
       "      <th>8</th>\n",
       "      <th>9</th>\n",
       "      <th>...</th>\n",
       "      <th>41</th>\n",
       "      <th>42</th>\n",
       "      <th>43</th>\n",
       "      <th>44</th>\n",
       "      <th>45</th>\n",
       "      <th>46</th>\n",
       "      <th>47</th>\n",
       "      <th>48</th>\n",
       "      <th>49</th>\n",
       "      <th>50</th>\n",
       "    </tr>\n",
       "  </thead>\n",
       "  <tbody>\n",
       "    <tr>\n",
       "      <th>0</th>\n",
       "      <td>coords</td>\n",
       "      <td>x</td>\n",
       "      <td>y</td>\n",
       "      <td>x</td>\n",
       "      <td>y</td>\n",
       "      <td>x</td>\n",
       "      <td>y</td>\n",
       "      <td>x</td>\n",
       "      <td>y</td>\n",
       "      <td>x</td>\n",
       "      <td>...</td>\n",
       "      <td>x</td>\n",
       "      <td>y</td>\n",
       "      <td>x</td>\n",
       "      <td>y</td>\n",
       "      <td>x</td>\n",
       "      <td>y</td>\n",
       "      <td>x</td>\n",
       "      <td>y</td>\n",
       "      <td>x</td>\n",
       "      <td>y</td>\n",
       "    </tr>\n",
       "    <tr>\n",
       "      <th>1</th>\n",
       "      <td>labeled-data\\imgs\\img001.png</td>\n",
       "      <td>NaN</td>\n",
       "      <td>NaN</td>\n",
       "      <td>NaN</td>\n",
       "      <td>NaN</td>\n",
       "      <td>NaN</td>\n",
       "      <td>NaN</td>\n",
       "      <td>115.0</td>\n",
       "      <td>338.0</td>\n",
       "      <td>112.0</td>\n",
       "      <td>...</td>\n",
       "      <td>30.854473304473288</td>\n",
       "      <td>397.30663780663775</td>\n",
       "      <td>94.34653679653681</td>\n",
       "      <td>265.9935064935064</td>\n",
       "      <td>NaN</td>\n",
       "      <td>NaN</td>\n",
       "      <td>114.54855699855702</td>\n",
       "      <td>312.1695526695526</td>\n",
       "      <td>100.11854256854255</td>\n",
       "      <td>193.84343434343424</td>\n",
       "    </tr>\n",
       "    <tr>\n",
       "      <th>2</th>\n",
       "      <td>labeled-data\\imgs\\img002.png</td>\n",
       "      <td>NaN</td>\n",
       "      <td>NaN</td>\n",
       "      <td>NaN</td>\n",
       "      <td>NaN</td>\n",
       "      <td>NaN</td>\n",
       "      <td>NaN</td>\n",
       "      <td>119.0</td>\n",
       "      <td>336.0</td>\n",
       "      <td>113.0</td>\n",
       "      <td>...</td>\n",
       "      <td>32.29747474747472</td>\n",
       "      <td>395.8636363636363</td>\n",
       "      <td>92.90353535353532</td>\n",
       "      <td>263.10750360750353</td>\n",
       "      <td>NaN</td>\n",
       "      <td>NaN</td>\n",
       "      <td>115.99155844155845</td>\n",
       "      <td>310.7265512265512</td>\n",
       "      <td>100.11854256854255</td>\n",
       "      <td>192.4004329004328</td>\n",
       "    </tr>\n",
       "    <tr>\n",
       "      <th>3</th>\n",
       "      <td>labeled-data\\imgs\\img003.png</td>\n",
       "      <td>NaN</td>\n",
       "      <td>NaN</td>\n",
       "      <td>NaN</td>\n",
       "      <td>NaN</td>\n",
       "      <td>475.2989177489177</td>\n",
       "      <td>287.63852813852805</td>\n",
       "      <td>483.0</td>\n",
       "      <td>289.0</td>\n",
       "      <td>573.0</td>\n",
       "      <td>...</td>\n",
       "      <td>NaN</td>\n",
       "      <td>NaN</td>\n",
       "      <td>571.9800144300144</td>\n",
       "      <td>403.07864357864355</td>\n",
       "      <td>442.10988455988456</td>\n",
       "      <td>362.67460317460313</td>\n",
       "      <td>584.9670274170275</td>\n",
       "      <td>349.68759018759016</td>\n",
       "      <td>489.72893217893215</td>\n",
       "      <td>416.0656565656565</td>\n",
       "    </tr>\n",
       "    <tr>\n",
       "      <th>4</th>\n",
       "      <td>labeled-data\\imgs\\img004.png</td>\n",
       "      <td>560.0</td>\n",
       "      <td>331.0</td>\n",
       "      <td>548.0</td>\n",
       "      <td>319.0</td>\n",
       "      <td>527.0</td>\n",
       "      <td>303.0</td>\n",
       "      <td>500.0</td>\n",
       "      <td>295.0</td>\n",
       "      <td>449.0</td>\n",
       "      <td>...</td>\n",
       "      <td>515.7029581529581</td>\n",
       "      <td>439.15367965367966</td>\n",
       "      <td>346.87178932178927</td>\n",
       "      <td>339.58658008658006</td>\n",
       "      <td>NaN</td>\n",
       "      <td>NaN</td>\n",
       "      <td>416.1358585858586</td>\n",
       "      <td>335.2575757575757</td>\n",
       "      <td>345.42878787878783</td>\n",
       "      <td>348.24458874458867</td>\n",
       "    </tr>\n",
       "    <tr>\n",
       "      <th>...</th>\n",
       "      <td>...</td>\n",
       "      <td>...</td>\n",
       "      <td>...</td>\n",
       "      <td>...</td>\n",
       "      <td>...</td>\n",
       "      <td>...</td>\n",
       "      <td>...</td>\n",
       "      <td>...</td>\n",
       "      <td>...</td>\n",
       "      <td>...</td>\n",
       "      <td>...</td>\n",
       "      <td>...</td>\n",
       "      <td>...</td>\n",
       "      <td>...</td>\n",
       "      <td>...</td>\n",
       "      <td>...</td>\n",
       "      <td>...</td>\n",
       "      <td>...</td>\n",
       "      <td>...</td>\n",
       "      <td>...</td>\n",
       "      <td>...</td>\n",
       "    </tr>\n",
       "    <tr>\n",
       "      <th>585</th>\n",
       "      <td>labeled-data\\imgs\\img585.png</td>\n",
       "      <td>319.0</td>\n",
       "      <td>387.0</td>\n",
       "      <td>322.0</td>\n",
       "      <td>355.0</td>\n",
       "      <td>344.0</td>\n",
       "      <td>331.0</td>\n",
       "      <td>374.0</td>\n",
       "      <td>323.0</td>\n",
       "      <td>NaN</td>\n",
       "      <td>...</td>\n",
       "      <td>286.26572871572876</td>\n",
       "      <td>371.33261183261175</td>\n",
       "      <td>NaN</td>\n",
       "      <td>NaN</td>\n",
       "      <td>414.69285714285706</td>\n",
       "      <td>413.1796536796536</td>\n",
       "      <td>NaN</td>\n",
       "      <td>NaN</td>\n",
       "      <td>502.7159451659452</td>\n",
       "      <td>418.95165945165945</td>\n",
       "    </tr>\n",
       "    <tr>\n",
       "      <th>586</th>\n",
       "      <td>labeled-data\\imgs\\img586.png</td>\n",
       "      <td>319.0</td>\n",
       "      <td>388.0</td>\n",
       "      <td>323.0</td>\n",
       "      <td>355.0</td>\n",
       "      <td>346.0</td>\n",
       "      <td>333.0</td>\n",
       "      <td>375.0</td>\n",
       "      <td>321.0</td>\n",
       "      <td>NaN</td>\n",
       "      <td>...</td>\n",
       "      <td>276.1647186147186</td>\n",
       "      <td>429.0526695526695</td>\n",
       "      <td>NaN</td>\n",
       "      <td>NaN</td>\n",
       "      <td>414.69285714285706</td>\n",
       "      <td>413.1796536796536</td>\n",
       "      <td>NaN</td>\n",
       "      <td>NaN</td>\n",
       "      <td>501.27294372294375</td>\n",
       "      <td>421.8376623376623</td>\n",
       "    </tr>\n",
       "    <tr>\n",
       "      <th>587</th>\n",
       "      <td>labeled-data\\imgs\\img587.png</td>\n",
       "      <td>319.0</td>\n",
       "      <td>383.0</td>\n",
       "      <td>323.0</td>\n",
       "      <td>353.0</td>\n",
       "      <td>348.0</td>\n",
       "      <td>328.0</td>\n",
       "      <td>374.0</td>\n",
       "      <td>321.0</td>\n",
       "      <td>NaN</td>\n",
       "      <td>...</td>\n",
       "      <td>268.9497113997114</td>\n",
       "      <td>418.95165945165945</td>\n",
       "      <td>NaN</td>\n",
       "      <td>NaN</td>\n",
       "      <td>414.69285714285706</td>\n",
       "      <td>413.1796536796536</td>\n",
       "      <td>NaN</td>\n",
       "      <td>NaN</td>\n",
       "      <td>501.27294372294375</td>\n",
       "      <td>418.95165945165945</td>\n",
       "    </tr>\n",
       "    <tr>\n",
       "      <th>588</th>\n",
       "      <td>labeled-data\\imgs\\img588.png</td>\n",
       "      <td>319.0</td>\n",
       "      <td>385.0</td>\n",
       "      <td>323.0</td>\n",
       "      <td>355.0</td>\n",
       "      <td>346.0</td>\n",
       "      <td>328.0</td>\n",
       "      <td>376.0</td>\n",
       "      <td>321.0</td>\n",
       "      <td>NaN</td>\n",
       "      <td>...</td>\n",
       "      <td>250.19069264069262</td>\n",
       "      <td>418.95165945165945</td>\n",
       "      <td>NaN</td>\n",
       "      <td>NaN</td>\n",
       "      <td>414.69285714285706</td>\n",
       "      <td>414.6226551226551</td>\n",
       "      <td>NaN</td>\n",
       "      <td>NaN</td>\n",
       "      <td>501.27294372294375</td>\n",
       "      <td>421.8376623376623</td>\n",
       "    </tr>\n",
       "    <tr>\n",
       "      <th>589</th>\n",
       "      <td>labeled-data\\imgs\\img589.png</td>\n",
       "      <td>321.0</td>\n",
       "      <td>388.0</td>\n",
       "      <td>324.0</td>\n",
       "      <td>355.0</td>\n",
       "      <td>348.0</td>\n",
       "      <td>329.0</td>\n",
       "      <td>374.0</td>\n",
       "      <td>321.0</td>\n",
       "      <td>NaN</td>\n",
       "      <td>...</td>\n",
       "      <td>271.8357142857143</td>\n",
       "      <td>390.0916305916305</td>\n",
       "      <td>501.27294372294375</td>\n",
       "      <td>420.3946608946609</td>\n",
       "      <td>NaN</td>\n",
       "      <td>NaN</td>\n",
       "      <td>414.69285714285706</td>\n",
       "      <td>413.1796536796536</td>\n",
       "      <td>NaN</td>\n",
       "      <td>NaN</td>\n",
       "    </tr>\n",
       "  </tbody>\n",
       "</table>\n",
       "<p>590 rows × 51 columns</p>\n",
       "</div>"
      ],
      "text/plain": [
       "                               0      1      2      3      4   \\\n",
       "0                          coords      x      y      x      y   \n",
       "1    labeled-data\\imgs\\img001.png    NaN    NaN    NaN    NaN   \n",
       "2    labeled-data\\imgs\\img002.png    NaN    NaN    NaN    NaN   \n",
       "3    labeled-data\\imgs\\img003.png    NaN    NaN    NaN    NaN   \n",
       "4    labeled-data\\imgs\\img004.png  560.0  331.0  548.0  319.0   \n",
       "..                            ...    ...    ...    ...    ...   \n",
       "585  labeled-data\\imgs\\img585.png  319.0  387.0  322.0  355.0   \n",
       "586  labeled-data\\imgs\\img586.png  319.0  388.0  323.0  355.0   \n",
       "587  labeled-data\\imgs\\img587.png  319.0  383.0  323.0  353.0   \n",
       "588  labeled-data\\imgs\\img588.png  319.0  385.0  323.0  355.0   \n",
       "589  labeled-data\\imgs\\img589.png  321.0  388.0  324.0  355.0   \n",
       "\n",
       "                    5                   6      7      8      9   ...  \\\n",
       "0                    x                   y      x      y      x  ...   \n",
       "1                  NaN                 NaN  115.0  338.0  112.0  ...   \n",
       "2                  NaN                 NaN  119.0  336.0  113.0  ...   \n",
       "3    475.2989177489177  287.63852813852805  483.0  289.0  573.0  ...   \n",
       "4                527.0               303.0  500.0  295.0  449.0  ...   \n",
       "..                 ...                 ...    ...    ...    ...  ...   \n",
       "585              344.0               331.0  374.0  323.0    NaN  ...   \n",
       "586              346.0               333.0  375.0  321.0    NaN  ...   \n",
       "587              348.0               328.0  374.0  321.0    NaN  ...   \n",
       "588              346.0               328.0  376.0  321.0    NaN  ...   \n",
       "589              348.0               329.0  374.0  321.0    NaN  ...   \n",
       "\n",
       "                     41                  42                  43  \\\n",
       "0                     x                   y                   x   \n",
       "1    30.854473304473288  397.30663780663775   94.34653679653681   \n",
       "2     32.29747474747472   395.8636363636363   92.90353535353532   \n",
       "3                   NaN                 NaN   571.9800144300144   \n",
       "4     515.7029581529581  439.15367965367966  346.87178932178927   \n",
       "..                  ...                 ...                 ...   \n",
       "585  286.26572871572876  371.33261183261175                 NaN   \n",
       "586   276.1647186147186   429.0526695526695                 NaN   \n",
       "587   268.9497113997114  418.95165945165945                 NaN   \n",
       "588  250.19069264069262  418.95165945165945                 NaN   \n",
       "589   271.8357142857143   390.0916305916305  501.27294372294375   \n",
       "\n",
       "                     44                  45                  46  \\\n",
       "0                     y                   x                   y   \n",
       "1     265.9935064935064                 NaN                 NaN   \n",
       "2    263.10750360750353                 NaN                 NaN   \n",
       "3    403.07864357864355  442.10988455988456  362.67460317460313   \n",
       "4    339.58658008658006                 NaN                 NaN   \n",
       "..                  ...                 ...                 ...   \n",
       "585                 NaN  414.69285714285706   413.1796536796536   \n",
       "586                 NaN  414.69285714285706   413.1796536796536   \n",
       "587                 NaN  414.69285714285706   413.1796536796536   \n",
       "588                 NaN  414.69285714285706   414.6226551226551   \n",
       "589   420.3946608946609                 NaN                 NaN   \n",
       "\n",
       "                     47                  48                  49  \\\n",
       "0                     x                   y                   x   \n",
       "1    114.54855699855702   312.1695526695526  100.11854256854255   \n",
       "2    115.99155844155845   310.7265512265512  100.11854256854255   \n",
       "3     584.9670274170275  349.68759018759016  489.72893217893215   \n",
       "4     416.1358585858586   335.2575757575757  345.42878787878783   \n",
       "..                  ...                 ...                 ...   \n",
       "585                 NaN                 NaN   502.7159451659452   \n",
       "586                 NaN                 NaN  501.27294372294375   \n",
       "587                 NaN                 NaN  501.27294372294375   \n",
       "588                 NaN                 NaN  501.27294372294375   \n",
       "589  414.69285714285706   413.1796536796536                 NaN   \n",
       "\n",
       "                     50  \n",
       "0                     y  \n",
       "1    193.84343434343424  \n",
       "2     192.4004329004328  \n",
       "3     416.0656565656565  \n",
       "4    348.24458874458867  \n",
       "..                  ...  \n",
       "585  418.95165945165945  \n",
       "586   421.8376623376623  \n",
       "587  418.95165945165945  \n",
       "588   421.8376623376623  \n",
       "589                 NaN  \n",
       "\n",
       "[590 rows x 51 columns]"
      ]
     },
     "execution_count": 19,
     "metadata": {},
     "output_type": "execute_result"
    }
   ],
   "source": [
    "with open(\"/media/dikra/PhD/DATA/DLC24_Data/Kaggle_progress/train-2001-eval-all/kaggle/working/fly-kevin-2019-03-16/Fly-Kevin-2019-03-16/train_test_splits.json\") as f:\n",
    "    train_test_split = json.load(f)\n",
    "test_ids = train_test_split[\"Fly-Kevin-2019-03-16\"][\"0.8\"][0][\"test\"]\n",
    "\n",
    "fly_imgs = glob.glob(os.path.normpath(\"/media/dikra/PhD/DATA/DLC24_Data/Kaggle_progress/train-2001-eval-all/kaggle/working/fly-kevin-2019-03-16/Fly-Kevin-2019-03-16/labeled-data/imgs/*.png\"))\n",
    "fly_imgs_names = [img.split('/')[-1].split(\".\")[0] for img in fly_imgs]\n",
    "fly_imgs_ids = [int(i.split(\"img\")[-1]) for i in fly_imgs_names]\n",
    "\n",
    "test_images = [f for i, f in enumerate(fly_imgs) if fly_imgs_ids[i] in test_ids]\n",
    "test_images_names = [t.split(\"/\")[-1] for t in test_images]\n",
    "\n",
    "targets = pd.read_csv(\"/media/dikra/PhD/DATA/DLC24_Data/Kaggle_progress/train-2001-eval-all/kaggle/working/fly-kevin-2019-03-16/Fly-Kevin-2019-03-16/labeled-data/imgs/CollectedData_Kevin.csv\", header=None, skiprows=[0,1])\n",
    "targets.drop([27,28,29,30], axis=1, inplace=True)\n",
    "targets.columns = range(targets.columns.size)\n",
    "targets"
   ]
  },
  {
   "cell_type": "code",
   "execution_count": 20,
   "metadata": {},
   "outputs": [
    {
     "name": "stdout",
     "output_type": "stream",
     "text": [
      "Frame # 0\n",
      "Frame # 1\n",
      "Frame # 2\n",
      "Frame # 3\n",
      "Frame # 4\n",
      "Frame # 5\n",
      "Frame # 6\n",
      "Frame # 7\n",
      "Frame # 8\n",
      "Frame # 9\n",
      "Frame # 10\n",
      "Frame # 11\n",
      "Frame # 12\n",
      "Frame # 13\n",
      "Frame # 14\n",
      "Frame # 15\n",
      "Frame # 16\n",
      "Frame # 17\n",
      "Frame # 18\n",
      "Frame # 19\n",
      "Frame # 20\n",
      "Frame # 21\n",
      "Frame # 22\n",
      "Frame # 23\n",
      "Frame # 24\n",
      "Frame # 25\n",
      "Frame # 26\n",
      "Frame # 27\n",
      "Frame # 28\n",
      "Frame # 29\n",
      "Frame # 30\n",
      "Frame # 31\n",
      "Frame # 32\n",
      "Frame # 33\n",
      "Frame # 34\n",
      "Frame # 35\n",
      "Frame # 36\n",
      "Frame # 37\n",
      "Frame # 38\n",
      "Frame # 39\n",
      "Frame # 40\n",
      "Frame # 41\n",
      "Frame # 42\n",
      "Frame # 43\n",
      "Frame # 44\n",
      "Frame # 45\n",
      "Frame # 46\n",
      "Frame # 47\n",
      "Frame # 48\n",
      "Frame # 49\n",
      "Frame # 50\n",
      "Frame # 51\n",
      "Frame # 52\n",
      "Frame # 53\n",
      "Frame # 54\n",
      "Frame # 55\n",
      "Frame # 56\n",
      "Frame # 57\n",
      "Frame # 58\n",
      "Frame # 59\n",
      "Frame # 60\n",
      "Frame # 61\n",
      "Frame # 62\n",
      "Frame # 63\n",
      "Frame # 64\n",
      "Frame # 65\n",
      "Frame # 66\n",
      "Frame # 67\n",
      "Frame # 68\n",
      "Frame # 69\n",
      "Frame # 70\n",
      "Frame # 71\n",
      "Frame # 72\n",
      "Frame # 73\n",
      "Frame # 74\n",
      "Frame # 75\n",
      "Frame # 76\n",
      "Frame # 77\n",
      "Frame # 78\n",
      "Frame # 79\n",
      "Frame # 80\n",
      "Frame # 81\n",
      "Frame # 82\n",
      "Frame # 83\n",
      "Frame # 84\n",
      "Frame # 85\n",
      "Frame # 86\n",
      "Frame # 87\n",
      "Frame # 88\n",
      "Frame # 89\n",
      "Frame # 90\n",
      "Frame # 91\n",
      "Frame # 92\n",
      "Frame # 93\n",
      "Frame # 94\n",
      "Frame # 95\n",
      "Frame # 96\n",
      "Frame # 97\n",
      "Frame # 98\n",
      "Frame # 99\n",
      "Frame # 100\n",
      "Frame # 101\n",
      "Frame # 102\n",
      "Frame # 103\n",
      "Frame # 104\n",
      "Frame # 105\n",
      "Frame # 106\n",
      "Frame # 107\n",
      "Frame # 108\n",
      "Frame # 109\n",
      "Frame # 110\n",
      "Frame # 111\n",
      "Frame # 112\n",
      "Frame # 113\n",
      "Frame # 114\n",
      "Frame # 115\n",
      "Frame # 116\n",
      "Frame # 117\n"
     ]
    }
   ],
   "source": [
    "poses = []\n",
    "for i, img_p in enumerate(test_images):\n",
    "    img = cv2.imread(img_p)\n",
    "\n",
    "    if i == 0:\n",
    "        pose, t = dlc_live.init_inference(img)\n",
    "    else:\n",
    "        pose, t = dlc_live.get_pose(img)\n",
    "    poses.append(pose)"
   ]
  },
  {
   "cell_type": "code",
   "execution_count": 22,
   "metadata": {},
   "outputs": [],
   "source": [
    "dlc_live.display.destroy()"
   ]
  },
  {
   "cell_type": "code",
   "execution_count": 21,
   "metadata": {},
   "outputs": [],
   "source": [
    "# Format predictions\n",
    "preds = dict()\n",
    "for i,j in zip(range(len(poses)), test_ids):\n",
    "    k = targets.loc[j][0].split(\"\\\\\")[-1].split(\".\")[0]\n",
    "    v = poses[i][\"poses\"].squeeze(0).numpy()\n",
    "    preds[k] = v \n",
    "    \n",
    "    \n",
    "# Format targets\n",
    "test_labels = dict()\n",
    "for id in test_ids:\n",
    "    k = targets.loc[id][0].split(\"\\\\\")[-1].split(\".\")[0]\n",
    "    v = np.array([[(float(targets.loc[id][1:][i]), float(targets.loc[id][1:][i+1]), 1.) if not math.isnan(float(targets.loc[id][1:][i])) else (0., 0., 0.) for i in range(1, targets.loc[id][1:].shape[0], 2)]])\n",
    "    test_labels[k] = v"
   ]
  },
  {
   "cell_type": "code",
   "execution_count": 28,
   "metadata": {},
   "outputs": [
    {
     "data": {
      "text/plain": [
       "((1, 25, 3), (1, 25, 3))"
      ]
     },
     "execution_count": 28,
     "metadata": {},
     "output_type": "execute_result"
    }
   ],
   "source": [
    "preds['img006'].shape, test_labels['img006'].shape"
   ]
  },
  {
   "cell_type": "code",
   "execution_count": 23,
   "metadata": {},
   "outputs": [
    {
     "data": {
      "text/plain": [
       "{'rmse': 221.0153779678902,\n",
       " 'rmse_pcutoff': 221.0153779678902,\n",
       " 'mAP': 0.4335867797306046,\n",
       " 'mAR': 4.830508474576272}"
      ]
     },
     "execution_count": 23,
     "metadata": {},
     "output_type": "execute_result"
    }
   ],
   "source": [
    "from deeplabcut.core.metrics.api import compute_metrics\n",
    "\n",
    "results = compute_metrics(test_labels, preds, single_animal=True)\n",
    "results"
   ]
  },
  {
   "cell_type": "markdown",
   "metadata": {},
   "source": [
    "### Video inference"
   ]
  },
  {
   "cell_type": "code",
   "execution_count": 83,
   "metadata": {},
   "outputs": [
    {
     "data": {
      "application/vnd.jupyter.widget-view+json": {
       "model_id": "a08d9a5a0f0641d1bd9002412da9cb4c",
       "version_major": 2,
       "version_minor": 0
      },
      "text/plain": [
       "Dropdown(description='Test Video!', options=('4782303-hd_1920_1080_25fps.mp4', 'long_bird.mp4', 'pigeon.mp4'),…"
      ]
     },
     "metadata": {},
     "output_type": "display_data"
    }
   ],
   "source": [
    "test_videos = glob.glob(os.path.normpath(working_dir + \"/*.avi\"))\n",
    "test_videos.extend(glob.glob(os.path.normpath(working_dir + \"/*.mp4\")))\n",
    "test_videos = [t.split(\"/\")[-1] for t in test_videos]\n",
    "\n",
    "test_vid_selection = widgets.Dropdown(\n",
    "    options=test_videos,\n",
    "    value=test_videos[0],\n",
    "    description=\"Test Video!\",\n",
    "    disabled=False,\n",
    ")\n",
    "display(test_vid_selection)"
   ]
  },
  {
   "cell_type": "code",
   "execution_count": 36,
   "metadata": {},
   "outputs": [],
   "source": [
    "def get_video_characteristics(video_path):\n",
    "    \"\"\"\n",
    "    Extracts the FPS, number of frames, length in seconds, and frame size of a video.\n",
    "\n",
    "    Args:\n",
    "        video_path (str): The path to the video file.\n",
    "\n",
    "    Returns:\n",
    "        tuple: A tuple containing the FPS, number of frames, length in seconds, and frame size.\n",
    "    \"\"\"\n",
    "\n",
    "    cap = cv2.VideoCapture(video_path)\n",
    "\n",
    "    # Get video properties\n",
    "    fps = cap.get(cv2.CAP_PROP_FPS)\n",
    "    frame_count = cap.get(cv2.CAP_PROP_FRAME_COUNT)\n",
    "    frame_width = int(cap.get(cv2.CAP_PROP_FRAME_WIDTH))\n",
    "    frame_height = int(cap.get(cv2.CAP_PROP_FRAME_HEIGHT))\n",
    "\n",
    "    # Calculate video length in seconds\n",
    "    video_length = frame_count / fps\n",
    "\n",
    "    cap.release()\n",
    "\n",
    "    return fps, frame_count, video_length, (frame_width, frame_height)"
   ]
  },
  {
   "cell_type": "code",
   "execution_count": 99,
   "metadata": {},
   "outputs": [
    {
     "name": "stdout",
     "output_type": "stream",
     "text": [
      "FPS: 30.0\n",
      "Number of frames: 153.0\n",
      "Video length (seconds): 5.1\n",
      "Frame size: (640, 480)\n"
     ]
    }
   ],
   "source": [
    "video_path = os.path.join(working_dir, \"/media/dikra/PhD/DATA/DLC24_Data/test_drive_down/dlc-live-dummy/superbird_ssdlite/out/superbird_live_test_DLCLIVE_LABELLED_20240829_180627.mp4\")\n",
    "\n",
    "fps, frame_count, video_length, frame_size = get_video_characteristics(video_path)\n",
    "\n",
    "print(\"FPS:\", fps)\n",
    "print(\"Number of frames:\", frame_count)\n",
    "print(\"Video length (seconds):\", video_length)\n",
    "print(\"Frame size:\", frame_size)"
   ]
  },
  {
   "cell_type": "code",
   "execution_count": 38,
   "metadata": {},
   "outputs": [
    {
     "data": {
      "application/vnd.jupyter.widget-view+json": {
       "model_id": "c0ff21a96bf745359edda3a447194cd8",
       "version_major": 2,
       "version_minor": 0
      },
      "text/plain": [
       "RadioButtons(description='Save processed video?', options=(True, False), value=True)"
      ]
     },
     "metadata": {},
     "output_type": "display_data"
    }
   ],
   "source": [
    "save_video_choice = widgets.RadioButtons(options=[True, False], description=\"Save processed video?\")\n",
    "display(save_video_choice)"
   ]
  },
  {
   "cell_type": "code",
   "execution_count": null,
   "metadata": {},
   "outputs": [],
   "source": [
    "poses, times = analyze_video(\n",
    "    video_path=video_path,\n",
    "    model_type=modeltype_selection.value,\n",
    "    snapshot=snapshot_selection.value,\n",
    "    device=device_selection.value,\n",
    "    resize=resize_ratio,\n",
    "    # cropping=cropping,\n",
    "    # dynamic=dynamic_cropping\n",
    "    precision=model_precision.value,\n",
    "    model_path=working_dir,\n",
    "    display=True,\n",
    "    save_poses=True,\n",
    "    save_dir=working_dir + \"/out\",\n",
    "    draw_keypoint_names=False,\n",
    "    save_video=save_video_choice.value\n",
    ")"
   ]
  },
  {
   "cell_type": "markdown",
   "metadata": {},
   "source": [
    "### Profiling"
   ]
  },
  {
   "cell_type": "code",
   "execution_count": null,
   "metadata": {},
   "outputs": [],
   "source": [
    "# Compute mean ± std inference time per frame\n",
    "print(\n",
    "    \"Mean inference time including 1st inference \",\n",
    "    np.round(np.mean(times) * 1000, 2),\n",
    "    \"ms ±\",\n",
    "    np.round(np.std(times) * 1000, 2),\n",
    ")\n",
    "print(\n",
    "    \"Mean inference time excluding 1st inference \",\n",
    "    np.round(np.mean(times[1:]) * 1000, 2),\n",
    "    \"ms ±\",\n",
    "    np.round(np.std(times[1:]) * 1000, 2),\n",
    ")"
   ]
  },
  {
   "cell_type": "code",
   "execution_count": 98,
   "metadata": {},
   "outputs": [],
   "source": [
    "def calculate_fps_stats(inference_times):\n",
    "    \"\"\"\n",
    "    Calculates the average FPS rate and its standard deviation from a list of inference times.\n",
    "\n",
    "    Args:\n",
    "        inference_times (list): A list of inference times in seconds.\n",
    "\n",
    "    Returns:\n",
    "        tuple: A tuple containing the average FPS rate and its standard deviation.\n",
    "    \"\"\"\n",
    "\n",
    "    # Calculate FPS for each frame\n",
    "    fps_values = [1 / time for time in inference_times]\n",
    "\n",
    "    # Calculate average FPS\n",
    "    average_fps = np.mean(fps_values)\n",
    "\n",
    "    # Calculate standard deviation of FPS\n",
    "    std_dev_fps = np.std(fps_values)\n",
    "\n",
    "    return average_fps, std_dev_fps"
   ]
  },
  {
   "cell_type": "code",
   "execution_count": 99,
   "metadata": {},
   "outputs": [
    {
     "name": "stdout",
     "output_type": "stream",
     "text": [
      "Average FPS: 88.04\n",
      "Standard Deviation of FPS: 9.62\n"
     ]
    }
   ],
   "source": [
    "average_fps, std_dev_fps = calculate_fps_stats(times)\n",
    "\n",
    "print(\"Average FPS:\", np.round(average_fps, 2))\n",
    "print(\"Standard Deviation of FPS:\", np.round(std_dev_fps, 2))"
   ]
  },
  {
   "cell_type": "markdown",
   "metadata": {},
   "source": [
    "### Live video inference"
   ]
  },
  {
   "cell_type": "code",
   "execution_count": 84,
   "metadata": {},
   "outputs": [
    {
     "data": {
      "application/vnd.jupyter.widget-view+json": {
       "model_id": "a89f25e0acdb4347910af76117874666",
       "version_major": 2,
       "version_minor": 0
      },
      "text/plain": [
       "Text(value='superbird_live_test', description='Experiment Name:', style=DescriptionStyle(description_width='in…"
      ]
     },
     "metadata": {},
     "output_type": "display_data"
    }
   ],
   "source": [
    "# Define widgets for experiment_name\n",
    "experiment_name = widgets.Text(\n",
    "    value=\"superbird_live_test\",\n",
    "    description=\"Experiment Name:\",\n",
    "    style={'description_width': 'initial'}\n",
    ")\n",
    "\n",
    "# Display widgets\n",
    "display(experiment_name)"
   ]
  },
  {
   "cell_type": "code",
   "execution_count": 85,
   "metadata": {},
   "outputs": [
    {
     "data": {
      "application/vnd.jupyter.widget-view+json": {
       "model_id": "49d9f9db99834100a2d90702bf329eb3",
       "version_major": 2,
       "version_minor": 0
      },
      "text/plain": [
       "RadioButtons(description='Save processed video?', options=(True, False), value=True)"
      ]
     },
     "metadata": {},
     "output_type": "display_data"
    }
   ],
   "source": [
    "save_video_choice = widgets.RadioButtons(options=[True, False], description=\"Save processed video?\")\n",
    "display(save_video_choice)"
   ]
  },
  {
   "cell_type": "code",
   "execution_count": 86,
   "metadata": {},
   "outputs": [
    {
     "data": {
      "application/vnd.jupyter.widget-view+json": {
       "model_id": "47d6e7d90ddb451f90a31979eb3b2208",
       "version_major": 2,
       "version_minor": 0
      },
      "text/plain": [
       "IntSlider(value=0, description='Camera:', max=5, style=SliderStyle(description_width='initial'))"
      ]
     },
     "metadata": {},
     "output_type": "display_data"
    }
   ],
   "source": [
    "# Choose which camera to use\n",
    "# Note: we have only carried out testing using camera 0, i.e. the built-in webcam of a laptop. the max setting is arbitrarily chosen for the moment\n",
    "camera = widgets.IntSlider(\n",
    "    value=0,\n",
    "    min=0,\n",
    "    max=5,\n",
    "    step=1,\n",
    "    description=\"Camera:\",\n",
    "    style={'description_width': 'initial'}\n",
    ")\n",
    "\n",
    "display(camera)"
   ]
  },
  {
   "cell_type": "code",
   "execution_count": 97,
   "metadata": {},
   "outputs": [
    {
     "name": "stdout",
     "output_type": "stream",
     "text": [
      "{'host_name': 'dikra', 'op_sys': 'Linux-6.8.0-41-generic-x86_64-with-glibc2.39', 'python': 'dlc3', 'device_type': 'GPU', 'device': ['NVIDIA GeForce RTX 3050 6GB Laptop GPU'], 'freeze': ['alabaster==0.7.16', 'albumentations==1.4.3', 'anyio==4.4.0', 'app-model==0.2.7', 'appdirs==1.4.4', 'argon2-cffi==23.1.0', 'argon2-cffi-bindings==21.2.0', 'arrow==1.3.0', 'asttokens @ file:///opt/conda/conda-bld/asttokens_1646925590279/work', 'async-lru==2.0.4', 'attrs==23.2.0', 'Babel==2.15.0', 'beautifulsoup4==4.12.3', 'black==24.4.2', 'bleach==6.1.0', 'blinker==1.8.2', 'blosc2==2.0.0', 'build==1.2.1', 'cachey==0.2.1', 'certifi==2024.7.4', 'cffi==1.17.0', 'charset-normalizer==3.3.2', 'click==8.1.7', 'cloudpickle==3.0.0', 'colorcet==3.1.0', 'coloredlogs==15.0.1', 'comm==0.2.2', 'contourpy==1.2.1', 'cycler==0.12.1', 'Cython==3.0.10', 'dash==2.17.1', 'dash-core-components==2.0.0', 'dash-html-components==2.0.0', 'dash-table==5.0.0', 'dask==2024.7.0', 'dask-expr==1.1.7', 'dask-image==2024.5.3', 'debugpy==1.8.2', 'decorator @ file:///opt/conda/conda-bld/decorator_1643638310831/work', '-e git+https://github.com/dikraMasrour/DeepLabCut.git@b56591667346340faaba325b9bf38ffa58b3c29e#egg=deeplabcut', 'deeplabcut-live==0.0b0', 'defusedxml==0.7.1', 'dlclibrary==0.0.6', 'docker-pycreds==0.4.0', 'docstring_parser==0.16', 'docutils==0.17.1', 'easydict==1.13', 'einops==0.8.0', 'executing @ file:///opt/conda/conda-bld/executing_1646925071911/work', 'fastjsonschema==2.20.0', 'filelock==3.13.1', 'filterpy==1.4.5', 'Flask==3.0.3', 'flatbuffers==24.3.25', 'flexcache==0.3', 'flexparser==0.3.1', 'fonttools==4.53.1', 'fqdn==1.5.1', 'freetype-py==2.4.0', 'fsspec==2024.2.0', 'fvcore==0.1.5.post20221221', 'gdown==5.2.0', 'gitdb==4.0.11', 'GitPython==3.1.43', 'h11==0.14.0', 'h5==0.9.3', 'h5py==3.11.0', 'HeapDict==1.0.1', 'hsluv==5.0.4', 'httpcore==1.0.5', 'httpx==0.27.2', 'huggingface-hub==0.23.5', 'humanfriendly==10.0', 'idna==3.7', 'imageio==2.34.2', 'imageio-ffmpeg==0.5.1', 'imagesize==1.4.1', 'imgaug==0.4.0', 'importlib_metadata==8.0.0', 'in-n-out==0.2.1', 'iopath==0.1.10', 'ipykernel==6.29.5', 'ipython @ file:///croot/ipython_1718287989724/work', 'ipython-genutils==0.2.0', 'ipywidgets==7.7.1', 'isoduration==20.11.0', 'isort==5.13.2', 'itsdangerous==2.2.0', 'jedi @ file:///croot/jedi_1721058342488/work', 'Jinja2==3.1.3', 'joblib==1.4.2', 'json5==0.9.25', 'jsonpointer==3.0.0', 'jsonschema==4.23.0', 'jsonschema-specifications==2023.12.1', 'jupyter-events==0.10.0', 'jupyter-lsp==2.2.5', 'jupyter_client==8.6.2', 'jupyter_core==5.7.2', 'jupyter_server==2.14.2', 'jupyter_server_terminals==0.5.3', 'jupyterlab==4.2.5', 'jupyterlab_pygments==0.3.0', 'jupyterlab_server==2.27.3', 'jupyterlab_widgets==3.0.11', 'kiwisolver==1.4.5', 'kneed==0.8.5', 'lazy_loader==0.4', 'llvmlite==0.43.0', 'locket==1.0.0', 'magicgui==0.8.3', 'markdown-it-py==3.0.0', 'MarkupSafe==2.1.5', 'matplotlib==3.8.4', 'matplotlib-inline @ file:///work/ci_py311/matplotlib-inline_1676823841154/work', 'mdurl==0.1.2', 'mistune==3.0.2', 'mpmath==1.3.0', 'msgpack==1.0.8', 'mypy-extensions==1.0.0', 'napari==0.4.18', 'napari-console==0.0.9', 'napari-deeplabcut==0.2.1.7', 'napari-plugin-engine==0.2.0', 'napari-svg==0.2.0', 'natsort==8.4.0', 'nbclient==0.10.0', 'nbconvert==7.16.4', 'nbformat==5.10.4', 'nest-asyncio==1.6.0', 'networkx==3.2.1', 'notebook==7.2.2', 'notebook_shim==0.2.4', 'npe2==0.7.6', 'numba==0.60.0', 'numexpr @ file:///croot/numexpr_1696515281613/work', 'numpy @ file:///croot/numpy_and_numpy_base_1708638617955/work/dist/numpy-1.26.4-cp311-cp311-linux_x86_64.whl#sha256=2f550fcfe63acca79d636ba578e32b7ec2999e0f9cd88120af57d1497ad15890', 'numpydoc==1.5.0', 'nvidia-cublas-cu11==11.11.3.6', 'nvidia-cuda-cupti-cu11==11.8.87', 'nvidia-cuda-nvrtc-cu11==11.8.89', 'nvidia-cuda-runtime-cu11==11.8.89', 'nvidia-cudnn-cu11==8.7.0.84', 'nvidia-cufft-cu11==10.9.0.58', 'nvidia-curand-cu11==10.3.0.86', 'nvidia-cusolver-cu11==11.4.1.48', 'nvidia-cusparse-cu11==11.7.5.86', 'nvidia-nccl-cu11==2.20.5', 'nvidia-nvtx-cu11==11.8.86', 'onnx==1.16.2', 'onnxconverter-common==1.14.0', 'onnxruntime-gpu==1.18.0', 'opencv-python==4.10.0.84', 'opencv-python-headless==4.10.0.84', 'overrides==7.7.0', 'packaging @ file:///home/conda/feedstock_root/build_artifacts/packaging_1718189413536/work', 'pandas==2.2.2', 'pandocfilters==1.5.1', 'parso @ file:///opt/conda/conda-bld/parso_1641458642106/work', 'partd==1.4.2', 'pathspec==0.12.1', 'patsy==0.5.6', 'pexpect @ file:///tmp/build/80754af9/pexpect_1605563209008/work', 'pillow==10.2.0', 'PIMS==0.7', 'Pint==0.24.3', 'pip==24.0', 'platformdirs==4.2.2', 'plotly==5.23.0', 'pooch==1.8.2', 'portalocker==2.10.1', 'prometheus_client==0.20.0', 'prompt-toolkit @ file:///croot/prompt-toolkit_1704404351921/work', 'protobuf==3.20.2', 'psutil==6.0.0', 'psygnal==0.11.1', 'ptyprocess @ file:///tmp/build/80754af9/ptyprocess_1609355006118/work/dist/ptyprocess-0.7.0-py2.py3-none-any.whl', 'pure-eval @ file:///opt/conda/conda-bld/pure_eval_1646925070566/work', 'py-cpuinfo @ file:///home/conda/feedstock_root/build_artifacts/py-cpuinfo_1666774466606/work', 'pyarrow==17.0.0', 'pycocotools==2.0.8', 'pyconify==0.1.6', 'pycparser==2.22', 'pydantic==1.10.17', 'pydantic-compat==0.1.2', 'Pygments @ file:///croot/pygments_1684279966437/work', 'PyOpenGL==3.1.7', 'pyparsing==3.1.2', 'pyproject_hooks==1.1.0', 'PySide6==6.4.2', 'PySide6-Addons==6.4.2', 'PySide6-Essentials==6.4.2', 'PySocks==1.7.1', 'python-dateutil==2.9.0.post0', 'python-json-logger==2.0.7', 'pytz==2024.1', 'PyYAML==6.0.1', 'pyzmq==26.0.3', 'QDarkStyle==3.1', 'qtconsole==5.5.2', 'QtPy==2.4.1', 'referencing==0.35.1', 'requests==2.32.3', 'retrying==1.3.4', 'rfc3339-validator==0.1.4', 'rfc3986-validator==0.1.1', 'rich==13.7.1', 'rpds-py==0.19.0', 'ruamel.yaml==0.18.6', 'ruamel.yaml.clib==0.2.8', 'safetensors==0.4.3', 'scikit-image==0.24.0', 'scikit-learn==1.5.1', 'scipy==1.10.1', 'seaborn==0.13.2', 'Send2Trash==1.8.3', 'sentry-sdk==2.10.0', 'setproctitle==1.3.3', 'setuptools==69.5.1', 'shapely==2.0.5', 'shellingham==1.5.4', 'shiboken6==6.4.2', 'six @ file:///tmp/build/80754af9/six_1644875935023/work', 'slicerator==1.1.0', 'smmap==5.0.1', 'sniffio==1.3.1', 'snowballstemmer==2.2.0', 'soupsieve==2.6', 'Sphinx==4.5.0', 'sphinxcontrib-applehelp==1.0.8', 'sphinxcontrib-devhelp==1.0.6', 'sphinxcontrib-htmlhelp==2.0.5', 'sphinxcontrib-jsmath==1.0.1', 'sphinxcontrib-qthelp==1.0.7', 'sphinxcontrib-serializinghtml==1.1.10', 'stack-data @ file:///opt/conda/conda-bld/stack_data_1646927590127/work', 'statsmodels==0.14.2', 'superqt==0.6.7', 'sympy==1.12', 'tables==3.8.0', 'tabulate==0.9.0', 'tenacity==8.5.0', 'termcolor==2.4.0', 'terminado==0.18.1', 'threadpoolctl==3.5.0', 'tifffile==2024.7.2', 'timm==1.0.7', 'tinycss2==1.3.0', 'tokenize-rt==5.2.0', 'tomli_w==1.0.0', 'toolz==0.12.1', 'torch==2.3.1+cu118', 'torchprofile==0.0.4', 'torchsummary==1.5.1', 'torchvision==0.18.1+cu118', 'tornado==6.4.1', 'tqdm==4.66.4', 'traitlets @ file:///croot/traitlets_1718227057033/work', 'triton==2.3.1', 'typer==0.12.3', 'types-python-dateutil==2.9.0.20240821', 'typing_extensions @ file:///croot/typing_extensions_1715268824938/work', 'tzdata==2024.1', 'uri-template==1.3.0', 'urllib3==2.2.2', 'vispy==0.12.2', 'wandb==0.17.4', 'wcwidth @ file:///Users/ktietz/demo/mc3/conda-bld/wcwidth_1629357192024/work', 'webcolors==24.8.0', 'webencodings==0.5.1', 'websocket-client==1.8.0', 'Werkzeug==3.0.3', 'wheel==0.43.0', 'widgetsnbextension==3.6.8', 'wrapt==1.16.0', 'yacs==0.1.8', 'zipp==3.19.2'], 'python_version': '3.11.9 (main, Apr 19 2024, 16:48:06) [GCC 11.2.0]', 'git_hash': 'dfa472b5f58fac27d0d0ee3a5486ffcc57559e1c', 'dlclive_version': '1.0.4'}\n"
     ]
    }
   ],
   "source": [
    "poses, times = analyze_live_video(\n",
    "    camera=camera.value,\n",
    "    experiment_name=experiment_name.value,\n",
    "    model_type=modeltype_selection.value,\n",
    "    snapshot=snapshot_selection.value,\n",
    "    device=device_selection.value,\n",
    "    resize=resize_ratio,\n",
    "    # cropping=cropping,\n",
    "    # dynamic=dynamic_cropping\n",
    "    precision=model_precision.value,\n",
    "    model_path=working_dir,\n",
    "    display=display_choice.value,\n",
    "    save_poses=True,\n",
    "    save_dir=working_dir + \"/out\",\n",
    "    draw_keypoint_names=True,\n",
    "    save_video=save_video_choice.value\n",
    ")"
   ]
  },
  {
   "cell_type": "code",
   "execution_count": null,
   "metadata": {},
   "outputs": [],
   "source": []
  }
 ],
 "metadata": {
  "kernelspec": {
   "display_name": "dlc-live",
   "language": "python",
   "name": "python3"
  },
  "language_info": {
   "codemirror_mode": {
    "name": "ipython",
    "version": 3
   },
   "file_extension": ".py",
   "mimetype": "text/x-python",
   "name": "python",
   "nbconvert_exporter": "python",
   "pygments_lexer": "ipython3",
   "version": "3.11.9"
  }
 },
 "nbformat": 4,
 "nbformat_minor": 2
}
