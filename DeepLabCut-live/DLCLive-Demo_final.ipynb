{
 "cells": [
  {
   "cell_type": "markdown",
   "metadata": {},
   "source": [
    "# DLC Live PyTorch Demo"
   ]
  },
  {
   "cell_type": "code",
   "execution_count": 1,
   "metadata": {},
   "outputs": [],
   "source": [
    "%load_ext autoreload\n",
    "%autoreload 2"
   ]
  },
  {
   "cell_type": "code",
   "execution_count": 2,
   "metadata": {},
   "outputs": [
    {
     "name": "stdout",
     "output_type": "stream",
     "text": [
      "Loading DLC 3.0.0rc2...\n"
     ]
    },
    {
     "name": "stderr",
     "output_type": "stream",
     "text": [
      "/Users/annastuckert/anaconda3/envs/deeplabcut3/lib/python3.10/site-packages/_distutils_hack/__init__.py:26: UserWarning: Setuptools is replacing distutils.\n",
      "  warnings.warn(\"Setuptools is replacing distutils.\")\n"
     ]
    }
   ],
   "source": [
    "from dlclive import DLCLive\n",
    "from dlclive import Display\n",
    "import cv2\n",
    "import numpy as np\n",
    "from pathlib import Path\n",
    "import time\n",
    "from onnxruntime import quantization\n",
    "import onnx\n",
    "import onnxruntime as ort\n",
    "import os\n",
    "import glob\n",
    "import ipywidgets as widgets\n",
    "from IPython.display import display\n",
    "import torch\n",
    "from onnxconverter_common import float16\n",
    "import matplotlib.pyplot as plt\n",
    "from dlclive.benchmark_pytorch import analyze_video\n",
    "\n",
    "from deeplabcut.pose_estimation_pytorch.config import read_config_as_dict\n",
    "from deeplabcut.pose_estimation_pytorch.models import PoseModel"
   ]
  },
  {
   "cell_type": "markdown",
   "metadata": {},
   "source": [
    "# Setup"
   ]
  },
  {
   "cell_type": "code",
   "execution_count": 3,
   "metadata": {},
   "outputs": [],
   "source": [
    "# Define root directory\n",
    "root = \"/Users/annastuckert/Documents/DLC_AI_Residency/DLC_AI2024/DeepLabCut-live/dlc-live-dummy\""
   ]
  },
  {
   "cell_type": "code",
   "execution_count": 4,
   "metadata": {},
   "outputs": [
    {
     "data": {
      "application/vnd.jupyter.widget-view+json": {
       "model_id": "912e135e81cb4ffaa3a13b43506f73ad",
       "version_major": 2,
       "version_minor": 0
      },
      "text/plain": [
       "Dropdown(description='Choose a Project!', options=('fly-kevin', 'hand-track', 'superbird_ssdlite', 'ventral-ga…"
      ]
     },
     "metadata": {},
     "output_type": "display_data"
    }
   ],
   "source": [
    "projects = [d for d in next(os.walk(root))[1]]\n",
    "project_selection = widgets.Dropdown(\n",
    "    options=projects,\n",
    "    value=projects[0],\n",
    "    description=\"Choose a Project!\",\n",
    "    disabled=False,\n",
    ")\n",
    "display(project_selection)"
   ]
  },
  {
   "cell_type": "code",
   "execution_count": 5,
   "metadata": {},
   "outputs": [],
   "source": [
    "# Get working directory and read model pytorch config file\n",
    "working_dir = os.path.join(root, project_selection.value)\n",
    "model_cfg = read_config_as_dict(Path(working_dir) / \"pytorch_config.yaml\")"
   ]
  },
  {
   "cell_type": "code",
   "execution_count": 6,
   "metadata": {},
   "outputs": [
    {
     "data": {
      "application/vnd.jupyter.widget-view+json": {
       "model_id": "becbd0beb15746328ba02275e07b1f5a",
       "version_major": 2,
       "version_minor": 0
      },
      "text/plain": [
       "Dropdown(description='Choose your snapshot!', options=('snapshot-200.pt',), value='snapshot-200.pt')"
      ]
     },
     "metadata": {},
     "output_type": "display_data"
    }
   ],
   "source": [
    "snapshots = glob.glob(os.path.normpath(working_dir + \"/*.pt*\"))\n",
    "snapshots = [s.split(\"/\")[-1] for s in snapshots]\n",
    "snapshot_selection = widgets.Dropdown(\n",
    "    options=snapshots,\n",
    "    value=snapshots[0],\n",
    "    description=\"Choose your snapshot!\",\n",
    "    disabled=False,\n",
    ")\n",
    "display(snapshot_selection)"
   ]
  },
  {
   "cell_type": "markdown",
   "metadata": {},
   "source": [
    "# Model exporting"
   ]
  },
  {
   "cell_type": "markdown",
   "metadata": {},
   "source": [
    "### PyTorch to ONNX"
   ]
  },
  {
   "cell_type": "code",
   "execution_count": 7,
   "metadata": {},
   "outputs": [],
   "source": [
    "# Replace with your onnx model name\n",
    "onnx_model_name = \"resnet.onnx\" \n",
    "onnx_model_path = os.path.join(working_dir, onnx_model_name)"
   ]
  },
  {
   "cell_type": "code",
   "execution_count": 8,
   "metadata": {},
   "outputs": [],
   "source": [
    "# Get device\n",
    "device = \"cuda\" if torch.cuda.is_available() else \"cpu\"\n",
    "\n",
    "snapshot_path = os.path.join(working_dir, snapshot_selection.value)\n",
    "# Create pretrained DLC3 PoseModel from snapshot  \n",
    "model = PoseModel.build(model_cfg[\"model\"])\n",
    "weights = torch.load(snapshot_path, map_location=device)\n",
    "model.load_state_dict(weights[\"model\"])\n",
    "\n",
    "# Random dummy input\n",
    "dummy_input = torch.zeros((1, 3, 658, 302))\n",
    "\n",
    "# Export PyTorch model to ONNX\n",
    "torch.onnx.export(\n",
    "    model,\n",
    "    dummy_input,\n",
    "    onnx_model_path,\n",
    "    verbose=False,\n",
    "    input_names=[\"input\"],\n",
    "    dynamic_axes={\"input\": {0: \"batch_size\", 2: \"height\", 3: \"width\"}},\n",
    ")\n",
    "#* Note: batch_size, height, and width dimensions are dynamic, \n",
    "#* i.e. the onnx model can take different batch sizes, heights and width"
   ]
  },
  {
   "cell_type": "markdown",
   "metadata": {},
   "source": [
    "### ONNX fp32 to ONNX fp16"
   ]
  },
  {
   "cell_type": "code",
   "execution_count": 9,
   "metadata": {},
   "outputs": [
    {
     "name": "stderr",
     "output_type": "stream",
     "text": [
      "/Users/annastuckert/anaconda3/envs/deeplabcut3/lib/python3.10/site-packages/onnxconverter_common/float16.py:43: UserWarning: the float32 number 3.338156017948585e-18 will be truncated to 1e-07\n",
      "  warnings.warn(\"the float32 number {} will be truncated to {}\".format(pos_min, min_positive_val))\n",
      "/Users/annastuckert/anaconda3/envs/deeplabcut3/lib/python3.10/site-packages/onnxconverter_common/float16.py:53: UserWarning: the float32 number -5.672801993910704e-17 will be truncated to -1e-07\n",
      "  warnings.warn(\"the float32 number {} will be truncated to {}\".format(neg_max, -min_positive_val))\n",
      "/Users/annastuckert/anaconda3/envs/deeplabcut3/lib/python3.10/site-packages/onnxconverter_common/float16.py:53: UserWarning: the float32 number -3.236845103060659e-08 will be truncated to -1e-07\n",
      "  warnings.warn(\"the float32 number {} will be truncated to {}\".format(neg_max, -min_positive_val))\n",
      "/Users/annastuckert/anaconda3/envs/deeplabcut3/lib/python3.10/site-packages/onnxconverter_common/float16.py:43: UserWarning: the float32 number 3.694487459473525e-16 will be truncated to 1e-07\n",
      "  warnings.warn(\"the float32 number {} will be truncated to {}\".format(pos_min, min_positive_val))\n",
      "/Users/annastuckert/anaconda3/envs/deeplabcut3/lib/python3.10/site-packages/onnxconverter_common/float16.py:53: UserWarning: the float32 number -6.531392705730289e-16 will be truncated to -1e-07\n",
      "  warnings.warn(\"the float32 number {} will be truncated to {}\".format(neg_max, -min_positive_val))\n",
      "/Users/annastuckert/anaconda3/envs/deeplabcut3/lib/python3.10/site-packages/onnxconverter_common/float16.py:43: UserWarning: the float32 number 9.990664277358317e-18 will be truncated to 1e-07\n",
      "  warnings.warn(\"the float32 number {} will be truncated to {}\".format(pos_min, min_positive_val))\n",
      "/Users/annastuckert/anaconda3/envs/deeplabcut3/lib/python3.10/site-packages/onnxconverter_common/float16.py:53: UserWarning: the float32 number -1.6849511913388789e-18 will be truncated to -1e-07\n",
      "  warnings.warn(\"the float32 number {} will be truncated to {}\".format(neg_max, -min_positive_val))\n",
      "/Users/annastuckert/anaconda3/envs/deeplabcut3/lib/python3.10/site-packages/onnxconverter_common/float16.py:43: UserWarning: the float32 number 2.08291247408759e-21 will be truncated to 1e-07\n",
      "  warnings.warn(\"the float32 number {} will be truncated to {}\".format(pos_min, min_positive_val))\n",
      "/Users/annastuckert/anaconda3/envs/deeplabcut3/lib/python3.10/site-packages/onnxconverter_common/float16.py:53: UserWarning: the float32 number -1.26696621017719e-20 will be truncated to -1e-07\n",
      "  warnings.warn(\"the float32 number {} will be truncated to {}\".format(neg_max, -min_positive_val))\n",
      "/Users/annastuckert/anaconda3/envs/deeplabcut3/lib/python3.10/site-packages/onnxconverter_common/float16.py:53: UserWarning: the float32 number -9.777841825098221e-08 will be truncated to -1e-07\n",
      "  warnings.warn(\"the float32 number {} will be truncated to {}\".format(neg_max, -min_positive_val))\n",
      "/Users/annastuckert/anaconda3/envs/deeplabcut3/lib/python3.10/site-packages/onnxconverter_common/float16.py:43: UserWarning: the float32 number 2.2417721012857328e-08 will be truncated to 1e-07\n",
      "  warnings.warn(\"the float32 number {} will be truncated to {}\".format(pos_min, min_positive_val))\n",
      "/Users/annastuckert/anaconda3/envs/deeplabcut3/lib/python3.10/site-packages/onnxconverter_common/float16.py:43: UserWarning: the float32 number 2.999573567308289e-08 will be truncated to 1e-07\n",
      "  warnings.warn(\"the float32 number {} will be truncated to {}\".format(pos_min, min_positive_val))\n",
      "/Users/annastuckert/anaconda3/envs/deeplabcut3/lib/python3.10/site-packages/onnxconverter_common/float16.py:53: UserWarning: the float32 number -2.155493028510591e-08 will be truncated to -1e-07\n",
      "  warnings.warn(\"the float32 number {} will be truncated to {}\".format(neg_max, -min_positive_val))\n",
      "/Users/annastuckert/anaconda3/envs/deeplabcut3/lib/python3.10/site-packages/onnxconverter_common/float16.py:43: UserWarning: the float32 number 3.0673920292656476e-08 will be truncated to 1e-07\n",
      "  warnings.warn(\"the float32 number {} will be truncated to {}\".format(pos_min, min_positive_val))\n",
      "/Users/annastuckert/anaconda3/envs/deeplabcut3/lib/python3.10/site-packages/onnxconverter_common/float16.py:53: UserWarning: the float32 number -6.732434343348359e-08 will be truncated to -1e-07\n",
      "  warnings.warn(\"the float32 number {} will be truncated to {}\".format(neg_max, -min_positive_val))\n",
      "/Users/annastuckert/anaconda3/envs/deeplabcut3/lib/python3.10/site-packages/onnxconverter_common/float16.py:43: UserWarning: the float32 number 9.182738775104298e-20 will be truncated to 1e-07\n",
      "  warnings.warn(\"the float32 number {} will be truncated to {}\".format(pos_min, min_positive_val))\n",
      "/Users/annastuckert/anaconda3/envs/deeplabcut3/lib/python3.10/site-packages/onnxconverter_common/float16.py:53: UserWarning: the float32 number -6.294215028781176e-20 will be truncated to -1e-07\n",
      "  warnings.warn(\"the float32 number {} will be truncated to {}\".format(neg_max, -min_positive_val))\n",
      "/Users/annastuckert/anaconda3/envs/deeplabcut3/lib/python3.10/site-packages/onnxconverter_common/float16.py:53: UserWarning: the float32 number -2.5427608463246543e-08 will be truncated to -1e-07\n",
      "  warnings.warn(\"the float32 number {} will be truncated to {}\".format(neg_max, -min_positive_val))\n",
      "/Users/annastuckert/anaconda3/envs/deeplabcut3/lib/python3.10/site-packages/onnxconverter_common/float16.py:43: UserWarning: the float32 number 1.2179761864870853e-13 will be truncated to 1e-07\n",
      "  warnings.warn(\"the float32 number {} will be truncated to {}\".format(pos_min, min_positive_val))\n",
      "/Users/annastuckert/anaconda3/envs/deeplabcut3/lib/python3.10/site-packages/onnxconverter_common/float16.py:53: UserWarning: the float32 number -2.534576349255864e-14 will be truncated to -1e-07\n",
      "  warnings.warn(\"the float32 number {} will be truncated to {}\".format(neg_max, -min_positive_val))\n",
      "/Users/annastuckert/anaconda3/envs/deeplabcut3/lib/python3.10/site-packages/onnxconverter_common/float16.py:43: UserWarning: the float32 number 1.9101422665812606e-08 will be truncated to 1e-07\n",
      "  warnings.warn(\"the float32 number {} will be truncated to {}\".format(pos_min, min_positive_val))\n",
      "/Users/annastuckert/anaconda3/envs/deeplabcut3/lib/python3.10/site-packages/onnxconverter_common/float16.py:53: UserWarning: the float32 number -5.479056497392776e-08 will be truncated to -1e-07\n",
      "  warnings.warn(\"the float32 number {} will be truncated to {}\".format(neg_max, -min_positive_val))\n",
      "/Users/annastuckert/anaconda3/envs/deeplabcut3/lib/python3.10/site-packages/onnxconverter_common/float16.py:43: UserWarning: the float32 number 2.7713445760468858e-08 will be truncated to 1e-07\n",
      "  warnings.warn(\"the float32 number {} will be truncated to {}\".format(pos_min, min_positive_val))\n",
      "/Users/annastuckert/anaconda3/envs/deeplabcut3/lib/python3.10/site-packages/onnxconverter_common/float16.py:53: UserWarning: the float32 number -8.939480267144972e-08 will be truncated to -1e-07\n",
      "  warnings.warn(\"the float32 number {} will be truncated to {}\".format(neg_max, -min_positive_val))\n",
      "/Users/annastuckert/anaconda3/envs/deeplabcut3/lib/python3.10/site-packages/onnxconverter_common/float16.py:43: UserWarning: the float32 number 4.287815457239882e-15 will be truncated to 1e-07\n",
      "  warnings.warn(\"the float32 number {} will be truncated to {}\".format(pos_min, min_positive_val))\n",
      "/Users/annastuckert/anaconda3/envs/deeplabcut3/lib/python3.10/site-packages/onnxconverter_common/float16.py:53: UserWarning: the float32 number -9.991837815036958e-15 will be truncated to -1e-07\n",
      "  warnings.warn(\"the float32 number {} will be truncated to {}\".format(neg_max, -min_positive_val))\n",
      "/Users/annastuckert/anaconda3/envs/deeplabcut3/lib/python3.10/site-packages/onnxconverter_common/float16.py:53: UserWarning: the float32 number -6.6923773189841995e-09 will be truncated to -1e-07\n",
      "  warnings.warn(\"the float32 number {} will be truncated to {}\".format(neg_max, -min_positive_val))\n",
      "/Users/annastuckert/anaconda3/envs/deeplabcut3/lib/python3.10/site-packages/onnxconverter_common/float16.py:53: UserWarning: the float32 number -9.770594999736204e-08 will be truncated to -1e-07\n",
      "  warnings.warn(\"the float32 number {} will be truncated to {}\".format(neg_max, -min_positive_val))\n",
      "/Users/annastuckert/anaconda3/envs/deeplabcut3/lib/python3.10/site-packages/onnxconverter_common/float16.py:43: UserWarning: the float32 number 9.114622390365117e-21 will be truncated to 1e-07\n",
      "  warnings.warn(\"the float32 number {} will be truncated to {}\".format(pos_min, min_positive_val))\n",
      "/Users/annastuckert/anaconda3/envs/deeplabcut3/lib/python3.10/site-packages/onnxconverter_common/float16.py:53: UserWarning: the float32 number -7.241917290416761e-22 will be truncated to -1e-07\n",
      "  warnings.warn(\"the float32 number {} will be truncated to {}\".format(neg_max, -min_positive_val))\n",
      "/Users/annastuckert/anaconda3/envs/deeplabcut3/lib/python3.10/site-packages/onnxconverter_common/float16.py:43: UserWarning: the float32 number 3.9853791378163805e-08 will be truncated to 1e-07\n",
      "  warnings.warn(\"the float32 number {} will be truncated to {}\".format(pos_min, min_positive_val))\n",
      "/Users/annastuckert/anaconda3/envs/deeplabcut3/lib/python3.10/site-packages/onnxconverter_common/float16.py:53: UserWarning: the float32 number -7.800227308507601e-08 will be truncated to -1e-07\n",
      "  warnings.warn(\"the float32 number {} will be truncated to {}\".format(neg_max, -min_positive_val))\n",
      "/Users/annastuckert/anaconda3/envs/deeplabcut3/lib/python3.10/site-packages/onnxconverter_common/float16.py:53: UserWarning: the float32 number -3.1226395691419384e-08 will be truncated to -1e-07\n",
      "  warnings.warn(\"the float32 number {} will be truncated to {}\".format(neg_max, -min_positive_val))\n",
      "/Users/annastuckert/anaconda3/envs/deeplabcut3/lib/python3.10/site-packages/onnxconverter_common/float16.py:43: UserWarning: the float32 number 2.4571131262188607e-18 will be truncated to 1e-07\n",
      "  warnings.warn(\"the float32 number {} will be truncated to {}\".format(pos_min, min_positive_val))\n",
      "/Users/annastuckert/anaconda3/envs/deeplabcut3/lib/python3.10/site-packages/onnxconverter_common/float16.py:53: UserWarning: the float32 number -3.4991461480642947e-19 will be truncated to -1e-07\n",
      "  warnings.warn(\"the float32 number {} will be truncated to {}\".format(neg_max, -min_positive_val))\n",
      "/Users/annastuckert/anaconda3/envs/deeplabcut3/lib/python3.10/site-packages/onnxconverter_common/float16.py:43: UserWarning: the float32 number 5.077770936124752e-25 will be truncated to 1e-07\n",
      "  warnings.warn(\"the float32 number {} will be truncated to {}\".format(pos_min, min_positive_val))\n",
      "/Users/annastuckert/anaconda3/envs/deeplabcut3/lib/python3.10/site-packages/onnxconverter_common/float16.py:53: UserWarning: the float32 number -2.4838806524708823e-23 will be truncated to -1e-07\n",
      "  warnings.warn(\"the float32 number {} will be truncated to {}\".format(neg_max, -min_positive_val))\n",
      "/Users/annastuckert/anaconda3/envs/deeplabcut3/lib/python3.10/site-packages/onnxconverter_common/float16.py:43: UserWarning: the float32 number 1.376063796243443e-08 will be truncated to 1e-07\n",
      "  warnings.warn(\"the float32 number {} will be truncated to {}\".format(pos_min, min_positive_val))\n",
      "/Users/annastuckert/anaconda3/envs/deeplabcut3/lib/python3.10/site-packages/onnxconverter_common/float16.py:53: UserWarning: the float32 number -7.986646011204357e-08 will be truncated to -1e-07\n",
      "  warnings.warn(\"the float32 number {} will be truncated to {}\".format(neg_max, -min_positive_val))\n",
      "/Users/annastuckert/anaconda3/envs/deeplabcut3/lib/python3.10/site-packages/onnxconverter_common/float16.py:43: UserWarning: the float32 number 6.559096355496555e-20 will be truncated to 1e-07\n",
      "  warnings.warn(\"the float32 number {} will be truncated to {}\".format(pos_min, min_positive_val))\n",
      "/Users/annastuckert/anaconda3/envs/deeplabcut3/lib/python3.10/site-packages/onnxconverter_common/float16.py:53: UserWarning: the float32 number -3.5368379251449805e-19 will be truncated to -1e-07\n",
      "  warnings.warn(\"the float32 number {} will be truncated to {}\".format(neg_max, -min_positive_val))\n",
      "/Users/annastuckert/anaconda3/envs/deeplabcut3/lib/python3.10/site-packages/onnxconverter_common/float16.py:43: UserWarning: the float32 number 4.517322990238015e-22 will be truncated to 1e-07\n",
      "  warnings.warn(\"the float32 number {} will be truncated to {}\".format(pos_min, min_positive_val))\n",
      "/Users/annastuckert/anaconda3/envs/deeplabcut3/lib/python3.10/site-packages/onnxconverter_common/float16.py:53: UserWarning: the float32 number -7.823028205259837e-23 will be truncated to -1e-07\n",
      "  warnings.warn(\"the float32 number {} will be truncated to {}\".format(neg_max, -min_positive_val))\n",
      "/Users/annastuckert/anaconda3/envs/deeplabcut3/lib/python3.10/site-packages/onnxconverter_common/float16.py:43: UserWarning: the float32 number 8.724597932996403e-09 will be truncated to 1e-07\n",
      "  warnings.warn(\"the float32 number {} will be truncated to {}\".format(pos_min, min_positive_val))\n",
      "/Users/annastuckert/anaconda3/envs/deeplabcut3/lib/python3.10/site-packages/onnxconverter_common/float16.py:53: UserWarning: the float32 number -3.295750339304959e-09 will be truncated to -1e-07\n",
      "  warnings.warn(\"the float32 number {} will be truncated to {}\".format(neg_max, -min_positive_val))\n",
      "/Users/annastuckert/anaconda3/envs/deeplabcut3/lib/python3.10/site-packages/onnxconverter_common/float16.py:43: UserWarning: the float32 number 8.907092841070607e-09 will be truncated to 1e-07\n",
      "  warnings.warn(\"the float32 number {} will be truncated to {}\".format(pos_min, min_positive_val))\n",
      "/Users/annastuckert/anaconda3/envs/deeplabcut3/lib/python3.10/site-packages/onnxconverter_common/float16.py:53: UserWarning: the float32 number -4.328510883055969e-08 will be truncated to -1e-07\n",
      "  warnings.warn(\"the float32 number {} will be truncated to {}\".format(neg_max, -min_positive_val))\n"
     ]
    }
   ],
   "source": [
    "# FP32 to FP16 conversion\n",
    "onnx_fp16_model_name = onnx_model_name + \"_fp16.onnx\"\n",
    "onnx_fp16_model_path = os.path.join(working_dir, onnx_fp16_model_name)\n",
    "\n",
    "model_fp32 = onnx.load(onnx_model_path)\n",
    "model_fp16 = float16.convert_float_to_float16(model_fp32)\n",
    "onnx.save(model_fp16, onnx_fp16_model_path)"
   ]
  },
  {
   "cell_type": "markdown",
   "metadata": {},
   "source": [
    "# Experiments"
   ]
  },
  {
   "cell_type": "markdown",
   "metadata": {},
   "source": [
    "### 1-Frame inference"
   ]
  },
  {
   "cell_type": "code",
   "execution_count": 10,
   "metadata": {},
   "outputs": [
    {
     "data": {
      "application/vnd.jupyter.widget-view+json": {
       "model_id": "43277a366a3b41a3926f6db44335934a",
       "version_major": 2,
       "version_minor": 0
      },
      "text/plain": [
       "Dropdown(description='Test Image!', options=('img040.png', 'img032.png', 'img026.png', 'img027.png', 'img033.p…"
      ]
     },
     "metadata": {},
     "output_type": "display_data"
    }
   ],
   "source": [
    "test_images = glob.glob(os.path.normpath(working_dir + \"/*.png\"))\n",
    "test_images.extend(glob.glob(os.path.normpath(working_dir + \"/*.jpg\")))\n",
    "test_images = [t.split(\"/\")[-1] for t in test_images]\n",
    "\n",
    "test_img_selection = widgets.Dropdown(\n",
    "    options=test_images,\n",
    "    value=test_images[0],\n",
    "    description=\"Test Image!\",\n",
    "    disabled=False,\n",
    ")\n",
    "display(test_img_selection)"
   ]
  },
  {
   "cell_type": "code",
   "execution_count": 11,
   "metadata": {},
   "outputs": [
    {
     "data": {
      "text/plain": [
       "<matplotlib.image.AxesImage at 0x34f190580>"
      ]
     },
     "execution_count": 11,
     "metadata": {},
     "output_type": "execute_result"
    },
    {
     "data": {
      "image/png": "[encoded data removed]",
      "text/plain": [
       "<Figure size 640x480 with 1 Axes>"
      ]
     },
     "metadata": {},
     "output_type": "display_data"
    }
   ],
   "source": [
    "test_image_path = os.path.join(working_dir, test_img_selection.value)\n",
    "img = cv2.imread(test_image_path)\n",
    "plt.imshow(img)"
   ]
  },
  {
   "cell_type": "code",
   "execution_count": 12,
   "metadata": {},
   "outputs": [
    {
     "data": {
      "application/vnd.jupyter.widget-view+json": {
       "model_id": "2436d3b89cde4fb89b454c475040bdef",
       "version_major": 2,
       "version_minor": 0
      },
      "text/plain": [
       "Dropdown(description='ModelType', options=('pytorch', 'onnx'), value='pytorch')"
      ]
     },
     "metadata": {},
     "output_type": "display_data"
    },
    {
     "data": {
      "application/vnd.jupyter.widget-view+json": {
       "model_id": "fd6c6e705b4248e291a509493e10af92",
       "version_major": 2,
       "version_minor": 0
      },
      "text/plain": [
       "Dropdown(description='Device', options=('cpu', 'cuda', 'tensorrt'), value='cpu')"
      ]
     },
     "metadata": {},
     "output_type": "display_data"
    },
    {
     "data": {
      "application/vnd.jupyter.widget-view+json": {
       "model_id": "a6626974dd524731884da384b53f2615",
       "version_major": 2,
       "version_minor": 0
      },
      "text/plain": [
       "RadioButtons(description='Precision', options=('FP32', 'FP16'), value='FP32')"
      ]
     },
     "metadata": {},
     "output_type": "display_data"
    }
   ],
   "source": [
    "# Modeling settings\n",
    "model_types = [\"pytorch\", \"onnx\"]\n",
    "devices = [\"cpu\", \"cuda\", \"tensorrt\"]\n",
    "\n",
    "modeltype_selection = widgets.Dropdown(\n",
    "    options=model_types,\n",
    "    value=model_types[0],\n",
    "    description=\"ModelType\",\n",
    "    disabled=False,\n",
    ")\n",
    "device_selection = widgets.Dropdown(\n",
    "    options=devices,\n",
    "    value=devices[0],\n",
    "    description=\"Device\",\n",
    "    disabled=False,\n",
    ")\n",
    "model_precision = widgets.RadioButtons(options=[\"FP32\", \"FP16\"], description=\"Precision\")\n",
    "display(modeltype_selection, device_selection, model_precision)"
   ]
  },
  {
   "cell_type": "code",
   "execution_count": 13,
   "metadata": {},
   "outputs": [],
   "source": [
    "def get_model_size(model_path):\n",
    "    \"\"\"\n",
    "    Calculates the size of an ONNX model in bytes.\n",
    "\n",
    "    Args:\n",
    "        model_path (str): The path to the ONNX model file.\n",
    "\n",
    "    Returns:\n",
    "        int: The size of the model in bytes.\n",
    "    \"\"\"\n",
    "    if \".onnx\" in model_path:\n",
    "        model = onnx.load(model_path)\n",
    "        size_bytes = len(model.SerializeToString())\n",
    "    elif \".pt\" in model_path:\n",
    "        model = torch.load(model_path)\n",
    "        params = list(model.parameters())\n",
    "        size_bytes = sum([p.numel() * p.element_size() for p in params])\n",
    "\n",
    "    # Convert to KB, MB, GB, etc.\n",
    "    if size_bytes < 1024:\n",
    "        size_str = f\"{size_bytes} B\"\n",
    "    elif size_bytes < 1024 * 1024:\n",
    "        size_str = f\"{size_bytes / 1024:.2f} KB\"\n",
    "    elif size_bytes < 1024 * 1024 * 1024:\n",
    "        size_str = f\"{size_bytes / (1024 * 1024):.2f} MB\"\n",
    "    else:\n",
    "        size_str = f\"{size_bytes / (1024 * 1024 * 1024):.2f} GB\"\n",
    "\n",
    "    return size_str"
   ]
  },
  {
   "cell_type": "code",
   "execution_count": 14,
   "metadata": {},
   "outputs": [
    {
     "ename": "FileNotFoundError",
     "evalue": "[Errno 2] No such file or directory: '/Users/annastuckert/Documents/DLC_AI_Residency/DLC_AI2024/DeepLabCut-live/dlc-live-dummy/fly-kevin/resnet_fp16.onnx'",
     "output_type": "error",
     "traceback": [
      "\u001b[0;31m---------------------------------------------------------------------------\u001b[0m",
      "\u001b[0;31mFileNotFoundError\u001b[0m                         Traceback (most recent call last)",
      "Cell \u001b[0;32mIn[14], line 1\u001b[0m\n\u001b[0;32m----> 1\u001b[0m \u001b[43mget_model_size\u001b[49m\u001b[43m(\u001b[49m\n\u001b[1;32m      2\u001b[0m \u001b[43m    \u001b[49m\u001b[43mworking_dir\u001b[49m\u001b[43m \u001b[49m\u001b[38;5;241;43m+\u001b[39;49m\u001b[43m \u001b[49m\u001b[38;5;124;43m\"\u001b[39;49m\u001b[38;5;124;43m/resnet_fp16.onnx\u001b[39;49m\u001b[38;5;124;43m\"\u001b[39;49m\n\u001b[1;32m      3\u001b[0m \u001b[43m)\u001b[49m\n",
      "Cell \u001b[0;32mIn[13], line 12\u001b[0m, in \u001b[0;36mget_model_size\u001b[0;34m(model_path)\u001b[0m\n\u001b[1;32m      2\u001b[0m \u001b[38;5;250m\u001b[39m\u001b[38;5;124;03m\"\"\"\u001b[39;00m\n\u001b[1;32m      3\u001b[0m \u001b[38;5;124;03mCalculates the size of an ONNX model in bytes.\u001b[39;00m\n\u001b[1;32m      4\u001b[0m \n\u001b[0;32m   (...)\u001b[0m\n\u001b[1;32m      9\u001b[0m \u001b[38;5;124;03m    int: The size of the model in bytes.\u001b[39;00m\n\u001b[1;32m     10\u001b[0m \u001b[38;5;124;03m\"\"\"\u001b[39;00m\n\u001b[1;32m     11\u001b[0m \u001b[38;5;28;01mif\u001b[39;00m \u001b[38;5;124m\"\u001b[39m\u001b[38;5;124m.onnx\u001b[39m\u001b[38;5;124m\"\u001b[39m \u001b[38;5;129;01min\u001b[39;00m model_path:\n\u001b[0;32m---> 12\u001b[0m     model \u001b[38;5;241m=\u001b[39m \u001b[43monnx\u001b[49m\u001b[38;5;241;43m.\u001b[39;49m\u001b[43mload\u001b[49m\u001b[43m(\u001b[49m\u001b[43mmodel_path\u001b[49m\u001b[43m)\u001b[49m\n\u001b[1;32m     13\u001b[0m     size_bytes \u001b[38;5;241m=\u001b[39m \u001b[38;5;28mlen\u001b[39m(model\u001b[38;5;241m.\u001b[39mSerializeToString())\n\u001b[1;32m     14\u001b[0m \u001b[38;5;28;01melif\u001b[39;00m \u001b[38;5;124m\"\u001b[39m\u001b[38;5;124m.pt\u001b[39m\u001b[38;5;124m\"\u001b[39m \u001b[38;5;129;01min\u001b[39;00m model_path:\n",
      "File \u001b[0;32m~/anaconda3/envs/deeplabcut3/lib/python3.10/site-packages/onnx/__init__.py:210\u001b[0m, in \u001b[0;36mload_model\u001b[0;34m(f, format, load_external_data)\u001b[0m\n\u001b[1;32m    189\u001b[0m \u001b[38;5;28;01mdef\u001b[39;00m \u001b[38;5;21mload_model\u001b[39m(\n\u001b[1;32m    190\u001b[0m     f: IO[\u001b[38;5;28mbytes\u001b[39m] \u001b[38;5;241m|\u001b[39m \u001b[38;5;28mstr\u001b[39m \u001b[38;5;241m|\u001b[39m os\u001b[38;5;241m.\u001b[39mPathLike,\n\u001b[1;32m    191\u001b[0m     \u001b[38;5;28mformat\u001b[39m: _SupportedFormat \u001b[38;5;241m|\u001b[39m \u001b[38;5;28;01mNone\u001b[39;00m \u001b[38;5;241m=\u001b[39m \u001b[38;5;28;01mNone\u001b[39;00m,  \u001b[38;5;66;03m# noqa: A002\u001b[39;00m\n\u001b[1;32m    192\u001b[0m     load_external_data: \u001b[38;5;28mbool\u001b[39m \u001b[38;5;241m=\u001b[39m \u001b[38;5;28;01mTrue\u001b[39;00m,\n\u001b[1;32m    193\u001b[0m ) \u001b[38;5;241m-\u001b[39m\u001b[38;5;241m>\u001b[39m ModelProto:\n\u001b[1;32m    194\u001b[0m \u001b[38;5;250m    \u001b[39m\u001b[38;5;124;03m\"\"\"Loads a serialized ModelProto into memory.\u001b[39;00m\n\u001b[1;32m    195\u001b[0m \n\u001b[1;32m    196\u001b[0m \u001b[38;5;124;03m    Args:\u001b[39;00m\n\u001b[0;32m   (...)\u001b[0m\n\u001b[1;32m    208\u001b[0m \u001b[38;5;124;03m        Loaded in-memory ModelProto.\u001b[39;00m\n\u001b[1;32m    209\u001b[0m \u001b[38;5;124;03m    \"\"\"\u001b[39;00m\n\u001b[0;32m--> 210\u001b[0m     model \u001b[38;5;241m=\u001b[39m _get_serializer(\u001b[38;5;28mformat\u001b[39m, f)\u001b[38;5;241m.\u001b[39mdeserialize_proto(\u001b[43m_load_bytes\u001b[49m\u001b[43m(\u001b[49m\u001b[43mf\u001b[49m\u001b[43m)\u001b[49m, ModelProto())\n\u001b[1;32m    212\u001b[0m     \u001b[38;5;28;01mif\u001b[39;00m load_external_data:\n\u001b[1;32m    213\u001b[0m         model_filepath \u001b[38;5;241m=\u001b[39m _get_file_path(f)\n",
      "File \u001b[0;32m~/anaconda3/envs/deeplabcut3/lib/python3.10/site-packages/onnx/__init__.py:147\u001b[0m, in \u001b[0;36m_load_bytes\u001b[0;34m(f)\u001b[0m\n\u001b[1;32m    145\u001b[0m \u001b[38;5;28;01melse\u001b[39;00m:\n\u001b[1;32m    146\u001b[0m     f \u001b[38;5;241m=\u001b[39m typing\u001b[38;5;241m.\u001b[39mcast(Union[\u001b[38;5;28mstr\u001b[39m, os\u001b[38;5;241m.\u001b[39mPathLike], f)\n\u001b[0;32m--> 147\u001b[0m     \u001b[38;5;28;01mwith\u001b[39;00m \u001b[38;5;28;43mopen\u001b[39;49m\u001b[43m(\u001b[49m\u001b[43mf\u001b[49m\u001b[43m,\u001b[49m\u001b[43m \u001b[49m\u001b[38;5;124;43m\"\u001b[39;49m\u001b[38;5;124;43mrb\u001b[39;49m\u001b[38;5;124;43m\"\u001b[39;49m\u001b[43m)\u001b[49m \u001b[38;5;28;01mas\u001b[39;00m readable:\n\u001b[1;32m    148\u001b[0m         content \u001b[38;5;241m=\u001b[39m readable\u001b[38;5;241m.\u001b[39mread()\n\u001b[1;32m    149\u001b[0m \u001b[38;5;28;01mreturn\u001b[39;00m content\n",
      "\u001b[0;31mFileNotFoundError\u001b[0m: [Errno 2] No such file or directory: '/Users/annastuckert/Documents/DLC_AI_Residency/DLC_AI2024/DeepLabCut-live/dlc-live-dummy/fly-kevin/resnet_fp16.onnx'"
     ]
    }
   ],
   "source": [
    "\n",
    "get_model_size(\n",
    "    working_dir + \"/resnet_fp16.onnx\"\n",
    ")"
   ]
  },
  {
   "cell_type": "code",
   "execution_count": 17,
   "metadata": {},
   "outputs": [
    {
     "data": {
      "application/vnd.jupyter.widget-view+json": {
       "model_id": "ed0df7f3c87940c2acc5a860b4312df7",
       "version_major": 2,
       "version_minor": 0
      },
      "text/plain": [
       "RadioButtons(description='Display?', options=('True', 'False'), value='True')"
      ]
     },
     "metadata": {},
     "output_type": "display_data"
    }
   ],
   "source": [
    "display_choice = widgets.RadioButtons(description=\"Display?\", options=[\"True\", \"False\"])\n",
    "display(display_choice)"
   ]
  },
  {
   "cell_type": "code",
   "execution_count": 18,
   "metadata": {},
   "outputs": [],
   "source": [
    "# Display settings\n",
    "#* Replace the following with your display settings\n",
    "resize_ratio = 0.5\n",
    "# cropping = [50, 250, 100, 450]\n",
    "# dynamic_cropping = (True, 0.5, 10)"
   ]
  },
  {
   "cell_type": "code",
   "execution_count": 19,
   "metadata": {},
   "outputs": [
    {
     "data": {
      "text/plain": [
       "({'poses': tensor([[[[1.0955e+02, 2.2157e+02, 5.6520e-01],\n",
       "            [1.2422e+02, 2.2974e+02, 7.7328e-01],\n",
       "            [1.4611e+02, 2.4134e+02, 7.9156e-01],\n",
       "            [1.7390e+02, 2.4915e+02, 7.3797e-01],\n",
       "            [2.4604e+02, 2.2943e+02, 4.0934e-01],\n",
       "            [1.8772e+02, 3.2765e+02, 5.6734e-01],\n",
       "            [3.0865e+02, 3.3893e+02, 4.3967e-01],\n",
       "            [1.0960e+02, 2.3340e+02, 2.7015e-01],\n",
       "            [3.2022e+02, 3.2540e+02, 4.9863e-01],\n",
       "            [3.1589e+02, 3.3470e+02, 5.0686e-01],\n",
       "            [3.0160e+02, 3.5832e+02, 4.8476e-01],\n",
       "            [2.2294e+02, 2.8019e+02, 3.2941e-01],\n",
       "            [3.1325e+02, 3.4941e+02, 3.2105e-01],\n",
       "            [7.8374e+01, 1.7292e+02, 8.4022e-01],\n",
       "            [7.0091e+01, 1.9340e+02, 8.3205e-01],\n",
       "            [3.9065e+02, 3.2095e+02, 6.1038e-01],\n",
       "            [2.6643e+02, 1.8351e+02, 4.2358e-01],\n",
       "            [1.9096e+02, 1.7431e+02, 4.2973e-01],\n",
       "            [2.7297e+02, 3.9714e+02, 5.1598e-01],\n",
       "            [1.0729e+02, 3.9140e+02, 6.4621e-01],\n",
       "            [6.8665e+01, 3.1020e+02, 3.6776e-01],\n",
       "            [2.6944e+02, 3.6893e+02, 2.4649e-01],\n",
       "            [2.6152e+02, 2.4460e+02, 4.0848e-01],\n",
       "            [2.7770e+02, 3.5126e+02, 3.7060e-01],\n",
       "            [1.8634e+02, 3.4555e+02, 4.1594e-01]]]])},\n",
       " 0.10470700263977051)"
      ]
     },
     "execution_count": 19,
     "metadata": {},
     "output_type": "execute_result"
    }
   ],
   "source": [
    "dlc_live = DLCLive(\n",
    "    path=working_dir,\n",
    "    model_type=modeltype_selection.value,\n",
    "    device=device_selection.value,\n",
    "    display=bool(display_choice.value),\n",
    "    snapshot=snapshot_selection.value,\n",
    "    resize=resize_ratio,\n",
    "    # cropping=cropping,\n",
    "    # dynamic=dynamic_cropping\n",
    "    precision=model_precision.value,\n",
    ")\n",
    "\n",
    "onnx_pose = dlc_live.init_inference(frame=img)\n",
    "onnx_pose"
   ]
  },
  {
   "cell_type": "code",
   "execution_count": 20,
   "metadata": {},
   "outputs": [],
   "source": [
    "dlc_live.display.destroy()"
   ]
  },
  {
   "cell_type": "markdown",
   "metadata": {},
   "source": [
    "### Video inference"
   ]
  },
  {
   "cell_type": "code",
   "execution_count": 21,
   "metadata": {},
   "outputs": [
    {
     "ename": "IndexError",
     "evalue": "list index out of range",
     "output_type": "error",
     "traceback": [
      "\u001b[0;31m---------------------------------------------------------------------------\u001b[0m",
      "\u001b[0;31mIndexError\u001b[0m                                Traceback (most recent call last)",
      "Cell \u001b[0;32mIn[21], line 7\u001b[0m\n\u001b[1;32m      2\u001b[0m test_videos\u001b[38;5;241m.\u001b[39mextend(glob\u001b[38;5;241m.\u001b[39mglob(os\u001b[38;5;241m.\u001b[39mpath\u001b[38;5;241m.\u001b[39mnormpath(working_dir \u001b[38;5;241m+\u001b[39m \u001b[38;5;124m\"\u001b[39m\u001b[38;5;124m/*.mp4\u001b[39m\u001b[38;5;124m\"\u001b[39m)))\n\u001b[1;32m      3\u001b[0m test_videos \u001b[38;5;241m=\u001b[39m [t\u001b[38;5;241m.\u001b[39msplit(\u001b[38;5;124m\"\u001b[39m\u001b[38;5;124m/\u001b[39m\u001b[38;5;124m\"\u001b[39m)[\u001b[38;5;241m-\u001b[39m\u001b[38;5;241m1\u001b[39m] \u001b[38;5;28;01mfor\u001b[39;00m t \u001b[38;5;129;01min\u001b[39;00m test_videos]\n\u001b[1;32m      5\u001b[0m test_vid_selection \u001b[38;5;241m=\u001b[39m widgets\u001b[38;5;241m.\u001b[39mDropdown(\n\u001b[1;32m      6\u001b[0m     options\u001b[38;5;241m=\u001b[39mtest_videos,\n\u001b[0;32m----> 7\u001b[0m     value\u001b[38;5;241m=\u001b[39m\u001b[43mtest_videos\u001b[49m\u001b[43m[\u001b[49m\u001b[38;5;241;43m0\u001b[39;49m\u001b[43m]\u001b[49m,\n\u001b[1;32m      8\u001b[0m     description\u001b[38;5;241m=\u001b[39m\u001b[38;5;124m\"\u001b[39m\u001b[38;5;124mTest Video!\u001b[39m\u001b[38;5;124m\"\u001b[39m,\n\u001b[1;32m      9\u001b[0m     disabled\u001b[38;5;241m=\u001b[39m\u001b[38;5;28;01mFalse\u001b[39;00m,\n\u001b[1;32m     10\u001b[0m )\n\u001b[1;32m     11\u001b[0m display(test_vid_selection)\n",
      "\u001b[0;31mIndexError\u001b[0m: list index out of range"
     ]
    }
   ],
   "source": [
    "test_videos = glob.glob(os.path.normpath(working_dir + \"/*.avi\"))\n",
    "test_videos.extend(glob.glob(os.path.normpath(working_dir + \"/*.mp4\")))\n",
    "test_videos = [t.split(\"/\")[-1] for t in test_videos]\n",
    "\n",
    "test_vid_selection = widgets.Dropdown(\n",
    "    options=test_videos,\n",
    "    value=test_videos[0],\n",
    "    description=\"Test Video!\",\n",
    "    disabled=False,\n",
    ")\n",
    "display(test_vid_selection)"
   ]
  },
  {
   "cell_type": "code",
   "execution_count": null,
   "metadata": {},
   "outputs": [],
   "source": [
    "def get_video_characteristics(video_path):\n",
    "    \"\"\"\n",
    "    Extracts the FPS, number of frames, length in seconds, and frame size of a video.\n",
    "\n",
    "    Args:\n",
    "        video_path (str): The path to the video file.\n",
    "\n",
    "    Returns:\n",
    "        tuple: A tuple containing the FPS, number of frames, length in seconds, and frame size.\n",
    "    \"\"\"\n",
    "\n",
    "    cap = cv2.VideoCapture(video_path)\n",
    "\n",
    "    # Get video properties\n",
    "    fps = cap.get(cv2.CAP_PROP_FPS)\n",
    "    frame_count = cap.get(cv2.CAP_PROP_FRAME_COUNT)\n",
    "    frame_width = int(cap.get(cv2.CAP_PROP_FRAME_WIDTH)) * 0.25\n",
    "    frame_height = int(cap.get(cv2.CAP_PROP_FRAME_HEIGHT)) * 0.25\n",
    "\n",
    "    # Calculate video length in seconds\n",
    "    video_length = frame_count / fps\n",
    "\n",
    "    cap.release()\n",
    "\n",
    "    return fps, frame_count, video_length, (frame_width, frame_height)"
   ]
  },
  {
   "cell_type": "code",
   "execution_count": 22,
   "metadata": {},
   "outputs": [
    {
     "ename": "NameError",
     "evalue": "name 'test_vid_selection' is not defined",
     "output_type": "error",
     "traceback": [
      "\u001b[0;31m---------------------------------------------------------------------------\u001b[0m",
      "\u001b[0;31mNameError\u001b[0m                                 Traceback (most recent call last)",
      "Cell \u001b[0;32mIn[22], line 1\u001b[0m\n\u001b[0;32m----> 1\u001b[0m video_path \u001b[38;5;241m=\u001b[39m os\u001b[38;5;241m.\u001b[39mpath\u001b[38;5;241m.\u001b[39mjoin(working_dir, \u001b[43mtest_vid_selection\u001b[49m\u001b[38;5;241m.\u001b[39mvalue)\n\u001b[1;32m      3\u001b[0m fps, frame_count, video_length, frame_size \u001b[38;5;241m=\u001b[39m get_video_characteristics(video_path)\n\u001b[1;32m      5\u001b[0m \u001b[38;5;28mprint\u001b[39m(\u001b[38;5;124m\"\u001b[39m\u001b[38;5;124mFPS:\u001b[39m\u001b[38;5;124m\"\u001b[39m, fps)\n",
      "\u001b[0;31mNameError\u001b[0m: name 'test_vid_selection' is not defined"
     ]
    }
   ],
   "source": [
    "video_path = os.path.join(working_dir, test_vid_selection.value)\n",
    "\n",
    "fps, frame_count, video_length, frame_size = get_video_characteristics(video_path)\n",
    "\n",
    "print(\"FPS:\", fps)\n",
    "print(\"Number of frames:\", frame_count)\n",
    "print(\"Video length (seconds):\", video_length)\n",
    "print(\"Frame size:\", frame_size)"
   ]
  },
  {
   "cell_type": "code",
   "execution_count": 25,
   "metadata": {},
   "outputs": [
    {
     "data": {
      "application/vnd.jupyter.widget-view+json": {
       "model_id": "b5b419462da34b0e8f3e281ed8e43a8c",
       "version_major": 2,
       "version_minor": 0
      },
      "text/plain": [
       "RadioButtons(description='Save processed video?', options=('True', 'False'), value='True')"
      ]
     },
     "metadata": {},
     "output_type": "display_data"
    }
   ],
   "source": [
    "save_video_choice = widgets.RadioButtons(options=[\"True\", \"False\"], description=\"Save processed video?\")\n",
    "display(save_video_choice)"
   ]
  },
  {
   "cell_type": "code",
   "execution_count": 26,
   "metadata": {},
   "outputs": [],
   "source": [
    "if save_video_choice.value == 'False': save_video = False\n",
    "else: save_video = True"
   ]
  },
  {
   "cell_type": "code",
   "execution_count": null,
   "metadata": {},
   "outputs": [],
   "source": [
    "poses, times = analyze_video(\n",
    "    video_path=video_path,\n",
    "    model_type=modeltype_selection.value,\n",
    "    snapshot=snapshot_selection.value,\n",
    "    device=device_selection.value,\n",
    "    resize=resize_ratio,\n",
    "    # cropping=cropping,\n",
    "    # dynamic=dynamic_cropping\n",
    "    precision=model_precision.value,\n",
    "    model_path=working_dir,\n",
    "    display=True,\n",
    "    save_poses=True,\n",
    "    save_dir=working_dir + \"/out\",\n",
    "    draw_keypoint_names=False,\n",
    "    save_video=save_video\n",
    ")"
   ]
  },
  {
   "cell_type": "markdown",
   "metadata": {},
   "source": [
    "### Profiling"
   ]
  },
  {
   "cell_type": "code",
   "execution_count": 23,
   "metadata": {},
   "outputs": [
    {
     "ename": "NameError",
     "evalue": "name 'times' is not defined",
     "output_type": "error",
     "traceback": [
      "\u001b[0;31m---------------------------------------------------------------------------\u001b[0m",
      "\u001b[0;31mNameError\u001b[0m                                 Traceback (most recent call last)",
      "Cell \u001b[0;32mIn[23], line 4\u001b[0m\n\u001b[1;32m      1\u001b[0m \u001b[38;5;66;03m# Compute mean ± std inference time per frame\u001b[39;00m\n\u001b[1;32m      2\u001b[0m \u001b[38;5;28mprint\u001b[39m(\n\u001b[1;32m      3\u001b[0m     \u001b[38;5;124m\"\u001b[39m\u001b[38;5;124mMean inference time including 1st inference \u001b[39m\u001b[38;5;124m\"\u001b[39m,\n\u001b[0;32m----> 4\u001b[0m     np\u001b[38;5;241m.\u001b[39mround(np\u001b[38;5;241m.\u001b[39mmean(\u001b[43mtimes\u001b[49m) \u001b[38;5;241m*\u001b[39m \u001b[38;5;241m1000\u001b[39m, \u001b[38;5;241m2\u001b[39m),\n\u001b[1;32m      5\u001b[0m     \u001b[38;5;124m\"\u001b[39m\u001b[38;5;124mms ±\u001b[39m\u001b[38;5;124m\"\u001b[39m,\n\u001b[1;32m      6\u001b[0m     np\u001b[38;5;241m.\u001b[39mround(np\u001b[38;5;241m.\u001b[39mstd(times) \u001b[38;5;241m*\u001b[39m \u001b[38;5;241m1000\u001b[39m, \u001b[38;5;241m2\u001b[39m),\n\u001b[1;32m      7\u001b[0m )\n\u001b[1;32m      8\u001b[0m \u001b[38;5;28mprint\u001b[39m(\n\u001b[1;32m      9\u001b[0m     \u001b[38;5;124m\"\u001b[39m\u001b[38;5;124mMean inference time excluding 1st inference \u001b[39m\u001b[38;5;124m\"\u001b[39m,\n\u001b[1;32m     10\u001b[0m     np\u001b[38;5;241m.\u001b[39mround(np\u001b[38;5;241m.\u001b[39mmean(times[\u001b[38;5;241m1\u001b[39m:]) \u001b[38;5;241m*\u001b[39m \u001b[38;5;241m1000\u001b[39m, \u001b[38;5;241m2\u001b[39m),\n\u001b[1;32m     11\u001b[0m     \u001b[38;5;124m\"\u001b[39m\u001b[38;5;124mms ±\u001b[39m\u001b[38;5;124m\"\u001b[39m,\n\u001b[1;32m     12\u001b[0m     np\u001b[38;5;241m.\u001b[39mround(np\u001b[38;5;241m.\u001b[39mstd(times[\u001b[38;5;241m1\u001b[39m:]) \u001b[38;5;241m*\u001b[39m \u001b[38;5;241m1000\u001b[39m, \u001b[38;5;241m2\u001b[39m),\n\u001b[1;32m     13\u001b[0m )\n",
      "\u001b[0;31mNameError\u001b[0m: name 'times' is not defined"
     ]
    }
   ],
   "source": [
    "# Compute mean ± std inference time per frame\n",
    "print(\n",
    "    \"Mean inference time including 1st inference \",\n",
    "    np.round(np.mean(times) * 1000, 2),\n",
    "    \"ms ±\",\n",
    "    np.round(np.std(times) * 1000, 2),\n",
    ")\n",
    "print(\n",
    "    \"Mean inference time excluding 1st inference \",\n",
    "    np.round(np.mean(times[1:]) * 1000, 2),\n",
    "    \"ms ±\",\n",
    "    np.round(np.std(times[1:]) * 1000, 2),\n",
    ")"
   ]
  },
  {
   "cell_type": "code",
   "execution_count": null,
   "metadata": {},
   "outputs": [],
   "source": [
    "def calculate_fps_stats(inference_times):\n",
    "    \"\"\"\n",
    "    Calculates the average FPS rate and its standard deviation from a list of inference times.\n",
    "\n",
    "    Args:\n",
    "        inference_times (list): A list of inference times in seconds.\n",
    "\n",
    "    Returns:\n",
    "        tuple: A tuple containing the average FPS rate and its standard deviation.\n",
    "    \"\"\"\n",
    "\n",
    "    # Calculate FPS for each frame\n",
    "    fps_values = [1 / time for time in inference_times]\n",
    "\n",
    "    # Calculate average FPS\n",
    "    average_fps = np.mean(fps_values)\n",
    "\n",
    "    # Calculate standard deviation of FPS\n",
    "    std_dev_fps = np.std(fps_values)\n",
    "\n",
    "    return average_fps, std_dev_fps"
   ]
  },
  {
   "cell_type": "code",
   "execution_count": null,
   "metadata": {},
   "outputs": [],
   "source": [
    "average_fps, std_dev_fps = calculate_fps_stats(times)\n",
    "\n",
    "print(\"Average FPS:\", np.round(average_fps, 2))\n",
    "print(\"Standard Deviation of FPS:\", np.round(std_dev_fps, 2))"
   ]
  },
  {
   "cell_type": "markdown",
   "metadata": {},
   "source": [
    "### Live video inference (todo)"
   ]
  },
  {
   "cell_type": "code",
   "execution_count": null,
   "metadata": {},
   "outputs": [],
   "source": [
    "#import the function (move this to begining of script)\n",
    "from dlclive.LiveVideoInference import analyze_live_video"
   ]
  },
  {
   "cell_type": "code",
   "execution_count": 30,
   "metadata": {},
   "outputs": [
    {
     "data": {
      "application/vnd.jupyter.widget-view+json": {
       "model_id": "55ad03f559954252b0a8290a4ba6313f",
       "version_major": 2,
       "version_minor": 0
      },
      "text/plain": [
       "Text(value='test_test_test_test', description='Experiment Name:', style=TextStyle(description_width='initial')…"
      ]
     },
     "metadata": {},
     "output_type": "display_data"
    }
   ],
   "source": [
    "# Define widgets for experiment_name\n",
    "experiment_name = widgets.Text(\n",
    "    value=\"test_test_test_test\",\n",
    "    description=\"Experiment Name:\",\n",
    "    style={'description_width': 'initial'}\n",
    ")\n",
    "\n",
    "# Display widgets\n",
    "display(experiment_name)"
   ]
  },
  {
   "cell_type": "code",
   "execution_count": 34,
   "metadata": {},
   "outputs": [
    {
     "data": {
      "application/vnd.jupyter.widget-view+json": {
       "model_id": "93e859ce9df74d26a6d5fede77efce0a",
       "version_major": 2,
       "version_minor": 0
      },
      "text/plain": [
       "IntSlider(value=0, description='Camera:', max=5, style=SliderStyle(description_width='initial'))"
      ]
     },
     "metadata": {},
     "output_type": "display_data"
    }
   ],
   "source": [
    "# Choose which camera to use\n",
    "# Note: we have only carried out testing using camera 0, i.e. the built-in webcam of a laptop. the max setting is arbitrarily chosen for the moment\n",
    "camera = widgets.IntSlider(\n",
    "    value=0,\n",
    "    min=0,\n",
    "    max=5,\n",
    "    step=1,\n",
    "    description=\"Camera:\",\n",
    "    style={'description_width': 'initial'}\n",
    ")\n",
    "\n",
    "display(camera)"
   ]
  },
  {
   "cell_type": "code",
   "execution_count": 37,
   "metadata": {},
   "outputs": [
    {
     "name": "stdout",
     "output_type": "stream",
     "text": [
      "{'host_name': 'MCKDQTN4YXDV', 'op_sys': 'macOS-14.5-arm64-arm-64bit', 'python': 'deeplabcut3', 'device_type': 'CPU', 'device': ['Apple M2'], 'freeze': ['absl-py==2.1.0', 'alabaster==0.7.16', 'albumentations==1.4.3', 'app-model==0.2.7', 'appdirs==1.4.4', 'appnope==0.1.4', 'asttokens==2.4.1', 'astunparse==1.6.3', 'attrs==23.2.0', 'Babel==2.15.0', 'beautifulsoup4==4.12.3', 'blosc2==2.0.0', 'build==1.2.1', 'cachetools==5.4.0', 'cachey==0.2.1', 'certifi==2024.7.4', 'charset-normalizer==3.3.2', 'click==8.1.7', 'cloudpickle==3.0.0', 'colorcet==3.1.0', 'coloredlogs==15.0.1', 'comm==0.2.2', 'contourpy==1.2.1', 'cycler==0.12.1', 'Cython==3.0.10', 'dask==2024.7.0', 'dask-expr==1.1.7', 'dask-image==2024.5.3', 'debugpy==1.8.2', 'decorator==5.1.1', 'deeplabcut @ git+https://github.com/DeepLabCut/DeepLabCut.git@83f1acb9c179caf46353cdb211318b29832ff6ec', 'deeplabcut-live==1.0.2', 'deeplabcut-live-gui @ file:///Users/annastuckert/Documents/DeepLabCut-live-GUI', 'dill==0.3.8', 'dlclibrary==0.0.6', 'docker-pycreds==0.4.0', 'docstring_parser==0.16', 'docutils==0.17.1', 'einops==0.8.0', 'exceptiongroup==1.2.2', 'executing==2.0.1', 'filelock==3.15.4', 'filterpy==1.4.5', 'flatbuffers==24.3.25', 'flexcache==0.3', 'flexparser==0.3.1', 'fonttools==4.53.1', 'freetype-py==2.4.0', 'fsspec==2024.6.1', 'gast==0.4.0', 'gdown==5.2.0', 'gitdb==4.0.11', 'GitPython==3.1.43', 'google-auth==2.32.0', 'google-auth-oauthlib==0.4.6', 'google-pasta==0.2.0', 'grpcio==1.65.4', 'h5py==3.11.0', 'HeapDict==1.0.1', 'hsluv==5.0.4', 'huggingface-hub==0.23.5', 'humanfriendly==10.0', 'idna==3.7', 'imageio==2.34.2', 'imageio-ffmpeg==0.5.1', 'imagesize==1.4.1', 'imgaug==0.4.0', 'importlib_metadata==8.0.0', 'imutils==0.5.4', 'in-n-out==0.2.1', 'ipykernel==6.29.5', 'ipython==8.26.0', 'ipywidgets==8.1.5', 'jedi==0.19.1', 'Jinja2==3.1.4', 'joblib==1.4.2', 'jsonschema==4.23.0', 'jsonschema-specifications==2023.12.1', 'jupyter_client==8.6.2', 'jupyter_core==5.7.2', 'jupyterlab_widgets==3.0.13', 'keras==2.11.0', 'kiwisolver==1.4.5', 'lazy_loader==0.4', 'libclang==18.1.1', 'llvmlite==0.43.0', 'locket==1.0.0', 'magicgui==0.8.3', 'Markdown==3.6', 'markdown-it-py==3.0.0', 'MarkupSafe==2.1.5', 'matplotlib==3.8.4', 'matplotlib-inline==0.1.7', 'mdurl==0.1.2', 'memory-profiler==0.61.0', 'ml-dtypes==0.4.0', 'mpmath==1.3.0', 'msgpack==1.0.8', 'msgpack-numpy==0.4.8', 'multiprocess==0.70.16', 'namex==0.0.8', 'napari==0.4.18', 'napari-console==0.0.9', 'napari-deeplabcut==0.2.1.7', 'napari-plugin-engine==0.2.0', 'napari-svg==0.2.0', 'natsort==8.4.0', 'nest-asyncio==1.6.0', 'networkx==3.3', 'npe2==0.7.6', 'numba==0.60.0', 'numexpr @ file:///private/var/folders/k1/30mswbxs7r1g6zwn8y4fyt500000gp/T/abs_45yefq0kt6/croot/numexpr_1696515289183/work', 'numpy==1.26.4', 'numpydoc==1.5.0', 'oauthlib==3.2.2', 'onnx==1.16.2', 'onnxconverter-common==1.14.0', 'onnxruntime==1.18.1', 'onnxruntime-tools==1.7.0', 'onnxscript==0.1.0.dev20240813', 'opencv-python==4.10.0.84', 'opencv-python-headless==4.10.0.84', 'opt-einsum==3.3.0', 'optree==0.12.1', 'packaging @ file:///home/conda/feedstock_root/build_artifacts/packaging_1718189413536/work', 'pandas==1.5.3', 'parso==0.8.4', 'partd==1.4.2', 'patsy==0.5.6', 'pexpect==4.9.0', 'pillow==10.4.0', 'PIMS==0.7', 'Pint==0.24.3', 'pip==24.0', 'platformdirs==4.2.2', 'pooch==1.8.2', 'prompt_toolkit==3.0.47', 'protobuf==3.20.2', 'psutil==6.0.0', 'psygnal==0.11.1', 'ptyprocess==0.7.0', 'pure-eval==0.2.2', 'py-cpuinfo @ file:///home/conda/feedstock_root/build_artifacts/py-cpuinfo_1666774466606/work', 'py3nvml==0.2.7', 'pyarrow==17.0.0', 'pyasn1==0.6.0', 'pyasn1_modules==0.4.0', 'pycocotools==2.0.8', 'pyconify==0.1.6', 'pydantic==1.10.17', 'pydantic-compat==0.1.2', 'Pygments==2.18.0', 'PyOpenGL==3.1.7', 'pyparsing==3.1.2', 'pyproject_hooks==1.1.0', 'pyserial==3.5', 'PySide6==6.4.2', 'PySide6-Addons==6.4.2', 'PySide6-Essentials==6.4.2', 'PySocks==1.7.1', 'python-dateutil==2.9.0.post0', 'pytz==2024.1', 'PyYAML==6.0.1', 'pyzmq==26.0.3', 'QDarkStyle==3.1', 'qtconsole==5.5.2', 'QtPy==2.4.1', 'referencing==0.35.1', 'requests==2.32.3', 'requests-oauthlib==2.0.0', 'rich==13.7.1', 'rpds-py==0.19.0', 'rsa==4.9', 'ruamel.yaml==0.17.40', 'ruamel.yaml.clib==0.2.8', 'safetensors==0.4.3', 'scikit-image==0.24.0', 'scikit-learn==1.5.1', 'scipy==1.10.1', 'sentry-sdk==2.10.0', 'setproctitle==1.3.3', 'setuptools==69.5.1', 'shapely==2.0.5', 'shellingham==1.5.4', 'shiboken6==6.4.2', 'six==1.16.0', 'slicerator==1.1.0', 'smmap==5.0.1', 'snowballstemmer==2.2.0', 'soupsieve==2.6', 'Sphinx==4.5.0', 'sphinxcontrib-applehelp==1.0.8', 'sphinxcontrib-devhelp==1.0.6', 'sphinxcontrib-htmlhelp==2.0.5', 'sphinxcontrib-jsmath==1.0.1', 'sphinxcontrib-qthelp==1.0.7', 'sphinxcontrib-serializinghtml==1.1.10', 'stack-data==0.6.3', 'statsmodels==0.14.2', 'superqt==0.6.7', 'sympy==1.13.0', 'tables @ file:///private/var/folders/k1/30mswbxs7r1g6zwn8y4fyt500000gp/T/abs_81qnps6056/croot/pytables_1691621471831/work', 'tabulate==0.9.0', 'tensorboard==2.11.2', 'tensorboard-data-server==0.6.1', 'tensorboard-plugin-wit==1.8.1', 'tensorflow-estimator==2.11.0', 'tensorflow-io-gcs-filesystem==0.37.1', 'tensorflow-macos==2.11.0', 'tensorflow-metal==1.1.0', 'tensorpack==0.11', 'termcolor==2.4.0', 'tf-slim==1.1.0', 'threadpoolctl==3.5.0', 'tifffile==2024.7.2', 'timm==1.0.7', 'tomli==2.0.1', 'tomli_w==1.0.0', 'toolz==0.12.1', 'torch==2.3.1', 'torchvision==0.18.1', 'tornado==6.4.1', 'tqdm==4.66.4', 'traitlets==5.14.3', 'typer==0.12.3', 'typing_extensions==4.12.2', 'tzdata==2024.1', 'urllib3==2.2.2', 'vispy==0.12.2', 'wandb==0.17.4', 'wcwidth==0.2.13', 'Werkzeug==3.0.3', 'wheel==0.43.0', 'widgetsnbextension==4.0.13', 'wrapt==1.16.0', 'xmltodict==0.13.0', 'zipp==3.19.2'], 'python_version': '3.10.14 (main, May  6 2024, 14:42:37) [Clang 14.0.6 ]', 'git_hash': '6df23f9c9deb37d854201d362fd926d8e6e643cc', 'dlclive_version': '1.0.4'}\n"
     ]
    }
   ],
   "source": [
    "poses, times = analyze_live_video(\n",
    "    camera=camera.value,\n",
    "    experiment_name=experiment_name.value,\n",
    "    model_type=modeltype_selection.value,\n",
    "    snapshot=snapshot_selection.value,\n",
    "    device=device_selection.value,\n",
    "    resize=resize_ratio,\n",
    "    # cropping=cropping,\n",
    "    # dynamic=dynamic_cropping\n",
    "    precision=model_precision.value,\n",
    "    model_path=working_dir,\n",
    "    display=True,\n",
    "    save_poses=True,\n",
    "    save_dir=working_dir + \"/out\",\n",
    "    draw_keypoint_names=False,\n",
    "    save_video=save_video\n",
    ")"
   ]
  },
  {
   "cell_type": "code",
   "execution_count": null,
   "metadata": {},
   "outputs": [],
   "source": [
    "#Demo code for downloading the dataset directly into the project folder - if we want to include this, it should be moved to top of notebook\n",
    "\n",
    "import os\n",
    "import gdown\n",
    "import zipfile\n",
    "\n",
    "# Define root directory\n",
    "project_directory = \"/Users/annastuckert/Documents/DLC_AI_Residency/DLC_AI2024/DeepLabCut-live\"\n",
    "\n",
    "# Google Drive file ID and destination path\n",
    "file_id = \"1xAzWgGXQh3RnDKSxN_Oo59-cEVqwcvKS\"\n",
    "destination = os.path.join(project_directory, \"downloaded_file.zip\")\n",
    "\n",
    "print(destination)\n",
    "\n",
    "# Create project directory if it doesn't exist\n",
    "os.makedirs(project_directory, exist_ok=True)\n",
    "\n",
    "# Download the file from Google Drive\n",
    "gdown.download(f\"https://drive.google.com/uc?id={file_id}\", destination, quiet=False)\n",
    "\n",
    "# Unzip the file\n",
    "with zipfile.ZipFile(destination, 'r') as zip_ref:\n",
    "    zip_ref.extractall(project_directory)\n",
    "\n",
    "# Optional: Remove the zip file after extraction\n",
    "os.remove(destination)\n",
    "\n",
    "print(\"Download and extraction completed.\")\n"
   ]
  }
 ],
 "metadata": {
  "kernelspec": {
   "display_name": "dlc-live",
   "language": "python",
   "name": "python3"
  },
  "language_info": {
   "codemirror_mode": {
    "name": "ipython",
    "version": 3
   },
   "file_extension": ".py",
   "mimetype": "text/x-python",
   "name": "python",
   "nbconvert_exporter": "python",
   "pygments_lexer": "ipython3",
   "version": "3.10.14"
  }
 },
 "nbformat": 4,
 "nbformat_minor": 2
}
