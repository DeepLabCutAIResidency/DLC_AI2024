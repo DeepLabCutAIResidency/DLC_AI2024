{
 "cells": [
  {
   "cell_type": "code",
   "execution_count": null,
   "metadata": {},
   "outputs": [],
   "source": [
    "from dlclive import DLCLive, Processor\n",
    "import dlclive\n",
    "from dlclive.display import Display\n",
    "import cv2\n",
    "import numpy as np "
   ]
  },
  {
   "cell_type": "code",
   "execution_count": null,
   "metadata": {},
   "outputs": [],
   "source": [
    "def analyze_video2(video_path: str, dlc_live):\n",
    "    # Load video\n",
    "    cap = cv2.VideoCapture(video_path)\n",
    "    poses = []\n",
    "    frame_index = 0\n",
    "\n",
    "    while True:\n",
    "        ret, frame = cap.read()\n",
    "        if not ret:\n",
    "            break  # End of video\n",
    "\n",
    "        # Prepare the frame for the model\n",
    "        frame = np.array(frame, dtype=np.float32)\n",
    "        frame = np.transpose(frame,(2,0,1)) \n",
    "        frame = frame.reshape(1, frame.shape[0], frame.shape[1], frame.shape[2])\n",
    "        frame = (frame / 255.0)\n",
    "        print(frame)\n",
    "        \n",
    "        # Analyze the frame using the get_pose function\n",
    "        pose = dlc_live.get_pose(frame)\n",
    "        \n",
    "        # Store the pose for this frame\n",
    "        poses.append(pose)\n",
    "\n",
    "        frame_index += 1\n",
    "    \n",
    "    # Release the video capture object\n",
    "    cap.release()\n",
    "    \n",
    "    return frame"
   ]
  },
  {
   "cell_type": "code",
   "execution_count": null,
   "metadata": {},
   "outputs": [],
   "source": [
    "import torch\n",
    "\n",
    "dlc_proc = Processor()\n",
    "dlc_live = DLCLive(pytorch_cfg=\"/Users/annastuckert/Documents/DLC_AI_Residency/DLC_AI2024/DeepLabCut-live/Ventral_gait_model/train\", processor=dlc_proc, snapshot='/Users/annastuckert/Documents/DLC_AI_Residency/DLC_AI2024/DeepLabCut-live/Ventral_gait_model/train/snapshot-263.pt', model_type='pytorch') #change model type to 'pytorch' for raw .pt model\n",
    "\n",
    "\n",
    "video_path = '/Users/annastuckert/Documents/DLC_AI_Residency/DLC_AI2024/DeepLabCut-live/Ventral_gait_model/1_20cms_0degUP_first_1s.avi'\n",
    "poses = analyze_video2(video_path, dlc_live)"
   ]
  }
 ],
 "metadata": {
  "language_info": {
   "name": "python"
  }
 },
 "nbformat": 4,
 "nbformat_minor": 2
}
