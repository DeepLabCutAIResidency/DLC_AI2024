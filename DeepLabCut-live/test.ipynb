{
 "cells": [
  {
   "cell_type": "code",
   "execution_count": 2,
   "metadata": {},
   "outputs": [],
   "source": [
    "%load_ext autoreload\n",
    "%autoreload 2"
   ]
  },
  {
   "cell_type": "code",
   "execution_count": 3,
   "metadata": {},
   "outputs": [
    {
     "name": "stdout",
     "output_type": "stream",
     "text": [
      "Loading DLC 3.0.0rc4...\n",
      "DLC loaded in light mode; you cannot use any GUI (labeling, relabeling and standalone GUI)\n"
     ]
    },
    {
     "name": "stderr",
     "output_type": "stream",
     "text": [
      "/media1/data/dikra/miniconda/envs/dlc-live/lib/python3.10/site-packages/tqdm/auto.py:21: TqdmWarning: IProgress not found. Please update jupyter and ipywidgets. See https://ipywidgets.readthedocs.io/en/stable/user_install.html\n",
      "  from .autonotebook import tqdm as notebook_tqdm\n"
     ]
    }
   ],
   "source": [
    "from dlclive import DLCLive, Processor\n",
    "import dlclive\n",
    "from dlclive.display import Display\n",
    "import cv2\n",
    "import numpy as np "
   ]
  },
  {
   "cell_type": "code",
   "execution_count": 18,
   "metadata": {},
   "outputs": [
    {
     "name": "stdout",
     "output_type": "stream",
     "text": [
      "(540, 682, 3)\n",
      "Loaded weights\n",
      "{'Task': None, 'scorer': None, 'date': None, 'multianimalproject': None, 'identity': None, 'project_path': '/media/dikra/ADATA HD650/PhD/DATA/DLC24_Data/Fly-Kevin-2019-03-16-1001/fly-kevin-2019-03-16/Fly-Kevin-2019-03-16/dlc-models-pytorch/iteration-1/FlyFeb19-trainset80shuffle1001/train', 'engine': 'tensorflow', 'video_sets': None, 'bodyparts': None, 'start': None, 'stop': None, 'numframes2pick': None, 'skeleton': [], 'skeleton_color': 'black', 'pcutoff': None, 'dotsize': None, 'alphavalue': None, 'colormap': None, 'TrainingFraction': None, 'iteration': None, 'default_net_type': None, 'default_augmenter': None, 'snapshotindex': None, 'detector_snapshotindex': None, 'batch_size': None, 'cropping': None, 'x1': None, 'x2': None, 'y1': None, 'y2': None, 'corner2move2': None, 'move2corner': None, 'SuperAnimalConversionTables': None, 'data': {'colormode': 'RGB', 'inference': {'normalize_images': True}, 'train': {'affine': {'p': 0.5, 'rotation': 30, 'scaling': [1.0, 1.0], 'translation': 0}, 'collate': {'type': 'ResizeFromDataSizeCollate', 'min_scale': 0.4, 'max_scale': 1.0, 'min_short_side': 128, 'max_short_side': 1152, 'multiple_of': 32, 'to_square': False}, 'covering': False, 'gaussian_noise': 12.75, 'hist_eq': False, 'motion_blur': False, 'normalize_images': True}}, 'device': 'auto', 'metadata': {'project_path': '/media/dikra/ADATA HD650/PhD/DATA/DLC24/Fly-Kevin-2019-03-16', 'pose_config_path': '/media/dikra/ADATA HD650/PhD/DATA/DLC24/Fly-Kevin-2019-03-16/dlc-models-pytorch/iteration-1/FlyFeb19-trainset80shuffle1001/train/pose_cfg.yaml', 'bodyparts': ['Abdomen-ring1', 'Abdomen-ring2', 'Abdomen-ring3', 'Abdomen-ring4', 'leftleg', 'rightleg', 'proboscis', 'ovipositor', 'Left-eye', 'Head-center', 'Right-eye', 'dorsal-thorax-tip', 'egg-expulsion', 'leftwing', 'rightwing', 'L1tarsus', 'L2tarsus', 'L3tarsus', 'R1tarsus', 'R2tarsus', 'R3tarsus', 'L1joint', 'L2joint', 'R1joint', 'R2joint'], 'unique_bodyparts': [], 'individuals': ['animal'], 'with_identity': None}, 'method': 'bu', 'model': {'backbone': {'type': 'ResNet', 'model_name': 'resnet50_gn', 'output_stride': 16, 'freeze_bn_stats': True, 'freeze_bn_weights': False}, 'backbone_output_channels': 2048, 'heads': {'bodypart': {'type': 'HeatmapHead', 'weight_init': 'normal', 'predictor': {'type': 'HeatmapPredictor', 'apply_sigmoid': False, 'clip_scores': True, 'location_refinement': True, 'locref_std': 7.2801}, 'target_generator': {'type': 'HeatmapGaussianGenerator', 'num_heatmaps': 25, 'pos_dist_thresh': 17, 'heatmap_mode': 'KEYPOINT', 'generate_locref': True, 'locref_std': 7.2801}, 'criterion': {'heatmap': {'type': 'WeightedMSECriterion', 'weight': 1.0}, 'locref': {'type': 'WeightedHuberCriterion', 'weight': 0.05}}, 'heatmap_config': {'channels': [2048, 25], 'kernel_size': [3], 'strides': [2]}, 'locref_config': {'channels': [2048, 50], 'kernel_size': [3], 'strides': [2]}}}}, 'net_type': 'resnet_50', 'runner': {'type': 'PoseTrainingRunner', 'gpus': None, 'key_metric': 'test.mAP', 'key_metric_asc': True, 'eval_interval': 1, 'optimizer': {'type': 'AdamW', 'params': {'lr': 0.0001}}, 'scheduler': {'type': 'LRListScheduler', 'params': {'lr_list': [[1e-05], [1e-06]], 'milestones': [160, 190]}}, 'snapshots': {'max_snapshots': 5, 'save_epochs': 25, 'save_optimizer_state': False}}, 'train_settings': {'batch_size': 16, 'dataloader_workers': 0, 'dataloader_pin_memory': True, 'display_iters': 500, 'epochs': 200, 'seed': 42}, 'logger': {'type': 'WandbLogger', 'project_name': 'dlc3-benchmark', 'run_name': '1001-resnet50-shuffle1'}}\n"
     ]
    },
    {
     "name": "stderr",
     "output_type": "stream",
     "text": [
      "/media1/data/dikra/DLC_AI2024/DeepLabCut-live/dlclive/dlclive.py:290: FutureWarning: You are using `torch.load` with `weights_only=False` (the current default value), which uses the default pickle module implicitly. It is possible to construct malicious pickle data which will execute arbitrary code during unpickling (See https://github.com/pytorch/pytorch/blob/main/SECURITY.md#untrusted-models for more details). In a future release, the default value for `weights_only` will be flipped to `True`. This limits the functions that could be executed during unpickling. Arbitrary objects will no longer be allowed to be loaded via this mode unless they are explicitly allowlisted by the user via `torch.serialization.add_safe_globals`. We recommend you start setting `weights_only=True` for any use case where you don't have full control of the loaded file. Please open an issue on GitHub for any issues related to this experimental feature.\n",
      "  weights = torch.load(\n"
     ]
    },
    {
     "name": "stdout",
     "output_type": "stream",
     "text": [
      "Built pose model\n",
      "Loaded pretrained weights\n",
      "PoseModel(\n",
      "  (backbone): ResNet(\n",
      "    (model): ResNet(\n",
      "      (conv1): Conv2d(3, 64, kernel_size=(7, 7), stride=(2, 2), padding=(3, 3), bias=False)\n",
      "      (bn1): GroupNorm(32, 64, eps=1e-05, affine=True)\n",
      "      (act1): ReLU(inplace=True)\n",
      "      (maxpool): MaxPool2d(kernel_size=3, stride=2, padding=1, dilation=1, ceil_mode=False)\n",
      "      (layer1): Sequential(\n",
      "        (0): Bottleneck(\n",
      "          (conv1): Conv2d(64, 64, kernel_size=(1, 1), stride=(1, 1), bias=False)\n",
      "          (bn1): GroupNorm(32, 64, eps=1e-05, affine=True)\n",
      "          (act1): ReLU(inplace=True)\n",
      "          (conv2): Conv2d(64, 64, kernel_size=(3, 3), stride=(1, 1), padding=(1, 1), bias=False)\n",
      "          (bn2): GroupNorm(32, 64, eps=1e-05, affine=True)\n",
      "          (drop_block): Identity()\n",
      "          (act2): ReLU(inplace=True)\n",
      "          (aa): Identity()\n",
      "          (conv3): Conv2d(64, 256, kernel_size=(1, 1), stride=(1, 1), bias=False)\n",
      "          (bn3): GroupNorm(32, 256, eps=1e-05, affine=True)\n",
      "          (act3): ReLU(inplace=True)\n",
      "          (downsample): Sequential(\n",
      "            (0): Conv2d(64, 256, kernel_size=(1, 1), stride=(1, 1), bias=False)\n",
      "            (1): GroupNorm(32, 256, eps=1e-05, affine=True)\n",
      "          )\n",
      "        )\n",
      "        (1): Bottleneck(\n",
      "          (conv1): Conv2d(256, 64, kernel_size=(1, 1), stride=(1, 1), bias=False)\n",
      "          (bn1): GroupNorm(32, 64, eps=1e-05, affine=True)\n",
      "          (act1): ReLU(inplace=True)\n",
      "          (conv2): Conv2d(64, 64, kernel_size=(3, 3), stride=(1, 1), padding=(1, 1), bias=False)\n",
      "          (bn2): GroupNorm(32, 64, eps=1e-05, affine=True)\n",
      "          (drop_block): Identity()\n",
      "          (act2): ReLU(inplace=True)\n",
      "          (aa): Identity()\n",
      "          (conv3): Conv2d(64, 256, kernel_size=(1, 1), stride=(1, 1), bias=False)\n",
      "          (bn3): GroupNorm(32, 256, eps=1e-05, affine=True)\n",
      "          (act3): ReLU(inplace=True)\n",
      "        )\n",
      "        (2): Bottleneck(\n",
      "          (conv1): Conv2d(256, 64, kernel_size=(1, 1), stride=(1, 1), bias=False)\n",
      "          (bn1): GroupNorm(32, 64, eps=1e-05, affine=True)\n",
      "          (act1): ReLU(inplace=True)\n",
      "          (conv2): Conv2d(64, 64, kernel_size=(3, 3), stride=(1, 1), padding=(1, 1), bias=False)\n",
      "          (bn2): GroupNorm(32, 64, eps=1e-05, affine=True)\n",
      "          (drop_block): Identity()\n",
      "          (act2): ReLU(inplace=True)\n",
      "          (aa): Identity()\n",
      "          (conv3): Conv2d(64, 256, kernel_size=(1, 1), stride=(1, 1), bias=False)\n",
      "          (bn3): GroupNorm(32, 256, eps=1e-05, affine=True)\n",
      "          (act3): ReLU(inplace=True)\n",
      "        )\n",
      "      )\n",
      "      (layer2): Sequential(\n",
      "        (0): Bottleneck(\n",
      "          (conv1): Conv2d(256, 128, kernel_size=(1, 1), stride=(1, 1), bias=False)\n",
      "          (bn1): GroupNorm(32, 128, eps=1e-05, affine=True)\n",
      "          (act1): ReLU(inplace=True)\n",
      "          (conv2): Conv2d(128, 128, kernel_size=(3, 3), stride=(2, 2), padding=(1, 1), bias=False)\n",
      "          (bn2): GroupNorm(32, 128, eps=1e-05, affine=True)\n",
      "          (drop_block): Identity()\n",
      "          (act2): ReLU(inplace=True)\n",
      "          (aa): Identity()\n",
      "          (conv3): Conv2d(128, 512, kernel_size=(1, 1), stride=(1, 1), bias=False)\n",
      "          (bn3): GroupNorm(32, 512, eps=1e-05, affine=True)\n",
      "          (act3): ReLU(inplace=True)\n",
      "          (downsample): Sequential(\n",
      "            (0): Conv2d(256, 512, kernel_size=(1, 1), stride=(2, 2), bias=False)\n",
      "            (1): GroupNorm(32, 512, eps=1e-05, affine=True)\n",
      "          )\n",
      "        )\n",
      "        (1): Bottleneck(\n",
      "          (conv1): Conv2d(512, 128, kernel_size=(1, 1), stride=(1, 1), bias=False)\n",
      "          (bn1): GroupNorm(32, 128, eps=1e-05, affine=True)\n",
      "          (act1): ReLU(inplace=True)\n",
      "          (conv2): Conv2d(128, 128, kernel_size=(3, 3), stride=(1, 1), padding=(1, 1), bias=False)\n",
      "          (bn2): GroupNorm(32, 128, eps=1e-05, affine=True)\n",
      "          (drop_block): Identity()\n",
      "          (act2): ReLU(inplace=True)\n",
      "          (aa): Identity()\n",
      "          (conv3): Conv2d(128, 512, kernel_size=(1, 1), stride=(1, 1), bias=False)\n",
      "          (bn3): GroupNorm(32, 512, eps=1e-05, affine=True)\n",
      "          (act3): ReLU(inplace=True)\n",
      "        )\n",
      "        (2): Bottleneck(\n",
      "          (conv1): Conv2d(512, 128, kernel_size=(1, 1), stride=(1, 1), bias=False)\n",
      "          (bn1): GroupNorm(32, 128, eps=1e-05, affine=True)\n",
      "          (act1): ReLU(inplace=True)\n",
      "          (conv2): Conv2d(128, 128, kernel_size=(3, 3), stride=(1, 1), padding=(1, 1), bias=False)\n",
      "          (bn2): GroupNorm(32, 128, eps=1e-05, affine=True)\n",
      "          (drop_block): Identity()\n",
      "          (act2): ReLU(inplace=True)\n",
      "          (aa): Identity()\n",
      "          (conv3): Conv2d(128, 512, kernel_size=(1, 1), stride=(1, 1), bias=False)\n",
      "          (bn3): GroupNorm(32, 512, eps=1e-05, affine=True)\n",
      "          (act3): ReLU(inplace=True)\n",
      "        )\n",
      "        (3): Bottleneck(\n",
      "          (conv1): Conv2d(512, 128, kernel_size=(1, 1), stride=(1, 1), bias=False)\n",
      "          (bn1): GroupNorm(32, 128, eps=1e-05, affine=True)\n",
      "          (act1): ReLU(inplace=True)\n",
      "          (conv2): Conv2d(128, 128, kernel_size=(3, 3), stride=(1, 1), padding=(1, 1), bias=False)\n",
      "          (bn2): GroupNorm(32, 128, eps=1e-05, affine=True)\n",
      "          (drop_block): Identity()\n",
      "          (act2): ReLU(inplace=True)\n",
      "          (aa): Identity()\n",
      "          (conv3): Conv2d(128, 512, kernel_size=(1, 1), stride=(1, 1), bias=False)\n",
      "          (bn3): GroupNorm(32, 512, eps=1e-05, affine=True)\n",
      "          (act3): ReLU(inplace=True)\n",
      "        )\n",
      "      )\n",
      "      (layer3): Sequential(\n",
      "        (0): Bottleneck(\n",
      "          (conv1): Conv2d(512, 256, kernel_size=(1, 1), stride=(1, 1), bias=False)\n",
      "          (bn1): GroupNorm(32, 256, eps=1e-05, affine=True)\n",
      "          (act1): ReLU(inplace=True)\n",
      "          (conv2): Conv2d(256, 256, kernel_size=(3, 3), stride=(2, 2), padding=(1, 1), bias=False)\n",
      "          (bn2): GroupNorm(32, 256, eps=1e-05, affine=True)\n",
      "          (drop_block): Identity()\n",
      "          (act2): ReLU(inplace=True)\n",
      "          (aa): Identity()\n",
      "          (conv3): Conv2d(256, 1024, kernel_size=(1, 1), stride=(1, 1), bias=False)\n",
      "          (bn3): GroupNorm(32, 1024, eps=1e-05, affine=True)\n",
      "          (act3): ReLU(inplace=True)\n",
      "          (downsample): Sequential(\n",
      "            (0): Conv2d(512, 1024, kernel_size=(1, 1), stride=(2, 2), bias=False)\n",
      "            (1): GroupNorm(32, 1024, eps=1e-05, affine=True)\n",
      "          )\n",
      "        )\n",
      "        (1): Bottleneck(\n",
      "          (conv1): Conv2d(1024, 256, kernel_size=(1, 1), stride=(1, 1), bias=False)\n",
      "          (bn1): GroupNorm(32, 256, eps=1e-05, affine=True)\n",
      "          (act1): ReLU(inplace=True)\n",
      "          (conv2): Conv2d(256, 256, kernel_size=(3, 3), stride=(1, 1), padding=(1, 1), bias=False)\n",
      "          (bn2): GroupNorm(32, 256, eps=1e-05, affine=True)\n",
      "          (drop_block): Identity()\n",
      "          (act2): ReLU(inplace=True)\n",
      "          (aa): Identity()\n",
      "          (conv3): Conv2d(256, 1024, kernel_size=(1, 1), stride=(1, 1), bias=False)\n",
      "          (bn3): GroupNorm(32, 1024, eps=1e-05, affine=True)\n",
      "          (act3): ReLU(inplace=True)\n",
      "        )\n",
      "        (2): Bottleneck(\n",
      "          (conv1): Conv2d(1024, 256, kernel_size=(1, 1), stride=(1, 1), bias=False)\n",
      "          (bn1): GroupNorm(32, 256, eps=1e-05, affine=True)\n",
      "          (act1): ReLU(inplace=True)\n",
      "          (conv2): Conv2d(256, 256, kernel_size=(3, 3), stride=(1, 1), padding=(1, 1), bias=False)\n",
      "          (bn2): GroupNorm(32, 256, eps=1e-05, affine=True)\n",
      "          (drop_block): Identity()\n",
      "          (act2): ReLU(inplace=True)\n",
      "          (aa): Identity()\n",
      "          (conv3): Conv2d(256, 1024, kernel_size=(1, 1), stride=(1, 1), bias=False)\n",
      "          (bn3): GroupNorm(32, 1024, eps=1e-05, affine=True)\n",
      "          (act3): ReLU(inplace=True)\n",
      "        )\n",
      "        (3): Bottleneck(\n",
      "          (conv1): Conv2d(1024, 256, kernel_size=(1, 1), stride=(1, 1), bias=False)\n",
      "          (bn1): GroupNorm(32, 256, eps=1e-05, affine=True)\n",
      "          (act1): ReLU(inplace=True)\n",
      "          (conv2): Conv2d(256, 256, kernel_size=(3, 3), stride=(1, 1), padding=(1, 1), bias=False)\n",
      "          (bn2): GroupNorm(32, 256, eps=1e-05, affine=True)\n",
      "          (drop_block): Identity()\n",
      "          (act2): ReLU(inplace=True)\n",
      "          (aa): Identity()\n",
      "          (conv3): Conv2d(256, 1024, kernel_size=(1, 1), stride=(1, 1), bias=False)\n",
      "          (bn3): GroupNorm(32, 1024, eps=1e-05, affine=True)\n",
      "          (act3): ReLU(inplace=True)\n",
      "        )\n",
      "        (4): Bottleneck(\n",
      "          (conv1): Conv2d(1024, 256, kernel_size=(1, 1), stride=(1, 1), bias=False)\n",
      "          (bn1): GroupNorm(32, 256, eps=1e-05, affine=True)\n",
      "          (act1): ReLU(inplace=True)\n",
      "          (conv2): Conv2d(256, 256, kernel_size=(3, 3), stride=(1, 1), padding=(1, 1), bias=False)\n",
      "          (bn2): GroupNorm(32, 256, eps=1e-05, affine=True)\n",
      "          (drop_block): Identity()\n",
      "          (act2): ReLU(inplace=True)\n",
      "          (aa): Identity()\n",
      "          (conv3): Conv2d(256, 1024, kernel_size=(1, 1), stride=(1, 1), bias=False)\n",
      "          (bn3): GroupNorm(32, 1024, eps=1e-05, affine=True)\n",
      "          (act3): ReLU(inplace=True)\n",
      "        )\n",
      "        (5): Bottleneck(\n",
      "          (conv1): Conv2d(1024, 256, kernel_size=(1, 1), stride=(1, 1), bias=False)\n",
      "          (bn1): GroupNorm(32, 256, eps=1e-05, affine=True)\n",
      "          (act1): ReLU(inplace=True)\n",
      "          (conv2): Conv2d(256, 256, kernel_size=(3, 3), stride=(1, 1), padding=(1, 1), bias=False)\n",
      "          (bn2): GroupNorm(32, 256, eps=1e-05, affine=True)\n",
      "          (drop_block): Identity()\n",
      "          (act2): ReLU(inplace=True)\n",
      "          (aa): Identity()\n",
      "          (conv3): Conv2d(256, 1024, kernel_size=(1, 1), stride=(1, 1), bias=False)\n",
      "          (bn3): GroupNorm(32, 1024, eps=1e-05, affine=True)\n",
      "          (act3): ReLU(inplace=True)\n",
      "        )\n",
      "      )\n",
      "      (layer4): Sequential(\n",
      "        (0): Bottleneck(\n",
      "          (conv1): Conv2d(1024, 512, kernel_size=(1, 1), stride=(1, 1), bias=False)\n",
      "          (bn1): GroupNorm(32, 512, eps=1e-05, affine=True)\n",
      "          (act1): ReLU(inplace=True)\n",
      "          (conv2): Conv2d(512, 512, kernel_size=(3, 3), stride=(1, 1), padding=(1, 1), bias=False)\n",
      "          (bn2): GroupNorm(32, 512, eps=1e-05, affine=True)\n",
      "          (drop_block): Identity()\n",
      "          (act2): ReLU(inplace=True)\n",
      "          (aa): Identity()\n",
      "          (conv3): Conv2d(512, 2048, kernel_size=(1, 1), stride=(1, 1), bias=False)\n",
      "          (bn3): GroupNorm(32, 2048, eps=1e-05, affine=True)\n",
      "          (act3): ReLU(inplace=True)\n",
      "          (downsample): Sequential(\n",
      "            (0): Conv2d(1024, 2048, kernel_size=(1, 1), stride=(1, 1), bias=False)\n",
      "            (1): GroupNorm(32, 2048, eps=1e-05, affine=True)\n",
      "          )\n",
      "        )\n",
      "        (1): Bottleneck(\n",
      "          (conv1): Conv2d(2048, 512, kernel_size=(1, 1), stride=(1, 1), bias=False)\n",
      "          (bn1): GroupNorm(32, 512, eps=1e-05, affine=True)\n",
      "          (act1): ReLU(inplace=True)\n",
      "          (conv2): Conv2d(512, 512, kernel_size=(3, 3), stride=(1, 1), padding=(2, 2), dilation=(2, 2), bias=False)\n",
      "          (bn2): GroupNorm(32, 512, eps=1e-05, affine=True)\n",
      "          (drop_block): Identity()\n",
      "          (act2): ReLU(inplace=True)\n",
      "          (aa): Identity()\n",
      "          (conv3): Conv2d(512, 2048, kernel_size=(1, 1), stride=(1, 1), bias=False)\n",
      "          (bn3): GroupNorm(32, 2048, eps=1e-05, affine=True)\n",
      "          (act3): ReLU(inplace=True)\n",
      "        )\n",
      "        (2): Bottleneck(\n",
      "          (conv1): Conv2d(2048, 512, kernel_size=(1, 1), stride=(1, 1), bias=False)\n",
      "          (bn1): GroupNorm(32, 512, eps=1e-05, affine=True)\n",
      "          (act1): ReLU(inplace=True)\n",
      "          (conv2): Conv2d(512, 512, kernel_size=(3, 3), stride=(1, 1), padding=(2, 2), dilation=(2, 2), bias=False)\n",
      "          (bn2): GroupNorm(32, 512, eps=1e-05, affine=True)\n",
      "          (drop_block): Identity()\n",
      "          (act2): ReLU(inplace=True)\n",
      "          (aa): Identity()\n",
      "          (conv3): Conv2d(512, 2048, kernel_size=(1, 1), stride=(1, 1), bias=False)\n",
      "          (bn3): GroupNorm(32, 2048, eps=1e-05, affine=True)\n",
      "          (act3): ReLU(inplace=True)\n",
      "        )\n",
      "      )\n",
      "      (global_pool): SelectAdaptivePool2d(pool_type=avg, flatten=Flatten(start_dim=1, end_dim=-1))\n",
      "      (fc): Identity()\n",
      "    )\n",
      "  )\n",
      "  (heads): ModuleDict(\n",
      "    (bodypart): HeatmapHead(\n",
      "      (predictor): HeatmapPredictor(\n",
      "        (sigmoid): Sigmoid()\n",
      "      )\n",
      "      (target_generator): HeatmapGaussianGenerator()\n",
      "      (aggregator): WeightedLossAggregator()\n",
      "      (heatmap_head): DeconvModule(\n",
      "        (deconv_layers): Sequential(\n",
      "          (0): ConvTranspose2d(2048, 25, kernel_size=(3, 3), stride=(2, 2))\n",
      "        )\n",
      "        (final_conv): Identity()\n",
      "      )\n",
      "      (locref_head): DeconvModule(\n",
      "        (deconv_layers): Sequential(\n",
      "          (0): ConvTranspose2d(2048, 50, kernel_size=(3, 3), stride=(2, 2))\n",
      "        )\n",
      "        (final_conv): Identity()\n",
      "      )\n",
      "    )\n",
      "  )\n",
      ")\n"
     ]
    }
   ],
   "source": [
    "dlc_proc = Processor()\n",
    "#Dikra\n",
    "dlc_live = DLCLive(pytorch_cfg=\"/media1/data/dikra/fly-kevin\", processor=dlc_proc, snapshot='/media1/data/dikra/fly-kevin/snapshot-100.pt')\n",
    "img = cv2.imread(\"/media1/data/dikra/fly-kevin/img001.png\")\n",
    "print(img.shape)\n",
    "\n",
    "#Anna\n",
    "# dlc_live = DLCLive(pytorch_cfg=\"/Users/annastuckert/Documents/DLC_AI_Residency/DLC_AI2024/DeepLabCut-live/Ventral_gait_model/train\", processor=dlc_proc, snapshot='/Users/annastuckert/Documents/DLC_AI_Residency/DLC_AI2024/DeepLabCut-live/Ventral_gait_model/train/snapshot-263.pt')\n",
    "# dlc_live = DLCLive(\"/Users/annastuckert/Documents/DLC_AI_Residency/DLC_AI2024/DeepLabCut-live/exported DLC model for dlc-live/DLC_dev-single-animal_resnet_50_iteration-1_shuffle-1\", processor=dlc_proc)\n",
    "# img = cv2.imread(\"/Users/annastuckert/Documents/DLC_AI_Residency/DLC_AI2024/DeepLabCut-live/exported DLC model for dlc-live/img049.png\")\n",
    "\n",
    "\n",
    "pose = dlc_live.init_inference(frame=img)\n"
   ]
  },
  {
   "cell_type": "code",
   "execution_count": 19,
   "metadata": {},
   "outputs": [],
   "source": [
    "pose = pose['bodypart']['poses'].detach().numpy()"
   ]
  },
  {
   "cell_type": "code",
   "execution_count": 20,
   "metadata": {},
   "outputs": [],
   "source": [
    "pose = pose.reshape((-1, 3))"
   ]
  },
  {
   "cell_type": "code",
   "execution_count": 21,
   "metadata": {},
   "outputs": [
    {
     "data": {
      "text/plain": [
       "(25, 3)"
      ]
     },
     "execution_count": 21,
     "metadata": {},
     "output_type": "execute_result"
    }
   ],
   "source": [
    "pose.shape"
   ]
  },
  {
   "cell_type": "code",
   "execution_count": 34,
   "metadata": {},
   "outputs": [
    {
     "ename": "TclError",
     "evalue": "no display name and no $DISPLAY environment variable",
     "output_type": "error",
     "traceback": [
      "\u001b[0;31m---------------------------------------------------------------------------\u001b[0m",
      "\u001b[0;31mTclError\u001b[0m                                  Traceback (most recent call last)",
      "Cell \u001b[0;32mIn[34], line 2\u001b[0m\n\u001b[1;32m      1\u001b[0m display \u001b[38;5;241m=\u001b[39m Display()\n\u001b[0;32m----> 2\u001b[0m \u001b[43mdisplay\u001b[49m\u001b[38;5;241;43m.\u001b[39;49m\u001b[43mset_display\u001b[49m\u001b[43m(\u001b[49m\u001b[43mim_size\u001b[49m\u001b[38;5;241;43m=\u001b[39;49m\u001b[43m(\u001b[49m\u001b[38;5;241;43m540\u001b[39;49m\u001b[43m,\u001b[49m\u001b[38;5;241;43m682\u001b[39;49m\u001b[43m,\u001b[49m\u001b[38;5;241;43m3\u001b[39;49m\u001b[43m)\u001b[49m\u001b[43m,\u001b[49m\u001b[43m \u001b[49m\u001b[43mbodyparts\u001b[49m\u001b[38;5;241;43m=\u001b[39;49m\u001b[38;5;241;43m25\u001b[39;49m\u001b[43m)\u001b[49m\n\u001b[1;32m      3\u001b[0m display\u001b[38;5;241m.\u001b[39mdisplay_frame(img, pose)\n",
      "File \u001b[0;32m/media1/data/dikra/DLC_AI2024/DeepLabCut-live/dlclive/display.py:47\u001b[0m, in \u001b[0;36mDisplay.set_display\u001b[0;34m(self, im_size, bodyparts)\u001b[0m\n\u001b[1;32m     36\u001b[0m \u001b[38;5;28;01mdef\u001b[39;00m \u001b[38;5;21mset_display\u001b[39m(\u001b[38;5;28mself\u001b[39m, im_size, bodyparts):\n\u001b[1;32m     37\u001b[0m \u001b[38;5;250m    \u001b[39m\u001b[38;5;124;03m\"\"\" Create tkinter window to display image\u001b[39;00m\n\u001b[1;32m     38\u001b[0m \u001b[38;5;124;03m    \u001b[39;00m\n\u001b[1;32m     39\u001b[0m \u001b[38;5;124;03m    Parameters\u001b[39;00m\n\u001b[0;32m   (...)\u001b[0m\n\u001b[1;32m     44\u001b[0m \u001b[38;5;124;03m        number of bodyparts\u001b[39;00m\n\u001b[1;32m     45\u001b[0m \u001b[38;5;124;03m    \"\"\"\u001b[39;00m\n\u001b[0;32m---> 47\u001b[0m     \u001b[38;5;28mself\u001b[39m\u001b[38;5;241m.\u001b[39mwindow \u001b[38;5;241m=\u001b[39m \u001b[43mTk\u001b[49m\u001b[43m(\u001b[49m\u001b[43m)\u001b[49m\n\u001b[1;32m     48\u001b[0m     \u001b[38;5;28mself\u001b[39m\u001b[38;5;241m.\u001b[39mwindow\u001b[38;5;241m.\u001b[39mtitle(\u001b[38;5;124m\"\u001b[39m\u001b[38;5;124mDLC Live\u001b[39m\u001b[38;5;124m\"\u001b[39m)\n\u001b[1;32m     49\u001b[0m     \u001b[38;5;28mself\u001b[39m\u001b[38;5;241m.\u001b[39mlab \u001b[38;5;241m=\u001b[39m Label(\u001b[38;5;28mself\u001b[39m\u001b[38;5;241m.\u001b[39mwindow)\n",
      "File \u001b[0;32m/media1/data/dikra/miniconda/envs/dlc-live/lib/python3.10/tkinter/__init__.py:2299\u001b[0m, in \u001b[0;36mTk.__init__\u001b[0;34m(self, screenName, baseName, className, useTk, sync, use)\u001b[0m\n\u001b[1;32m   2297\u001b[0m         baseName \u001b[38;5;241m=\u001b[39m baseName \u001b[38;5;241m+\u001b[39m ext\n\u001b[1;32m   2298\u001b[0m interactive \u001b[38;5;241m=\u001b[39m \u001b[38;5;28;01mFalse\u001b[39;00m\n\u001b[0;32m-> 2299\u001b[0m \u001b[38;5;28mself\u001b[39m\u001b[38;5;241m.\u001b[39mtk \u001b[38;5;241m=\u001b[39m \u001b[43m_tkinter\u001b[49m\u001b[38;5;241;43m.\u001b[39;49m\u001b[43mcreate\u001b[49m\u001b[43m(\u001b[49m\u001b[43mscreenName\u001b[49m\u001b[43m,\u001b[49m\u001b[43m \u001b[49m\u001b[43mbaseName\u001b[49m\u001b[43m,\u001b[49m\u001b[43m \u001b[49m\u001b[43mclassName\u001b[49m\u001b[43m,\u001b[49m\u001b[43m \u001b[49m\u001b[43minteractive\u001b[49m\u001b[43m,\u001b[49m\u001b[43m \u001b[49m\u001b[43mwantobjects\u001b[49m\u001b[43m,\u001b[49m\u001b[43m \u001b[49m\u001b[43museTk\u001b[49m\u001b[43m,\u001b[49m\u001b[43m \u001b[49m\u001b[43msync\u001b[49m\u001b[43m,\u001b[49m\u001b[43m \u001b[49m\u001b[43muse\u001b[49m\u001b[43m)\u001b[49m\n\u001b[1;32m   2300\u001b[0m \u001b[38;5;28;01mif\u001b[39;00m useTk:\n\u001b[1;32m   2301\u001b[0m     \u001b[38;5;28mself\u001b[39m\u001b[38;5;241m.\u001b[39m_loadtk()\n",
      "\u001b[0;31mTclError\u001b[0m: no display name and no $DISPLAY environment variable"
     ]
    }
   ],
   "source": [
    "display = Display()\n",
    "display.set_display(im_size=(540,682,3), bodyparts=25)\n",
    "display.display_frame(img, pose)"
   ]
  },
  {
   "cell_type": "code",
   "execution_count": null,
   "metadata": {},
   "outputs": [],
   "source": [
    "display.destroy()"
   ]
  },
  {
   "cell_type": "code",
   "execution_count": 32,
   "metadata": {},
   "outputs": [
    {
     "data": {
      "text/plain": [
       "0.7918957721065413"
      ]
     },
     "execution_count": 32,
     "metadata": {},
     "output_type": "execute_result"
    }
   ],
   "source": [
    "tmp = np.random.rand(3, 3)\n",
    "tmp[0, 2]\n",
    "\n",
    "\n"
   ]
  }
 ],
 "metadata": {
  "kernelspec": {
   "display_name": "dlc-live",
   "language": "python",
   "name": "python3"
  },
  "language_info": {
   "codemirror_mode": {
    "name": "ipython",
    "version": 3
   },
   "file_extension": ".py",
   "mimetype": "text/x-python",
   "name": "python",
   "nbconvert_exporter": "python",
   "pygments_lexer": "ipython3",
   "version": "3.10.14"
  }
 },
 "nbformat": 4,
 "nbformat_minor": 2
}
