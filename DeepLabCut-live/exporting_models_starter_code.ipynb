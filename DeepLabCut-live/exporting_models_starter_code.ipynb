{
 "cells": [
  {
   "cell_type": "markdown",
   "id": "62cf5ee1",
   "metadata": {},
   "source": [
    "# Exporting PyTorch Models\n",
    "\n",
    "Some short intro code.\n",
    "\n",
    "- [ExecuTorch Runtime Overview](https://pytorch.org/executorch/stable/runtime-overview.html)\n",
    "- [Deploying Torch-TensorRT Programs](https://pytorch.org/TensorRT/tutorials/runtime.html)\n",
    "- [`torch.onnx`](https://pytorch.org/docs/stable/onnx.html)\n",
    "- [TorchDynamo-based ONNX Exporter](https://pytorch.org/docs/stable/onnx_dynamo.html#torchdynamo-based-onnx-exporter)\n",
    "  - this one might be more difficult to make work\n",
    "- [TorchScript-based ONNX Exporter](https://pytorch.org/docs/stable/onnx_torchscript.html)\n",
    "  - this is what i used to export the model here"
   ]
  },
  {
   "cell_type": "code",
   "execution_count": null,
   "id": "17be6d26",
   "metadata": {},
   "outputs": [],
   "source": [
    "from pathlib import Path\n",
    "\n",
    "import torch\n",
    "import deeplabcut as dlc\n",
    "\n",
    "from deeplabcut.pose_estimation_pytorch.config import read_config_as_dict, pretty_print\n",
    "from deeplabcut.pose_estimation_pytorch.models import PoseModel"
   ]
  },
  {
   "cell_type": "code",
   "execution_count": null,
   "id": "98952c6a",
   "metadata": {},
   "outputs": [],
   "source": [
    "root = Path(\"/Users/annastuckert/Documents/DLC_AI_Residency/DLC_AI2024/DeepLabCut-live/Ventral_gait_model/train\")\n",
    "model_cfg = read_config_as_dict(root / \"pytorch_config.yaml\")\n",
    "weights_path = root / \"snapshot-200.pt\"\n",
    "#dest_dict = Path(\"/media1/data/anna/DLC_AI2024/DeepLabCut-live/ONNX_files\")\n",
    "\n",
    "#print(weights_path)\n",
    "#print()\n",
    "\n",
    "pretty_print(model_cfg[\"model\"])"
   ]
  },
  {
   "cell_type": "markdown",
   "id": "631c898a",
   "metadata": {},
   "source": []
  },
  {
   "cell_type": "code",
   "execution_count": null,
   "id": "796ca308",
   "metadata": {},
   "outputs": [],
   "source": [
    "model = PoseModel.build(model_cfg[\"model\"])\n",
    "weights = torch.load(weights_path, map_location=\"cpu\")\n",
    "model.load_state_dict(weights['model'])\n"
   ]
  },
  {
   "cell_type": "code",
   "execution_count": null,
   "id": "275f2b1b",
   "metadata": {},
   "outputs": [],
   "source": [
    "#!pip install --upgrade onnx onnxscript\n"
   ]
  },
  {
   "cell_type": "code",
   "execution_count": null,
   "id": "9b250afb",
   "metadata": {},
   "outputs": [],
   "source": [
    "outputs = model(torch.ones((1, 3, 128, 128)))\n",
    "predictions = model.get_predictions(outputs)\n",
    "\n",
    "print(predictions)"
   ]
  },
  {
   "cell_type": "code",
   "execution_count": 6,
   "id": "07e61d61",
   "metadata": {},
   "outputs": [],
   "source": [
    "dummy_input = torch.zeros((3, 640, 480))\n",
    "\n",
    "torch.onnx.export(\n",
    "    model,\n",
    "    dummy_input,\n",
    "    root / \"resnet.onnx\",\n",
    "    verbose=True,\n",
    ")"
   ]
  },
  {
   "cell_type": "code",
   "execution_count": null,
   "id": "3024b5d0",
   "metadata": {},
   "outputs": [],
   "source": [
    "import onnx\n",
    "\n",
    "# Load the ONNX model\n",
    "onnx_model = onnx.load(root / \"resnet.onnx\")\n",
    "\n",
    "# Check that the model is well formed\n",
    "onnx.checker.check_model(onnx_model)\n",
    "\n",
    "# Print a human readable representation of the graph\n",
    "print(onnx.helper.printable_graph(onnx_model.graph))"
   ]
  },
  {
   "cell_type": "code",
   "execution_count": null,
   "id": "7a5f979f",
   "metadata": {},
   "outputs": [],
   "source": [
    "#pip install onnxruntime"
   ]
  },
  {
   "cell_type": "code",
   "execution_count": null,
   "id": "8b844df8",
   "metadata": {},
   "outputs": [],
   "source": [
    "import onnxruntime as ort\n",
    "import numpy as np\n",
    "\n",
    "ort_session = ort.InferenceSession(root / \"resnet.onnx\")\n",
    "\n",
    "outputs = ort_session.run(\n",
    "    None,\n",
    "    {\"actual_input_1\": np.random.randn(10, 3, 640, 480).astype(np.float32)},\n",
    ")\n",
    "print(outputs[0])"
   ]
  },
  {
   "cell_type": "code",
   "execution_count": null,
   "id": "caceef23",
   "metadata": {},
   "outputs": [],
   "source": []
  }
 ],
 "metadata": {
  "kernelspec": {
   "display_name": "Python 3 (ipykernel)",
   "language": "python",
   "name": "python3"
  },
  "language_info": {
   "codemirror_mode": {
    "name": "ipython",
    "version": 3
   },
   "file_extension": ".py",
   "mimetype": "text/x-python",
   "name": "python",
   "nbconvert_exporter": "python",
   "pygments_lexer": "ipython3",
   "version": "3.10.14"
  }
 },
 "nbformat": 4,
 "nbformat_minor": 5
}
