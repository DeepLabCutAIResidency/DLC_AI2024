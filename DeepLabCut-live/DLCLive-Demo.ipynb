{
 "cells": [
  {
   "cell_type": "markdown",
   "metadata": {},
   "source": [
    "# DLC Live PyTorch Demo"
   ]
  },
  {
   "cell_type": "code",
   "execution_count": 2,
   "metadata": {},
   "outputs": [],
   "source": [
    "%load_ext autoreload\n",
    "%autoreload 2"
   ]
  },
  {
   "cell_type": "code",
   "execution_count": 3,
   "metadata": {},
   "outputs": [
    {
     "name": "stdout",
     "output_type": "stream",
     "text": [
      "Loading DLC 3.0.0rc4...\n",
      "DLC loaded in light mode; you cannot use any GUI (labeling, relabeling and standalone GUI)\n"
     ]
    }
   ],
   "source": [
    "from dlclive import DLCLive\n",
    "import cv2\n",
    "import numpy as np\n",
    "from pathlib import Path\n",
    "import time\n",
    "from onnxruntime import quantization\n",
    "import onnx\n",
    "import onnxruntime as ort\n",
    "import os"
   ]
  },
  {
   "cell_type": "code",
   "execution_count": 4,
   "metadata": {},
   "outputs": [],
   "source": [
    "projects = [\"fly-kevin\", \"hand-track\", \"superbird\", \"ventral-gait\"]"
   ]
  },
  {
   "cell_type": "code",
   "execution_count": 12,
   "metadata": {},
   "outputs": [
    {
     "name": "stdout",
     "output_type": "stream",
     "text": [
      "Loading.... superanimal_quadruped_hrnetw32\n"
     ]
    },
    {
     "data": {
      "application/vnd.jupyter.widget-view+json": {
       "model_id": "ecb64d8c96f24a8680e3673485f9903e",
       "version_major": 2,
       "version_minor": 0
      },
      "text/plain": [
       "pose_model.pth:   0%|          | 0.00/160M [00:00<?, ?B/s]"
      ]
     },
     "metadata": {},
     "output_type": "display_data"
    },
    {
     "data": {
      "application/vnd.jupyter.widget-view+json": {
       "model_id": "ee319ada8506428cb99eed8da614c016",
       "version_major": 2,
       "version_minor": 0
      },
      "text/plain": [
       "detector.pt:   0%|          | 0.00/518M [00:00<?, ?B/s]"
      ]
     },
     "metadata": {},
     "output_type": "display_data"
    }
   ],
   "source": [
    "from pathlib import Path\n",
    "from dlclibrary import download_huggingface_model\n",
    "\n",
    "# Creates a folder and downloads the model to it\n",
    "model_dir = Path(\"/media/dikra/PhD/DATA/DLC24_Data/dlc-live-dummy/superanimal_quadruped_model_pytorch\")\n",
    "model_dir.mkdir()\n",
    "download_huggingface_model(\"superanimal_quadruped_hrnetw32\", model_dir)"
   ]
  },
  {
   "cell_type": "markdown",
   "metadata": {},
   "source": [
    "### PyTorch to ONNX"
   ]
  },
  {
   "cell_type": "code",
   "execution_count": 95,
   "metadata": {},
   "outputs": [
    {
     "name": "stdout",
     "output_type": "stream",
     "text": [
      "{'backbone': {'type': 'ResNet', 'model_name': 'resnet50_gn', 'output_stride': 16, 'freeze_bn_stats': True, 'freeze_bn_weights': False}, 'backbone_output_channels': 2048, 'heads': {'bodypart': {'type': 'HeatmapHead', 'weight_init': 'normal', 'predictor': {'type': 'HeatmapPredictor', 'apply_sigmoid': False, 'clip_scores': True, 'location_refinement': True, 'locref_std': 7.2801}, 'target_generator': {'type': 'HeatmapGaussianGenerator', 'num_heatmaps': 42, 'pos_dist_thresh': 17, 'heatmap_mode': 'KEYPOINT', 'generate_locref': True, 'locref_std': 7.2801}, 'criterion': {'heatmap': {'type': 'WeightedMSECriterion', 'weight': 1.0}, 'locref': {'type': 'WeightedHuberCriterion', 'weight': 0.05}}, 'heatmap_config': {'channels': [2048], 'kernel_size': [], 'strides': [], 'final_conv': {'out_channels': 42, 'kernel_size': 1}}, 'locref_config': {'channels': [2048], 'kernel_size': [], 'strides': [], 'final_conv': {'out_channels': 84, 'kernel_size': 1}}}}}\n"
     ]
    },
    {
     "name": "stderr",
     "output_type": "stream",
     "text": [
      "/tmp/ipykernel_50429/2945889587.py:25: FutureWarning: You are using `torch.load` with `weights_only=False` (the current default value), which uses the default pickle module implicitly. It is possible to construct malicious pickle data which will execute arbitrary code during unpickling (See https://github.com/pytorch/pytorch/blob/main/SECURITY.md#untrusted-models for more details). In a future release, the default value for `weights_only` will be flipped to `True`. This limits the functions that could be executed during unpickling. Arbitrary objects will no longer be allowed to be loaded via this mode unless they are explicitly allowlisted by the user via `torch.serialization.add_safe_globals`. We recommend you start setting `weights_only=True` for any use case where you don't have full control of the loaded file. Please open an issue on GitHub for any issues related to this experimental feature.\n",
      "  weights = torch.load(weights_path, map_location=device)\n"
     ]
    }
   ],
   "source": [
    "# In case you do not have a .onnx model exported, use this cell to export your DLC3.0 snapshot\n",
    "\n",
    "from deeplabcut.pose_estimation_pytorch.config import read_config_as_dict\n",
    "from deeplabcut.pose_estimation_pytorch.models import PoseModel\n",
    "import torch\n",
    "import onnxruntime as ort\n",
    "\n",
    "device = \"cuda\" if torch.cuda.is_available() else \"cpu\"\n",
    "\n",
    "\n",
    "# Dikra\n",
    "root = Path(\"/media/dikra/PhD/DATA/DLC24_Data/dlc-live-dummy/superbird_ssdlite\")\n",
    "model_cfg = read_config_as_dict(root / \"pytorch_config.yaml\")\n",
    "weights_path = root / \"snapshot-100.pt\"\n",
    "\n",
    "# weights_path = \"/media/dikra/PhD/DATA/DLC24_Data/dlc-live-dummy/superanimal_quadruped/uadr.pth\"\n",
    "\n",
    "\n",
    "# Anna\n",
    "# root = Path(\"/Users/annastuckert/Documents/DLC_AI_Residency/DLC_AI2024/DeepLabCut-live/Ventral_gait_model/train\")\n",
    "# model_cfg = read_config_as_dict(root / \"pytorch_config.yaml\")\n",
    "# weights_path = root / \"snapshot-263.pt\"\n",
    "print(model_cfg[\"model\"])\n",
    "model = PoseModel.build(model_cfg[\"model\"])\n",
    "weights = torch.load(weights_path, map_location=device)\n",
    "model.load_state_dict(weights[\"model\"])\n",
    "\n",
    "dummy_input = torch.zeros((1, 3, 224, 224))\n",
    "\n",
    "torch.onnx.export(\n",
    "    model,\n",
    "    dummy_input,\n",
    "    \"/media/dikra/PhD/DATA/DLC24_Data/dlc-live-dummy/superbird_ssdlite/superbird_ssdlite.onnx\",\n",
    "    verbose=False,\n",
    "    input_names=[\"input\"],\n",
    "    dynamic_axes={\"input\": {0: \"batch_size\", 2: \"height\", 3: \"width\"}},\n",
    ")"
   ]
  },
  {
   "cell_type": "code",
   "execution_count": 7,
   "metadata": {},
   "outputs": [
    {
     "data": {
      "application/vnd.jupyter.widget-view+json": {
       "model_id": "e4ea1959526f42508817929bb6a6c3c6",
       "version_major": 2,
       "version_minor": 0
      },
      "text/plain": [
       "Dropdown(description='Choose a DLC ModelZoo model!', options=('full_human', 'full_cat', 'full_dog', 'primate_f…"
      ]
     },
     "metadata": {},
     "output_type": "display_data"
    }
   ],
   "source": [
    "import ipywidgets as widgets\n",
    "from IPython.display import display\n",
    "\n",
    "model_options = dlc.create_project.modelzoo.Modeloptions\n",
    "model_selection = widgets.Dropdown(\n",
    "    options=model_options,\n",
    "    value=model_options[0],\n",
    "    description=\"Choose a DLC ModelZoo model!\",\n",
    "    disabled=False,\n",
    ")\n",
    "display(model_selection)"
   ]
  },
  {
   "cell_type": "code",
   "execution_count": 13,
   "metadata": {},
   "outputs": [],
   "source": [
    "project_name = \"superanimal_quadruped\"\n",
    "your_name = \"dlc24_residents\"\n",
    "model2use = model_selection.value\n",
    "video_path = \"/media/dikra/PhD/DATA/DLC24_Data/dlc-live-dummy/ventral-gait/1_20cms_0degUP_first.avi\"\n",
    "videotype = os.path.splitext(\n",
    "    \"/media/dikra/PhD/DATA/DLC24_Data/dlc-live-dummy/ventral-gait/1_20cms_0degUP_first.avi\"\n",
    ")[-1].lstrip(\n",
    "    \".\"\n",
    ")  # or MOV, or avi, whatever you uploaded!"
   ]
  },
  {
   "cell_type": "code",
   "execution_count": null,
   "metadata": {},
   "outputs": [],
   "source": [
    "config_path, train_config_path = dlc.create_pretrained_project(\n",
    "    project_name,\n",
    "    your_name,\n",
    "    [video_path],\n",
    "    working_directory=\"/media/dikra/PhD/DATA/DLC24_Data/dlc-live-dummy/superanimal_quadruped_model_pytorch\",\n",
    "    videotype=videotype,\n",
    "    model=model2use,\n",
    "    analyzevideo=False,\n",
    "    createlabeledvideo=False,\n",
    "    copy_videos=True,\n",
    ")"
   ]
  },
  {
   "cell_type": "markdown",
   "metadata": {},
   "source": [
    "### Quant ONNX"
   ]
  },
  {
   "cell_type": "code",
   "execution_count": null,
   "metadata": {},
   "outputs": [],
   "source": [
    "# FP32 to FP16 conversion\n",
    "from onnxconverter_common import float16\n",
    "\n",
    "onnx_fp32_model_path = (\n",
    "    \"/media/dikra/PhD/DATA/DLC24_Data/dlc-live-dummy/superbird_ssdlite/superbird_ssdlite.onnx\"\n",
    ")\n",
    "onnx_fp16_model_path = (\"/media/dikra/PhD/DATA/DLC24_Data/dlc-live-dummy/superbird_ssdlite/superbird_ssdlite_fp16.onnx\")\n",
    "\n",
    "model_fp32 = onnx.load(onnx_fp32_model_path)\n",
    "model_fp16 = float16.convert_float_to_float16(model_fp32)\n",
    "onnx.save(model_fp16, onnx_fp16_model_path)"
   ]
  },
  {
   "cell_type": "code",
   "execution_count": 8,
   "metadata": {},
   "outputs": [],
   "source": [
    "onnx_fp32_model_path = (\n",
    "    \"/media/dikra/PhD/DATA/DLC24_Data/dlc-live-dummy/superbird_ssdlite/superbird_ssdlite.onnx\"\n",
    ")\n",
    "model_prep_path = (\n",
    "    \"/media/dikra/PhD/DATA/DLC24_Data/dlc-live-dummy/superbird_ssdlite/resnet_quant_prep.onnx\"\n",
    ")\n",
    "\n",
    "# prep for quantisation\n",
    "quantization.shape_inference.quant_pre_process(\n",
    "    onnx_fp32_model_path, model_prep_path, skip_symbolic_shape=False\n",
    ")"
   ]
  },
  {
   "cell_type": "code",
   "execution_count": null,
   "metadata": {},
   "outputs": [],
   "source": [
    "# ONNX model static quantization WITHOUT DATA CALIBRATION\n",
    "quant_resnet = (\n",
    "    \"/media/dikra/PhD/DATA/DLC24_Data/dlc-live-dummy/\"\n",
    "    + projects[3]\n",
    "    + \"/resnet_quant.onnx\"\n",
    ")\n",
    "model = onnx.load(\n",
    "    \"/media/dikra/PhD/DATA/DLC24_Data/dlc-live-dummy/\" + projects[3] + \"/resnet.onnx\"\n",
    ")\n",
    "\n",
    "# quant_format = ort.quantization.QuantFormat.QDQ  # Recommended format from 1.11\n",
    "# activation_type = ort.quantization.QuantType.QInt8\n",
    "# weight_type = ort.quantization.QuantType.QInt8\n",
    "\n",
    "\n",
    "class QuantizationDataReader(quantization.CalibrationDataReader):\n",
    "    def __init__(self, torch_ds, batch_size, input_name):\n",
    "\n",
    "        self.torch_dl = torch.utils.data.DataLoader(\n",
    "            torch_ds, batch_size=batch_size, shuffle=False\n",
    "        )\n",
    "\n",
    "        self.input_name = input_name\n",
    "        self.datasize = len(self.torch_dl)\n",
    "\n",
    "        self.enum_data = iter(self.torch_dl)\n",
    "\n",
    "    def to_numpy(self, pt_tensor):\n",
    "        return (\n",
    "            pt_tensor.detach().cpu().numpy()\n",
    "            if pt_tensor.requires_grad\n",
    "            else pt_tensor.cpu().numpy()\n",
    "        )\n",
    "\n",
    "    def get_next(self):\n",
    "        batch = next(self.enum_data, None)\n",
    "        if batch is not None:\n",
    "            return {self.input_name: self.to_numpy(batch[0])}\n",
    "        else:\n",
    "            return None\n",
    "\n",
    "    def rewind(self):\n",
    "        self.enum_data = iter(self.torch_dl)\n",
    "\n",
    "\n",
    "qdr = QuntizationDataReader(\n",
    "    calib_ds, batch_size=2, input_name=ort_sess.get_inputs()[0].name\n",
    ")\n",
    "\n",
    "# quantizer = quantization.QuantizeStatic(model, quant_format, activation_type, weight_type)\n",
    "quant_model = quantization.quantize_static(\n",
    "    model_prep_path,\n",
    "    quant_resnet,\n",
    "    quant_format=quant_format,\n",
    "    activation_type=activation_type,\n",
    "    weight_type=weight_type,\n",
    ")\n",
    "onnx.save(quant_model, quant_resnet)"
   ]
  },
  {
   "cell_type": "code",
   "execution_count": 101,
   "metadata": {},
   "outputs": [],
   "source": [
    "# Load test frame\n",
    "img = cv2.imread(\n",
    "    \"/media/dikra/PhD/DATA/DLC24_Data/dlc-live-dummy/superbird/8aa7edce2e5f44f98f0d0ac73dedc006_553.jpg\"\n",
    ")"
   ]
  },
  {
   "cell_type": "markdown",
   "metadata": {},
   "source": [
    "### DLC Live with ONNX exported DLC 3.0 model"
   ]
  },
  {
   "cell_type": "code",
   "execution_count": 106,
   "metadata": {},
   "outputs": [
    {
     "name": "stdout",
     "output_type": "stream",
     "text": [
      "Loading the model took 0.254169225692749 sec\n",
      "PyTorch inference took 0.003065347671508789 sec\n",
      "PyTorch postprocessing took 0.07213997840881348 sec\n"
     ]
    },
    {
     "data": {
      "text/plain": [
       "({'poses': tensor([[[[5.5056e+02, 3.4709e+02, 5.1385e-01],\n",
       "            [6.9339e+02, 3.7831e+02, 5.1809e-01],\n",
       "            [4.8250e+02, 1.6700e+02, 7.6433e-01],\n",
       "            [5.9321e+02, 3.7561e+02, 3.0986e-01],\n",
       "            [6.2806e+02, 3.4517e+02, 6.5673e-01],\n",
       "            [6.4639e+02, 3.5552e+02, 6.0317e-01],\n",
       "            [6.3539e+02, 3.5684e+02, 5.4960e-01],\n",
       "            [4.6005e+02, 1.6846e+02, 4.6797e-01],\n",
       "            [3.7940e+02, 3.8465e+02, 3.3203e-01],\n",
       "            [4.6718e+02, 3.2919e+02, 2.2717e-01],\n",
       "            [5.8489e+02, 3.5557e+02, 4.6419e-01],\n",
       "            [6.3402e+02, 3.5767e+02, 8.2448e-01],\n",
       "            [4.7162e+02, 1.7686e+02, 5.2562e-01],\n",
       "            [5.4127e+02, 6.1913e+02, 3.4762e-01],\n",
       "            [4.2060e+01, 1.2721e+01, 2.4560e-01],\n",
       "            [4.4452e+02, 5.5158e+01, 9.1034e-01],\n",
       "            [6.3097e+02, 3.7222e+02, 6.1695e-01],\n",
       "            [6.2662e+02, 3.7354e+02, 1.9132e-01],\n",
       "            [4.4740e+02, 5.9445e+01, 3.8444e-01],\n",
       "            [3.2789e+02, 3.9531e+02, 6.1854e-01],\n",
       "            [5.5549e+02, 3.4680e+02, 4.4980e-01],\n",
       "            [4.9916e+02, 3.9047e+02, 6.9780e-01],\n",
       "            [5.0565e+02, 1.6211e+02, 1.9148e-01],\n",
       "            [4.8183e+02, 1.7215e+02, 5.6379e-01],\n",
       "            [4.5955e+02, 1.6836e+02, 4.9937e-01],\n",
       "            [5.6776e+02, 3.5029e+02, 2.5395e-01],\n",
       "            [5.9694e+02, 3.7366e+02, 2.8638e-01],\n",
       "            [6.4648e+02, 3.6131e+02, 5.9041e-01],\n",
       "            [4.8591e+02, 1.6828e+02, 2.7837e-01],\n",
       "            [4.7486e+02, 1.6983e+02, 4.7442e-01],\n",
       "            [4.5529e+02, 1.5224e+02, 3.9059e-01],\n",
       "            [5.8642e+02, 3.5412e+02, 4.4458e-01],\n",
       "            [5.0722e+02, 4.0346e+02, 2.3651e-01],\n",
       "            [5.3065e+02, 5.1945e+02, 2.3412e-01],\n",
       "            [5.6775e+02, 5.0767e+02, 3.3619e-01],\n",
       "            [6.1218e+02, 3.4521e+02, 3.3985e-01],\n",
       "            [5.5182e+02, 3.4943e+02, 3.7414e-01],\n",
       "            [5.1409e+02, 5.3458e+02, 1.6791e-01],\n",
       "            [5.6909e+02, 3.5709e+02, 5.4134e-01],\n",
       "            [3.7337e+01, 4.5473e+00, 3.6217e-01],\n",
       "            [6.5091e+02, 3.6029e+02, 5.5448e-01],\n",
       "            [6.8430e+02, 3.7262e+02, 4.3378e-01]]]])},\n",
       " 0.003065347671508789)"
      ]
     },
     "execution_count": 106,
     "metadata": {},
     "output_type": "execute_result"
    }
   ],
   "source": [
    "# Dikra\n",
    "onnx_dlc_live = DLCLive(\n",
    "    path=\"/media/dikra/PhD/DATA/DLC24_Data/dlc-live-dummy/superbird_ssdlite\",\n",
    "    model_type=\"pytorch\",\n",
    "    device=\"cuda\",\n",
    "    display=True,\n",
    "    snapshot=\"snapshot-100.pt\",\n",
    "    # resize=0.7,\n",
    "    # cropping=[0,512,0,512]\n",
    "    # precision=\"FP16\",\n",
    ")\n",
    "\n",
    "# Anna\n",
    "# onnx_dlc_live = DLCLive(pytorch_cfg=\"/Users/annastuckert/Documents/DLC_AI_Residency/DLC_AI2024/DeepLabCut-live/Ventral_gait_model/train\", processor=dlc_proc, snapshot='/Users/annastuckert/Documents/DLC_AI_Residency/DLC_AI2024/DeepLabCut-live/Ventral_gait_model/train/snapshot-263.pt')\n",
    "# onnx_dlc_live = DLCLive(\"/Users/annastuckert/Documents/DLC_AI_Residency/DLC_AI2024/DeepLabCut-live/exported DLC model for dlc-live/DLC_dev-single-animal_resnet_50_iteration-1_shuffle-1\", processor=dlc_proc)\n",
    "# img = cv2.imread(\"/Users/annastuckert/Documents/DLC_AI_Residency/DLC_AI2024/DeepLabCut-live/exported DLC model for dlc-live/img049.png\")\n",
    "\n",
    "onnx_pose = onnx_dlc_live.init_inference(frame=img)\n",
    "onnx_pose"
   ]
  },
  {
   "cell_type": "markdown",
   "metadata": {},
   "source": [
    "![Screenshot from 2024-08-20 14-29-53.png](./docs/assets/Screenshot%20from%202024-08-20%2014-36-00.png)"
   ]
  },
  {
   "cell_type": "code",
   "execution_count": 107,
   "metadata": {},
   "outputs": [
    {
     "name": "stdout",
     "output_type": "stream",
     "text": [
      "PyTorch inference took 0.01370382308959961 sec\n",
      "PyTorch postprocessing took 0.06238055229187012 sec\n"
     ]
    },
    {
     "data": {
      "text/plain": [
       "({'poses': tensor([[[[5.5056e+02, 3.4709e+02, 5.1385e-01],\n",
       "            [6.9339e+02, 3.7831e+02, 5.1809e-01],\n",
       "            [4.8250e+02, 1.6700e+02, 7.6433e-01],\n",
       "            [5.9321e+02, 3.7561e+02, 3.0986e-01],\n",
       "            [6.2806e+02, 3.4517e+02, 6.5673e-01],\n",
       "            [6.4639e+02, 3.5552e+02, 6.0317e-01],\n",
       "            [6.3539e+02, 3.5684e+02, 5.4960e-01],\n",
       "            [4.6005e+02, 1.6846e+02, 4.6797e-01],\n",
       "            [3.7940e+02, 3.8465e+02, 3.3203e-01],\n",
       "            [4.6718e+02, 3.2919e+02, 2.2717e-01],\n",
       "            [5.8489e+02, 3.5557e+02, 4.6419e-01],\n",
       "            [6.3402e+02, 3.5767e+02, 8.2448e-01],\n",
       "            [4.7162e+02, 1.7686e+02, 5.2562e-01],\n",
       "            [5.4127e+02, 6.1913e+02, 3.4762e-01],\n",
       "            [4.2060e+01, 1.2721e+01, 2.4560e-01],\n",
       "            [4.4452e+02, 5.5158e+01, 9.1034e-01],\n",
       "            [6.3097e+02, 3.7222e+02, 6.1695e-01],\n",
       "            [6.2662e+02, 3.7354e+02, 1.9132e-01],\n",
       "            [4.4740e+02, 5.9445e+01, 3.8444e-01],\n",
       "            [3.2789e+02, 3.9531e+02, 6.1854e-01],\n",
       "            [5.5549e+02, 3.4680e+02, 4.4980e-01],\n",
       "            [4.9916e+02, 3.9047e+02, 6.9780e-01],\n",
       "            [5.0565e+02, 1.6211e+02, 1.9148e-01],\n",
       "            [4.8183e+02, 1.7215e+02, 5.6379e-01],\n",
       "            [4.5955e+02, 1.6836e+02, 4.9937e-01],\n",
       "            [5.6776e+02, 3.5029e+02, 2.5395e-01],\n",
       "            [5.9694e+02, 3.7366e+02, 2.8638e-01],\n",
       "            [6.4648e+02, 3.6131e+02, 5.9041e-01],\n",
       "            [4.8591e+02, 1.6828e+02, 2.7837e-01],\n",
       "            [4.7486e+02, 1.6983e+02, 4.7442e-01],\n",
       "            [4.5529e+02, 1.5224e+02, 3.9059e-01],\n",
       "            [5.8642e+02, 3.5412e+02, 4.4458e-01],\n",
       "            [5.0722e+02, 4.0346e+02, 2.3651e-01],\n",
       "            [5.3065e+02, 5.1945e+02, 2.3412e-01],\n",
       "            [5.6775e+02, 5.0767e+02, 3.3619e-01],\n",
       "            [6.1218e+02, 3.4521e+02, 3.3985e-01],\n",
       "            [5.5182e+02, 3.4943e+02, 3.7414e-01],\n",
       "            [5.1409e+02, 5.3458e+02, 1.6791e-01],\n",
       "            [5.6909e+02, 3.5709e+02, 5.4134e-01],\n",
       "            [3.7337e+01, 4.5473e+00, 3.6217e-01],\n",
       "            [6.5091e+02, 3.6029e+02, 5.5448e-01],\n",
       "            [6.8430e+02, 3.7262e+02, 4.3378e-01]]]])},\n",
       " 0.01370382308959961)"
      ]
     },
     "execution_count": 107,
     "metadata": {},
     "output_type": "execute_result"
    }
   ],
   "source": [
    "onnx_pose = onnx_dlc_live.get_pose(frame=img)\n",
    "onnx_pose"
   ]
  },
  {
   "cell_type": "code",
   "execution_count": 104,
   "metadata": {},
   "outputs": [],
   "source": [
    "onnx_dlc_live.display.destroy()"
   ]
  },
  {
   "cell_type": "markdown",
   "metadata": {},
   "source": [
    "### DLC Live with snaptshot of DLC 3.0 model (.pt)"
   ]
  },
  {
   "cell_type": "code",
   "execution_count": 69,
   "metadata": {},
   "outputs": [
    {
     "name": "stderr",
     "output_type": "stream",
     "text": [
      "/home/dikra/MyHub/Code/DLC24_Hub/DLC_AI2024/DeepLabCut-live/dlclive/dlclive.py:257: FutureWarning: You are using `torch.load` with `weights_only=False` (the current default value), which uses the default pickle module implicitly. It is possible to construct malicious pickle data which will execute arbitrary code during unpickling (See https://github.com/pytorch/pytorch/blob/main/SECURITY.md#untrusted-models for more details). In a future release, the default value for `weights_only` will be flipped to `True`. This limits the functions that could be executed during unpickling. Arbitrary objects will no longer be allowed to be loaded via this mode unless they are explicitly allowlisted by the user via `torch.serialization.add_safe_globals`. We recommend you start setting `weights_only=True` for any use case where you don't have full control of the loaded file. Please open an issue on GitHub for any issues related to this experimental feature.\n",
      "  weights = torch.load(model_path, map_location=torch.device(self.device))\n"
     ]
    },
    {
     "name": "stdout",
     "output_type": "stream",
     "text": [
      "Loading the model took 0.4676992893218994 sec\n",
      "PyTorch inference took 0.034587860107421875 sec\n",
      "PyTorch postprocessing took 0.0018115043640136719 sec\n"
     ]
    },
    {
     "data": {
      "text/plain": [
       "({'poses': tensor([[[[154.0203, 162.2280,   0.9152],\n",
       "            [146.8848, 158.9930,   0.9459],\n",
       "            [150.3487, 149.1102,   0.9093],\n",
       "            [196.7133, 137.2184,   0.8843],\n",
       "            [204.8920, 172.0188,   0.6791],\n",
       "            [342.8778,  81.4373,   0.6930],\n",
       "            [325.4101, 151.0759,   0.7803],\n",
       "            [240.2807, 110.5330,   0.6488],\n",
       "            [261.0057, 128.8403,   0.6076],\n",
       "            [254.8730, 154.8122,   0.8238],\n",
       "            [385.2763, 112.8773,   0.8098]]]])},\n",
       " 0.034587860107421875)"
      ]
     },
     "execution_count": 69,
     "metadata": {},
     "output_type": "execute_result"
    }
   ],
   "source": [
    "# Dikra\n",
    "pytorch_dlc_live = DLCLive(\n",
    "    path=\"/media/dikra/PhD/DATA/DLC24_Data/dlc-live-dummy/ventral-gait\",\n",
    "    snapshot=\"snapshot-263.pt\",\n",
    "    device=\"cuda\",\n",
    "    model_type=\"pytorch\",\n",
    "    display=True,\n",
    ")\n",
    "\n",
    "# Anna\n",
    "# pytorch_dlc_live = DLCLive(pytorch_cfg=\"/Users/annastuckert/Documents/DLC_AI_Residency/DLC_AI2024/DeepLabCut-live/Ventral_gait_model/train\", processor=dlc_proc, snapshot='/Users/annastuckert/Documents/DLC_AI_Residency/DLC_AI2024/DeepLabCut-live/Ventral_gait_model/train/snapshot-263.pt')\n",
    "# pytorch_dlc_live = DLCLive(\"/Users/annastuckert/Documents/DLC_AI_Residency/DLC_AI2024/DeepLabCut-live/exported DLC model for dlc-live/DLC_dev-single-animal_resnet_50_iteration-1_shuffle-1\", processor=dlc_proc)\n",
    "# img = cv2.imread(\"/Users/annastuckert/Documents/DLC_AI_Residency/DLC_AI2024/DeepLabCut-live/exported DLC model for dlc-live/img049.png\")\n",
    "\n",
    "pytorch_pose = pytorch_dlc_live.init_inference(frame=img)\n",
    "pytorch_pose"
   ]
  },
  {
   "cell_type": "code",
   "execution_count": 70,
   "metadata": {},
   "outputs": [],
   "source": [
    "pytorch_dlc_live.display.destroy()"
   ]
  },
  {
   "cell_type": "markdown",
   "metadata": {},
   "source": [
    "![PyTorch model inference](./docs/assets/Screenshot%20from%202024-08-20%2014-29-53.png)"
   ]
  },
  {
   "cell_type": "markdown",
   "metadata": {},
   "source": [
    "### Which is faster?\n",
    "\n",
    "Independent frame analysis"
   ]
  },
  {
   "cell_type": "code",
   "execution_count": 10,
   "metadata": {},
   "outputs": [],
   "source": [
    "import glob\n",
    "import os\n",
    "\n",
    "root = \"/media/dikra/PhD/DATA/DLC24_Data/dlc-live-dummy/superbird\"\n",
    "test_images = glob.glob(os.path.normpath(root + \"/*.jpg\"))\n",
    "\n",
    "\n",
    "def mean_time_inference(dlc_live, images):\n",
    "    poses, times = [], []\n",
    "    for i, img_p in enumerate(images):\n",
    "        print(\"Frame # \", i)\n",
    "        img = cv2.imread(img_p)\n",
    "\n",
    "        if i == 0:\n",
    "            pose, t = dlc_live.init_inference(img)\n",
    "        else:\n",
    "            pose, t = dlc_live.get_pose(img)\n",
    "        poses.append(pose)\n",
    "        times.append(t)\n",
    "\n",
    "    return times, poses"
   ]
  },
  {
   "cell_type": "code",
   "execution_count": 10,
   "metadata": {},
   "outputs": [
    {
     "data": {
      "text/plain": [
       "['fly-kevin', 'hand-track', 'superbird', 'ventral-gait']"
      ]
     },
     "execution_count": 10,
     "metadata": {},
     "output_type": "execute_result"
    }
   ],
   "source": [
    "projects"
   ]
  },
  {
   "cell_type": "code",
   "execution_count": 18,
   "metadata": {},
   "outputs": [
    {
     "name": "stdout",
     "output_type": "stream",
     "text": [
      "Frame #  0\n",
      "Loading the model took 0.0992898941040039 sec\n",
      "ONNX inference took 1.002748966217041 sec\n",
      "ONNX postprocessing took 0.0037970542907714844 sec\n",
      "Frame #  1\n",
      "ONNX inference took 1.185469627380371 sec\n",
      "ONNX postprocessing took 0.0041692256927490234 sec\n",
      "Frame #  2\n",
      "ONNX inference took 1.1702406406402588 sec\n",
      "ONNX postprocessing took 0.00862884521484375 sec\n",
      "Frame #  3\n",
      "ONNX inference took 1.6595604419708252 sec\n",
      "ONNX postprocessing took 0.004779815673828125 sec\n",
      "Frame #  4\n",
      "ONNX inference took 1.5690531730651855 sec\n",
      "ONNX postprocessing took 0.003983974456787109 sec\n",
      "Frame #  5\n",
      "ONNX inference took 0.3981649875640869 sec\n",
      "ONNX postprocessing took 0.0015933513641357422 sec\n",
      "Frame #  6\n",
      "ONNX inference took 0.5557830333709717 sec\n",
      "ONNX postprocessing took 0.002658367156982422 sec\n",
      "Frame #  7\n",
      "ONNX inference took 1.6932966709136963 sec\n",
      "ONNX postprocessing took 0.006421804428100586 sec\n",
      "Frame #  8\n",
      "ONNX inference took 1.2120893001556396 sec\n",
      "ONNX postprocessing took 0.0041429996490478516 sec\n"
     ]
    }
   ],
   "source": [
    "dlc_live = DLCLive(\n",
    "    path=\"/media/dikra/PhD/DATA/DLC24_Data/dlc-live-dummy/superbird_ssdlite\",\n",
    "    device=\"cuda\",\n",
    "    model_type=\"onnx\",\n",
    "    snapshot=\"snapshot-100.pt\",\n",
    "    display=True,\n",
    ")\n",
    "\n",
    "times, poses = mean_time_inference(dlc_live, test_images)"
   ]
  },
  {
   "cell_type": "code",
   "execution_count": 19,
   "metadata": {},
   "outputs": [],
   "source": [
    "dlc_live = DLCLive(\n",
    "    path=\"/media/dikra/PhD/DATA/DLC24_Data/dlc-live-dummy\",\n",
    "    snapshot=\"snapshot-200.pt\",\n",
    "    device=\"cuda\",\n",
    "    model_type=\"pytorch\",\n",
    ")\n",
    "\n",
    "mean_time = mean_time_inference(dlc_live, test_images)\n",
    "print(\n",
    "    f\"Inference of PyTorch model took on average {mean_time} seconds for {len(test_images)} images\"\n",
    ")"
   ]
  },
  {
   "cell_type": "code",
   "execution_count": 78,
   "metadata": {},
   "outputs": [
    {
     "name": "stdout",
     "output_type": "stream",
     "text": [
      "Loading the model took 4.69077205657959 sec\n",
      "ONNX inference took 49.87957811355591 sec\n",
      "ONNX postprocessing took 0.0015039443969726562 sec\n",
      "[54.57309126853943]\n",
      "Inference of PyTorch model took on average 54.57309126853943 seconds for 1 images\n"
     ]
    }
   ],
   "source": [
    "dlc_live = DLCLive(\n",
    "    path=\"/media/dikra/PhD/DATA/DLC24_Data/dlc-live-dummy/\" + projects[3],\n",
    "    device=\"tensorrt\",\n",
    "    model_type=\"onnx\",\n",
    ")\n",
    "\n",
    "mean_time = mean_time_inference(dlc_live, test_images)\n",
    "print(\n",
    "    f\"Inference of PyTorch model took on average {mean_time} seconds for {len(test_images)} images\"\n",
    ")"
   ]
  },
  {
   "cell_type": "code",
   "execution_count": 81,
   "metadata": {},
   "outputs": [
    {
     "name": "stdout",
     "output_type": "stream",
     "text": [
      "ONNX inference took 0.02220296859741211 sec\n",
      "ONNX postprocessing took 0.0027968883514404297 sec\n"
     ]
    }
   ],
   "source": [
    "start = time.time()\n",
    "dlc_live.get_pose(img)\n",
    "end = time.time()"
   ]
  },
  {
   "cell_type": "markdown",
   "metadata": {},
   "source": [
    "# Video analysis\n",
    "\n",
    "Currently the benchmark_pytorch.py script serves to provide a function for analyzing a preexisting video to test PyTorch for running video inference in DLC-Live. Code for running video inference on a live video feed is WIP.\n",
    "\n",
    "For true benchmarking purposes, we aim to add feature for recording the time it takes to analyze each frame / how many frames can be analyzed per second. Discuss what measure to use and consult the DLC Live paper"
   ]
  },
  {
   "cell_type": "code",
   "execution_count": 5,
   "metadata": {},
   "outputs": [
    {
     "name": "stdout",
     "output_type": "stream",
     "text": [
      "The autoreload extension is already loaded. To reload it, use:\n",
      "  %reload_ext autoreload\n"
     ]
    },
    {
     "name": "stderr",
     "output_type": "stream",
     "text": [
      "/home/dikra/miniconda3/envs/dlc-live/lib/python3.10/site-packages/_distutils_hack/__init__.py:32: UserWarning: Setuptools is replacing distutils. Support for replacing an already imported distutils is deprecated. In the future, this condition will fail. Register concerns at https://github.com/pypa/setuptools/issues/new?template=distutils-deprecation.yml\n",
      "  warnings.warn(\n"
     ]
    }
   ],
   "source": [
    "%load_ext autoreload\n",
    "%autoreload 2\n",
    "\n",
    "# Import the analyze_video function from the file where it's defined\n",
    "from dlclive.benchmark_pytorch import analyze_video"
   ]
  },
  {
   "cell_type": "code",
   "execution_count": 9,
   "metadata": {},
   "outputs": [
    {
     "name": "stdout",
     "output_type": "stream",
     "text": [
      "Loading the model took 0.2802889347076416 sec\n",
      "PyTorch inference took 0.0036814212799072266 sec\n",
      "PyTorch postprocessing took 0.013600349426269531 sec\n",
      "Frame 0 processing time: 0.4215 seconds\n",
      "PyTorch inference took 0.01842188835144043 sec\n",
      "PyTorch postprocessing took 0.01550912857055664 sec\n",
      "Frame 1 processing time: 0.0540 seconds\n",
      "PyTorch inference took 0.00528407096862793 sec\n",
      "PyTorch postprocessing took 0.012547969818115234 sec\n",
      "Frame 2 processing time: 0.0261 seconds\n",
      "PyTorch inference took 0.011702775955200195 sec\n",
      "PyTorch postprocessing took 0.015716552734375 sec\n",
      "Frame 3 processing time: 0.0482 seconds\n",
      "PyTorch inference took 0.02461075782775879 sec\n",
      "PyTorch postprocessing took 0.03164196014404297 sec\n",
      "Frame 4 processing time: 0.0836 seconds\n",
      "PyTorch inference took 0.007582902908325195 sec\n",
      "PyTorch postprocessing took 0.028603553771972656 sec\n",
      "Frame 5 processing time: 0.0447 seconds\n",
      "PyTorch inference took 0.010408878326416016 sec\n",
      "PyTorch postprocessing took 0.018442153930664062 sec\n",
      "Frame 6 processing time: 0.0638 seconds\n",
      "PyTorch inference took 0.01737213134765625 sec\n",
      "PyTorch postprocessing took 0.034822940826416016 sec\n",
      "Frame 7 processing time: 0.0961 seconds\n",
      "PyTorch inference took 0.014707088470458984 sec\n",
      "PyTorch postprocessing took 0.01083683967590332 sec\n",
      "Frame 8 processing time: 0.0426 seconds\n",
      "PyTorch inference took 0.01739335060119629 sec\n",
      "PyTorch postprocessing took 0.03256368637084961 sec\n",
      "Frame 9 processing time: 0.1066 seconds\n",
      "PyTorch inference took 0.012454509735107422 sec\n",
      "PyTorch postprocessing took 0.020547151565551758 sec\n",
      "Frame 10 processing time: 0.0630 seconds\n",
      "PyTorch inference took 0.005203962326049805 sec\n",
      "PyTorch postprocessing took 0.01286172866821289 sec\n",
      "Frame 11 processing time: 0.0260 seconds\n",
      "PyTorch inference took 0.020563840866088867 sec\n",
      "PyTorch postprocessing took 0.05190682411193848 sec\n",
      "Frame 12 processing time: 0.1043 seconds\n",
      "PyTorch inference took 0.04192686080932617 sec\n",
      "PyTorch postprocessing took 0.050370216369628906 sec\n",
      "Frame 13 processing time: 0.1095 seconds\n",
      "PyTorch inference took 0.01623392105102539 sec\n",
      "PyTorch postprocessing took 0.01563239097595215 sec\n",
      "Frame 14 processing time: 0.0549 seconds\n",
      "PyTorch inference took 0.019548416137695312 sec\n",
      "PyTorch postprocessing took 0.04745912551879883 sec\n",
      "Frame 15 processing time: 0.0812 seconds\n",
      "PyTorch inference took 0.04107022285461426 sec\n",
      "PyTorch postprocessing took 0.020743846893310547 sec\n",
      "Frame 16 processing time: 0.0808 seconds\n",
      "PyTorch inference took 0.029664993286132812 sec\n",
      "PyTorch postprocessing took 0.04406619071960449 sec\n",
      "Frame 17 processing time: 0.0890 seconds\n",
      "PyTorch inference took 0.025510311126708984 sec\n",
      "PyTorch postprocessing took 0.031229496002197266 sec\n",
      "Frame 18 processing time: 0.0704 seconds\n",
      "PyTorch inference took 0.006006479263305664 sec\n",
      "PyTorch postprocessing took 0.03288769721984863 sec\n",
      "Frame 19 processing time: 0.0488 seconds\n",
      "PyTorch inference took 0.021606922149658203 sec\n",
      "PyTorch postprocessing took 0.04279971122741699 sec\n",
      "Frame 20 processing time: 0.0806 seconds\n",
      "PyTorch inference took 0.011398792266845703 sec\n",
      "PyTorch postprocessing took 0.015645742416381836 sec\n",
      "Frame 21 processing time: 0.0663 seconds\n",
      "PyTorch inference took 0.026542186737060547 sec\n",
      "PyTorch postprocessing took 0.030844926834106445 sec\n",
      "Frame 22 processing time: 0.0688 seconds\n",
      "PyTorch inference took 0.011530399322509766 sec\n",
      "PyTorch postprocessing took 0.030956745147705078 sec\n",
      "Frame 23 processing time: 0.0716 seconds\n",
      "PyTorch inference took 0.027898550033569336 sec\n",
      "PyTorch postprocessing took 0.03867936134338379 sec\n",
      "Frame 24 processing time: 0.0830 seconds\n",
      "PyTorch inference took 0.013670682907104492 sec\n",
      "PyTorch postprocessing took 0.023301124572753906 sec\n",
      "Frame 25 processing time: 0.0725 seconds\n",
      "PyTorch inference took 0.010357379913330078 sec\n",
      "PyTorch postprocessing took 0.021359920501708984 sec\n",
      "Frame 26 processing time: 0.0601 seconds\n",
      "PyTorch inference took 0.020071029663085938 sec\n",
      "PyTorch postprocessing took 0.03878498077392578 sec\n",
      "Frame 27 processing time: 0.0937 seconds\n",
      "PyTorch inference took 0.006522417068481445 sec\n",
      "PyTorch postprocessing took 0.020804882049560547 sec\n",
      "Frame 28 processing time: 0.0372 seconds\n",
      "PyTorch inference took 0.029593706130981445 sec\n",
      "PyTorch postprocessing took 0.030839920043945312 sec\n",
      "Frame 29 processing time: 0.0721 seconds\n",
      "PyTorch inference took 0.015234708786010742 sec\n",
      "PyTorch postprocessing took 0.04195666313171387 sec\n",
      "Frame 30 processing time: 0.0831 seconds\n",
      "PyTorch inference took 0.005151271820068359 sec\n",
      "PyTorch postprocessing took 0.017538070678710938 sec\n",
      "Frame 31 processing time: 0.0336 seconds\n",
      "PyTorch inference took 0.03298783302307129 sec\n",
      "PyTorch postprocessing took 0.025580167770385742 sec\n",
      "Frame 32 processing time: 0.0721 seconds\n",
      "PyTorch inference took 0.017522811889648438 sec\n",
      "PyTorch postprocessing took 0.020316123962402344 sec\n",
      "Frame 33 processing time: 0.0898 seconds\n",
      "PyTorch inference took 0.015312433242797852 sec\n",
      "PyTorch postprocessing took 0.012444257736206055 sec\n",
      "Frame 34 processing time: 0.0440 seconds\n",
      "PyTorch inference took 0.009537458419799805 sec\n",
      "PyTorch postprocessing took 0.01182413101196289 sec\n",
      "Frame 35 processing time: 0.0402 seconds\n",
      "PyTorch inference took 0.03091263771057129 sec\n",
      "PyTorch postprocessing took 0.052869558334350586 sec\n",
      "Frame 36 processing time: 0.0993 seconds\n",
      "PyTorch inference took 0.008276700973510742 sec\n",
      "PyTorch postprocessing took 0.03092813491821289 sec\n",
      "Frame 37 processing time: 0.0532 seconds\n",
      "PyTorch inference took 0.006707668304443359 sec\n",
      "PyTorch postprocessing took 0.013286590576171875 sec\n",
      "Frame 38 processing time: 0.0317 seconds\n",
      "PyTorch inference took 0.004902839660644531 sec\n",
      "PyTorch postprocessing took 0.013597726821899414 sec\n",
      "Frame 39 processing time: 0.0260 seconds\n",
      "PyTorch inference took 0.002826690673828125 sec\n",
      "PyTorch postprocessing took 0.014295339584350586 sec\n",
      "Frame 40 processing time: 0.0237 seconds\n",
      "PyTorch inference took 0.002869844436645508 sec\n",
      "PyTorch postprocessing took 0.014169931411743164 sec\n",
      "Frame 41 processing time: 0.0238 seconds\n",
      "PyTorch inference took 0.014242887496948242 sec\n",
      "PyTorch postprocessing took 0.021179914474487305 sec\n",
      "Frame 42 processing time: 0.0538 seconds\n",
      "PyTorch inference took 0.007743120193481445 sec\n",
      "PyTorch postprocessing took 0.011849403381347656 sec\n",
      "Frame 43 processing time: 0.0291 seconds\n",
      "PyTorch inference took 0.03797006607055664 sec\n",
      "PyTorch postprocessing took 0.050130605697631836 sec\n",
      "Frame 44 processing time: 0.0981 seconds\n",
      "PyTorch inference took 0.011436939239501953 sec\n",
      "PyTorch postprocessing took 0.0321812629699707 sec\n",
      "Frame 45 processing time: 0.0793 seconds\n",
      "PyTorch inference took 0.018087387084960938 sec\n",
      "PyTorch postprocessing took 0.024480581283569336 sec\n",
      "Frame 46 processing time: 0.0673 seconds\n",
      "PyTorch inference took 0.006433963775634766 sec\n",
      "PyTorch postprocessing took 0.012469291687011719 sec\n",
      "Frame 47 processing time: 0.0271 seconds\n",
      "PyTorch inference took 0.010969877243041992 sec\n",
      "PyTorch postprocessing took 0.0246274471282959 sec\n",
      "Frame 48 processing time: 0.0572 seconds\n",
      "PyTorch inference took 0.01479196548461914 sec\n",
      "PyTorch postprocessing took 0.015360116958618164 sec\n",
      "Frame 49 processing time: 0.0517 seconds\n",
      "PyTorch inference took 0.004847288131713867 sec\n",
      "PyTorch postprocessing took 0.013351917266845703 sec\n",
      "Frame 50 processing time: 0.0256 seconds\n",
      "PyTorch inference took 0.007801055908203125 sec\n",
      "PyTorch postprocessing took 0.012214422225952148 sec\n",
      "Frame 51 processing time: 0.0310 seconds\n",
      "PyTorch inference took 0.00475311279296875 sec\n",
      "PyTorch postprocessing took 0.014177560806274414 sec\n",
      "Frame 52 processing time: 0.0263 seconds\n",
      "PyTorch inference took 0.0035943984985351562 sec\n",
      "PyTorch postprocessing took 0.018265247344970703 sec\n",
      "Frame 53 processing time: 0.0290 seconds\n",
      "PyTorch inference took 0.0173184871673584 sec\n",
      "PyTorch postprocessing took 0.030998945236206055 sec\n",
      "Frame 54 processing time: 0.0712 seconds\n",
      "PyTorch inference took 0.0113067626953125 sec\n",
      "PyTorch postprocessing took 0.018642663955688477 sec\n",
      "Frame 55 processing time: 0.0598 seconds\n",
      "PyTorch inference took 0.010306835174560547 sec\n",
      "PyTorch postprocessing took 0.012246370315551758 sec\n",
      "Frame 56 processing time: 0.0443 seconds\n",
      "PyTorch inference took 0.016263246536254883 sec\n",
      "PyTorch postprocessing took 0.03079080581665039 sec\n",
      "Frame 57 processing time: 0.0841 seconds\n",
      "PyTorch inference took 0.027025461196899414 sec\n",
      "PyTorch postprocessing took 0.041788578033447266 sec\n",
      "Frame 58 processing time: 0.0818 seconds\n",
      "PyTorch inference took 0.01250910758972168 sec\n",
      "PyTorch postprocessing took 0.023792505264282227 sec\n",
      "Frame 59 processing time: 0.0810 seconds\n",
      "PyTorch inference took 0.006372213363647461 sec\n",
      "PyTorch postprocessing took 0.013249635696411133 sec\n",
      "Frame 60 processing time: 0.0308 seconds\n",
      "PyTorch inference took 0.025782108306884766 sec\n",
      "PyTorch postprocessing took 0.03226613998413086 sec\n",
      "Frame 61 processing time: 0.0718 seconds\n",
      "PyTorch inference took 0.008585214614868164 sec\n",
      "PyTorch postprocessing took 0.010907173156738281 sec\n",
      "Frame 62 processing time: 0.0292 seconds\n",
      "PyTorch inference took 0.022231101989746094 sec\n",
      "PyTorch postprocessing took 0.032639265060424805 sec\n",
      "Frame 63 processing time: 0.0794 seconds\n",
      "PyTorch inference took 0.00871133804321289 sec\n",
      "PyTorch postprocessing took 0.012968301773071289 sec\n",
      "Frame 64 processing time: 0.0296 seconds\n",
      "PyTorch inference took 0.014966011047363281 sec\n",
      "PyTorch postprocessing took 0.02234029769897461 sec\n",
      "Frame 65 processing time: 0.0613 seconds\n",
      "PyTorch inference took 0.010680437088012695 sec\n",
      "PyTorch postprocessing took 0.025979042053222656 sec\n",
      "Frame 66 processing time: 0.0605 seconds\n",
      "PyTorch inference took 0.007852792739868164 sec\n",
      "PyTorch postprocessing took 0.013394594192504883 sec\n",
      "Frame 67 processing time: 0.0405 seconds\n",
      "PyTorch inference took 0.030370235443115234 sec\n",
      "PyTorch postprocessing took 0.037369728088378906 sec\n",
      "Frame 68 processing time: 0.0842 seconds\n",
      "PyTorch inference took 0.01879143714904785 sec\n",
      "PyTorch postprocessing took 0.014958381652832031 sec\n",
      "Frame 69 processing time: 0.0475 seconds\n",
      "PyTorch inference took 0.0063931941986083984 sec\n",
      "PyTorch postprocessing took 0.014638185501098633 sec\n",
      "Frame 70 processing time: 0.0367 seconds\n",
      "PyTorch inference took 0.005053043365478516 sec\n",
      "PyTorch postprocessing took 0.014304399490356445 sec\n",
      "Frame 71 processing time: 0.0289 seconds\n",
      "PyTorch inference took 0.013205766677856445 sec\n",
      "PyTorch postprocessing took 0.016928672790527344 sec\n",
      "Frame 72 processing time: 0.0546 seconds\n",
      "PyTorch inference took 0.015664339065551758 sec\n",
      "PyTorch postprocessing took 0.01799297332763672 sec\n",
      "Frame 73 processing time: 0.0694 seconds\n",
      "PyTorch inference took 0.0054929256439208984 sec\n",
      "PyTorch postprocessing took 0.013212203979492188 sec\n",
      "Frame 74 processing time: 0.0253 seconds\n",
      "PyTorch inference took 0.0032770633697509766 sec\n",
      "PyTorch postprocessing took 0.013866662979125977 sec\n",
      "Frame 75 processing time: 0.0277 seconds\n",
      "PyTorch inference took 0.009986639022827148 sec\n",
      "PyTorch postprocessing took 0.012989282608032227 sec\n",
      "Frame 76 processing time: 0.0529 seconds\n",
      "PyTorch inference took 0.012500286102294922 sec\n",
      "PyTorch postprocessing took 0.031409263610839844 sec\n",
      "Frame 77 processing time: 0.0647 seconds\n",
      "PyTorch inference took 0.007198810577392578 sec\n",
      "PyTorch postprocessing took 0.018802165985107422 sec\n",
      "Frame 78 processing time: 0.0371 seconds\n",
      "PyTorch inference took 0.039362430572509766 sec\n",
      "PyTorch postprocessing took 0.034258127212524414 sec\n",
      "Frame 79 processing time: 0.0954 seconds\n",
      "PyTorch inference took 0.00641942024230957 sec\n",
      "PyTorch postprocessing took 0.018443822860717773 sec\n",
      "Frame 80 processing time: 0.0395 seconds\n",
      "PyTorch inference took 0.00738525390625 sec\n",
      "PyTorch postprocessing took 0.020743131637573242 sec\n",
      "Frame 81 processing time: 0.0434 seconds\n",
      "PyTorch inference took 0.010709047317504883 sec\n",
      "PyTorch postprocessing took 0.04043436050415039 sec\n",
      "Frame 82 processing time: 0.0818 seconds\n",
      "PyTorch inference took 0.011079072952270508 sec\n",
      "PyTorch postprocessing took 0.011492013931274414 sec\n",
      "Frame 83 processing time: 0.0534 seconds\n",
      "PyTorch inference took 0.011015653610229492 sec\n",
      "PyTorch postprocessing took 0.03702116012573242 sec\n",
      "Frame 84 processing time: 0.0759 seconds\n",
      "PyTorch inference took 0.03603839874267578 sec\n",
      "PyTorch postprocessing took 0.05070662498474121 sec\n",
      "Frame 85 processing time: 0.1036 seconds\n",
      "PyTorch inference took 0.013872146606445312 sec\n",
      "PyTorch postprocessing took 0.011025428771972656 sec\n",
      "Frame 86 processing time: 0.0386 seconds\n",
      "PyTorch inference took 0.004307985305786133 sec\n",
      "PyTorch postprocessing took 0.01354217529296875 sec\n",
      "Frame 87 processing time: 0.0269 seconds\n",
      "PyTorch inference took 0.004235506057739258 sec\n",
      "PyTorch postprocessing took 0.01354074478149414 sec\n",
      "Frame 88 processing time: 0.0257 seconds\n",
      "PyTorch inference took 0.020974397659301758 sec\n",
      "PyTorch postprocessing took 0.03454256057739258 sec\n",
      "Frame 89 processing time: 0.0651 seconds\n",
      "PyTorch inference took 0.004067897796630859 sec\n",
      "PyTorch postprocessing took 0.013520956039428711 sec\n",
      "Frame 90 processing time: 0.0251 seconds\n",
      "PyTorch inference took 0.008693456649780273 sec\n",
      "PyTorch postprocessing took 0.022731542587280273 sec\n",
      "Frame 91 processing time: 0.0626 seconds\n",
      "PyTorch inference took 0.004271745681762695 sec\n",
      "PyTorch postprocessing took 0.024565458297729492 sec\n",
      "Frame 92 processing time: 0.0372 seconds\n",
      "PyTorch inference took 0.03750419616699219 sec\n",
      "PyTorch postprocessing took 0.023537397384643555 sec\n",
      "Frame 93 processing time: 0.0742 seconds\n",
      "PyTorch inference took 0.014610052108764648 sec\n",
      "PyTorch postprocessing took 0.03419899940490723 sec\n",
      "Frame 94 processing time: 0.0980 seconds\n",
      "PyTorch inference took 0.029095888137817383 sec\n",
      "PyTorch postprocessing took 0.022425413131713867 sec\n",
      "Frame 95 processing time: 0.0825 seconds\n",
      "PyTorch inference took 0.0240631103515625 sec\n",
      "PyTorch postprocessing took 0.036238908767700195 sec\n",
      "Frame 96 processing time: 0.0772 seconds\n",
      "PyTorch inference took 0.0159149169921875 sec\n",
      "PyTorch postprocessing took 0.014174222946166992 sec\n",
      "Frame 97 processing time: 0.0570 seconds\n",
      "PyTorch inference took 0.02364516258239746 sec\n",
      "PyTorch postprocessing took 0.041028499603271484 sec\n",
      "Frame 98 processing time: 0.0888 seconds\n",
      "PyTorch inference took 0.0178987979888916 sec\n",
      "PyTorch postprocessing took 0.009447097778320312 sec\n",
      "Frame 99 processing time: 0.0403 seconds\n",
      "PyTorch inference took 0.021983861923217773 sec\n",
      "PyTorch postprocessing took 0.030240535736083984 sec\n",
      "Frame 100 processing time: 0.0632 seconds\n",
      "PyTorch inference took 0.011003494262695312 sec\n",
      "PyTorch postprocessing took 0.008928537368774414 sec\n",
      "Frame 101 processing time: 0.0338 seconds\n",
      "PyTorch inference took 0.006595134735107422 sec\n",
      "PyTorch postprocessing took 0.01645493507385254 sec\n",
      "Frame 102 processing time: 0.0362 seconds\n",
      "PyTorch inference took 0.007020473480224609 sec\n",
      "PyTorch postprocessing took 0.01700282096862793 sec\n",
      "Frame 103 processing time: 0.0311 seconds\n",
      "PyTorch inference took 0.005402088165283203 sec\n",
      "PyTorch postprocessing took 0.024558067321777344 sec\n",
      "Frame 104 processing time: 0.0443 seconds\n",
      "PyTorch inference took 0.014674186706542969 sec\n",
      "PyTorch postprocessing took 0.012655258178710938 sec\n",
      "Frame 105 processing time: 0.0666 seconds\n",
      "PyTorch inference took 0.00705409049987793 sec\n",
      "PyTorch postprocessing took 0.019931316375732422 sec\n",
      "Frame 106 processing time: 0.0385 seconds\n",
      "PyTorch inference took 0.007076263427734375 sec\n",
      "PyTorch postprocessing took 0.03175640106201172 sec\n",
      "Frame 107 processing time: 0.0479 seconds\n",
      "PyTorch inference took 0.03257274627685547 sec\n",
      "PyTorch postprocessing took 0.03074169158935547 sec\n",
      "Frame 108 processing time: 0.0925 seconds\n",
      "PyTorch inference took 0.003931522369384766 sec\n",
      "PyTorch postprocessing took 0.01670670509338379 sec\n",
      "Frame 109 processing time: 0.0321 seconds\n",
      "PyTorch inference took 0.007236957550048828 sec\n",
      "PyTorch postprocessing took 0.01715397834777832 sec\n",
      "Frame 110 processing time: 0.0424 seconds\n",
      "PyTorch inference took 0.01486063003540039 sec\n",
      "PyTorch postprocessing took 0.011955499649047852 sec\n",
      "Frame 111 processing time: 0.0476 seconds\n",
      "PyTorch inference took 0.00943613052368164 sec\n",
      "PyTorch postprocessing took 0.009621381759643555 sec\n",
      "Frame 112 processing time: 0.0314 seconds\n",
      "PyTorch inference took 0.0036847591400146484 sec\n",
      "PyTorch postprocessing took 0.013778448104858398 sec\n",
      "Frame 113 processing time: 0.0290 seconds\n",
      "PyTorch inference took 0.0159451961517334 sec\n",
      "PyTorch postprocessing took 0.010678291320800781 sec\n",
      "Frame 114 processing time: 0.0398 seconds\n",
      "PyTorch inference took 0.04393410682678223 sec\n",
      "PyTorch postprocessing took 0.025439977645874023 sec\n",
      "Frame 115 processing time: 0.0886 seconds\n",
      "PyTorch inference took 0.006112813949584961 sec\n",
      "PyTorch postprocessing took 0.013206958770751953 sec\n",
      "Frame 116 processing time: 0.0314 seconds\n",
      "PyTorch inference took 0.014215230941772461 sec\n",
      "PyTorch postprocessing took 0.022112369537353516 sec\n",
      "Frame 117 processing time: 0.0581 seconds\n",
      "PyTorch inference took 0.004368305206298828 sec\n",
      "PyTorch postprocessing took 0.013715267181396484 sec\n",
      "Frame 118 processing time: 0.0287 seconds\n",
      "PyTorch inference took 0.017811059951782227 sec\n",
      "PyTorch postprocessing took 0.02261662483215332 sec\n",
      "Frame 119 processing time: 0.0481 seconds\n",
      "PyTorch inference took 0.008369207382202148 sec\n",
      "PyTorch postprocessing took 0.013109683990478516 sec\n",
      "Frame 120 processing time: 0.0441 seconds\n",
      "PyTorch inference took 0.016117572784423828 sec\n",
      "PyTorch postprocessing took 0.03111553192138672 sec\n",
      "Frame 121 processing time: 0.0633 seconds\n",
      "PyTorch inference took 0.006899118423461914 sec\n",
      "PyTorch postprocessing took 0.013281106948852539 sec\n",
      "Frame 122 processing time: 0.0301 seconds\n",
      "PyTorch inference took 0.015644311904907227 sec\n",
      "PyTorch postprocessing took 0.0252683162689209 sec\n",
      "Frame 123 processing time: 0.0787 seconds\n",
      "PyTorch inference took 0.013717412948608398 sec\n",
      "PyTorch postprocessing took 0.01092839241027832 sec\n",
      "Frame 124 processing time: 0.0394 seconds\n",
      "PyTorch inference took 0.018199443817138672 sec\n",
      "PyTorch postprocessing took 0.01744985580444336 sec\n",
      "Frame 125 processing time: 0.0592 seconds\n",
      "PyTorch inference took 0.018805265426635742 sec\n",
      "PyTorch postprocessing took 0.027280092239379883 sec\n",
      "Frame 126 processing time: 0.0862 seconds\n",
      "PyTorch inference took 0.007497310638427734 sec\n",
      "PyTorch postprocessing took 0.014161348342895508 sec\n",
      "Frame 127 processing time: 0.0324 seconds\n",
      "PyTorch inference took 0.04678034782409668 sec\n",
      "PyTorch postprocessing took 0.02309894561767578 sec\n",
      "Frame 128 processing time: 0.0865 seconds\n",
      "PyTorch inference took 0.013871908187866211 sec\n",
      "PyTorch postprocessing took 0.012955427169799805 sec\n",
      "Frame 129 processing time: 0.0455 seconds\n",
      "PyTorch inference took 0.009844541549682617 sec\n",
      "PyTorch postprocessing took 0.012601613998413086 sec\n",
      "Frame 130 processing time: 0.0402 seconds\n",
      "PyTorch inference took 0.008225202560424805 sec\n",
      "PyTorch postprocessing took 0.012494325637817383 sec\n",
      "Frame 131 processing time: 0.0318 seconds\n",
      "PyTorch inference took 0.00646662712097168 sec\n",
      "PyTorch postprocessing took 0.013092041015625 sec\n",
      "Frame 132 processing time: 0.0335 seconds\n",
      "PyTorch inference took 0.00841379165649414 sec\n",
      "PyTorch postprocessing took 0.02024674415588379 sec\n",
      "Frame 133 processing time: 0.0452 seconds\n",
      "PyTorch inference took 0.014620542526245117 sec\n",
      "PyTorch postprocessing took 0.02272486686706543 sec\n",
      "Frame 134 processing time: 0.0826 seconds\n",
      "PyTorch inference took 0.024381399154663086 sec\n",
      "PyTorch postprocessing took 0.02936840057373047 sec\n",
      "Frame 135 processing time: 0.0628 seconds\n",
      "PyTorch inference took 0.015586137771606445 sec\n",
      "PyTorch postprocessing took 0.021381378173828125 sec\n",
      "Frame 136 processing time: 0.0940 seconds\n",
      "PyTorch inference took 0.009389638900756836 sec\n",
      "PyTorch postprocessing took 0.010446548461914062 sec\n",
      "Frame 137 processing time: 0.0315 seconds\n",
      "PyTorch inference took 0.004221439361572266 sec\n",
      "PyTorch postprocessing took 0.01299595832824707 sec\n",
      "Frame 138 processing time: 0.0255 seconds\n",
      "PyTorch inference took 0.026139020919799805 sec\n",
      "PyTorch postprocessing took 0.04559493064880371 sec\n",
      "Frame 139 processing time: 0.0869 seconds\n",
      "PyTorch inference took 0.013265132904052734 sec\n",
      "PyTorch postprocessing took 0.03055739402770996 sec\n",
      "Frame 140 processing time: 0.0549 seconds\n",
      "PyTorch inference took 0.005550384521484375 sec\n",
      "PyTorch postprocessing took 0.030742168426513672 sec\n",
      "Frame 141 processing time: 0.0451 seconds\n",
      "PyTorch inference took 0.008367061614990234 sec\n",
      "PyTorch postprocessing took 0.018316030502319336 sec\n",
      "Frame 142 processing time: 0.0516 seconds\n",
      "PyTorch inference took 0.0079193115234375 sec\n",
      "PyTorch postprocessing took 0.02067399024963379 sec\n",
      "Frame 143 processing time: 0.0387 seconds\n",
      "PyTorch inference took 0.017503023147583008 sec\n",
      "PyTorch postprocessing took 0.03420066833496094 sec\n",
      "Frame 144 processing time: 0.0695 seconds\n",
      "PyTorch inference took 0.014655828475952148 sec\n",
      "PyTorch postprocessing took 0.03223061561584473 sec\n",
      "Frame 145 processing time: 0.0693 seconds\n"
     ]
    },
    {
     "ename": "KeyboardInterrupt",
     "evalue": "",
     "output_type": "error",
     "traceback": [
      "\u001b[0;31m---------------------------------------------------------------------------\u001b[0m",
      "\u001b[0;31mKeyboardInterrupt\u001b[0m                         Traceback (most recent call last)",
      "Cell \u001b[0;32mIn[9], line 16\u001b[0m\n\u001b[1;32m     12\u001b[0m \u001b[38;5;66;03m# short video\u001b[39;00m\n\u001b[1;32m     13\u001b[0m \u001b[38;5;66;03m# video_path = '/Users/annastuckert/Documents/DLC_AI_Residency/DLC_AI2024/DeepLabCut-live/Ventral_gait_model/1_20cms_0degUP_first_1s.avi'\u001b[39;00m\n\u001b[1;32m     14\u001b[0m video_path \u001b[38;5;241m=\u001b[39m \u001b[38;5;124m\"\u001b[39m\u001b[38;5;124m/media/dikra/PhD/DATA/DLC24_Data/dlc-live-dummy/superbird_ssdlite/pigeon_superanimal_topviewmouse_hrnetw32.mp4\u001b[39m\u001b[38;5;124m\"\u001b[39m\n\u001b[0;32m---> 16\u001b[0m poses, times \u001b[38;5;241m=\u001b[39m \u001b[43manalyze_video\u001b[49m\u001b[43m(\u001b[49m\n\u001b[1;32m     17\u001b[0m \u001b[43m    \u001b[49m\u001b[43mvideo_path\u001b[49m\u001b[38;5;241;43m=\u001b[39;49m\u001b[43mvideo_path\u001b[49m\u001b[43m,\u001b[49m\n\u001b[1;32m     18\u001b[0m \u001b[43m    \u001b[49m\u001b[43mmodel_type\u001b[49m\u001b[38;5;241;43m=\u001b[39;49m\u001b[38;5;124;43m\"\u001b[39;49m\u001b[38;5;124;43mpytorch\u001b[39;49m\u001b[38;5;124;43m\"\u001b[39;49m\u001b[43m,\u001b[49m\n\u001b[1;32m     19\u001b[0m \u001b[43m    \u001b[49m\u001b[43msnapshot\u001b[49m\u001b[43m \u001b[49m\u001b[38;5;241;43m=\u001b[39;49m\u001b[43m \u001b[49m\u001b[38;5;124;43m\"\u001b[39;49m\u001b[38;5;124;43msnapshot-100.pt\u001b[39;49m\u001b[38;5;124;43m\"\u001b[39;49m\u001b[43m,\u001b[49m\n\u001b[1;32m     20\u001b[0m \u001b[43m    \u001b[49m\u001b[43mdevice\u001b[49m\u001b[38;5;241;43m=\u001b[39;49m\u001b[38;5;124;43m\"\u001b[39;49m\u001b[38;5;124;43mcuda\u001b[39;49m\u001b[38;5;124;43m\"\u001b[39;49m\u001b[43m,\u001b[49m\n\u001b[1;32m     21\u001b[0m \u001b[43m    \u001b[49m\u001b[43mprecision\u001b[49m\u001b[38;5;241;43m=\u001b[39;49m\u001b[38;5;124;43m\"\u001b[39;49m\u001b[38;5;124;43mFP16\u001b[39;49m\u001b[38;5;124;43m\"\u001b[39;49m\u001b[43m,\u001b[49m\n\u001b[1;32m     22\u001b[0m \u001b[43m    \u001b[49m\u001b[43mresize\u001b[49m\u001b[38;5;241;43m=\u001b[39;49m\u001b[38;5;241;43m0.25\u001b[39;49m\u001b[43m,\u001b[49m\n\u001b[1;32m     23\u001b[0m \u001b[43m    \u001b[49m\u001b[38;5;66;43;03m# cropping= [50, 250, 100, 450], # manually set the cropping to specific pixels\u001b[39;49;00m\n\u001b[1;32m     24\u001b[0m \u001b[43m    \u001b[49m\u001b[38;5;66;43;03m# dynamic=(True,0.5,10,),\u001b[39;49;00m\n\u001b[1;32m     25\u001b[0m \u001b[43m    \u001b[49m\u001b[43mmodel_path\u001b[49m\u001b[38;5;241;43m=\u001b[39;49m\u001b[38;5;124;43m\"\u001b[39;49m\u001b[38;5;124;43m/media/dikra/PhD/DATA/DLC24_Data/dlc-live-dummy/superbird_ssdlite\u001b[39;49m\u001b[38;5;124;43m\"\u001b[39;49m\u001b[43m,\u001b[49m\n\u001b[1;32m     26\u001b[0m \u001b[43m    \u001b[49m\u001b[43mdisplay\u001b[49m\u001b[38;5;241;43m=\u001b[39;49m\u001b[38;5;28;43;01mTrue\u001b[39;49;00m\u001b[43m,\u001b[49m\n\u001b[1;32m     27\u001b[0m \u001b[43m    \u001b[49m\u001b[43msave_poses\u001b[49m\u001b[38;5;241;43m=\u001b[39;49m\u001b[38;5;28;43;01mFalse\u001b[39;49;00m\u001b[43m,\u001b[49m\n\u001b[1;32m     28\u001b[0m \u001b[43m    \u001b[49m\u001b[43msave_dir\u001b[49m\u001b[38;5;241;43m=\u001b[39;49m\u001b[38;5;124;43m\"\u001b[39;49m\u001b[38;5;124;43m/media/dikra/PhD/DATA/DLC24_Data/dlc-live-dummy/superbird_ssdlite/out\u001b[39;49m\u001b[38;5;124;43m\"\u001b[39;49m\u001b[43m,\u001b[49m\n\u001b[1;32m     29\u001b[0m \u001b[43m    \u001b[49m\u001b[43mdraw_keypoint_names\u001b[49m\u001b[38;5;241;43m=\u001b[39;49m\u001b[38;5;28;43;01mFalse\u001b[39;49;00m\u001b[43m,\u001b[49m\n\u001b[1;32m     30\u001b[0m \u001b[43m)\u001b[49m\n",
      "File \u001b[0;32m~/MyHub/Code/DLC24_Hub/DLC_AI2024/DeepLabCut-live/dlclive/benchmark_pytorch.py:229\u001b[0m, in \u001b[0;36manalyze_video\u001b[0;34m(video_path, model_path, model_type, device, precision, snapshot, display, pcutoff, display_radius, resize, cropping, dynamic, save_poses, save_dir, draw_keypoint_names, cmap, get_sys_info)\u001b[0m\n\u001b[1;32m    226\u001b[0m \u001b[38;5;28;01mwhile\u001b[39;00m \u001b[38;5;28;01mTrue\u001b[39;00m:\n\u001b[1;32m    227\u001b[0m     start_time \u001b[38;5;241m=\u001b[39m time\u001b[38;5;241m.\u001b[39mtime()\n\u001b[0;32m--> 229\u001b[0m     ret, frame \u001b[38;5;241m=\u001b[39m \u001b[43mcap\u001b[49m\u001b[38;5;241;43m.\u001b[39;49m\u001b[43mread\u001b[49m\u001b[43m(\u001b[49m\u001b[43m)\u001b[49m\n\u001b[1;32m    230\u001b[0m     \u001b[38;5;28;01mif\u001b[39;00m \u001b[38;5;129;01mnot\u001b[39;00m ret:\n\u001b[1;32m    231\u001b[0m         \u001b[38;5;28;01mbreak\u001b[39;00m\n",
      "\u001b[0;31mKeyboardInterrupt\u001b[0m: "
     ]
    }
   ],
   "source": [
    "# test download of benchmarking dataset\n",
    "# OBS link it not working, waiting for updated link to benchmarking dataset\n",
    "\n",
    "dlc_live = DLCLive(\n",
    "    path=\"/media/dikra/PhD/DATA/DLC24_Data/dlc-live-dummy/superbird_ssdlite\",\n",
    "    device=\"cuda\",\n",
    "    snapshot=\"snapshot-100.pt\",\n",
    "    model_type=\"onnx\",\n",
    "    display=True,\n",
    "    precision=\"FP16\",\n",
    ")\n",
    "# short video\n",
    "# video_path = '/Users/annastuckert/Documents/DLC_AI_Residency/DLC_AI2024/DeepLabCut-live/Ventral_gait_model/1_20cms_0degUP_first_1s.avi'\n",
    "video_path = \"/media/dikra/PhD/DATA/DLC24_Data/dlc-live-dummy/superbird_ssdlite/pigeon_superanimal_topviewmouse_hrnetw32.mp4\"\n",
    "\n",
    "poses, times = analyze_video(\n",
    "    video_path=video_path,\n",
    "    model_type=\"pytorch\",\n",
    "    snapshot = \"snapshot-100.pt\",\n",
    "    device=\"cuda\",\n",
    "    precision=\"FP16\",\n",
    "    resize=0.25,\n",
    "    # cropping= [50, 250, 100, 450], # manually set the cropping to specific pixels\n",
    "    # dynamic=(True,0.5,10,),\n",
    "    model_path=\"/media/dikra/PhD/DATA/DLC24_Data/dlc-live-dummy/superbird_ssdlite\",\n",
    "    display=True,\n",
    "    save_poses=False,\n",
    "    save_dir=\"/media/dikra/PhD/DATA/DLC24_Data/dlc-live-dummy/superbird_ssdlite/out\",\n",
    "    draw_keypoint_names=False,\n",
    ")"
   ]
  },
  {
   "cell_type": "code",
   "execution_count": 41,
   "metadata": {},
   "outputs": [],
   "source": [
    "times = [p[\"pose\"][1] for p in poses]"
   ]
  },
  {
   "cell_type": "markdown",
   "metadata": {},
   "source": [
    "Mean ± std inference time per frame"
   ]
  },
  {
   "cell_type": "code",
   "execution_count": 17,
   "metadata": {},
   "outputs": [
    {
     "name": "stdout",
     "output_type": "stream",
     "text": [
      "Mean inference time excluding 1st inference  61.88 ms ± 1.43\n",
      "Mean inference time including 1st inference  66.34 ms ± 108.21\n"
     ]
    }
   ],
   "source": [
    "print(\n",
    "    \"Mean inference time excluding 1st inference \",\n",
    "    np.round(np.mean(times[1:]) * 1000, 2),\n",
    "    \"ms ±\",\n",
    "    np.round(np.std(times[1:]) * 1000, 2),\n",
    ")\n",
    "print(\n",
    "    \"Mean inference time including 1st inference \",\n",
    "    np.round(np.mean(times) * 1000, 2),\n",
    "    \"ms ±\",\n",
    "    np.round(np.std(times) * 1000, 2),\n",
    ")"
   ]
  },
  {
   "cell_type": "code",
   "execution_count": 18,
   "metadata": {},
   "outputs": [
    {
     "data": {
      "text/plain": [
       "[<matplotlib.lines.Line2D at 0x72886977dc30>]"
      ]
     },
     "execution_count": 18,
     "metadata": {},
     "output_type": "execute_result"
    },
    {
     "data": {
      "image/png": "[encoded data removed]",
      "text/plain": [
       "<Figure size 640x480 with 1 Axes>"
      ]
     },
     "metadata": {},
     "output_type": "display_data"
    }
   ],
   "source": [
    "import matplotlib.pyplot as plt\n",
    "\n",
    "plt.plot(times[1:])"
   ]
  },
  {
   "cell_type": "markdown",
   "metadata": {},
   "source": [
    "### Compute fps from inference times"
   ]
  },
  {
   "cell_type": "code",
   "execution_count": 19,
   "metadata": {},
   "outputs": [
    {
     "name": "stdout",
     "output_type": "stream",
     "text": [
      "Average FPS: 16.142290172732356\n",
      "Standard Deviation of FPS: 0.7541644897674918\n"
     ]
    }
   ],
   "source": [
    "import numpy as np\n",
    "\n",
    "\n",
    "def calculate_fps_stats(inference_times):\n",
    "    \"\"\"\n",
    "    Calculates the average FPS rate and its standard deviation from a list of inference times.\n",
    "\n",
    "    Args:\n",
    "        inference_times (list): A list of inference times in seconds.\n",
    "\n",
    "    Returns:\n",
    "        tuple: A tuple containing the average FPS rate and its standard deviation.\n",
    "    \"\"\"\n",
    "\n",
    "    # Calculate FPS for each frame\n",
    "    fps_values = [1 / time for time in inference_times]\n",
    "\n",
    "    # Calculate average FPS\n",
    "    average_fps = np.mean(fps_values)\n",
    "\n",
    "    # Calculate standard deviation of FPS\n",
    "    std_dev_fps = np.std(fps_values)\n",
    "\n",
    "    return average_fps, std_dev_fps\n",
    "\n",
    "\n",
    "average_fps, std_dev_fps = calculate_fps_stats(times)\n",
    "\n",
    "print(\"Average FPS:\", average_fps)\n",
    "print(\"Standard Deviation of FPS:\", std_dev_fps)"
   ]
  },
  {
   "cell_type": "markdown",
   "metadata": {},
   "source": [
    "### Get model size"
   ]
  },
  {
   "cell_type": "code",
   "execution_count": 19,
   "metadata": {},
   "outputs": [
    {
     "data": {
      "text/plain": [
       "'46.16 MB'"
      ]
     },
     "execution_count": 19,
     "metadata": {},
     "output_type": "execute_result"
    }
   ],
   "source": [
    "import torch\n",
    "\n",
    "\n",
    "def get_model_size(model_path):\n",
    "    \"\"\"\n",
    "    Calculates the size of an ONNX model in bytes.\n",
    "\n",
    "    Args:\n",
    "        model_path (str): The path to the ONNX model file.\n",
    "\n",
    "    Returns:\n",
    "        int: The size of the model in bytes.\n",
    "    \"\"\"\n",
    "    if \".onnx\" in model_path:\n",
    "        model = onnx.load(model_path)\n",
    "        size_bytes = len(model.SerializeToString())\n",
    "    elif \".pt\" in model_path:\n",
    "        model = torch.load(model_path)\n",
    "        params = list(model.parameters())\n",
    "        size_bytes = sum([p.numel() * p.element_size() for p in params])\n",
    "\n",
    "    # Convert to KB, MB, GB, etc.\n",
    "    if size_bytes < 1024:\n",
    "        size_str = f\"{size_bytes} B\"\n",
    "    elif size_bytes < 1024 * 1024:\n",
    "        size_str = f\"{size_bytes / 1024:.2f} KB\"\n",
    "    elif size_bytes < 1024 * 1024 * 1024:\n",
    "        size_str = f\"{size_bytes / (1024 * 1024):.2f} MB\"\n",
    "    else:\n",
    "        size_str = f\"{size_bytes / (1024 * 1024 * 1024):.2f} GB\"\n",
    "\n",
    "    return size_str\n",
    "\n",
    "\n",
    "get_model_size(\n",
    "    \"/media/dikra/PhD/DATA/DLC24_Data/dlc-live-dummy/ventral-gait/resnet_fp16.onnx\"\n",
    ")"
   ]
  },
  {
   "cell_type": "markdown",
   "metadata": {},
   "source": [
    "### Get video characteristics"
   ]
  },
  {
   "cell_type": "code",
   "execution_count": 53,
   "metadata": {},
   "outputs": [
    {
     "name": "stdout",
     "output_type": "stream",
     "text": [
      "FPS: 29.97\n",
      "Number of frames: 1077.0\n",
      "Video length (seconds): 35.93593593593594\n",
      "Frame size: (480.0, 270.0)\n"
     ]
    }
   ],
   "source": [
    "import cv2\n",
    "\n",
    "\n",
    "def get_video_characteristics(video_path):\n",
    "    \"\"\"\n",
    "    Extracts the FPS, number of frames, length in seconds, and frame size of a video.\n",
    "\n",
    "    Args:\n",
    "        video_path (str): The path to the video file.\n",
    "\n",
    "    Returns:\n",
    "        tuple: A tuple containing the FPS, number of frames, length in seconds, and frame size.\n",
    "    \"\"\"\n",
    "\n",
    "    cap = cv2.VideoCapture(video_path)\n",
    "\n",
    "    # Get video properties\n",
    "    fps = cap.get(cv2.CAP_PROP_FPS)\n",
    "    frame_count = cap.get(cv2.CAP_PROP_FRAME_COUNT)\n",
    "    frame_width = int(cap.get(cv2.CAP_PROP_FRAME_WIDTH)) * 0.25\n",
    "    frame_height = int(cap.get(cv2.CAP_PROP_FRAME_HEIGHT)) * 0.25\n",
    "\n",
    "    # Calculate video length in seconds\n",
    "    video_length = frame_count / fps\n",
    "\n",
    "    cap.release()\n",
    "\n",
    "    return fps, frame_count, video_length, (frame_width, frame_height)\n",
    "\n",
    "\n",
    "# Example usage:\n",
    "video_path = \"/media/dikra/PhD/DATA/DLC24_Data/dlc-live-dummy/superbird/pigeon_superanimal_topviewmouse_hrnetw32.mp4\"\n",
    "fps, frame_count, video_length, frame_size = get_video_characteristics(video_path)\n",
    "\n",
    "print(\"FPS:\", fps)\n",
    "print(\"Number of frames:\", frame_count)\n",
    "print(\"Video length (seconds):\", video_length)\n",
    "print(\"Frame size:\", frame_size)"
   ]
  }
 ],
 "metadata": {
  "kernelspec": {
   "display_name": "dlc-live",
   "language": "python",
   "name": "python3"
  },
  "language_info": {
   "codemirror_mode": {
    "name": "ipython",
    "version": 3
   },
   "file_extension": ".py",
   "mimetype": "text/x-python",
   "name": "python",
   "nbconvert_exporter": "python",
   "pygments_lexer": "ipython3",
   "version": "3.10.14"
  }
 },
 "nbformat": 4,
 "nbformat_minor": 2
}
