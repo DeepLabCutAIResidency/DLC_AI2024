{
 "cells": [
  {
   "cell_type": "markdown",
   "metadata": {},
   "source": [
    "# DLC Live PyTorch Demo"
   ]
  },
  {
   "cell_type": "code",
   "execution_count": 1,
   "metadata": {},
   "outputs": [],
   "source": [
    "%load_ext autoreload\n",
    "%autoreload 2"
   ]
  },
  {
   "cell_type": "code",
   "execution_count": 2,
   "metadata": {},
   "outputs": [
    {
     "name": "stdout",
     "output_type": "stream",
     "text": [
      "Loading DLC 3.0.0rc4...\n",
      "DLC loaded in light mode; you cannot use any GUI (labeling, relabeling and standalone GUI)\n"
     ]
    },
    {
     "name": "stderr",
     "output_type": "stream",
     "text": [
      "/home/dikra/miniconda3/envs/dlc-live/lib/python3.10/site-packages/tqdm/auto.py:21: TqdmWarning: IProgress not found. Please update jupyter and ipywidgets. See https://ipywidgets.readthedocs.io/en/stable/user_install.html\n",
      "  from .autonotebook import tqdm as notebook_tqdm\n"
     ]
    }
   ],
   "source": [
    "from dlclive import DLCLive, Processor\n",
    "from dlclive.display import Display\n",
    "import cv2\n",
    "import numpy as np\n",
    "from pathlib import Path\n",
    "import time"
   ]
  },
  {
   "cell_type": "markdown",
   "metadata": {},
   "source": [
    "### Snapshot to ONNX model "
   ]
  },
  {
   "cell_type": "code",
   "execution_count": 12,
   "metadata": {},
   "outputs": [
    {
     "name": "stderr",
     "output_type": "stream",
     "text": [
      "/tmp/ipykernel_128437/141163355.py:15: FutureWarning: You are using `torch.load` with `weights_only=False` (the current default value), which uses the default pickle module implicitly. It is possible to construct malicious pickle data which will execute arbitrary code during unpickling (See https://github.com/pytorch/pytorch/blob/main/SECURITY.md#untrusted-models for more details). In a future release, the default value for `weights_only` will be flipped to `True`. This limits the functions that could be executed during unpickling. Arbitrary objects will no longer be allowed to be loaded via this mode unless they are explicitly allowlisted by the user via `torch.serialization.add_safe_globals`. We recommend you start setting `weights_only=True` for any use case where you don't have full control of the loaded file. Please open an issue on GitHub for any issues related to this experimental feature.\n",
      "  weights = torch.load(weights_path, map_location=device)\n"
     ]
    }
   ],
   "source": [
    "# In case you do not have a .onnx model exported, use this cell to export your DLC3.0 snapshot\n",
    "\n",
    "from deeplabcut.pose_estimation_pytorch.config import read_config_as_dict\n",
    "from deeplabcut.pose_estimation_pytorch.models import PoseModel\n",
    "import torch\n",
    "import onnxruntime as ort\n",
    "\n",
    "device = \"cuda\" if torch.cuda.is_available() else \"cpu\"\n",
    "\n",
    "root = Path(\"/media/dikra/PhD/DATA/DLC24_Data/dlc-live-dummy/fly-kevin\")\n",
    "model_cfg = read_config_as_dict(root / \"pytorch_config.yaml\")\n",
    "weights_path = root / \"snapshot-200.pt\"\n",
    "\n",
    "model = PoseModel.build(model_cfg[\"model\"])\n",
    "weights = torch.load(weights_path, map_location=device)\n",
    "model.load_state_dict(weights[\"model\"])\n",
    "\n",
    "dummy_input = torch.zeros((1, 3, 224, 224))\n",
    "\n",
    "torch.onnx.export(\n",
    "    model,\n",
    "    dummy_input,\n",
    "    \"/media/dikra/PhD/DATA/DLC24_Data/dlc-live-dummy/fly-kevin/resnet.onnx\",\n",
    "    verbose=False,\n",
    "    input_names=[\"input\"],\n",
    "    dynamic_axes={\"input\": {0: \"batch_size\", 2: \"height\", 3: \"width\"}},\n",
    ")"
   ]
  },
  {
   "cell_type": "code",
   "execution_count": 13,
   "metadata": {},
   "outputs": [],
   "source": [
    "# Load test frame\n",
    "img = cv2.imread(\"/media/dikra/PhD/DATA/DLC24_Data/dlc-live-dummy/fly-kevin/img008.png\")"
   ]
  },
  {
   "cell_type": "markdown",
   "metadata": {},
   "source": [
    "### DLC Live with ONNX exported DLC 3.0 model"
   ]
  },
  {
   "cell_type": "code",
   "execution_count": 17,
   "metadata": {},
   "outputs": [
    {
     "name": "stdout",
     "output_type": "stream",
     "text": [
      "Loading the model took 0.20421051979064941 sec\n",
      "ONNX inference took 1.2931642532348633 sec\n"
     ]
    },
    {
     "data": {
      "text/plain": [
       "{'poses': tensor([[[[3.6219e+02, 4.1237e+02, 5.0485e-01],\n",
       "           [3.6271e+02, 3.9583e+02, 5.8573e-01],\n",
       "           [3.5676e+02, 3.7446e+02, 7.0502e-01],\n",
       "           [3.4043e+02, 3.5935e+02, 7.1149e-01],\n",
       "           [3.3437e+02, 4.0497e+02, 6.5126e-01],\n",
       "           [3.3771e+02, 4.0689e+02, 4.4916e-01],\n",
       "           [2.0013e+02, 4.3546e+02, 5.2069e-01],\n",
       "           [3.4131e+02, 4.3089e+02, 3.4870e-01],\n",
       "           [2.1540e+02, 3.9426e+02, 7.8363e-01],\n",
       "           [1.9974e+02, 3.7728e+02, 5.2781e-01],\n",
       "           [1.8255e+02, 3.6741e+02, 6.4685e-01],\n",
       "           [2.7519e+02, 3.3175e+02, 5.7629e-01],\n",
       "           [3.5014e+02, 4.3089e+02, 4.1489e-01],\n",
       "           [4.3459e+02, 3.1565e+02, 8.1676e-01],\n",
       "           [4.2561e+02, 2.9912e+02, 8.8822e-01],\n",
       "           [2.4359e+02, 5.0565e+02, 5.7643e-01],\n",
       "           [3.5792e+02, 4.8275e+02, 3.0069e-01],\n",
       "           [4.0234e+02, 4.1449e+02, 5.4244e-01],\n",
       "           [1.7143e+02, 4.8666e+02, 4.5818e-01],\n",
       "           [3.2110e+02, 5.1144e+02, 2.5129e-01],\n",
       "           [3.9915e+02, 4.1933e+02, 6.2734e-01],\n",
       "           [2.3576e+02, 4.3457e+02, 6.5920e-01],\n",
       "           [3.1890e+02, 4.2856e+02, 6.0912e-01],\n",
       "           [1.7677e+02, 4.1290e+02, 3.5325e-01],\n",
       "           [3.1286e+02, 4.2730e+02, 6.1895e-01]]]])}"
      ]
     },
     "execution_count": 17,
     "metadata": {},
     "output_type": "execute_result"
    }
   ],
   "source": [
    "# Dikra\n",
    "onnx_dlc_live = DLCLive(\n",
    "    path=\"/media/dikra/PhD/DATA/DLC24_Data/dlc-live-dummy/fly-kevin\",\n",
    "    model_type=\"onnx\",\n",
    "    device=\"cuda\",\n",
    "    display=True,\n",
    ")\n",
    "\n",
    "# Anna\n",
    "# onnx_dlc_live = DLCLive(pytorch_cfg=\"/Users/annastuckert/Documents/DLC_AI_Residency/DLC_AI2024/DeepLabCut-live/Ventral_gait_model/train\", processor=dlc_proc, snapshot='/Users/annastuckert/Documents/DLC_AI_Residency/DLC_AI2024/DeepLabCut-live/Ventral_gait_model/train/snapshot-263.pt')\n",
    "# onnx_dlc_live = DLCLive(\"/Users/annastuckert/Documents/DLC_AI_Residency/DLC_AI2024/DeepLabCut-live/exported DLC model for dlc-live/DLC_dev-single-animal_resnet_50_iteration-1_shuffle-1\", processor=dlc_proc)\n",
    "# img = cv2.imread(\"/Users/annastuckert/Documents/DLC_AI_Residency/DLC_AI2024/DeepLabCut-live/exported DLC model for dlc-live/img049.png\")\n",
    "\n",
    "onnx_pose = onnx_dlc_live.init_inference(frame=img)\n",
    "onnx_pose"
   ]
  },
  {
   "cell_type": "markdown",
   "metadata": {},
   "source": [
    "![Screenshot from 2024-08-20 14-29-53.png](./docs/assets/Screenshot%20from%202024-08-20%2014-36-00.png)"
   ]
  },
  {
   "cell_type": "code",
   "execution_count": 18,
   "metadata": {},
   "outputs": [
    {
     "name": "stdout",
     "output_type": "stream",
     "text": [
      "ONNX inference took 0.04568004608154297 sec\n"
     ]
    },
    {
     "data": {
      "text/plain": [
       "{'poses': tensor([[[[3.6219e+02, 4.1237e+02, 5.0485e-01],\n",
       "           [3.6271e+02, 3.9583e+02, 5.8573e-01],\n",
       "           [3.5676e+02, 3.7446e+02, 7.0502e-01],\n",
       "           [3.4043e+02, 3.5935e+02, 7.1149e-01],\n",
       "           [3.3437e+02, 4.0497e+02, 6.5126e-01],\n",
       "           [3.3771e+02, 4.0689e+02, 4.4916e-01],\n",
       "           [2.0013e+02, 4.3546e+02, 5.2069e-01],\n",
       "           [3.4131e+02, 4.3089e+02, 3.4870e-01],\n",
       "           [2.1540e+02, 3.9426e+02, 7.8363e-01],\n",
       "           [1.9974e+02, 3.7728e+02, 5.2781e-01],\n",
       "           [1.8255e+02, 3.6741e+02, 6.4685e-01],\n",
       "           [2.7519e+02, 3.3175e+02, 5.7629e-01],\n",
       "           [3.5014e+02, 4.3089e+02, 4.1489e-01],\n",
       "           [4.3459e+02, 3.1565e+02, 8.1676e-01],\n",
       "           [4.2561e+02, 2.9912e+02, 8.8822e-01],\n",
       "           [2.4359e+02, 5.0565e+02, 5.7643e-01],\n",
       "           [3.5792e+02, 4.8275e+02, 3.0069e-01],\n",
       "           [4.0234e+02, 4.1449e+02, 5.4244e-01],\n",
       "           [1.7143e+02, 4.8666e+02, 4.5818e-01],\n",
       "           [3.2110e+02, 5.1144e+02, 2.5129e-01],\n",
       "           [3.9915e+02, 4.1933e+02, 6.2734e-01],\n",
       "           [2.3576e+02, 4.3457e+02, 6.5920e-01],\n",
       "           [3.1890e+02, 4.2856e+02, 6.0912e-01],\n",
       "           [1.7677e+02, 4.1290e+02, 3.5325e-01],\n",
       "           [3.1286e+02, 4.2730e+02, 6.1895e-01]]]])}"
      ]
     },
     "execution_count": 18,
     "metadata": {},
     "output_type": "execute_result"
    }
   ],
   "source": [
    "onnx_pose = onnx_dlc_live.get_pose(frame=img)\n",
    "onnx_pose"
   ]
  },
  {
   "cell_type": "code",
   "execution_count": 19,
   "metadata": {},
   "outputs": [],
   "source": [
    "onnx_dlc_live.display.destroy()"
   ]
  },
  {
   "cell_type": "markdown",
   "metadata": {},
   "source": [
    "### DLC Live with snaptshot of DLC 3.0 model (.pt)"
   ]
  },
  {
   "cell_type": "code",
   "execution_count": 21,
   "metadata": {},
   "outputs": [
    {
     "name": "stderr",
     "output_type": "stream",
     "text": [
      "/home/dikra/MyHub/Code/DLC24_Hub/DLC_AI2024/DeepLabCut-live/dlclive/dlclive.py:257: FutureWarning: You are using `torch.load` with `weights_only=False` (the current default value), which uses the default pickle module implicitly. It is possible to construct malicious pickle data which will execute arbitrary code during unpickling (See https://github.com/pytorch/pytorch/blob/main/SECURITY.md#untrusted-models for more details). In a future release, the default value for `weights_only` will be flipped to `True`. This limits the functions that could be executed during unpickling. Arbitrary objects will no longer be allowed to be loaded via this mode unless they are explicitly allowlisted by the user via `torch.serialization.add_safe_globals`. We recommend you start setting `weights_only=True` for any use case where you don't have full control of the loaded file. Please open an issue on GitHub for any issues related to this experimental feature.\n",
      "  weights = torch.load(model_path, map_location=torch.device(self.device))\n"
     ]
    },
    {
     "name": "stdout",
     "output_type": "stream",
     "text": [
      "Loading the model took 0.2770249843597412 sec\n",
      "PyTorch inference took 0.030054807662963867 sec\n"
     ]
    },
    {
     "data": {
      "text/plain": [
       "{'poses': tensor([[[[3.6219e+02, 4.1237e+02, 5.0489e-01],\n",
       "           [3.6270e+02, 3.9583e+02, 5.8563e-01],\n",
       "           [3.5676e+02, 3.7445e+02, 7.0491e-01],\n",
       "           [3.4043e+02, 3.5935e+02, 7.1171e-01],\n",
       "           [3.3437e+02, 4.0497e+02, 6.5121e-01],\n",
       "           [3.3772e+02, 4.0690e+02, 4.4918e-01],\n",
       "           [2.0013e+02, 4.3546e+02, 5.2075e-01],\n",
       "           [3.4131e+02, 4.3089e+02, 3.4857e-01],\n",
       "           [2.1540e+02, 3.9427e+02, 7.8354e-01],\n",
       "           [1.9974e+02, 3.7728e+02, 5.2791e-01],\n",
       "           [1.8255e+02, 3.6741e+02, 6.4687e-01],\n",
       "           [2.7520e+02, 3.3175e+02, 5.7632e-01],\n",
       "           [3.5015e+02, 4.3089e+02, 4.1486e-01],\n",
       "           [4.3459e+02, 3.1566e+02, 8.1698e-01],\n",
       "           [4.2561e+02, 2.9912e+02, 8.8835e-01],\n",
       "           [2.4359e+02, 5.0565e+02, 5.7619e-01],\n",
       "           [3.5792e+02, 4.8275e+02, 3.0055e-01],\n",
       "           [4.0234e+02, 4.1449e+02, 5.4211e-01],\n",
       "           [1.7143e+02, 4.8667e+02, 4.5842e-01],\n",
       "           [3.2110e+02, 5.1144e+02, 2.5098e-01],\n",
       "           [3.9915e+02, 4.1933e+02, 6.2716e-01],\n",
       "           [2.3577e+02, 4.3456e+02, 6.5924e-01],\n",
       "           [3.1890e+02, 4.2855e+02, 6.0920e-01],\n",
       "           [1.7677e+02, 4.1290e+02, 3.5320e-01],\n",
       "           [3.1286e+02, 4.2730e+02, 6.1891e-01]]]])}"
      ]
     },
     "execution_count": 21,
     "metadata": {},
     "output_type": "execute_result"
    }
   ],
   "source": [
    "# Dikra\n",
    "pytorch_dlc_live = DLCLive(\n",
    "    path=\"/media/dikra/PhD/DATA/DLC24_Data/dlc-live-dummy/fly-kevin\",\n",
    "    snapshot=\"snapshot-200.pt\",\n",
    "    device=\"cuda\",\n",
    "    model_type=\"pytorch\",\n",
    "    display=True,\n",
    ")\n",
    "\n",
    "# Anna\n",
    "# pytorch_dlc_live = DLCLive(pytorch_cfg=\"/Users/annastuckert/Documents/DLC_AI_Residency/DLC_AI2024/DeepLabCut-live/Ventral_gait_model/train\", processor=dlc_proc, snapshot='/Users/annastuckert/Documents/DLC_AI_Residency/DLC_AI2024/DeepLabCut-live/Ventral_gait_model/train/snapshot-263.pt')\n",
    "# pytorch_dlc_live = DLCLive(\"/Users/annastuckert/Documents/DLC_AI_Residency/DLC_AI2024/DeepLabCut-live/exported DLC model for dlc-live/DLC_dev-single-animal_resnet_50_iteration-1_shuffle-1\", processor=dlc_proc)\n",
    "# img = cv2.imread(\"/Users/annastuckert/Documents/DLC_AI_Residency/DLC_AI2024/DeepLabCut-live/exported DLC model for dlc-live/img049.png\")\n",
    "\n",
    "pytorch_pose = pytorch_dlc_live.init_inference(frame=img)\n",
    "pytorch_pose"
   ]
  },
  {
   "cell_type": "code",
   "execution_count": 22,
   "metadata": {},
   "outputs": [],
   "source": [
    "pytorch_dlc_live.display.destroy()"
   ]
  },
  {
   "cell_type": "markdown",
   "metadata": {},
   "source": [
    "![PyTorch model inference](./docs/assets/Screenshot%20from%202024-08-20%2014-29-53.png)"
   ]
  },
  {
   "cell_type": "markdown",
   "metadata": {},
   "source": [
    "### Which is faster?"
   ]
  },
  {
   "cell_type": "code",
   "execution_count": 3,
   "metadata": {},
   "outputs": [],
   "source": [
    "import glob\n",
    "import os\n",
    "\n",
    "root = \"/media/dikra/PhD/DATA/DLC24_Data/dlc-live-dummy/ventral-gait\"\n",
    "test_images = glob.glob(os.path.normpath(root + \"/*.png\"))\n",
    "\n",
    "\n",
    "def mean_time_inference(dlc_live, images):\n",
    "    times = []\n",
    "    for i, img_p in enumerate(images):\n",
    "        img = cv2.imread(img_p)\n",
    "\n",
    "        if i == 0:\n",
    "            start = time.time()\n",
    "            dlc_live.init_inference(img)\n",
    "            end = time.time()\n",
    "        else:\n",
    "            start = time.time()\n",
    "            dlc_live.get_pose(img)\n",
    "            end = time.time()\n",
    "        times.append(end - start)\n",
    "    print(times)\n",
    "\n",
    "    return np.mean(times)"
   ]
  },
  {
   "cell_type": "code",
   "execution_count": 4,
   "metadata": {},
   "outputs": [
    {
     "name": "stdout",
     "output_type": "stream",
     "text": [
      "Loading the model took 0.23272013664245605 sec\n",
      "ONNX inference took 1.6005077362060547 sec\n",
      "[2.042102336883545]\n",
      "TOTAL Inference of ONNX model took on average 2.042102336883545 seconds for 1 images\n"
     ]
    }
   ],
   "source": [
    "dlc_live = DLCLive(\n",
    "    path=\"/media/dikra/PhD/DATA/DLC24_Data/dlc-live-dummy/ventral-gait\",\n",
    "    device=\"cuda\",\n",
    "    model_type=\"onnx\",\n",
    "    display=True,\n",
    ")\n",
    "\n",
    "mean_time = mean_time_inference(dlc_live, test_images)\n",
    "print(\n",
    "    f\"TOTAL Inference of ONNX model took on average {mean_time} seconds for {len(test_images)} images\"\n",
    ")"
   ]
  },
  {
   "cell_type": "code",
   "execution_count": 7,
   "metadata": {},
   "outputs": [],
   "source": [
    "dlc_live.display.destroy()"
   ]
  },
  {
   "cell_type": "code",
   "execution_count": 6,
   "metadata": {},
   "outputs": [
    {
     "name": "stderr",
     "output_type": "stream",
     "text": [
      "/home/dikra/MyHub/Code/DLC24_Hub/DLC_AI2024/DeepLabCut-live/dlclive/dlclive.py:257: FutureWarning: You are using `torch.load` with `weights_only=False` (the current default value), which uses the default pickle module implicitly. It is possible to construct malicious pickle data which will execute arbitrary code during unpickling (See https://github.com/pytorch/pytorch/blob/main/SECURITY.md#untrusted-models for more details). In a future release, the default value for `weights_only` will be flipped to `True`. This limits the functions that could be executed during unpickling. Arbitrary objects will no longer be allowed to be loaded via this mode unless they are explicitly allowlisted by the user via `torch.serialization.add_safe_globals`. We recommend you start setting `weights_only=True` for any use case where you don't have full control of the loaded file. Please open an issue on GitHub for any issues related to this experimental feature.\n",
      "  weights = torch.load(model_path, map_location=torch.device(self.device))\n"
     ]
    },
    {
     "name": "stdout",
     "output_type": "stream",
     "text": [
      "Loading the model took 0.2933957576751709 sec\n",
      "PyTorch inference took 0.04534602165222168 sec\n",
      "[0.3939521312713623]\n",
      "Inference of PyTorch model took on average 0.3939521312713623 seconds for 1 images\n"
     ]
    }
   ],
   "source": [
    "dlc_live = DLCLive(\n",
    "    path=\"/media/dikra/PhD/DATA/DLC24_Data/dlc-live-dummy/ventral-gait\",\n",
    "    snapshot=\"snapshot-263.pt\",\n",
    "    device=\"cuda\",\n",
    "    model_type=\"pytorch\",\n",
    "    display=True,\n",
    ")\n",
    "\n",
    "mean_time = mean_time_inference(dlc_live, test_images)\n",
    "print(\n",
    "    f\"Inference of PyTorch model took on average {mean_time} seconds for {len(test_images)} images\"\n",
    ")"
   ]
  },
  {
   "cell_type": "code",
   "execution_count": 11,
   "metadata": {},
   "outputs": [
    {
     "name": "stdout",
     "output_type": "stream",
     "text": [
      "Loading the model took 1.3366081714630127 sec\n",
      "ONNX inference took 33.50719237327576 sec\n",
      "[34.892518281936646]\n",
      "Inference of PyTorch model took on average 34.892518281936646 seconds for 1 images\n"
     ]
    }
   ],
   "source": [
    "dlc_live = DLCLive(\n",
    "    path=\"/media/dikra/PhD/DATA/DLC24_Data/dlc-live-dummy/ventral-gait\",\n",
    "    device=\"tensorrt\",\n",
    "    model_type=\"onnx\",\n",
    "    display=True,\n",
    ")\n",
    "\n",
    "mean_time = mean_time_inference(dlc_live, test_images)\n",
    "print(\n",
    "    f\"Inference of PyTorch model took on average {mean_time} seconds for {len(test_images)} images\"\n",
    ")"
   ]
  },
  {
   "cell_type": "code",
   "execution_count": 10,
   "metadata": {},
   "outputs": [
    {
     "data": {
      "text/plain": [
       "['TensorrtExecutionProvider', 'CPUExecutionProvider']"
      ]
     },
     "execution_count": 10,
     "metadata": {},
     "output_type": "execute_result"
    }
   ],
   "source": [
    "dlc_live.sess.get_providers()"
   ]
  },
  {
   "cell_type": "code",
   "execution_count": 12,
   "metadata": {},
   "outputs": [],
   "source": [
    "dlc_live.display.destroy()"
   ]
  }
 ],
 "metadata": {
  "kernelspec": {
   "display_name": "dlc-live",
   "language": "python",
   "name": "python3"
  },
  "language_info": {
   "codemirror_mode": {
    "name": "ipython",
    "version": 3
   },
   "file_extension": ".py",
   "mimetype": "text/x-python",
   "name": "python",
   "nbconvert_exporter": "python",
   "pygments_lexer": "ipython3",
   "version": "3.10.14"
  }
 },
 "nbformat": 4,
 "nbformat_minor": 2
}
