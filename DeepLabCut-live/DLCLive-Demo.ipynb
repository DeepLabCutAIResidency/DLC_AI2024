{
 "cells": [
  {
   "cell_type": "markdown",
   "metadata": {},
   "source": [
    "# DLC Live PyTorch Demo"
   ]
  },
  {
   "cell_type": "code",
   "execution_count": 1,
   "metadata": {},
   "outputs": [],
   "source": [
    "%load_ext autoreload\n",
    "%autoreload 2"
   ]
  },
  {
   "cell_type": "code",
   "execution_count": 2,
   "metadata": {},
   "outputs": [
    {
     "name": "stdout",
     "output_type": "stream",
     "text": [
      "Loading DLC 3.0.0rc4...\n",
      "DLC loaded in light mode; you cannot use any GUI (labeling, relabeling and standalone GUI)\n"
     ]
    },
    {
     "name": "stderr",
     "output_type": "stream",
     "text": [
      "/home/dikra/miniconda3/envs/dlc-live/lib/python3.10/site-packages/tqdm/auto.py:21: TqdmWarning: IProgress not found. Please update jupyter and ipywidgets. See https://ipywidgets.readthedocs.io/en/stable/user_install.html\n",
      "  from .autonotebook import tqdm as notebook_tqdm\n"
     ]
    }
   ],
   "source": [
    "from dlclive import DLCLive\n",
    "import cv2\n",
    "import numpy as np\n",
    "from pathlib import Path\n",
    "import time\n",
    "from onnxruntime import quantization\n",
    "import onnx\n",
    "import onnxruntime as ort"
   ]
  },
  {
   "cell_type": "code",
   "execution_count": 3,
   "metadata": {},
   "outputs": [],
   "source": [
    "projects = [\"fly-kevin\", \"hand-track\", \"superbird\", \"ventral-gait\"]"
   ]
  },
  {
   "cell_type": "markdown",
   "metadata": {},
   "source": [
    "### PyTorch to ONNX"
   ]
  },
  {
   "cell_type": "code",
   "execution_count": 63,
   "metadata": {},
   "outputs": [
    {
     "name": "stderr",
     "output_type": "stream",
     "text": [
      "/tmp/ipykernel_4604/1313231765.py:21: FutureWarning: You are using `torch.load` with `weights_only=False` (the current default value), which uses the default pickle module implicitly. It is possible to construct malicious pickle data which will execute arbitrary code during unpickling (See https://github.com/pytorch/pytorch/blob/main/SECURITY.md#untrusted-models for more details). In a future release, the default value for `weights_only` will be flipped to `True`. This limits the functions that could be executed during unpickling. Arbitrary objects will no longer be allowed to be loaded via this mode unless they are explicitly allowlisted by the user via `torch.serialization.add_safe_globals`. We recommend you start setting `weights_only=True` for any use case where you don't have full control of the loaded file. Please open an issue on GitHub for any issues related to this experimental feature.\n",
      "  weights = torch.load(weights_path, map_location=device)\n"
     ]
    }
   ],
   "source": [
    "# In case you do not have a .onnx model exported, use this cell to export your DLC3.0 snapshot\n",
    "\n",
    "from deeplabcut.pose_estimation_pytorch.config import read_config_as_dict\n",
    "from deeplabcut.pose_estimation_pytorch.models import PoseModel\n",
    "import torch\n",
    "import onnxruntime as ort\n",
    "\n",
    "device = \"cuda\" if torch.cuda.is_available() else \"cpu\"\n",
    "\n",
    "\n",
    "# Dikra\n",
    "root = Path(\"/media/dikra/PhD/DATA/DLC24_Data/dlc-live-dummy/\" + projects[3])\n",
    "model_cfg = read_config_as_dict(root / \"pytorch_config.yaml\")\n",
    "weights_path = root / \"snapshot-263.pt\"\n",
    "\n",
    "# Anna\n",
    "# root = Path(\"/Users/annastuckert/Documents/DLC_AI_Residency/DLC_AI2024/DeepLabCut-live/Ventral_gait_model/train\")\n",
    "# model_cfg = read_config_as_dict(root / \"pytorch_config.yaml\")\n",
    "# weights_path = root / \"snapshot-263.pt\"\n",
    "\n",
    "model = PoseModel.build(model_cfg[\"model\"])\n",
    "weights = torch.load(weights_path, map_location=device)\n",
    "model.load_state_dict(weights[\"model\"])\n",
    "\n",
    "dummy_input = torch.zeros((1, 3, 224, 224))\n",
    "\n",
    "torch.onnx.export(\n",
    "    model,\n",
    "    dummy_input,\n",
    "    \"/media/dikra/PhD/DATA/DLC24_Data/dlc-live-dummy/\" + projects[3] + \"/resnet.onnx\",\n",
    "    verbose=False,\n",
    "    input_names=[\"input\"],\n",
    "    dynamic_axes={\"input\": {0: \"batch_size\", 2: \"height\", 3: \"width\"}},\n",
    ")"
   ]
  },
  {
   "cell_type": "markdown",
   "metadata": {},
   "source": [
    "### Quant ONNX"
   ]
  },
  {
   "cell_type": "code",
   "execution_count": null,
   "metadata": {},
   "outputs": [],
   "source": [
    "# FP32 to FP16 conversion\n",
    "from onnxconverter_common import float16\n",
    "\n",
    "onnx_fp32_model_path = (\n",
    "    \"/media/dikra/PhD/DATA/DLC24_Data/dlc-live-dummy/\" + projects[3] + \"/resnet.onnx\"\n",
    ")\n",
    "onnx_fp16_model_path = (\n",
    "    \"/media/dikra/PhD/DATA/DLC24_Data/dlc-live-dummy/\"\n",
    "    + projects[3]\n",
    "    + \"/resnet_fp16.onnx\"\n",
    ")\n",
    "\n",
    "model_fp32 = onnx.load(onnx_fp32_model_path)\n",
    "model_fp16 = float16.convert_float_to_float16(model_fp32)\n",
    "onnx.save(model_fp16, onnx_fp16_model_path)"
   ]
  },
  {
   "cell_type": "code",
   "execution_count": 8,
   "metadata": {},
   "outputs": [],
   "source": [
    "onnx_fp32_model_path = (\n",
    "    \"/media/dikra/PhD/DATA/DLC24_Data/dlc-live-dummy/\" + projects[3] + \"/resnet.onnx\"\n",
    ")\n",
    "model_prep_path = (\n",
    "    \"/media/dikra/PhD/DATA/DLC24_Data/dlc-live-dummy/\"\n",
    "    + projects[3]\n",
    "    + \"/resnet_quant_prep.onnx\"\n",
    ")\n",
    "\n",
    "# prep for quantisation\n",
    "quantization.shape_inference.quant_pre_process(\n",
    "    onnx_fp32_model_path, model_prep_path, skip_symbolic_shape=False\n",
    ")"
   ]
  },
  {
   "cell_type": "code",
   "execution_count": 9,
   "metadata": {},
   "outputs": [
    {
     "ename": "TypeError",
     "evalue": "quantize_static() missing 1 required positional argument: 'calibration_data_reader'",
     "output_type": "error",
     "traceback": [
      "\u001b[0;31m---------------------------------------------------------------------------\u001b[0m",
      "\u001b[0;31mTypeError\u001b[0m                                 Traceback (most recent call last)",
      "Cell \u001b[0;32mIn[9], line 10\u001b[0m\n\u001b[1;32m      7\u001b[0m weight_type \u001b[38;5;241m=\u001b[39m ort\u001b[38;5;241m.\u001b[39mquantization\u001b[38;5;241m.\u001b[39mQuantType\u001b[38;5;241m.\u001b[39mQInt8\n\u001b[1;32m      9\u001b[0m \u001b[38;5;66;03m# quantizer = quantization.QuantizeStatic(model, quant_format, activation_type, weight_type)\u001b[39;00m\n\u001b[0;32m---> 10\u001b[0m quant_model \u001b[38;5;241m=\u001b[39m \u001b[43mquantization\u001b[49m\u001b[38;5;241;43m.\u001b[39;49m\u001b[43mquantize_static\u001b[49m\u001b[43m(\u001b[49m\u001b[43mmodel_prep_path\u001b[49m\u001b[43m,\u001b[49m\u001b[43m \u001b[49m\u001b[43mquant_resnet\u001b[49m\u001b[43m,\u001b[49m\u001b[43m \u001b[49m\u001b[43mquant_format\u001b[49m\u001b[38;5;241;43m=\u001b[39;49m\u001b[43mquant_format\u001b[49m\u001b[43m,\u001b[49m\u001b[43m \u001b[49m\u001b[43mactivation_type\u001b[49m\u001b[38;5;241;43m=\u001b[39;49m\u001b[43mactivation_type\u001b[49m\u001b[43m,\u001b[49m\u001b[43m \u001b[49m\u001b[43mweight_type\u001b[49m\u001b[38;5;241;43m=\u001b[39;49m\u001b[43mweight_type\u001b[49m\u001b[43m)\u001b[49m\n\u001b[1;32m     11\u001b[0m onnx\u001b[38;5;241m.\u001b[39msave(quant_model, quant_resnet)\n",
      "\u001b[0;31mTypeError\u001b[0m: quantize_static() missing 1 required positional argument: 'calibration_data_reader'"
     ]
    }
   ],
   "source": [
    "# ONNX model static quantization WITHOUT DATA CALIBRATION\n",
    "quant_resnet = \"/media/dikra/PhD/DATA/DLC24_Data/dlc-live-dummy/\" + projects[3] + \"/resnet_quant.onnx\"\n",
    "model = onnx.load(\"/media/dikra/PhD/DATA/DLC24_Data/dlc-live-dummy/\" + projects[3] + \"/resnet.onnx\")\n",
    "\n",
    "# quant_format = ort.quantization.QuantFormat.QDQ  # Recommended format from 1.11\n",
    "# activation_type = ort.quantization.QuantType.QInt8\n",
    "# weight_type = ort.quantization.QuantType.QInt8\n",
    "\n",
    "class QuantizationDataReader(quantization.CalibrationDataReader):\n",
    "    def __init__(self, torch_ds, batch_size, input_name):\n",
    "\n",
    "        self.torch_dl = torch.utils.data.DataLoader(torch_ds, batch_size=batch_size, shuffle=False)\n",
    "\n",
    "        self.input_name = input_name\n",
    "        self.datasize = len(self.torch_dl)\n",
    "\n",
    "        self.enum_data = iter(self.torch_dl)\n",
    "\n",
    "    def to_numpy(self, pt_tensor):\n",
    "        return pt_tensor.detach().cpu().numpy() if pt_tensor.requires_grad else pt_tensor.cpu().numpy()\n",
    "\n",
    "    def get_next(self):\n",
    "        batch = next(self.enum_data, None)\n",
    "        if batch is not None:\n",
    "          return {self.input_name: self.to_numpy(batch[0])}\n",
    "        else:\n",
    "          return None\n",
    "\n",
    "    def rewind(self):\n",
    "        self.enum_data = iter(self.torch_dl)\n",
    "\n",
    "qdr = QuntizationDataReader(calib_ds, batch_size=2, input_name=ort_sess.get_inputs()[0].name)\n",
    "\n",
    "# quantizer = quantization.QuantizeStatic(model, quant_format, activation_type, weight_type)\n",
    "quant_model = quantization.quantize_static(model_prep_path, quant_resnet, quant_format=quant_format, activation_type=activation_type, weight_type=weight_type)\n",
    "onnx.save(quant_model, quant_resnet)"
   ]
  },
  {
   "cell_type": "code",
   "execution_count": 25,
   "metadata": {},
   "outputs": [],
   "source": [
    "# Load test frame\n",
    "img = cv2.imread(\n",
    "    \"/media/dikra/PhD/DATA/DLC24_Data/dlc-live-dummy/\" + projects[3] + \"/img0006.png\"\n",
    ")"
   ]
  },
  {
   "cell_type": "markdown",
   "metadata": {},
   "source": [
    "### DLC Live with ONNX exported DLC 3.0 model"
   ]
  },
  {
   "cell_type": "code",
   "execution_count": 26,
   "metadata": {},
   "outputs": [
    {
     "name": "stdout",
     "output_type": "stream",
     "text": [
      "Loading the model took 0.09379959106445312 sec\n",
      "ONNX inference took 1.7872130870819092 sec\n",
      "ONNX postprocessing took 0.002176523208618164 sec\n"
     ]
    },
    {
     "data": {
      "text/plain": [
       "({'poses': tensor([[[[154.0182, 162.2244,   0.9150],\n",
       "            [146.8820, 158.9966,   0.9463],\n",
       "            [150.3497, 149.1153,   0.9092],\n",
       "            [196.7127, 137.2184,   0.8843],\n",
       "            [204.8954, 172.0166,   0.6792],\n",
       "            [342.8758,  81.4316,   0.6938],\n",
       "            [325.4095, 151.0748,   0.7803],\n",
       "            [240.2870, 110.5364,   0.6489],\n",
       "            [261.0193, 128.8380,   0.6074],\n",
       "            [254.8812, 154.8065,   0.8237],\n",
       "            [385.2753, 112.8754,   0.8096]]]])},\n",
       " 1.7872130870819092)"
      ]
     },
     "execution_count": 26,
     "metadata": {},
     "output_type": "execute_result"
    }
   ],
   "source": [
    "# Dikra\n",
    "onnx_dlc_live = DLCLive(\n",
    "    path=\"/media/dikra/PhD/DATA/DLC24_Data/dlc-live-dummy/\" + projects[3],\n",
    "    model_type=\"onnx\",\n",
    "    device=\"cuda\",\n",
    "    display=True,\n",
    "    precision=\"FP16\",\n",
    ")\n",
    "\n",
    "# Anna\n",
    "# onnx_dlc_live = DLCLive(pytorch_cfg=\"/Users/annastuckert/Documents/DLC_AI_Residency/DLC_AI2024/DeepLabCut-live/Ventral_gait_model/train\", processor=dlc_proc, snapshot='/Users/annastuckert/Documents/DLC_AI_Residency/DLC_AI2024/DeepLabCut-live/Ventral_gait_model/train/snapshot-263.pt')\n",
    "# onnx_dlc_live = DLCLive(\"/Users/annastuckert/Documents/DLC_AI_Residency/DLC_AI2024/DeepLabCut-live/exported DLC model for dlc-live/DLC_dev-single-animal_resnet_50_iteration-1_shuffle-1\", processor=dlc_proc)\n",
    "# img = cv2.imread(\"/Users/annastuckert/Documents/DLC_AI_Residency/DLC_AI2024/DeepLabCut-live/exported DLC model for dlc-live/img049.png\")\n",
    "\n",
    "onnx_pose = onnx_dlc_live.init_inference(frame=img)\n",
    "onnx_pose"
   ]
  },
  {
   "cell_type": "markdown",
   "metadata": {},
   "source": [
    "![Screenshot from 2024-08-20 14-29-53.png](./docs/assets/Screenshot%20from%202024-08-20%2014-36-00.png)"
   ]
  },
  {
   "cell_type": "code",
   "execution_count": 72,
   "metadata": {},
   "outputs": [
    {
     "name": "stdout",
     "output_type": "stream",
     "text": [
      "tensor(True)\n"
     ]
    },
    {
     "data": {
      "text/plain": [
       "tensor([[[162.2244, 158.9966, 149.1153, 137.2184, 172.0166,  81.4316, 151.0748,\n",
       "          110.5364, 128.8380, 154.8065, 112.8754]]])"
      ]
     },
     "execution_count": 72,
     "metadata": {},
     "output_type": "execute_result"
    }
   ],
   "source": [
    "detected = onnx_pose[0][\"poses\"][0][0][:, 2] > 0.9\n",
    "print(torch.any(detected))\n",
    "x = onnx_pose[0][\"poses\"][0][0][detected, 0]\n",
    "y = onnx_pose[0][\"poses\"][0][0][detected, 1]\n",
    "onnx_pose[0][\"poses\"][:, :, :, 1][:, :2]"
   ]
  },
  {
   "cell_type": "code",
   "execution_count": 39,
   "metadata": {},
   "outputs": [
    {
     "name": "stdout",
     "output_type": "stream",
     "text": [
      "ONNX inference took 0.0162506103515625 sec\n",
      "ONNX postprocessing took 0.0006670951843261719 sec\n"
     ]
    },
    {
     "data": {
      "text/plain": [
       "({'poses': tensor([[[[154.0218, 162.2289,   0.9150],\n",
       "            [146.8865, 158.9966,   0.9463],\n",
       "            [150.3515, 149.1109,   0.9092],\n",
       "            [196.7047, 137.2219,   0.8848],\n",
       "            [204.8865, 172.0128,   0.6797],\n",
       "            [342.8776,  81.4281,   0.6934],\n",
       "            [325.4157, 151.0748,   0.7803],\n",
       "            [240.2977, 110.5328,   0.6484],\n",
       "            [261.0255, 128.8380,   0.6074],\n",
       "            [254.8812, 154.8029,   0.8237],\n",
       "            [385.2806, 112.8754,   0.8101]]]])},\n",
       " 0.0162506103515625)"
      ]
     },
     "execution_count": 39,
     "metadata": {},
     "output_type": "execute_result"
    }
   ],
   "source": [
    "onnx_pose = onnx_dlc_live.get_pose(frame=img)\n",
    "onnx_pose"
   ]
  },
  {
   "cell_type": "code",
   "execution_count": 27,
   "metadata": {},
   "outputs": [],
   "source": [
    "onnx_dlc_live.display.destroy()"
   ]
  },
  {
   "cell_type": "markdown",
   "metadata": {},
   "source": [
    "### DLC Live with snaptshot of DLC 3.0 model (.pt)"
   ]
  },
  {
   "cell_type": "code",
   "execution_count": 69,
   "metadata": {},
   "outputs": [
    {
     "name": "stderr",
     "output_type": "stream",
     "text": [
      "/home/dikra/MyHub/Code/DLC24_Hub/DLC_AI2024/DeepLabCut-live/dlclive/dlclive.py:257: FutureWarning: You are using `torch.load` with `weights_only=False` (the current default value), which uses the default pickle module implicitly. It is possible to construct malicious pickle data which will execute arbitrary code during unpickling (See https://github.com/pytorch/pytorch/blob/main/SECURITY.md#untrusted-models for more details). In a future release, the default value for `weights_only` will be flipped to `True`. This limits the functions that could be executed during unpickling. Arbitrary objects will no longer be allowed to be loaded via this mode unless they are explicitly allowlisted by the user via `torch.serialization.add_safe_globals`. We recommend you start setting `weights_only=True` for any use case where you don't have full control of the loaded file. Please open an issue on GitHub for any issues related to this experimental feature.\n",
      "  weights = torch.load(model_path, map_location=torch.device(self.device))\n"
     ]
    },
    {
     "name": "stdout",
     "output_type": "stream",
     "text": [
      "Loading the model took 0.4676992893218994 sec\n",
      "PyTorch inference took 0.034587860107421875 sec\n",
      "PyTorch postprocessing took 0.0018115043640136719 sec\n"
     ]
    },
    {
     "data": {
      "text/plain": [
       "({'poses': tensor([[[[154.0203, 162.2280,   0.9152],\n",
       "            [146.8848, 158.9930,   0.9459],\n",
       "            [150.3487, 149.1102,   0.9093],\n",
       "            [196.7133, 137.2184,   0.8843],\n",
       "            [204.8920, 172.0188,   0.6791],\n",
       "            [342.8778,  81.4373,   0.6930],\n",
       "            [325.4101, 151.0759,   0.7803],\n",
       "            [240.2807, 110.5330,   0.6488],\n",
       "            [261.0057, 128.8403,   0.6076],\n",
       "            [254.8730, 154.8122,   0.8238],\n",
       "            [385.2763, 112.8773,   0.8098]]]])},\n",
       " 0.034587860107421875)"
      ]
     },
     "execution_count": 69,
     "metadata": {},
     "output_type": "execute_result"
    }
   ],
   "source": [
    "# Dikra\n",
    "pytorch_dlc_live = DLCLive(\n",
    "    path=\"/media/dikra/PhD/DATA/DLC24_Data/dlc-live-dummy/ventral-gait\",\n",
    "    snapshot=\"snapshot-263.pt\",\n",
    "    device=\"cuda\",\n",
    "    model_type=\"pytorch\",\n",
    "    display=True,\n",
    ")\n",
    "\n",
    "# Anna\n",
    "# pytorch_dlc_live = DLCLive(pytorch_cfg=\"/Users/annastuckert/Documents/DLC_AI_Residency/DLC_AI2024/DeepLabCut-live/Ventral_gait_model/train\", processor=dlc_proc, snapshot='/Users/annastuckert/Documents/DLC_AI_Residency/DLC_AI2024/DeepLabCut-live/Ventral_gait_model/train/snapshot-263.pt')\n",
    "# pytorch_dlc_live = DLCLive(\"/Users/annastuckert/Documents/DLC_AI_Residency/DLC_AI2024/DeepLabCut-live/exported DLC model for dlc-live/DLC_dev-single-animal_resnet_50_iteration-1_shuffle-1\", processor=dlc_proc)\n",
    "# img = cv2.imread(\"/Users/annastuckert/Documents/DLC_AI_Residency/DLC_AI2024/DeepLabCut-live/exported DLC model for dlc-live/img049.png\")\n",
    "\n",
    "pytorch_pose = pytorch_dlc_live.init_inference(frame=img)\n",
    "pytorch_pose"
   ]
  },
  {
   "cell_type": "code",
   "execution_count": 70,
   "metadata": {},
   "outputs": [],
   "source": [
    "pytorch_dlc_live.display.destroy()"
   ]
  },
  {
   "cell_type": "markdown",
   "metadata": {},
   "source": [
    "![PyTorch model inference](./docs/assets/Screenshot%20from%202024-08-20%2014-29-53.png)"
   ]
  },
  {
   "cell_type": "markdown",
   "metadata": {},
   "source": [
    "### Which is faster?"
   ]
  },
  {
   "cell_type": "code",
   "execution_count": 72,
   "metadata": {},
   "outputs": [],
   "source": [
    "import glob\n",
    "import os\n",
    "\n",
    "root = \"/media/dikra/PhD/DATA/DLC24_Data/dlc-live-dummy/ventral-gait\"\n",
    "test_images = glob.glob(os.path.normpath(root + \"/*.png\"))\n",
    "\n",
    "\n",
    "def mean_time_inference(dlc_live, images):\n",
    "    times = []\n",
    "    for i, img_p in enumerate(images):\n",
    "        img = cv2.imread(img_p)\n",
    "\n",
    "        if i == 0:\n",
    "            start = time.time()\n",
    "            dlc_live.init_inference(img)\n",
    "            end = time.time()\n",
    "        else:\n",
    "            start = time.time()\n",
    "            dlc_live.get_pose(img)\n",
    "            end = time.time()\n",
    "        times.append(end - start)\n",
    "    print(times)\n",
    "\n",
    "    return np.mean(times)"
   ]
  },
  {
   "cell_type": "code",
   "execution_count": 5,
   "metadata": {},
   "outputs": [
    {
     "name": "stdout",
     "output_type": "stream",
     "text": [
      "Loading the model took 0.4884378910064697 sec\n",
      "ONNX inference took 2.5211031436920166 sec\n",
      "ONNX postprocessing took 0.0028717517852783203 sec\n",
      "[3.2065136432647705]\n",
      "TOTAL Inference of ONNX model took on average 3.2065136432647705 seconds for 1 images\n"
     ]
    }
   ],
   "source": [
    "dlc_live = DLCLive(\n",
    "    path=\"/media/dikra/PhD/DATA/DLC24_Data/dlc-live-dummy/ventral-gait\",\n",
    "    device=\"cuda\",\n",
    "    model_type=\"onnx\",\n",
    "    display=True,\n",
    ")\n",
    "\n",
    "mean_time = mean_time_inference(dlc_live, test_images)\n",
    "print(\n",
    "    f\"TOTAL Inference of ONNX model took on average {mean_time} seconds for {len(test_images)} images\"\n",
    ")"
   ]
  },
  {
   "cell_type": "code",
   "execution_count": 19,
   "metadata": {},
   "outputs": [],
   "source": [
    "dlc_live = DLCLive(\n",
    "    path=\"/media/dikra/PhD/DATA/DLC24_Data/dlc-live-dummy\",\n",
    "    snapshot=\"snapshot-200.pt\",\n",
    "    device=\"cuda\",\n",
    "    model_type=\"pytorch\",\n",
    ")\n",
    "\n",
    "mean_time = mean_time_inference(dlc_live, test_images)\n",
    "print(\n",
    "    f\"Inference of PyTorch model took on average {mean_time} seconds for {len(test_images)} images\"\n",
    ")"
   ]
  },
  {
   "cell_type": "code",
   "execution_count": 78,
   "metadata": {},
   "outputs": [
    {
     "name": "stdout",
     "output_type": "stream",
     "text": [
      "Loading the model took 4.69077205657959 sec\n",
      "ONNX inference took 49.87957811355591 sec\n",
      "ONNX postprocessing took 0.0015039443969726562 sec\n",
      "[54.57309126853943]\n",
      "Inference of PyTorch model took on average 54.57309126853943 seconds for 1 images\n"
     ]
    }
   ],
   "source": [
    "dlc_live = DLCLive(\n",
    "    path=\"/media/dikra/PhD/DATA/DLC24_Data/dlc-live-dummy/\" + projects[3],\n",
    "    device=\"tensorrt\",\n",
    "    model_type=\"onnx\",\n",
    ")\n",
    "\n",
    "mean_time = mean_time_inference(dlc_live, test_images)\n",
    "print(\n",
    "    f\"Inference of PyTorch model took on average {mean_time} seconds for {len(test_images)} images\"\n",
    ")"
   ]
  },
  {
   "cell_type": "code",
   "execution_count": 81,
   "metadata": {},
   "outputs": [
    {
     "name": "stdout",
     "output_type": "stream",
     "text": [
      "ONNX inference took 0.02220296859741211 sec\n",
      "ONNX postprocessing took 0.0027968883514404297 sec\n"
     ]
    }
   ],
   "source": [
    "start = time.time()\n",
    "dlc_live.get_pose(img)\n",
    "end = time.time()"
   ]
  },
  {
   "cell_type": "markdown",
   "metadata": {},
   "source": [
    "# Benchmarking\n",
    "\n",
    "Currently the benchmark_pytorch.py script serves to provide a function for analyzing a preexisting video to test PyTorch for running video inference in DLC-Live. Code for running video inference on a live video feed is WIP.\n",
    "\n",
    "For true benchmarking purposes, we aim to add feature for recording the time it takes to analyze each frame / how many frames can be analyzed per second. Discuss what measure to use and consult the DLC Live paper"
   ]
  },
  {
   "cell_type": "code",
   "execution_count": 6,
   "metadata": {},
   "outputs": [
    {
     "name": "stdout",
     "output_type": "stream",
     "text": [
      "The autoreload extension is already loaded. To reload it, use:\n",
      "  %reload_ext autoreload\n"
     ]
    },
    {
     "name": "stderr",
     "output_type": "stream",
     "text": [
      "/home/dikra/miniconda3/envs/dlc-live/lib/python3.10/site-packages/_distutils_hack/__init__.py:32: UserWarning: Setuptools is replacing distutils. Support for replacing an already imported distutils is deprecated. In the future, this condition will fail. Register concerns at https://github.com/pypa/setuptools/issues/new?template=distutils-deprecation.yml\n",
      "  warnings.warn(\n"
     ]
    }
   ],
   "source": [
    "%load_ext autoreload\n",
    "%autoreload 2\n",
    "\n",
    "# Import the analyze_video function from the file where it's defined\n",
    "from dlclive.benchmark_pytorch import analyze_video"
   ]
  },
  {
   "cell_type": "code",
   "execution_count": 9,
   "metadata": {},
   "outputs": [
    {
     "name": "stdout",
     "output_type": "stream",
     "text": [
      "Loading the model took 0.17720460891723633 sec\n",
      "ONNX inference took 1.6354727745056152 sec\n",
      "ONNX postprocessing took 0.002084970474243164 sec\n",
      "Frame 0 processing time: 2.2673 seconds\n",
      "ONNX inference took 0.01694798469543457 sec\n",
      "ONNX postprocessing took 0.0023272037506103516 sec\n",
      "Frame 1 processing time: 0.0602 seconds\n",
      "ONNX inference took 0.022505998611450195 sec\n",
      "ONNX postprocessing took 0.003521442413330078 sec\n",
      "Frame 2 processing time: 0.1385 seconds\n",
      "ONNX inference took 0.01715707778930664 sec\n",
      "ONNX postprocessing took 0.004532814025878906 sec\n",
      "Frame 3 processing time: 0.0718 seconds\n",
      "ONNX inference took 0.021243572235107422 sec\n",
      "ONNX postprocessing took 0.0031909942626953125 sec\n",
      "Frame 4 processing time: 0.0844 seconds\n",
      "ONNX inference took 0.0323328971862793 sec\n",
      "ONNX postprocessing took 0.003339052200317383 sec\n",
      "Frame 5 processing time: 0.1136 seconds\n",
      "ONNX inference took 0.01743149757385254 sec\n",
      "ONNX postprocessing took 0.0022640228271484375 sec\n",
      "Frame 6 processing time: 0.0674 seconds\n",
      "ONNX inference took 0.021498918533325195 sec\n",
      "ONNX postprocessing took 0.002705812454223633 sec\n",
      "Frame 7 processing time: 0.0988 seconds\n",
      "ONNX inference took 0.025784969329833984 sec\n",
      "ONNX postprocessing took 0.003116607666015625 sec\n",
      "Frame 8 processing time: 0.0879 seconds\n",
      "ONNX inference took 0.035776615142822266 sec\n",
      "ONNX postprocessing took 0.0033435821533203125 sec\n",
      "Frame 9 processing time: 0.0881 seconds\n",
      "ONNX inference took 0.028881311416625977 sec\n",
      "ONNX postprocessing took 0.005151510238647461 sec\n",
      "Frame 10 processing time: 0.1062 seconds\n",
      "ONNX inference took 0.01856851577758789 sec\n",
      "ONNX postprocessing took 0.0032100677490234375 sec\n",
      "Frame 11 processing time: 0.0978 seconds\n",
      "ONNX inference took 0.021699190139770508 sec\n",
      "ONNX postprocessing took 0.0031294822692871094 sec\n",
      "Frame 12 processing time: 0.0987 seconds\n",
      "ONNX inference took 0.028214693069458008 sec\n",
      "ONNX postprocessing took 0.0026633739471435547 sec\n",
      "Frame 13 processing time: 0.0783 seconds\n",
      "ONNX inference took 0.036824703216552734 sec\n",
      "ONNX postprocessing took 0.004665851593017578 sec\n",
      "Frame 14 processing time: 0.1207 seconds\n",
      "ONNX inference took 0.019280433654785156 sec\n",
      "ONNX postprocessing took 0.0029027462005615234 sec\n",
      "Frame 15 processing time: 0.0644 seconds\n",
      "ONNX inference took 0.021184206008911133 sec\n",
      "ONNX postprocessing took 0.003598451614379883 sec\n",
      "Frame 16 processing time: 0.0872 seconds\n",
      "ONNX inference took 0.03234267234802246 sec\n",
      "ONNX postprocessing took 0.0031168460845947266 sec\n",
      "Frame 17 processing time: 0.0957 seconds\n",
      "ONNX inference took 0.020902395248413086 sec\n",
      "ONNX postprocessing took 0.004364967346191406 sec\n",
      "Frame 18 processing time: 0.0877 seconds\n",
      "ONNX inference took 0.021934986114501953 sec\n",
      "ONNX postprocessing took 0.003091573715209961 sec\n",
      "Frame 19 processing time: 0.0825 seconds\n",
      "ONNX inference took 0.020435333251953125 sec\n",
      "ONNX postprocessing took 0.010388851165771484 sec\n",
      "Frame 20 processing time: 0.0612 seconds\n",
      "ONNX inference took 0.017862319946289062 sec\n",
      "ONNX postprocessing took 0.004431724548339844 sec\n",
      "Frame 21 processing time: 0.0741 seconds\n",
      "ONNX inference took 0.026495933532714844 sec\n",
      "ONNX postprocessing took 0.0020537376403808594 sec\n",
      "Frame 22 processing time: 0.0754 seconds\n",
      "ONNX inference took 0.019688844680786133 sec\n",
      "ONNX postprocessing took 0.0033195018768310547 sec\n",
      "Frame 23 processing time: 0.0811 seconds\n",
      "ONNX inference took 0.03362774848937988 sec\n",
      "ONNX postprocessing took 0.0031249523162841797 sec\n",
      "Frame 24 processing time: 0.1054 seconds\n",
      "ONNX inference took 0.032636165618896484 sec\n",
      "ONNX postprocessing took 0.003927946090698242 sec\n",
      "Frame 25 processing time: 0.1041 seconds\n",
      "ONNX inference took 0.021573781967163086 sec\n",
      "ONNX postprocessing took 0.0032951831817626953 sec\n",
      "Frame 26 processing time: 0.0836 seconds\n",
      "ONNX inference took 0.02837657928466797 sec\n",
      "ONNX postprocessing took 0.0022628307342529297 sec\n",
      "Frame 27 processing time: 0.0781 seconds\n",
      "ONNX inference took 0.020992517471313477 sec\n",
      "ONNX postprocessing took 0.0034265518188476562 sec\n",
      "Frame 28 processing time: 0.0829 seconds\n",
      "ONNX inference took 0.023567914962768555 sec\n",
      "ONNX postprocessing took 0.002676725387573242 sec\n",
      "Frame 29 processing time: 0.0911 seconds\n",
      "ONNX inference took 0.021796226501464844 sec\n",
      "ONNX postprocessing took 0.002922534942626953 sec\n",
      "Frame 30 processing time: 0.0792 seconds\n",
      "ONNX inference took 0.017655372619628906 sec\n",
      "ONNX postprocessing took 0.00611424446105957 sec\n",
      "Frame 31 processing time: 0.0863 seconds\n",
      "ONNX inference took 0.01926279067993164 sec\n",
      "ONNX postprocessing took 0.0050411224365234375 sec\n",
      "Frame 32 processing time: 0.0910 seconds\n",
      "ONNX inference took 0.024008512496948242 sec\n",
      "ONNX postprocessing took 0.005762338638305664 sec\n",
      "Frame 33 processing time: 0.1007 seconds\n",
      "ONNX inference took 0.020524024963378906 sec\n",
      "ONNX postprocessing took 0.002758026123046875 sec\n",
      "Frame 34 processing time: 0.0993 seconds\n",
      "ONNX inference took 0.019360780715942383 sec\n",
      "ONNX postprocessing took 0.004497528076171875 sec\n",
      "Frame 35 processing time: 0.0891 seconds\n",
      "ONNX inference took 0.020450353622436523 sec\n",
      "ONNX postprocessing took 0.003040790557861328 sec\n",
      "Frame 36 processing time: 0.0707 seconds\n",
      "ONNX inference took 0.022075653076171875 sec\n",
      "ONNX postprocessing took 0.003861665725708008 sec\n",
      "Frame 37 processing time: 0.0744 seconds\n",
      "ONNX inference took 0.018875598907470703 sec\n",
      "ONNX postprocessing took 0.004685163497924805 sec\n",
      "Frame 38 processing time: 0.0666 seconds\n",
      "ONNX inference took 0.01958751678466797 sec\n",
      "ONNX postprocessing took 0.00251007080078125 sec\n",
      "Frame 39 processing time: 0.0713 seconds\n",
      "ONNX inference took 0.02149033546447754 sec\n",
      "ONNX postprocessing took 0.0022125244140625 sec\n",
      "Frame 40 processing time: 0.0795 seconds\n",
      "ONNX inference took 0.01898789405822754 sec\n",
      "ONNX postprocessing took 0.001201629638671875 sec\n",
      "Frame 41 processing time: 0.0746 seconds\n",
      "ONNX inference took 0.022047758102416992 sec\n",
      "ONNX postprocessing took 0.003447294235229492 sec\n",
      "Frame 42 processing time: 0.1279 seconds\n",
      "ONNX inference took 0.018995046615600586 sec\n",
      "ONNX postprocessing took 0.003034353256225586 sec\n",
      "Frame 43 processing time: 0.0745 seconds\n",
      "ONNX inference took 0.021033763885498047 sec\n",
      "ONNX postprocessing took 0.0019450187683105469 sec\n",
      "Frame 44 processing time: 0.0756 seconds\n",
      "ONNX inference took 0.03782367706298828 sec\n",
      "ONNX postprocessing took 0.0058901309967041016 sec\n",
      "Frame 45 processing time: 0.1193 seconds\n",
      "ONNX inference took 0.01903820037841797 sec\n",
      "ONNX postprocessing took 0.004126310348510742 sec\n",
      "Frame 46 processing time: 0.0824 seconds\n",
      "ONNX inference took 0.020151853561401367 sec\n",
      "ONNX postprocessing took 0.003910064697265625 sec\n",
      "Frame 47 processing time: 0.0893 seconds\n",
      "ONNX inference took 0.019148588180541992 sec\n",
      "ONNX postprocessing took 0.0025968551635742188 sec\n",
      "Frame 48 processing time: 0.0718 seconds\n",
      "ONNX inference took 0.019256114959716797 sec\n",
      "ONNX postprocessing took 0.0025861263275146484 sec\n",
      "Frame 49 processing time: 0.0652 seconds\n",
      "ONNX inference took 0.025840044021606445 sec\n",
      "ONNX postprocessing took 0.006513118743896484 sec\n",
      "Frame 50 processing time: 0.0933 seconds\n",
      "ONNX inference took 0.023884057998657227 sec\n",
      "ONNX postprocessing took 0.0014309883117675781 sec\n",
      "Frame 51 processing time: 0.0451 seconds\n",
      "ONNX inference took 0.018360137939453125 sec\n",
      "ONNX postprocessing took 0.001729726791381836 sec\n",
      "Frame 52 processing time: 0.0555 seconds\n",
      "ONNX inference took 0.030011892318725586 sec\n",
      "ONNX postprocessing took 0.0033042430877685547 sec\n",
      "Frame 53 processing time: 0.0954 seconds\n",
      "ONNX inference took 0.023456811904907227 sec\n",
      "ONNX postprocessing took 0.003065824508666992 sec\n",
      "Frame 54 processing time: 0.0727 seconds\n",
      "ONNX inference took 0.01892995834350586 sec\n",
      "ONNX postprocessing took 0.002245664596557617 sec\n",
      "Frame 55 processing time: 0.0508 seconds\n",
      "ONNX inference took 0.018013477325439453 sec\n",
      "ONNX postprocessing took 0.002686738967895508 sec\n",
      "Frame 56 processing time: 0.0543 seconds\n",
      "ONNX inference took 0.03408360481262207 sec\n",
      "ONNX postprocessing took 0.0030546188354492188 sec\n",
      "Frame 57 processing time: 0.0924 seconds\n",
      "ONNX inference took 0.03171038627624512 sec\n",
      "ONNX postprocessing took 0.003079652786254883 sec\n",
      "Frame 58 processing time: 0.0934 seconds\n",
      "ONNX inference took 0.03477883338928223 sec\n",
      "ONNX postprocessing took 0.0038826465606689453 sec\n",
      "Frame 59 processing time: 0.1060 seconds\n",
      "ONNX inference took 0.019116640090942383 sec\n",
      "ONNX postprocessing took 0.0017952919006347656 sec\n",
      "Frame 60 processing time: 0.0670 seconds\n",
      "ONNX inference took 0.027547836303710938 sec\n",
      "ONNX postprocessing took 0.0037431716918945312 sec\n",
      "Frame 61 processing time: 0.0846 seconds\n",
      "ONNX inference took 0.02147364616394043 sec\n",
      "ONNX postprocessing took 0.0033524036407470703 sec\n",
      "Frame 62 processing time: 0.0858 seconds\n",
      "ONNX inference took 0.020262956619262695 sec\n",
      "ONNX postprocessing took 0.003245115280151367 sec\n",
      "Frame 63 processing time: 0.0987 seconds\n",
      "ONNX inference took 0.02269887924194336 sec\n",
      "ONNX postprocessing took 0.004689693450927734 sec\n",
      "Frame 64 processing time: 0.0856 seconds\n",
      "ONNX inference took 0.021089792251586914 sec\n",
      "ONNX postprocessing took 0.0024487972259521484 sec\n",
      "Frame 65 processing time: 0.0718 seconds\n",
      "ONNX inference took 0.019213199615478516 sec\n",
      "ONNX postprocessing took 0.0038902759552001953 sec\n",
      "Frame 66 processing time: 0.0776 seconds\n",
      "ONNX inference took 0.02023911476135254 sec\n",
      "ONNX postprocessing took 0.0031294822692871094 sec\n",
      "Frame 67 processing time: 0.0793 seconds\n",
      "ONNX inference took 0.019385814666748047 sec\n",
      "ONNX postprocessing took 0.00396728515625 sec\n",
      "Frame 68 processing time: 0.0830 seconds\n",
      "ONNX inference took 0.027681827545166016 sec\n",
      "ONNX postprocessing took 0.0036864280700683594 sec\n",
      "Frame 69 processing time: 0.0837 seconds\n",
      "ONNX inference took 0.020073652267456055 sec\n",
      "ONNX postprocessing took 0.0029854774475097656 sec\n",
      "Frame 70 processing time: 0.0789 seconds\n",
      "ONNX inference took 0.022134780883789062 sec\n",
      "ONNX postprocessing took 0.005339145660400391 sec\n",
      "Frame 71 processing time: 0.0737 seconds\n",
      "ONNX inference took 0.018917083740234375 sec\n",
      "ONNX postprocessing took 0.0035240650177001953 sec\n",
      "Frame 72 processing time: 0.0588 seconds\n",
      "ONNX inference took 0.02092719078063965 sec\n",
      "ONNX postprocessing took 0.00287628173828125 sec\n",
      "Frame 73 processing time: 0.0668 seconds\n",
      "ONNX inference took 0.021892786026000977 sec\n"
     ]
    },
    {
     "ename": "KeyboardInterrupt",
     "evalue": "",
     "output_type": "error",
     "traceback": [
      "\u001b[0;31m---------------------------------------------------------------------------\u001b[0m",
      "\u001b[0;31mKeyboardInterrupt\u001b[0m                         Traceback (most recent call last)",
      "Cell \u001b[0;32mIn[9], line 16\u001b[0m\n\u001b[1;32m     12\u001b[0m \u001b[38;5;66;03m# short video\u001b[39;00m\n\u001b[1;32m     13\u001b[0m \u001b[38;5;66;03m# video_path = '/Users/annastuckert/Documents/DLC_AI_Residency/DLC_AI2024/DeepLabCut-live/Ventral_gait_model/1_20cms_0degUP_first_1s.avi'\u001b[39;00m\n\u001b[1;32m     14\u001b[0m video_path \u001b[38;5;241m=\u001b[39m \u001b[38;5;124m\"\u001b[39m\u001b[38;5;124m/media/dikra/PhD/DATA/DLC24_Data/dlc-live-dummy/ventral-gait/1_20cms_0degUP_first.avi\u001b[39m\u001b[38;5;124m\"\u001b[39m\n\u001b[0;32m---> 16\u001b[0m poses, times \u001b[38;5;241m=\u001b[39m \u001b[43manalyze_video\u001b[49m\u001b[43m(\u001b[49m\n\u001b[1;32m     17\u001b[0m \u001b[43m    \u001b[49m\u001b[43mvideo_path\u001b[49m\u001b[38;5;241;43m=\u001b[39;49m\u001b[43mvideo_path\u001b[49m\u001b[43m,\u001b[49m\n\u001b[1;32m     18\u001b[0m \u001b[43m    \u001b[49m\u001b[43mmodel_type\u001b[49m\u001b[38;5;241;43m=\u001b[39;49m\u001b[38;5;124;43m\"\u001b[39;49m\u001b[38;5;124;43monnx\u001b[39;49m\u001b[38;5;124;43m\"\u001b[39;49m\u001b[43m,\u001b[49m\n\u001b[1;32m     19\u001b[0m \u001b[43m    \u001b[49m\u001b[38;5;66;43;03m#snapshot = \"snapshot-263.pt\",\u001b[39;49;00m\n\u001b[1;32m     20\u001b[0m \u001b[43m    \u001b[49m\u001b[43mdevice\u001b[49m\u001b[38;5;241;43m=\u001b[39;49m\u001b[38;5;124;43m\"\u001b[39;49m\u001b[38;5;124;43mcuda\u001b[39;49m\u001b[38;5;124;43m\"\u001b[39;49m\u001b[43m,\u001b[49m\n\u001b[1;32m     21\u001b[0m \u001b[43m    \u001b[49m\u001b[43mprecision\u001b[49m\u001b[38;5;241;43m=\u001b[39;49m\u001b[38;5;124;43m\"\u001b[39;49m\u001b[38;5;124;43mFP16\u001b[39;49m\u001b[38;5;124;43m\"\u001b[39;49m\u001b[43m,\u001b[49m\n\u001b[1;32m     22\u001b[0m \u001b[43m    \u001b[49m\u001b[38;5;66;43;03m#resize=0.25,\u001b[39;49;00m\n\u001b[1;32m     23\u001b[0m \u001b[43m    \u001b[49m\u001b[38;5;66;43;03m# cropping= [50, 250, 100, 450], # manually set the cropping to specific pixels\u001b[39;49;00m\n\u001b[1;32m     24\u001b[0m \u001b[43m    \u001b[49m\u001b[38;5;66;43;03m#dynamic=(True,0.5,10,),\u001b[39;49;00m\n\u001b[1;32m     25\u001b[0m \u001b[43m    \u001b[49m\u001b[43mmodel_path\u001b[49m\u001b[38;5;241;43m=\u001b[39;49m\u001b[38;5;124;43m\"\u001b[39;49m\u001b[38;5;124;43m/media/dikra/PhD/DATA/DLC24_Data/dlc-live-dummy/ventral-gait\u001b[39;49m\u001b[38;5;124;43m\"\u001b[39;49m\u001b[43m,\u001b[49m\n\u001b[1;32m     26\u001b[0m \u001b[43m    \u001b[49m\u001b[43mdisplay\u001b[49m\u001b[38;5;241;43m=\u001b[39;49m\u001b[38;5;28;43;01mTrue\u001b[39;49;00m\u001b[43m,\u001b[49m\n\u001b[1;32m     27\u001b[0m \u001b[43m    \u001b[49m\u001b[43msave_poses\u001b[49m\u001b[38;5;241;43m=\u001b[39;49m\u001b[38;5;28;43;01mFalse\u001b[39;49;00m\u001b[43m,\u001b[49m\n\u001b[1;32m     28\u001b[0m \u001b[43m    \u001b[49m\u001b[43msave_dir\u001b[49m\u001b[38;5;241;43m=\u001b[39;49m\u001b[38;5;124;43m\"\u001b[39;49m\u001b[38;5;124;43m/media/dikra/PhD/DATA/DLC24_Data/dlc-live-dummy/ventral-gait/out\u001b[39;49m\u001b[38;5;124;43m\"\u001b[39;49m\u001b[43m,\u001b[49m\n\u001b[1;32m     29\u001b[0m \u001b[43m    \u001b[49m\u001b[43mdraw_keypoint_names\u001b[49m\u001b[38;5;241;43m=\u001b[39;49m\u001b[38;5;28;43;01mFalse\u001b[39;49;00m\u001b[43m,\u001b[49m\n\u001b[1;32m     30\u001b[0m \u001b[43m)\u001b[49m\n",
      "File \u001b[0;32m~/MyHub/Code/DLC24_Hub/DLC_AI2024/DeepLabCut-live/dlclive/benchmark_pytorch.py:241\u001b[0m, in \u001b[0;36manalyze_video\u001b[0;34m(video_path, model_path, model_type, device, precision, snapshot, display, pcutoff, display_radius, resize, cropping, dynamic, save_poses, save_dir, draw_keypoint_names, cmap, get_sys_info)\u001b[0m\n\u001b[1;32m    238\u001b[0m         pose \u001b[38;5;241m=\u001b[39m dlc_live\u001b[38;5;241m.\u001b[39minit_inference(frame)  \u001b[38;5;66;03m# load DLC model\u001b[39;00m\n\u001b[1;32m    239\u001b[0m     \u001b[38;5;28;01melse\u001b[39;00m:\n\u001b[1;32m    240\u001b[0m         \u001b[38;5;66;03m# dlc_live.dynamic = dynamic\u001b[39;00m\n\u001b[0;32m--> 241\u001b[0m         pose \u001b[38;5;241m=\u001b[39m \u001b[43mdlc_live\u001b[49m\u001b[38;5;241;43m.\u001b[39;49m\u001b[43mget_pose\u001b[49m\u001b[43m(\u001b[49m\u001b[43mframe\u001b[49m\u001b[43m)\u001b[49m\n\u001b[1;32m    242\u001b[0m \u001b[38;5;28;01mexcept\u001b[39;00m \u001b[38;5;167;01mException\u001b[39;00m \u001b[38;5;28;01mas\u001b[39;00m e:\n\u001b[1;32m    243\u001b[0m     \u001b[38;5;28mprint\u001b[39m(\u001b[38;5;124mf\u001b[39m\u001b[38;5;124m\"\u001b[39m\u001b[38;5;124mError analyzing frame \u001b[39m\u001b[38;5;132;01m{\u001b[39;00mframe_index\u001b[38;5;132;01m}\u001b[39;00m\u001b[38;5;124m: \u001b[39m\u001b[38;5;132;01m{\u001b[39;00me\u001b[38;5;132;01m}\u001b[39;00m\u001b[38;5;124m\"\u001b[39m)\n",
      "File \u001b[0;32m~/MyHub/Code/DLC24_Hub/DLC_AI2024/DeepLabCut-live/dlclive/dlclive.py:400\u001b[0m, in \u001b[0;36mDLCLive.get_pose\u001b[0;34m(self, frame, **kwargs)\u001b[0m\n\u001b[1;32m    394\u001b[0m outputs \u001b[38;5;241m=\u001b[39m {\n\u001b[1;32m    395\u001b[0m     \u001b[38;5;124m\"\u001b[39m\u001b[38;5;124mheatmap\u001b[39m\u001b[38;5;124m\"\u001b[39m: torch\u001b[38;5;241m.\u001b[39mTensor(outputs[\u001b[38;5;241m0\u001b[39m]),\n\u001b[1;32m    396\u001b[0m     \u001b[38;5;124m\"\u001b[39m\u001b[38;5;124mlocref\u001b[39m\u001b[38;5;124m\"\u001b[39m: torch\u001b[38;5;241m.\u001b[39mTensor(outputs[\u001b[38;5;241m1\u001b[39m]),\n\u001b[1;32m    397\u001b[0m }\n\u001b[1;32m    399\u001b[0m start \u001b[38;5;241m=\u001b[39m time\u001b[38;5;241m.\u001b[39mtime()\n\u001b[0;32m--> 400\u001b[0m \u001b[38;5;28mself\u001b[39m\u001b[38;5;241m.\u001b[39mpose \u001b[38;5;241m=\u001b[39m \u001b[38;5;28;43mself\u001b[39;49m\u001b[38;5;241;43m.\u001b[39;49m\u001b[43mpredictor\u001b[49m\u001b[43m(\u001b[49m\u001b[43moutputs\u001b[49m\u001b[38;5;241;43m=\u001b[39;49m\u001b[43moutputs\u001b[49m\u001b[43m)\u001b[49m\n\u001b[1;32m    401\u001b[0m end \u001b[38;5;241m=\u001b[39m time\u001b[38;5;241m.\u001b[39mtime()\n\u001b[1;32m    402\u001b[0m \u001b[38;5;28mprint\u001b[39m(\u001b[38;5;124mf\u001b[39m\u001b[38;5;124m\"\u001b[39m\u001b[38;5;124mONNX postprocessing took \u001b[39m\u001b[38;5;132;01m{\u001b[39;00mend\u001b[38;5;250m \u001b[39m\u001b[38;5;241m-\u001b[39m\u001b[38;5;250m \u001b[39mstart\u001b[38;5;132;01m}\u001b[39;00m\u001b[38;5;124m sec\u001b[39m\u001b[38;5;124m\"\u001b[39m)\n",
      "File \u001b[0;32m~/miniconda3/envs/dlc-live/lib/python3.10/site-packages/torch/nn/modules/module.py:1553\u001b[0m, in \u001b[0;36mModule._wrapped_call_impl\u001b[0;34m(self, *args, **kwargs)\u001b[0m\n\u001b[1;32m   1551\u001b[0m     \u001b[38;5;28;01mreturn\u001b[39;00m \u001b[38;5;28mself\u001b[39m\u001b[38;5;241m.\u001b[39m_compiled_call_impl(\u001b[38;5;241m*\u001b[39margs, \u001b[38;5;241m*\u001b[39m\u001b[38;5;241m*\u001b[39mkwargs)  \u001b[38;5;66;03m# type: ignore[misc]\u001b[39;00m\n\u001b[1;32m   1552\u001b[0m \u001b[38;5;28;01melse\u001b[39;00m:\n\u001b[0;32m-> 1553\u001b[0m     \u001b[38;5;28;01mreturn\u001b[39;00m \u001b[38;5;28;43mself\u001b[39;49m\u001b[38;5;241;43m.\u001b[39;49m\u001b[43m_call_impl\u001b[49m\u001b[43m(\u001b[49m\u001b[38;5;241;43m*\u001b[39;49m\u001b[43margs\u001b[49m\u001b[43m,\u001b[49m\u001b[43m \u001b[49m\u001b[38;5;241;43m*\u001b[39;49m\u001b[38;5;241;43m*\u001b[39;49m\u001b[43mkwargs\u001b[49m\u001b[43m)\u001b[49m\n",
      "File \u001b[0;32m~/miniconda3/envs/dlc-live/lib/python3.10/site-packages/torch/nn/modules/module.py:1562\u001b[0m, in \u001b[0;36mModule._call_impl\u001b[0;34m(self, *args, **kwargs)\u001b[0m\n\u001b[1;32m   1557\u001b[0m \u001b[38;5;66;03m# If we don't have any hooks, we want to skip the rest of the logic in\u001b[39;00m\n\u001b[1;32m   1558\u001b[0m \u001b[38;5;66;03m# this function, and just call forward.\u001b[39;00m\n\u001b[1;32m   1559\u001b[0m \u001b[38;5;28;01mif\u001b[39;00m \u001b[38;5;129;01mnot\u001b[39;00m (\u001b[38;5;28mself\u001b[39m\u001b[38;5;241m.\u001b[39m_backward_hooks \u001b[38;5;129;01mor\u001b[39;00m \u001b[38;5;28mself\u001b[39m\u001b[38;5;241m.\u001b[39m_backward_pre_hooks \u001b[38;5;129;01mor\u001b[39;00m \u001b[38;5;28mself\u001b[39m\u001b[38;5;241m.\u001b[39m_forward_hooks \u001b[38;5;129;01mor\u001b[39;00m \u001b[38;5;28mself\u001b[39m\u001b[38;5;241m.\u001b[39m_forward_pre_hooks\n\u001b[1;32m   1560\u001b[0m         \u001b[38;5;129;01mor\u001b[39;00m _global_backward_pre_hooks \u001b[38;5;129;01mor\u001b[39;00m _global_backward_hooks\n\u001b[1;32m   1561\u001b[0m         \u001b[38;5;129;01mor\u001b[39;00m _global_forward_hooks \u001b[38;5;129;01mor\u001b[39;00m _global_forward_pre_hooks):\n\u001b[0;32m-> 1562\u001b[0m     \u001b[38;5;28;01mreturn\u001b[39;00m \u001b[43mforward_call\u001b[49m\u001b[43m(\u001b[49m\u001b[38;5;241;43m*\u001b[39;49m\u001b[43margs\u001b[49m\u001b[43m,\u001b[49m\u001b[43m \u001b[49m\u001b[38;5;241;43m*\u001b[39;49m\u001b[38;5;241;43m*\u001b[39;49m\u001b[43mkwargs\u001b[49m\u001b[43m)\u001b[49m\n\u001b[1;32m   1564\u001b[0m \u001b[38;5;28;01mtry\u001b[39;00m:\n\u001b[1;32m   1565\u001b[0m     result \u001b[38;5;241m=\u001b[39m \u001b[38;5;28;01mNone\u001b[39;00m\n",
      "File \u001b[0;32m~/MyHub/Code/DLC24_Hub/DLC_AI2024/DeepLabCut-live/dlclive/predictor/single_predictor.py:95\u001b[0m, in \u001b[0;36mHeatmapPredictor.forward\u001b[0;34m(self, outputs)\u001b[0m\n\u001b[1;32m     90\u001b[0m     locrefs \u001b[38;5;241m=\u001b[39m locrefs\u001b[38;5;241m.\u001b[39mpermute(\u001b[38;5;241m0\u001b[39m, \u001b[38;5;241m2\u001b[39m, \u001b[38;5;241m3\u001b[39m, \u001b[38;5;241m1\u001b[39m)\u001b[38;5;241m.\u001b[39mreshape(\n\u001b[1;32m     91\u001b[0m         batch_size, height, width, num_joints, \u001b[38;5;241m2\u001b[39m\n\u001b[1;32m     92\u001b[0m     )\n\u001b[1;32m     93\u001b[0m     locrefs \u001b[38;5;241m=\u001b[39m locrefs \u001b[38;5;241m*\u001b[39m \u001b[38;5;28mself\u001b[39m\u001b[38;5;241m.\u001b[39mlocref_std\n\u001b[0;32m---> 95\u001b[0m poses \u001b[38;5;241m=\u001b[39m \u001b[38;5;28;43mself\u001b[39;49m\u001b[38;5;241;43m.\u001b[39;49m\u001b[43mget_pose_prediction\u001b[49m\u001b[43m(\u001b[49m\u001b[43mheatmaps\u001b[49m\u001b[43m,\u001b[49m\u001b[43m \u001b[49m\u001b[43mlocrefs\u001b[49m\u001b[43m,\u001b[49m\u001b[43m \u001b[49m\u001b[43mscale_factors\u001b[49m\u001b[43m)\u001b[49m\n\u001b[1;32m     97\u001b[0m \u001b[38;5;28;01mif\u001b[39;00m \u001b[38;5;28mself\u001b[39m\u001b[38;5;241m.\u001b[39mclip_scores:\n\u001b[1;32m     98\u001b[0m     poses[\u001b[38;5;241m.\u001b[39m\u001b[38;5;241m.\u001b[39m\u001b[38;5;241m.\u001b[39m, \u001b[38;5;241m2\u001b[39m] \u001b[38;5;241m=\u001b[39m torch\u001b[38;5;241m.\u001b[39mclip(poses[\u001b[38;5;241m.\u001b[39m\u001b[38;5;241m.\u001b[39m\u001b[38;5;241m.\u001b[39m, \u001b[38;5;241m2\u001b[39m], \u001b[38;5;28mmin\u001b[39m\u001b[38;5;241m=\u001b[39m\u001b[38;5;241m0\u001b[39m, \u001b[38;5;28mmax\u001b[39m\u001b[38;5;241m=\u001b[39m\u001b[38;5;241m1\u001b[39m)\n",
      "File \u001b[0;32m~/MyHub/Code/DLC24_Hub/DLC_AI2024/DeepLabCut-live/dlclive/predictor/single_predictor.py:-1\u001b[0m, in \u001b[0;36mHeatmapPredictor.get_pose_prediction\u001b[0;34m(self, heatmap, locref, scale_factors)\u001b[0m\n\u001b[1;32m      0\u001b[0m <Error retrieving source code with stack_data see ipython/ipython#13598>\n",
      "\u001b[0;31mKeyboardInterrupt\u001b[0m: "
     ]
    }
   ],
   "source": [
    "# test download of benchmarking dataset\n",
    "# OBS link it not working, waiting for updated link to benchmarking dataset\n",
    "\n",
    "dlc_live = DLCLive(\n",
    "    path=\"/media/dikra/PhD/DATA/DLC24_Data/dlc-live-dummy/ventral-gait\",\n",
    "    device=\"cuda\",\n",
    "    # snapshot=\"snapshot-263.pt\",\n",
    "    model_type=\"onnx\",\n",
    "    display=True,\n",
    "    precision=\"FP16\",\n",
    ")\n",
    "# short video\n",
    "# video_path = '/Users/annastuckert/Documents/DLC_AI_Residency/DLC_AI2024/DeepLabCut-live/Ventral_gait_model/1_20cms_0degUP_first_1s.avi'\n",
    "video_path = \"/media/dikra/PhD/DATA/DLC24_Data/dlc-live-dummy/ventral-gait/1_20cms_0degUP_first.avi\"\n",
    "\n",
    "poses, times = analyze_video(\n",
    "    video_path=video_path,\n",
    "    model_type=\"onnx\",\n",
    "    #snapshot = \"snapshot-263.pt\",\n",
    "    device=\"cuda\",\n",
    "    precision=\"FP16\",\n",
    "    #resize=0.25,\n",
    "    # cropping= [50, 250, 100, 450], # manually set the cropping to specific pixels\n",
    "    #dynamic=(True,0.5,10,),\n",
    "    model_path=\"/media/dikra/PhD/DATA/DLC24_Data/dlc-live-dummy/ventral-gait\",\n",
    "    display=True,\n",
    "    save_poses=False,\n",
    "    save_dir=\"/media/dikra/PhD/DATA/DLC24_Data/dlc-live-dummy/ventral-gait/out\",\n",
    "    draw_keypoint_names=False,\n",
    ")"
   ]
  },
  {
   "cell_type": "code",
   "execution_count": null,
   "metadata": {},
   "outputs": [],
   "source": [
    "dlc_live.display.destroy()"
   ]
  },
  {
   "cell_type": "code",
   "execution_count": 41,
   "metadata": {},
   "outputs": [],
   "source": [
    "times = [p[\"pose\"][1] for p in poses]"
   ]
  },
  {
   "cell_type": "code",
   "execution_count": 42,
   "metadata": {},
   "outputs": [
    {
     "name": "stdout",
     "output_type": "stream",
     "text": [
      "Mean inference time excluding 1st inference  4.97 ms ± 1.5\n",
      "Mean inference time including 1st inference  5.83 ms ± 33.27\n"
     ]
    }
   ],
   "source": [
    "print(\n",
    "    \"Mean inference time excluding 1st inference \",\n",
    "    np.round(np.mean(times[1:]) * 1000, 2),\n",
    "    \"ms ±\",\n",
    "    np.round(np.std(times[1:]) * 1000, 2),\n",
    ")\n",
    "print(\n",
    "    \"Mean inference time including 1st inference \",\n",
    "    np.round(np.mean(times) * 1000, 2),\n",
    "    \"ms ±\",\n",
    "    np.round(np.std(times) * 1000, 2),\n",
    ")"
   ]
  },
  {
   "cell_type": "code",
   "execution_count": 43,
   "metadata": {},
   "outputs": [
    {
     "data": {
      "text/plain": [
       "[<matplotlib.lines.Line2D at 0x7b81ffb8b9a0>]"
      ]
     },
     "execution_count": 43,
     "metadata": {},
     "output_type": "execute_result"
    },
    {
     "data": {
      "image/png": "[encoded data removed]",
      "text/plain": [
       "<Figure size 640x480 with 1 Axes>"
      ]
     },
     "metadata": {},
     "output_type": "display_data"
    }
   ],
   "source": [
    "import matplotlib.pyplot as plt\n",
    "\n",
    "plt.plot(times[1:])"
   ]
  },
  {
   "cell_type": "code",
   "execution_count": 44,
   "metadata": {},
   "outputs": [
    {
     "name": "stdout",
     "output_type": "stream",
     "text": [
      "Average FPS: 214.2562408895635\n",
      "Standard Deviation of FPS: 45.280508404049094\n"
     ]
    }
   ],
   "source": [
    "import numpy as np\n",
    "\n",
    "\n",
    "def calculate_fps_stats(inference_times):\n",
    "    \"\"\"\n",
    "    Calculates the average FPS rate and its standard deviation from a list of inference times.\n",
    "\n",
    "    Args:\n",
    "        inference_times (list): A list of inference times in seconds.\n",
    "\n",
    "    Returns:\n",
    "        tuple: A tuple containing the average FPS rate and its standard deviation.\n",
    "    \"\"\"\n",
    "\n",
    "    # Calculate FPS for each frame\n",
    "    fps_values = [1 / time for time in inference_times]\n",
    "\n",
    "    # Calculate average FPS\n",
    "    average_fps = np.mean(fps_values)\n",
    "\n",
    "    # Calculate standard deviation of FPS\n",
    "    std_dev_fps = np.std(fps_values)\n",
    "\n",
    "    return average_fps, std_dev_fps\n",
    "\n",
    "\n",
    "average_fps, std_dev_fps = calculate_fps_stats(times)\n",
    "\n",
    "print(\"Average FPS:\", average_fps)\n",
    "print(\"Standard Deviation of FPS:\", std_dev_fps)"
   ]
  },
  {
   "cell_type": "code",
   "execution_count": 19,
   "metadata": {},
   "outputs": [
    {
     "data": {
      "text/plain": [
       "'46.16 MB'"
      ]
     },
     "execution_count": 19,
     "metadata": {},
     "output_type": "execute_result"
    }
   ],
   "source": [
    "import torch\n",
    "\n",
    "\n",
    "def get_model_size(model_path):\n",
    "    \"\"\"\n",
    "    Calculates the size of an ONNX model in bytes.\n",
    "\n",
    "    Args:\n",
    "        model_path (str): The path to the ONNX model file.\n",
    "\n",
    "    Returns:\n",
    "        int: The size of the model in bytes.\n",
    "    \"\"\"\n",
    "    if \".onnx\" in model_path:\n",
    "        model = onnx.load(model_path)\n",
    "        size_bytes = len(model.SerializeToString())\n",
    "    elif \".pt\" in model_path:\n",
    "        model = torch.load(model_path)\n",
    "        params = list(model.parameters())\n",
    "        size_bytes = sum([p.numel() * p.element_size() for p in params])\n",
    "\n",
    "    # Convert to KB, MB, GB, etc.\n",
    "    if size_bytes < 1024:\n",
    "        size_str = f\"{size_bytes} B\"\n",
    "    elif size_bytes < 1024 * 1024:\n",
    "        size_str = f\"{size_bytes / 1024:.2f} KB\"\n",
    "    elif size_bytes < 1024 * 1024 * 1024:\n",
    "        size_str = f\"{size_bytes / (1024 * 1024):.2f} MB\"\n",
    "    else:\n",
    "        size_str = f\"{size_bytes / (1024 * 1024 * 1024):.2f} GB\"\n",
    "\n",
    "    return size_str\n",
    "\n",
    "\n",
    "get_model_size(\n",
    "    \"/media/dikra/PhD/DATA/DLC24_Data/dlc-live-dummy/ventral-gait/resnet_fp16.onnx\"\n",
    ")"
   ]
  },
  {
   "cell_type": "code",
   "execution_count": 15,
   "metadata": {},
   "outputs": [
    {
     "name": "stdout",
     "output_type": "stream",
     "text": [
      "FPS: 150.0\n",
      "Number of frames: 1500.0\n",
      "Video length (seconds): 10.0\n",
      "Frame size: (164.5, 75.5)\n"
     ]
    }
   ],
   "source": [
    "import cv2\n",
    "\n",
    "\n",
    "def get_video_characteristics(video_path):\n",
    "    \"\"\"\n",
    "    Extracts the FPS, number of frames, length in seconds, and frame size of a video.\n",
    "\n",
    "    Args:\n",
    "        video_path (str): The path to the video file.\n",
    "\n",
    "    Returns:\n",
    "        tuple: A tuple containing the FPS, number of frames, length in seconds, and frame size.\n",
    "    \"\"\"\n",
    "\n",
    "    cap = cv2.VideoCapture(video_path)\n",
    "\n",
    "    # Get video properties\n",
    "    fps = cap.get(cv2.CAP_PROP_FPS)\n",
    "    frame_count = cap.get(cv2.CAP_PROP_FRAME_COUNT)\n",
    "    frame_width = int(cap.get(cv2.CAP_PROP_FRAME_WIDTH))*0.25\n",
    "    frame_height = int(cap.get(cv2.CAP_PROP_FRAME_HEIGHT))*0.25\n",
    "\n",
    "    # Calculate video length in seconds\n",
    "    video_length = frame_count / fps\n",
    "\n",
    "    cap.release()\n",
    "\n",
    "    return fps, frame_count, video_length, (frame_width, frame_height)\n",
    "\n",
    "\n",
    "# Example usage:\n",
    "video_path = \"/media/dikra/PhD/DATA/DLC24_Data/dlc-live-dummy/ventral-gait/1_20cms_0degUP_first.avi\"\n",
    "fps, frame_count, video_length, frame_size = get_video_characteristics(video_path)\n",
    "\n",
    "print(\"FPS:\", fps)\n",
    "print(\"Number of frames:\", frame_count)\n",
    "print(\"Video length (seconds):\", video_length)\n",
    "print(\"Frame size:\", frame_size)"
   ]
  }
 ],
 "metadata": {
  "kernelspec": {
   "display_name": "dlc-live",
   "language": "python",
   "name": "python3"
  },
  "language_info": {
   "codemirror_mode": {
    "name": "ipython",
    "version": 3
   },
   "file_extension": ".py",
   "mimetype": "text/x-python",
   "name": "python",
   "nbconvert_exporter": "python",
   "pygments_lexer": "ipython3",
   "version": "3.10.14"
  }
 },
 "nbformat": 4,
 "nbformat_minor": 2
}
