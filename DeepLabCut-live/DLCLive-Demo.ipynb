{
 "cells": [
  {
   "cell_type": "markdown",
   "metadata": {},
   "source": [
    "# DLC Live PyTorch Demo"
   ]
  },
  {
   "cell_type": "code",
   "execution_count": 4,
   "metadata": {},
   "outputs": [],
   "source": [
    "%load_ext autoreload\n",
    "%autoreload 2"
   ]
  },
  {
   "cell_type": "code",
   "execution_count": 5,
   "metadata": {},
   "outputs": [
    {
     "name": "stdout",
     "output_type": "stream",
     "text": [
      "Loading DLC 3.0.0rc4...\n",
      "DLC loaded in light mode; you cannot use any GUI (labeling, relabeling and standalone GUI)\n"
     ]
    },
    {
     "name": "stderr",
     "output_type": "stream",
     "text": [
      "/home/dikra/miniconda3/envs/dlc-live/lib/python3.10/site-packages/tqdm/auto.py:21: TqdmWarning: IProgress not found. Please update jupyter and ipywidgets. See https://ipywidgets.readthedocs.io/en/stable/user_install.html\n",
      "  from .autonotebook import tqdm as notebook_tqdm\n"
     ]
    }
   ],
   "source": [
    "from dlclive import DLCLive, Processor\n",
    "from dlclive.display import Display\n",
    "import cv2\n",
    "import numpy as np\n",
    "from pathlib import Path\n",
    "import time"
   ]
  },
  {
   "cell_type": "markdown",
   "metadata": {},
   "source": [
    "### Snapshot to ONNX model "
   ]
  },
  {
   "cell_type": "code",
   "execution_count": 6,
   "metadata": {},
   "outputs": [
    {
     "name": "stderr",
     "output_type": "stream",
     "text": [
      "/tmp/ipykernel_34268/968774635.py:15: FutureWarning: You are using `torch.load` with `weights_only=False` (the current default value), which uses the default pickle module implicitly. It is possible to construct malicious pickle data which will execute arbitrary code during unpickling (See https://github.com/pytorch/pytorch/blob/main/SECURITY.md#untrusted-models for more details). In a future release, the default value for `weights_only` will be flipped to `True`. This limits the functions that could be executed during unpickling. Arbitrary objects will no longer be allowed to be loaded via this mode unless they are explicitly allowlisted by the user via `torch.serialization.add_safe_globals`. We recommend you start setting `weights_only=True` for any use case where you don't have full control of the loaded file. Please open an issue on GitHub for any issues related to this experimental feature.\n",
      "  weights = torch.load(weights_path, map_location=device)\n"
     ]
    }
   ],
   "source": [
    "# In case you do not have a .onnx model exported, use this cell to export your DLC3.0 snapshot\n",
    "\n",
    "from deeplabcut.pose_estimation_pytorch.config import read_config_as_dict\n",
    "from deeplabcut.pose_estimation_pytorch.models import PoseModel\n",
    "import torch\n",
    "import onnxruntime as ort\n",
    "\n",
    "device = \"cuda\" if torch.cuda.is_available() else \"cpu\"\n",
    "\n",
    "root = Path(\"/media/dikra/PhD/DATA/DLC24_Data/dlc-live-dummy\")\n",
    "model_cfg = read_config_as_dict(root / \"pytorch_config.yaml\")\n",
    "weights_path = root / \"snapshot-200.pt\"\n",
    "\n",
    "model = PoseModel.build(model_cfg[\"model\"])\n",
    "weights = torch.load(weights_path, map_location=device)\n",
    "model.load_state_dict(weights[\"model\"])\n",
    "\n",
    "dummy_input = torch.zeros((1, 3, 224, 224))\n",
    "\n",
    "torch.onnx.export(\n",
    "    model,\n",
    "    dummy_input,\n",
    "    \"/media/dikra/PhD/DATA/DLC24_Data/dlc-live-dummy/resnet.onnx\",\n",
    "    verbose=False,\n",
    "    input_names=[\"input\"],\n",
    "    dynamic_axes={\"input\": {0: \"batch_size\", 2: \"height\", 3: \"width\"}},\n",
    ")"
   ]
  },
  {
   "cell_type": "code",
   "execution_count": 13,
   "metadata": {},
   "outputs": [],
   "source": [
    "# Load test frame\n",
    "img = cv2.imread(\"/media/dikra/PhD/DATA/DLC24_Data/dlc-live-dummy/img008.png\")"
   ]
  },
  {
   "cell_type": "markdown",
   "metadata": {},
   "source": [
    "### DLC Live with ONNX exported DLC 3.0 model"
   ]
  },
  {
   "cell_type": "code",
   "execution_count": 8,
   "metadata": {},
   "outputs": [
    {
     "data": {
      "text/plain": [
       "{'poses': tensor([[[[7.3832e+01, 2.0015e+02, 8.8095e-02],\n",
       "           [6.9048e+01, 2.9947e+02, 2.2019e-01],\n",
       "           [1.1621e+02, 3.4326e+02, 3.1128e-01],\n",
       "           [1.1751e+02, 3.3694e+02, 5.3471e-01],\n",
       "           [1.1515e+02, 3.2886e+02, 6.5886e-01],\n",
       "           [1.3284e+02, 3.1905e+02, 3.0138e-01],\n",
       "           [7.9400e+01, 2.1545e+02, 6.3844e-01],\n",
       "           [5.0567e+01, 3.0373e+02, 2.5542e-01],\n",
       "           [1.2382e+02, 2.5162e+02, 7.6581e-01],\n",
       "           [1.3796e+02, 2.2743e+02, 6.9886e-01],\n",
       "           [1.4197e+02, 2.0919e+02, 6.3363e-01],\n",
       "           [1.6022e+02, 2.7524e+02, 6.3262e-01],\n",
       "           [9.4027e+01, 2.5252e+02, 1.9836e-01],\n",
       "           [1.4154e+02, 3.7739e+02, 8.7275e-01],\n",
       "           [1.4946e+02, 3.6513e+02, 6.4267e-01],\n",
       "           [2.7488e+01, 2.0230e+02, 8.3611e-01],\n",
       "           [2.6656e+01, 3.4699e+02, 8.0565e-01],\n",
       "           [3.1491e+01, 3.9521e+02, 8.7074e-01],\n",
       "           [2.5922e+01, 1.5689e+02, 7.5119e-01],\n",
       "           [3.0520e+01, 1.7030e+02, 8.1288e-01],\n",
       "           [3.6773e+01, 2.3040e+02, 6.7201e-01],\n",
       "           [9.8596e+01, 2.6144e+02, 5.8880e-01],\n",
       "           [1.2013e+02, 3.0822e+02, 6.6743e-01],\n",
       "           [1.0080e+02, 1.9202e+02, 6.6554e-01],\n",
       "           [1.3621e+02, 3.0187e+02, 2.4326e-01]]]])}"
      ]
     },
     "execution_count": 8,
     "metadata": {},
     "output_type": "execute_result"
    }
   ],
   "source": [
    "# Dikra\n",
    "onnx_dlc_live = DLCLive(\n",
    "    path=\"/media/dikra/PhD/DATA/DLC24_Data/dlc-live-dummy\",\n",
    "    model_type=\"onnx\",\n",
    "    device=\"cuda\",\n",
    "    display=True,\n",
    ")\n",
    "\n",
    "# Anna\n",
    "# onnx_dlc_live = DLCLive(pytorch_cfg=\"/Users/annastuckert/Documents/DLC_AI_Residency/DLC_AI2024/DeepLabCut-live/Ventral_gait_model/train\", processor=dlc_proc, snapshot='/Users/annastuckert/Documents/DLC_AI_Residency/DLC_AI2024/DeepLabCut-live/Ventral_gait_model/train/snapshot-263.pt')\n",
    "# onnx_dlc_live = DLCLive(\"/Users/annastuckert/Documents/DLC_AI_Residency/DLC_AI2024/DeepLabCut-live/exported DLC model for dlc-live/DLC_dev-single-animal_resnet_50_iteration-1_shuffle-1\", processor=dlc_proc)\n",
    "# img = cv2.imread(\"/Users/annastuckert/Documents/DLC_AI_Residency/DLC_AI2024/DeepLabCut-live/exported DLC model for dlc-live/img049.png\")\n",
    "\n",
    "onnx_pose = onnx_dlc_live.init_inference(frame=img)\n",
    "onnx_pose"
   ]
  },
  {
   "cell_type": "markdown",
   "metadata": {},
   "source": [
    "![Screenshot from 2024-08-20 14-29-53.png](./docs/assets/Screenshot%20from%202024-08-20%2014-36-00.png)"
   ]
  },
  {
   "cell_type": "code",
   "execution_count": 14,
   "metadata": {},
   "outputs": [
    {
     "data": {
      "text/plain": [
       "{'poses': tensor([[[[3.6219e+02, 4.1237e+02, 5.0502e-01],\n",
       "           [3.6271e+02, 3.9584e+02, 5.8567e-01],\n",
       "           [3.5676e+02, 3.7446e+02, 7.0505e-01],\n",
       "           [3.4043e+02, 3.5935e+02, 7.1149e-01],\n",
       "           [3.3437e+02, 4.0497e+02, 6.5122e-01],\n",
       "           [3.3772e+02, 4.0689e+02, 4.4919e-01],\n",
       "           [2.0013e+02, 4.3547e+02, 5.2071e-01],\n",
       "           [3.4130e+02, 4.3089e+02, 3.4862e-01],\n",
       "           [2.1540e+02, 3.9427e+02, 7.8372e-01],\n",
       "           [1.9974e+02, 3.7728e+02, 5.2794e-01],\n",
       "           [1.8255e+02, 3.6741e+02, 6.4688e-01],\n",
       "           [2.7519e+02, 3.3175e+02, 5.7645e-01],\n",
       "           [3.5014e+02, 4.3089e+02, 4.1499e-01],\n",
       "           [4.3459e+02, 3.1566e+02, 8.1675e-01],\n",
       "           [4.2561e+02, 2.9912e+02, 8.8807e-01],\n",
       "           [2.4359e+02, 5.0565e+02, 5.7659e-01],\n",
       "           [3.5792e+02, 4.8275e+02, 3.0052e-01],\n",
       "           [4.0234e+02, 4.1449e+02, 5.4220e-01],\n",
       "           [1.7142e+02, 4.8666e+02, 4.5839e-01],\n",
       "           [3.2110e+02, 5.1144e+02, 2.5084e-01],\n",
       "           [3.9914e+02, 4.1933e+02, 6.2746e-01],\n",
       "           [2.3576e+02, 4.3456e+02, 6.5916e-01],\n",
       "           [3.1890e+02, 4.2855e+02, 6.0924e-01],\n",
       "           [1.7677e+02, 4.1291e+02, 3.5336e-01],\n",
       "           [3.1286e+02, 4.2730e+02, 6.1907e-01]]]])}"
      ]
     },
     "execution_count": 14,
     "metadata": {},
     "output_type": "execute_result"
    }
   ],
   "source": [
    "onnx_pose = onnx_dlc_live.get_pose(frame=img)\n",
    "onnx_pose"
   ]
  },
  {
   "cell_type": "code",
   "execution_count": 15,
   "metadata": {},
   "outputs": [],
   "source": [
    "onnx_dlc_live.display.destroy()"
   ]
  },
  {
   "cell_type": "markdown",
   "metadata": {},
   "source": [
    "### DLC Live with snaptshot of DLC 3.0 model (.pt)"
   ]
  },
  {
   "cell_type": "code",
   "execution_count": 7,
   "metadata": {},
   "outputs": [
    {
     "name": "stderr",
     "output_type": "stream",
     "text": [
      "/home/dikra/MyHub/Code/DLC24_Hub/DLC_AI2024/DeepLabCut-live/dlclive/dlclive.py:260: FutureWarning: You are using `torch.load` with `weights_only=False` (the current default value), which uses the default pickle module implicitly. It is possible to construct malicious pickle data which will execute arbitrary code during unpickling (See https://github.com/pytorch/pytorch/blob/main/SECURITY.md#untrusted-models for more details). In a future release, the default value for `weights_only` will be flipped to `True`. This limits the functions that could be executed during unpickling. Arbitrary objects will no longer be allowed to be loaded via this mode unless they are explicitly allowlisted by the user via `torch.serialization.add_safe_globals`. We recommend you start setting `weights_only=True` for any use case where you don't have full control of the loaded file. Please open an issue on GitHub for any issues related to this experimental feature.\n",
      "  weights = torch.load(model_path, map_location=torch.device(self.device))\n"
     ]
    },
    {
     "data": {
      "text/plain": [
       "{'poses': tensor([[[[4.6099e+02, 3.0565e+02, 2.2497e-01],\n",
       "           [4.6334e+02, 2.9737e+02, 5.2393e-01],\n",
       "           [4.7105e+02, 2.9226e+02, 5.7827e-01],\n",
       "           [4.7816e+02, 2.9004e+02, 6.5970e-01],\n",
       "           [5.7700e+02, 3.4287e+02, 6.7695e-01],\n",
       "           [4.4610e+02, 3.3317e+02, 6.4596e-01],\n",
       "           [5.3632e+02, 4.2195e+02, 5.4373e-01],\n",
       "           [4.5563e+02, 3.5570e+02, 2.5123e-01],\n",
       "           [5.5438e+02, 3.6476e+02, 6.2622e-01],\n",
       "           [5.3584e+02, 3.6377e+02, 6.4735e-01],\n",
       "           [5.1307e+02, 3.6640e+02, 6.0587e-01],\n",
       "           [5.2159e+02, 2.9548e+02, 4.5409e-01],\n",
       "           [4.8214e+02, 3.8471e+02, 2.4118e-01],\n",
       "           [4.8334e+02, 2.1336e+02, 7.4011e-01],\n",
       "           [4.5919e+02, 2.0870e+02, 6.2153e-01],\n",
       "           [6.0561e+02, 4.7224e+02, 5.8598e-01],\n",
       "           [5.9742e+02, 4.2868e+02, 4.8355e-01],\n",
       "           [5.7910e+02, 4.2470e+02, 2.6089e-01],\n",
       "           [4.6775e+02, 4.9880e+02, 8.5475e-01],\n",
       "           [4.4069e+02, 4.2392e+02, 6.7025e-01],\n",
       "           [4.3888e+02, 4.0817e+02, 6.0956e-01],\n",
       "           [5.7074e+02, 4.0371e+02, 5.8136e-01],\n",
       "           [5.8398e+02, 3.5102e+02, 9.8475e-01],\n",
       "           [4.8705e+02, 4.1552e+02, 7.0512e-01],\n",
       "           [4.4030e+02, 3.6436e+02, 7.3079e-01]]]], grad_fn=<CopySlices>)}"
      ]
     },
     "execution_count": 7,
     "metadata": {},
     "output_type": "execute_result"
    }
   ],
   "source": [
    "# Dikra\n",
    "pytorch_dlc_live = DLCLive(\n",
    "    path=\"/media/dikra/PhD/DATA/DLC24_Data/dlc-live-dummy\",\n",
    "    snapshot=\"snapshot-200.pt\",\n",
    "    device=\"cuda\",\n",
    "    model_type=\"pytorch\",\n",
    "    display=True,\n",
    ")\n",
    "\n",
    "# Anna\n",
    "# pytorch_dlc_live = DLCLive(pytorch_cfg=\"/Users/annastuckert/Documents/DLC_AI_Residency/DLC_AI2024/DeepLabCut-live/Ventral_gait_model/train\", processor=dlc_proc, snapshot='/Users/annastuckert/Documents/DLC_AI_Residency/DLC_AI2024/DeepLabCut-live/Ventral_gait_model/train/snapshot-263.pt')\n",
    "# pytorch_dlc_live = DLCLive(\"/Users/annastuckert/Documents/DLC_AI_Residency/DLC_AI2024/DeepLabCut-live/exported DLC model for dlc-live/DLC_dev-single-animal_resnet_50_iteration-1_shuffle-1\", processor=dlc_proc)\n",
    "# img = cv2.imread(\"/Users/annastuckert/Documents/DLC_AI_Residency/DLC_AI2024/DeepLabCut-live/exported DLC model for dlc-live/img049.png\")\n",
    "\n",
    "pytorch_pose = pytorch_dlc_live.init_inference(frame=img)\n",
    "pytorch_pose"
   ]
  },
  {
   "cell_type": "code",
   "execution_count": 8,
   "metadata": {},
   "outputs": [],
   "source": [
    "pytorch_dlc_live.display.destroy()"
   ]
  },
  {
   "cell_type": "markdown",
   "metadata": {},
   "source": [
    "![PyTorch model inference](./docs/assets/Screenshot%20from%202024-08-20%2014-29-53.png)"
   ]
  },
  {
   "cell_type": "markdown",
   "metadata": {},
   "source": [
    "### Which is faster?"
   ]
  },
  {
   "cell_type": "code",
   "execution_count": 18,
   "metadata": {},
   "outputs": [],
   "source": [
    "import glob\n",
    "import os\n",
    "\n",
    "root = \"/media/dikra/PhD/DATA/DLC24_Data/dlc-live-dummy\"\n",
    "test_images = glob.glob(os.path.normpath(root + \"/*.png\"))\n",
    "\n",
    "def mean_time_inference(dlc_live, images):\n",
    "    times = []\n",
    "    for i, img_p in enumerate(images):\n",
    "        img = cv2.imread(img_p)\n",
    "        \n",
    "        if i == 0: \n",
    "            start = time.time()\n",
    "            dlc_live.init_inference(img)\n",
    "            end = time.time()\n",
    "        else:\n",
    "            start = time.time()\n",
    "            dlc_live.get_pose(img)\n",
    "            end = time.time()\n",
    "        times.append(end-start)\n",
    "    print(times)\n",
    "        \n",
    "    return np.mean(times)"
   ]
  },
  {
   "cell_type": "code",
   "execution_count": 20,
   "metadata": {},
   "outputs": [
    {
     "name": "stdout",
     "output_type": "stream",
     "text": [
      "Loading the model took 0.18246197700500488 sec\n"
     ]
    },
    {
     "ename": "TypeError",
     "evalue": "unhashable type: 'slice'",
     "output_type": "error",
     "traceback": [
      "\u001b[0;31m---------------------------------------------------------------------------\u001b[0m",
      "\u001b[0;31mTypeError\u001b[0m                                 Traceback (most recent call last)",
      "Cell \u001b[0;32mIn[20], line 8\u001b[0m\n\u001b[1;32m      1\u001b[0m dlc_live \u001b[38;5;241m=\u001b[39m DLCLive(\n\u001b[1;32m      2\u001b[0m     path\u001b[38;5;241m=\u001b[39m\u001b[38;5;124m\"\u001b[39m\u001b[38;5;124m/media/dikra/PhD/DATA/DLC24_Data/dlc-live-dummy\u001b[39m\u001b[38;5;124m\"\u001b[39m,\n\u001b[1;32m      3\u001b[0m     device\u001b[38;5;241m=\u001b[39m\u001b[38;5;124m\"\u001b[39m\u001b[38;5;124mcuda\u001b[39m\u001b[38;5;124m\"\u001b[39m,\n\u001b[1;32m      4\u001b[0m     model_type\u001b[38;5;241m=\u001b[39m\u001b[38;5;124m\"\u001b[39m\u001b[38;5;124monnx\u001b[39m\u001b[38;5;124m\"\u001b[39m,\n\u001b[1;32m      5\u001b[0m     dynamic\u001b[38;5;241m=\u001b[39m(\u001b[38;5;28;01mTrue\u001b[39;00m, \u001b[38;5;241m0.5\u001b[39m, \u001b[38;5;241m10\u001b[39m)\n\u001b[1;32m      6\u001b[0m )\n\u001b[0;32m----> 8\u001b[0m mean_time \u001b[38;5;241m=\u001b[39m \u001b[43mmean_time_inference\u001b[49m\u001b[43m(\u001b[49m\u001b[43mdlc_live\u001b[49m\u001b[43m,\u001b[49m\u001b[43m \u001b[49m\u001b[43mtest_images\u001b[49m\u001b[43m)\u001b[49m \n\u001b[1;32m      9\u001b[0m \u001b[38;5;28mprint\u001b[39m(\u001b[38;5;124mf\u001b[39m\u001b[38;5;124m\"\u001b[39m\u001b[38;5;124mInference of ONNX model took on average \u001b[39m\u001b[38;5;132;01m{\u001b[39;00mmean_time\u001b[38;5;132;01m}\u001b[39;00m\u001b[38;5;124m seconds for \u001b[39m\u001b[38;5;132;01m{\u001b[39;00m\u001b[38;5;28mlen\u001b[39m(test_images)\u001b[38;5;132;01m}\u001b[39;00m\u001b[38;5;124m images\u001b[39m\u001b[38;5;124m\"\u001b[39m)\n",
      "Cell \u001b[0;32mIn[18], line 18\u001b[0m, in \u001b[0;36mmean_time_inference\u001b[0;34m(dlc_live, images)\u001b[0m\n\u001b[1;32m     16\u001b[0m \u001b[38;5;28;01melse\u001b[39;00m:\n\u001b[1;32m     17\u001b[0m     start \u001b[38;5;241m=\u001b[39m time\u001b[38;5;241m.\u001b[39mtime()\n\u001b[0;32m---> 18\u001b[0m     \u001b[43mdlc_live\u001b[49m\u001b[38;5;241;43m.\u001b[39;49m\u001b[43mget_pose\u001b[49m\u001b[43m(\u001b[49m\u001b[43mimg\u001b[49m\u001b[43m)\u001b[49m\n\u001b[1;32m     19\u001b[0m     end \u001b[38;5;241m=\u001b[39m time\u001b[38;5;241m.\u001b[39mtime()\n\u001b[1;32m     20\u001b[0m times\u001b[38;5;241m.\u001b[39mappend(end\u001b[38;5;241m-\u001b[39mstart)\n",
      "File \u001b[0;32m~/MyHub/Code/DLC24_Hub/DLC_AI2024/DeepLabCut-live/dlclive/dlclive.py:331\u001b[0m, in \u001b[0;36mDLCLive.get_pose\u001b[0;34m(self, frame, **kwargs)\u001b[0m\n\u001b[1;32m    328\u001b[0m     \u001b[38;5;28;01mif\u001b[39;00m frame\u001b[38;5;241m.\u001b[39mndim \u001b[38;5;241m>\u001b[39m\u001b[38;5;241m=\u001b[39m \u001b[38;5;241m2\u001b[39m:\n\u001b[1;32m    329\u001b[0m         \u001b[38;5;28mself\u001b[39m\u001b[38;5;241m.\u001b[39mconvert2rgb \u001b[38;5;241m=\u001b[39m \u001b[38;5;28;01mTrue\u001b[39;00m\n\u001b[0;32m--> 331\u001b[0m     processed_frame \u001b[38;5;241m=\u001b[39m \u001b[38;5;28;43mself\u001b[39;49m\u001b[38;5;241;43m.\u001b[39;49m\u001b[43mprocess_frame\u001b[49m\u001b[43m(\u001b[49m\u001b[43mframe\u001b[49m\u001b[43m)\u001b[49m\n\u001b[1;32m    333\u001b[0m \u001b[38;5;28;01mif\u001b[39;00m \u001b[38;5;28mself\u001b[39m\u001b[38;5;241m.\u001b[39mmodel_type \u001b[38;5;241m==\u001b[39m \u001b[38;5;124m\"\u001b[39m\u001b[38;5;124mpytorch\u001b[39m\u001b[38;5;124m\"\u001b[39m:\n\u001b[1;32m    334\u001b[0m     frame \u001b[38;5;241m=\u001b[39m torch\u001b[38;5;241m.\u001b[39mTensor(processed_frame)\n",
      "File \u001b[0;32m~/MyHub/Code/DLC24_Hub/DLC_AI2024/DeepLabCut-live/dlclive/dlclive.py:223\u001b[0m, in \u001b[0;36mDLCLive.process_frame\u001b[0;34m(self, frame)\u001b[0m\n\u001b[1;32m    217\u001b[0m \u001b[38;5;28;01mif\u001b[39;00m \u001b[38;5;28mself\u001b[39m\u001b[38;5;241m.\u001b[39mdynamic[\n\u001b[1;32m    218\u001b[0m     \u001b[38;5;241m0\u001b[39m\n\u001b[1;32m    219\u001b[0m ]:\n\u001b[1;32m    221\u001b[0m     \u001b[38;5;28;01mif\u001b[39;00m \u001b[38;5;28mself\u001b[39m\u001b[38;5;241m.\u001b[39mpose \u001b[38;5;129;01mis\u001b[39;00m \u001b[38;5;129;01mnot\u001b[39;00m \u001b[38;5;28;01mNone\u001b[39;00m:\n\u001b[0;32m--> 223\u001b[0m         detected \u001b[38;5;241m=\u001b[39m \u001b[38;5;28;43mself\u001b[39;49m\u001b[38;5;241;43m.\u001b[39;49m\u001b[43mpose\u001b[49m\u001b[43m[\u001b[49m\u001b[43m:\u001b[49m\u001b[43m,\u001b[49m\u001b[43m \u001b[49m\u001b[38;5;241;43m2\u001b[39;49m\u001b[43m]\u001b[49m \u001b[38;5;241m>\u001b[39m \u001b[38;5;28mself\u001b[39m\u001b[38;5;241m.\u001b[39mdynamic[\u001b[38;5;241m1\u001b[39m]\n\u001b[1;32m    225\u001b[0m         \u001b[38;5;28;01mif\u001b[39;00m np\u001b[38;5;241m.\u001b[39many(detected):\n\u001b[1;32m    227\u001b[0m             x \u001b[38;5;241m=\u001b[39m \u001b[38;5;28mself\u001b[39m\u001b[38;5;241m.\u001b[39mpose[detected, \u001b[38;5;241m0\u001b[39m]\n",
      "\u001b[0;31mTypeError\u001b[0m: unhashable type: 'slice'"
     ]
    }
   ],
   "source": [
    "dlc_live = DLCLive(\n",
    "    path=\"/media/dikra/PhD/DATA/DLC24_Data/dlc-live-dummy\",\n",
    "    device=\"cuda\",\n",
    "    model_type=\"onnx\",\n",
    "    dynamic=(True, 0.5, 10)\n",
    ")\n",
    "\n",
    "mean_time = mean_time_inference(dlc_live, test_images) \n",
    "print(f\"Inference of ONNX model took on average {mean_time} seconds for {len(test_images)} images\")"
   ]
  },
  {
   "cell_type": "code",
   "execution_count": null,
   "metadata": {},
   "outputs": [],
   "source": [
    "# dlc_live = DLCLive(\n",
    "#     path=\"/media/dikra/PhD/DATA/DLC24_Data/dlc-live-dummy\",\n",
    "#     snapshot=\"snapshot-200.pt\",\n",
    "#     device=\"cuda\",\n",
    "#     model_type=\"pytorch\"\n",
    "# )\n",
    "\n",
    "# mean_time = mean_time_inference(dlc_live, test_images) \n",
    "# print(f\"Inference of PyTorch model took on average {mean_time} seconds for {len(test_images)} images\")"
   ]
  }
 ],
 "metadata": {
  "kernelspec": {
   "display_name": "dlc-live",
   "language": "python",
   "name": "python3"
  },
  "language_info": {
   "codemirror_mode": {
    "name": "ipython",
    "version": 3
   },
   "file_extension": ".py",
   "mimetype": "text/x-python",
   "name": "python",
   "nbconvert_exporter": "python",
   "pygments_lexer": "ipython3",
   "version": "3.10.14"
  }
 },
 "nbformat": 4,
 "nbformat_minor": 2
}
