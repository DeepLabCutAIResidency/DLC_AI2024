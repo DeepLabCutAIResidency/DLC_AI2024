{
 "cells": [
  {
   "cell_type": "markdown",
   "id": "cbfef033",
   "metadata": {},
   "source": [
    "# Exercices Part 1: Convolutions for Image Processing\n",
    "\n",
    "Short exercice notebook illustrating how convolutions work and how they can be used to process images. Written for the 2024 DeepLabCut AI Residency."
   ]
  },
  {
   "cell_type": "markdown",
   "id": "1e19dff6",
   "metadata": {},
   "source": [
    "## Setup"
   ]
  },
  {
   "cell_type": "markdown",
   "id": "d00c27c4",
   "metadata": {},
   "source": [
    "### Imports"
   ]
  },
  {
   "cell_type": "code",
   "execution_count": null,
   "id": "81505449",
   "metadata": {},
   "outputs": [],
   "source": [
    "import matplotlib.pyplot as plt\n",
    "import numpy as np\n",
    "import scipy.signal as signal\n",
    "from PIL import Image"
   ]
  },
  {
   "cell_type": "markdown",
   "id": "ff4aa477",
   "metadata": {},
   "source": [
    "### Loading Data\n",
    "\n",
    "Download [img0000.png](https://github.com/DeepLabCut/DeepLabCut/blob/main/examples/openfield-Pranav-2018-10-30/labeled-data/m4s1/img0000.png) from the example Openfield dataset and place it in the same folder as this Jupyter Notebook. It will be used for these exercices."
   ]
  },
  {
   "cell_type": "code",
   "execution_count": null,
   "id": "6a9a3204",
   "metadata": {},
   "outputs": [],
   "source": [
    "pil_image = Image.open(\"img0000.png\")\n",
    "\n",
    "plt.figure()\n",
    "plt.title(\"Openfield Image\")\n",
    "plt.imshow(pil_image)\n",
    "plt.show()"
   ]
  },
  {
   "cell_type": "markdown",
   "id": "7c7835df",
   "metadata": {},
   "source": [
    "## Convolutions"
   ]
  },
  {
   "cell_type": "markdown",
   "id": "0712c8e9",
   "metadata": {},
   "source": [
    "### One Dimensional Convolution\n",
    "\n",
    "You can convolve signals with [`numpy.convolve`](https://numpy.org/doc/stable/reference/generated/numpy.convolve.html). Remember that the convolution operation is defined as:\n",
    "\n",
    "$\n",
    "(f * g)[n] = \\sum_{m=-\\infty}^\\infty f[m] g[n - m]\n",
    "$\n",
    "\n",
    "Explore the different convolutional modes (\"full\", \"valid\", \"same\"). You can change the `f` and `g` signals as well and explore the differences!"
   ]
  },
  {
   "cell_type": "code",
   "execution_count": null,
   "id": "2eb4fe35",
   "metadata": {
    "scrolled": true
   },
   "outputs": [],
   "source": [
    "f = np.array([1, 5, -1, 5, 3, 1, -1, 2, 4])\n",
    "g = np.array([1, 0, 5])\n",
    "\n",
    "print(f\"Kernel: {g}\")\n",
    "\n",
    "f_star_g = ...  # implement a convolution\n",
    "\n",
    "plt.figure(figsize=(15, 5))\n",
    "plt.title(\"Convolution of f and g\")\n",
    "plt.plot(f, label=\"f\")\n",
    "plt.plot(f_star_g, label=\"f * g\")\n",
    "plt.legend()\n",
    "plt.show()"
   ]
  },
  {
   "cell_type": "markdown",
   "id": "721c8a1b",
   "metadata": {},
   "source": [
    "Now suppose you have the signal defined below. You want to detect when there are large increases in values in the signal (e.g. when it goes from 1 to 27).\n",
    "\n",
    "How would you design a kernel `g` to detect this change (the convolved signal has very large values when there are large increases in the signal, and small values when the signal is stable)."
   ]
  },
  {
   "cell_type": "code",
   "execution_count": null,
   "id": "c7d094b7",
   "metadata": {},
   "outputs": [],
   "source": [
    "f = np.array([4, 0, 1, 3, 5, 3, 3, 4, 2, 1, 27, 25, 26, 26, 23])\n",
    "g = ...  # what filter would you use?\n",
    "\n",
    "f_star_g = ...  # implement a convolution, use mode=\"valid\" :)\n",
    "\n",
    "print(f\"Kernel: {g}\")\n",
    "\n",
    "plt.figure(figsize=(15, 5))\n",
    "plt.title(\"Convolution of f and g\")\n",
    "plt.plot(f, label=\"f\")\n",
    "plt.plot(f_star_g, label=\"f * g\")\n",
    "plt.legend()\n",
    "plt.show()"
   ]
  },
  {
   "cell_type": "markdown",
   "id": "e70bfd35",
   "metadata": {},
   "source": [
    "### Convolutions in 2D - Image Processing\n",
    "\n",
    "First, we simply load the image from the file."
   ]
  },
  {
   "cell_type": "code",
   "execution_count": null,
   "id": "a2ae352b",
   "metadata": {},
   "outputs": [],
   "source": [
    "pil_image = Image.open(\"img0000.png\")\n",
    "\n",
    "plt.figure()\n",
    "plt.title(\"Openfield Image\")\n",
    "plt.imshow(pil_image)\n",
    "plt.show()"
   ]
  },
  {
   "cell_type": "markdown",
   "id": "1e5f5fb2",
   "metadata": {},
   "source": [
    "We can look at some basic information about how the pixel data is stored, by converting the [PIL Image](https://pillow.readthedocs.io/en/stable/reference/Image.html#PIL.Image.Image) to a numpy array and looking at the data in it.\n",
    "\n",
    "Images can be stored in many different ways:\n",
    "- As arrays containing 8 bit values (between 0 and 255)\n",
    "- As arrays containing values between 0 and 1\n",
    "- With a single color channel (a grayscale image)\n",
    "- With multiple color channels (e.g. in RGB format - but others exist such as HSV and can be useful when processing images)\n"
   ]
  },
  {
   "cell_type": "code",
   "execution_count": null,
   "id": "e7cc41a2",
   "metadata": {},
   "outputs": [],
   "source": [
    "pil_image"
   ]
  },
  {
   "cell_type": "code",
   "execution_count": null,
   "id": "4fa36021",
   "metadata": {},
   "outputs": [],
   "source": [
    "img = np.asarray(pil_image)\n",
    "\n",
    "print(img.shape)  # h, w, number of channels\n",
    "print(img.dtype)  # the data type used to store the image data\n",
    "print(np.min(img), np.max(img))  # the min and max pixel values in the image"
   ]
  },
  {
   "cell_type": "markdown",
   "id": "2ee5e6f2",
   "metadata": {},
   "source": [
    "In our case, the image is stored as an 8 Bit RGB image. We can also check that with the PIL `Image` object, which stores lots of useful information about the image!\n",
    "\n",
    "All attributes available can be seen [here](https://pillow.readthedocs.io/en/stable/reference/Image.html#image-attributes)."
   ]
  },
  {
   "cell_type": "code",
   "execution_count": null,
   "id": "d6c91ed5",
   "metadata": {},
   "outputs": [],
   "source": [
    "print(pil_image.mode)\n",
    "print(pil_image.width)\n",
    "print(pil_image.height)"
   ]
  },
  {
   "cell_type": "markdown",
   "id": "4767d1bc",
   "metadata": {},
   "source": [
    "We can plot the content of each color channel."
   ]
  },
  {
   "cell_type": "code",
   "execution_count": null,
   "id": "fd49a4b8",
   "metadata": {},
   "outputs": [],
   "source": [
    "plt.figure()\n",
    "plt.title(\"Openfield Image: Red Channel\")\n",
    "plt.imshow(img[:, :, 0], cmap=\"gray\")\n",
    "plt.show()\n",
    "\n",
    "plt.figure()\n",
    "plt.title(\"Openfield Image: Green Channel\")\n",
    "plt.imshow(img[:, :, 1], cmap=\"gray\")\n",
    "plt.show()\n",
    "\n",
    "plt.figure()\n",
    "plt.title(\"Openfield Image: Blue Channel\")\n",
    "plt.imshow(img[:, :, 2], cmap=\"gray\")\n",
    "plt.show()"
   ]
  },
  {
   "cell_type": "markdown",
   "id": "5a3f4f65",
   "metadata": {},
   "source": [
    "This image really shouldn't be stored as an RGB image - all color channels are the same!"
   ]
  },
  {
   "cell_type": "code",
   "execution_count": null,
   "id": "6bab1feb",
   "metadata": {},
   "outputs": [],
   "source": [
    "np.all(img[:, :, 0] == img[:, :, 1]), np.all(img[:, :, 0] == img[:, :, 2])"
   ]
  },
  {
   "cell_type": "markdown",
   "id": "690ad018",
   "metadata": {},
   "source": [
    "Grayscale would be a much better format here. Thankfully, it's very easy to convert this image to a grayscale image!"
   ]
  },
  {
   "cell_type": "code",
   "execution_count": null,
   "id": "71d57a86",
   "metadata": {},
   "outputs": [],
   "source": [
    "gray_pil_image = pil_image.convert(\"L\")\n",
    "gray_img = np.asarray(gray_pil_image)\n",
    "\n",
    "print(gray_img.shape)\n",
    "\n",
    "plt.figure()\n",
    "plt.title(\"Openfield Image: Grayscale\")\n",
    "plt.imshow(gray_img, cmap=\"gray\")\n",
    "plt.show()"
   ]
  },
  {
   "cell_type": "markdown",
   "id": "8ccc4ecf",
   "metadata": {},
   "source": [
    "Now, we can use some of the cool \"traditional\" filters to process our image! Check out the filters [here](https://en.wikipedia.org/wiki/Kernel_(image_processing)) and run the following transformations on your image:\n",
    "\n",
    "- 3x3 Gaussian Kernel\n",
    "- 10x10 Gaussian Kernel\n",
    "- Ridge detection Kernel\n",
    "- Edge detection Kernel\n",
    "- [Sobel Kernel](https://en.wikipedia.org/wiki/Sobel_operator)\n",
    "\n",
    "I'll start you off with a 3x3 identity kernel.\n",
    "\n",
    "Don't forget that you're allowed to look at documentation online (e.g. how do you create a Gaussian filter with `numpy` instead of copy-pasting values)!\n",
    "\n",
    "To run 2d convolutions, we'll need to use [`scipy.signal.convolve2d`](https://docs.scipy.org/doc/scipy/reference/generated/scipy.signal.convolve2d.html). Look into the different modes you can use:\n",
    "\n",
    "- What is the shape of the filtered image vs the original image with different `mode` selections? Why?\n",
    "- What's the use of the `boundary` parameter?"
   ]
  },
  {
   "cell_type": "code",
   "execution_count": null,
   "id": "cdaaab70",
   "metadata": {},
   "outputs": [],
   "source": [
    "kernel = np.array(\n",
    "    [\n",
    "        [0, 0, 0], \n",
    "        [0, 1, 0],\n",
    "        [0, 0, 0],\n",
    "    ]\n",
    ")\n",
    "filtered_img = signal.convolve2d(gray_img, kernel)\n",
    "\n",
    "plt.figure()\n",
    "plt.title(\"Openfield Image: Filtered\")\n",
    "plt.imshow(filtered_img, cmap=\"gray\")\n",
    "plt.show()"
   ]
  },
  {
   "cell_type": "code",
   "execution_count": null,
   "id": "11e768a1",
   "metadata": {},
   "outputs": [],
   "source": []
  }
 ],
 "metadata": {
  "kernelspec": {
   "display_name": "Python 3 (ipykernel)",
   "language": "python",
   "name": "python3"
  },
  "language_info": {
   "codemirror_mode": {
    "name": "ipython",
    "version": 3
   },
   "file_extension": ".py",
   "mimetype": "text/x-python",
   "name": "python",
   "nbconvert_exporter": "python",
   "pygments_lexer": "ipython3",
   "version": "3.10.14"
  }
 },
 "nbformat": 4,
 "nbformat_minor": 5
}
